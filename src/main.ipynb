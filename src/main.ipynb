{
 "cells": [
  {
   "cell_type": "markdown",
   "metadata": {},
   "source": [
    "# ADA 2018 -  Music, from 90's to Milenials\n",
    "\n",
    "#### Andres Montero, Ariel Alba, Diego Iriarte\n",
    "\n",
    "\n"
   ]
  },
  {
   "cell_type": "markdown",
   "metadata": {},
   "source": [
    "Have you ever wondered how did music evolve in the last years? Today with the explosion of the internet, music Services as Apple Music, Spotify, Tidal and other apps and platforms; it has become easier to obtain and share music. This project aims to find the evolution of music since 1990's, evaluate the key features of the tracks, such as energy, valence and danceability. We want to show how and what was the most popular genre in the last years, the most popular song, the most important artist and what were the trends of the key features of this hits.\n",
    "\n",
    "For this purpose, we'll work with two datasets:\n",
    "\n",
    "* FMA: A Dataset For Music Analysis\n",
    "* Our crawled dataset created using Spotify and LastFM API\n",
    "\n"
   ]
  },
  {
   "cell_type": "code",
   "execution_count": null,
   "metadata": {},
   "outputs": [],
   "source": [
    "% matplotlib inline\n",
    "import pandas as pd\n",
    "import numpy as np\n",
    "import matplotlib.pyplot as plt\n",
    "import reverse_geocoder as rg\n",
    "import os.path\n",
    "import ast\n",
    "import seaborn as sns\n",
    "import os\n",
    "import sys\n",
    "import matplotlib\n",
    "import urllib, base64\n",
    "\n",
    "try:\n",
    "    from StringIO import StringIO\n",
    "except ImportError:\n",
    "    from io import StringIO\n",
    "\n",
    "from helpers import *\n",
    "from datetime import datetime, date, time\n",
    "from scipy import stats\n",
    "\n",
    "%load_ext autoreload\n",
    "%autoreload 2\n"
   ]
  },
  {
   "cell_type": "code",
   "execution_count": null,
   "metadata": {},
   "outputs": [],
   "source": [
    "# Constants\n",
    "DATA_DIR = '../data/'\n",
    "MUSIC_DIR = '{dir}{file}/'.format(dir=DATA_DIR, \n",
    "                                  file='fma_metadata')\n",
    "PKL_DIR = '{dir}{file}/'.format(dir=DATA_DIR, \n",
    "                               file='pkl')\n",
    "DEBUG = True\n"
   ]
  },
  {
   "cell_type": "code",
   "execution_count": null,
   "metadata": {},
   "outputs": [],
   "source": [
    "# Read  and wirte files depending on the existance of own path\n",
    "genres_df_path = '{dir}{file}'.format(dir=PKL_DIR, \n",
    "                                     file='genres_df.pkl')\n",
    "albums_df_path = '{dir}{file}'.format(dir=PKL_DIR, \n",
    "                                     file='albums_df.pkl')\n",
    "artists_df_path = '{dir}{file}'.format(dir=PKL_DIR, \n",
    "                                     file='artists_df.pkl')\n",
    "tracks_df_path = '{dir}{file}'.format(dir=PKL_DIR, \n",
    "                                      file='tracks_df.pkl')\n",
    "track_genre_rel_df_path = '{dir}{file}'.format(dir=PKL_DIR, \n",
    "                                               file='track_genre_rel_df.pkl')\n",
    "if os.path.exists(genres_df_path):\n",
    "    genres_df = pd.read_pickle(genres_df_path)\n",
    "else:\n",
    "    print('There is no genres pandas data')\n",
    "    \n",
    "if os.path.exists(albums_df_path):\n",
    "    albums_df = pd.read_pickle(albums_df_path)\n",
    "else:\n",
    "    print('There is no albums pandas data')\n",
    "    \n",
    "if os.path.exists(artists_df_path):\n",
    "    artists_df = pd.read_pickle(artists_df_path)\n",
    "else:\n",
    "    print('There is no artists pandas data')\n",
    "    \n",
    "if os.path.exists(tracks_df_path):\n",
    "    tracks_df = pd.read_pickle(tracks_df_path)\n",
    "else:\n",
    "    print('There is no tracks pandas data')\n",
    "    \n",
    "if os.path.exists(track_genre_rel_df_path):\n",
    "    track_genre_rel_df = pd.read_pickle(track_genre_rel_df_path)\n",
    "else:\n",
    "    print('There is no tracks-genres pandas data')\n",
    "    "
   ]
  },
  {
   "cell_type": "code",
   "execution_count": null,
   "metadata": {},
   "outputs": [],
   "source": [
    "pretty_print(genres_df, 'Genres', True)\n",
    "pretty_print(artists_df, 'Artists', True)\n",
    "pretty_print(albums_df, 'Albums', True)\n",
    "pretty_print(tracks_df, 'Tracks', True)\n",
    "pretty_print(track_genre_rel_df, 'Track-Genre', True)\n"
   ]
  },
  {
   "cell_type": "code",
   "execution_count": null,
   "metadata": {},
   "outputs": [],
   "source": [
    "album_dist = albums_df.groupby(albums_df['album_date_released'].dt.year).size()\n",
    "\n",
    "def dist_album_year():\n",
    "    album_dist.plot(kind='bar')\n",
    "    plt.grid()\n",
    "    plt.xticks(rotation=90)\n",
    "\n",
    "    return plt.gcf()\n",
    "\n",
    "std_plot(dist_album_year, title='Distribution of Albums per Year',\n",
    "         xlabel='Year')\n"
   ]
  },
  {
   "cell_type": "markdown",
   "metadata": {},
   "source": [
    "In the previous picture we can see the production of albums per year grows exponentialy."
   ]
  },
  {
   "cell_type": "code",
   "execution_count": null,
   "metadata": {},
   "outputs": [],
   "source": [
    "tracks_albums = tracks_df.merge(albums_df)\n",
    "tracks_dist = tracks_albums.groupby(tracks_albums['album_date_released'].dt.year).size()\n",
    "\n",
    "def dist_tracks_year():\n",
    "    ax = tracks_dist.plot(kind='bar')\n",
    "    plt.grid()\n",
    "    plt.xticks(rotation=90)\n",
    "    \n",
    "    return plt.gcf()\n",
    "\n",
    "std_plot(dist_tracks_year, title='Distribution of Tracks per Year',\n",
    "         xlabel='Year')\n"
   ]
  },
  {
   "cell_type": "markdown",
   "metadata": {},
   "source": [
    "And like in the previous picture since the albums grow exponentialy the tracks follow the same pattern."
   ]
  },
  {
   "cell_type": "code",
   "execution_count": null,
   "metadata": {},
   "outputs": [],
   "source": [
    "track_artist = tracks_df.merge(artists_df, left_on='artist_id', \n",
    "                               right_on='artist_id')\n",
    "country_grouped = track_artist.groupby(track_artist['country']).size()\n",
    "country_top10 = country_grouped.sort_values(ascending=False) \\\n",
    "                                     .head(10)\n",
    "\n",
    "def country_track_top10():\n",
    "    country_top10.plot(kind='bar')\n",
    "    plt.ylabel('Number of Tracks')\n",
    "    plt.grid()\n",
    "\n",
    "    return plt.gcf()\n",
    "    \n",
    "std_plot(country_track_top10, title='Top 10 countries that produce tracks',\n",
    "         ylabel='Number of tracks', xlabel='Country')\n"
   ]
  },
  {
   "cell_type": "markdown",
   "metadata": {},
   "source": [
    "We can observe that the top country producing tracks is the US, with a substancial difference comparing 20000 to 5000 with the next country Great Britain."
   ]
  },
  {
   "cell_type": "markdown",
   "metadata": {},
   "source": [
    "#### Top 10 albums"
   ]
  },
  {
   "cell_type": "code",
   "execution_count": null,
   "metadata": {},
   "outputs": [],
   "source": [
    "albums_grouped = albums_df.groupby(albums_df['album_id']) \\\n",
    "                          .first()[['album_title', 'album_listens']]\n",
    "albums_top10 = albums_grouped.sort_values(by='album_listens', \n",
    "                                          ascending=False).head(10)\n",
    "\n",
    "plt.figure(figsize=(10, 7))\n",
    "plt.title(\"Top 10 Albums listened\")\n",
    "plt.grid()\n",
    "ax = sns.barplot(x='album_title', y= 'album_listens',\n",
    "                 data=albums_top10)\n",
    "plt.xticks(rotation=45)\n"
   ]
  },
  {
   "cell_type": "markdown",
   "metadata": {},
   "source": [
    "#### Top 10 Tracks"
   ]
  },
  {
   "cell_type": "code",
   "execution_count": null,
   "metadata": {},
   "outputs": [],
   "source": [
    "tracks_grouped = tracks_df.groupby(tracks_df['track_id']) \\\n",
    "                          .first()[['track_title', 'track_listens']]\n",
    "tracks_top10 = tracks_grouped.sort_values(by='track_listens', \n",
    "                                          ascending=False).head(10)\n",
    "\n",
    "plt.figure(figsize=(7, 5))\n",
    "plt.title(\"Top 10 tracks listened\")\n",
    "plt.grid()\n",
    "ax = sns.barplot(x='track_title', y= 'track_listens',\n",
    "                 data=tracks_top10)\n",
    "plt.xticks(rotation=45)\n"
   ]
  },
  {
   "cell_type": "markdown",
   "metadata": {},
   "source": [
    "#### Relation between danceability and duration of the song"
   ]
  },
  {
   "cell_type": "code",
   "execution_count": null,
   "metadata": {},
   "outputs": [],
   "source": [
    "tracks_df.insert(loc=13, column='track_duration_minutes',\n",
    "                 value=(tracks_df['track_duration'] / 60))\n",
    "\n",
    "tracks_df['track_duration_minutes'] = pd.to_numeric( \\\n",
    "                                            tracks_df['track_duration_minutes'])\n"
   ]
  },
  {
   "cell_type": "code",
   "execution_count": null,
   "metadata": {},
   "outputs": [],
   "source": [
    "tracks_df['track_duration_minutes'] = tracks_df['track_duration_minutes'] \\\n",
    "                                                .apply(lambda x : np.rint(x))\n",
    "sns.regplot(x='danceability', y='track_duration_minutes',\n",
    "            data=tracks_df, ci=95, \n",
    "            line_kws = {'color': 'green'},scatter_kws={'s':0.5})\n"
   ]
  },
  {
   "cell_type": "code",
   "execution_count": null,
   "metadata": {},
   "outputs": [],
   "source": [
    "tracks_df_correlation = tracks_df.dropna()\n",
    "spearman_coeff = stats.spearmanr(tracks_df_correlation['danceability'], \n",
    "                                 tracks_df_correlation['track_duration_minutes'])\n",
    "print('The spearman correlation is: {}'.format(spearman_coeff))\n"
   ]
  },
  {
   "cell_type": "code",
   "execution_count": null,
   "metadata": {},
   "outputs": [],
   "source": [
    "pearson_coeff = stats.pearsonr(tracks_df_correlation['danceability'], \n",
    "                                 tracks_df_correlation['track_duration_minutes'])\n",
    "print('The pearson correlation is: {}'.format(pearson_coeff))"
   ]
  },
  {
   "cell_type": "markdown",
   "metadata": {},
   "source": [
    "###### With the previous results of the Spearman and Pearson coefficients, we conclude that there is no direct strong correlation between the duration of the tracks with the danceability\n"
   ]
  },
  {
   "cell_type": "markdown",
   "metadata": {},
   "source": [
    "## Relation between valence and other variables"
   ]
  },
  {
   "cell_type": "markdown",
   "metadata": {},
   "source": [
    "Valence refers to the degree of positive or negative emotions one perceives from a song. We'll try to find some relations between such varible and others.\n",
    "Relation between track_listens and valence"
   ]
  },
  {
   "cell_type": "code",
   "execution_count": null,
   "metadata": {},
   "outputs": [],
   "source": [
    "sns.regplot(x='valence', y='danceability',\n",
    "            data=tracks_df, ci=95, \n",
    "            line_kws = {'color': 'green'},scatter_kws={'s':0.01})\n"
   ]
  },
  {
   "cell_type": "code",
   "execution_count": null,
   "metadata": {},
   "outputs": [],
   "source": [
    "spearman_coeff = stats.spearmanr(tracks_df_correlation['valence'], \n",
    "                                 tracks_df_correlation['danceability'])\n",
    "print('The spearman correlation is: {}'.format(spearman_coeff))\n"
   ]
  },
  {
   "cell_type": "code",
   "execution_count": null,
   "metadata": {},
   "outputs": [],
   "source": [
    "pearson_coeff = stats.pearsonr(tracks_df_correlation['valence'], \n",
    "                                 tracks_df_correlation['danceability'])\n",
    "print('The pearson correlation is: {}'.format(pearson_coeff))"
   ]
  },
  {
   "cell_type": "markdown",
   "metadata": {},
   "source": [
    "###### With the previous results of the Spearman and Pearson coefficients, we conclude that there is moderate correlation between the valence and the danceability of a track"
   ]
  },
  {
   "cell_type": "code",
   "execution_count": null,
   "metadata": {},
   "outputs": [],
   "source": [
    "sns.regplot(x='valence', y='track_listens',\n",
    "            data=tracks_df, ci=95, \n",
    "            line_kws ={'color': 'green'}, scatter_kws={'s':0.01})\n"
   ]
  },
  {
   "cell_type": "markdown",
   "metadata": {},
   "source": [
    "#### As seen in the plot, it is difficult to find a relationships between the valence of the song and the number of listens."
   ]
  },
  {
   "cell_type": "markdown",
   "metadata": {},
   "source": [
    "## Top tracks/genres"
   ]
  },
  {
   "cell_type": "markdown",
   "metadata": {},
   "source": [
    "Mean value of valence per genre"
   ]
  },
  {
   "cell_type": "code",
   "execution_count": null,
   "metadata": {},
   "outputs": [],
   "source": [
    "track_rel = tracks_df.merge(track_genre_rel_df)\n",
    "track_genre = track_rel.merge(genres_df)\n",
    "genre_valence = track_genre.groupby('title')['valence'].mean()\n",
    "\n",
    "top10_genre_valence = genre_valence.sort_values(ascending=False).head(10)\n",
    "\n",
    "top10_genre_valence.plot(kind='bar', title='Valence per genre')\n"
   ]
  },
  {
   "cell_type": "markdown",
   "metadata": {},
   "source": [
    "We can observe that the genre with the highest valence is country & wester"
   ]
  },
  {
   "cell_type": "code",
   "execution_count": null,
   "metadata": {},
   "outputs": [],
   "source": [
    "track_genre_album = track_genre.merge(albums_df)\n",
    "\n",
    "genre_year = track_genre_album[['title', 'album_date_released']]\n",
    "genre_year.insert(loc=2, column='album_released_year',\n",
    "                  value=(genre_year['album_date_released'].dt.year))\n"
   ]
  },
  {
   "cell_type": "code",
   "execution_count": null,
   "metadata": {},
   "outputs": [],
   "source": [
    "top_genre = genre_year.groupby(genre_year['title']).size()\n",
    "top_genre_sorted = top_genre.sort_values(ascending=False).head(10)\n",
    "top_genre_sorted.plot(kind='bar', title=\"Top 10 Genres with more # of tracks\")\n",
    "plt.grid()\n"
   ]
  },
  {
   "cell_type": "markdown",
   "metadata": {},
   "source": [
    "We can observe that the genre with the highest number of tracks is experimental followed closely by electronic"
   ]
  },
  {
   "cell_type": "code",
   "execution_count": null,
   "metadata": {},
   "outputs": [],
   "source": [
    "# Top Genres with more popularity\n",
    "genre_popularity = track_genre.groupby('title')['song_hotness'].mean()\n",
    "top10_genre_popularity = genre_popularity.sort_values(ascending=False).head(10)\n",
    "top10_genre_popularity.plot(kind='bar', title='Top 10 Genres with more popularity')\n"
   ]
  },
  {
   "cell_type": "markdown",
   "metadata": {},
   "source": [
    "We can observe that the most popular genre is rap"
   ]
  },
  {
   "cell_type": "markdown",
   "metadata": {},
   "source": [
    "# TODO TOP ARTIST THROUGHT YEARS SINCE 2000"
   ]
  },
  {
   "cell_type": "markdown",
   "metadata": {},
   "source": [
    "## Evolution of music Valence/Energy/Danceability"
   ]
  },
  {
   "cell_type": "code",
   "execution_count": null,
   "metadata": {
    "scrolled": true
   },
   "outputs": [],
   "source": [
    "tracks_albums = tracks_df.merge(albums_df, how='inner')\n"
   ]
  },
  {
   "cell_type": "code",
   "execution_count": null,
   "metadata": {},
   "outputs": [],
   "source": [
    "tracks_albums_summer = tracks_albums.loc[lambda tracks_albums: (tracks_albums.album_date_released.dt.month >5)\\\n",
    "                 & (tracks_albums.album_date_released.dt.month <9)]\n",
    "tracks_albums_winter = tracks_albums.loc[lambda tracks_albums: ((tracks_albums.album_date_released.dt.month >11)\\\n",
    "                 | (tracks_albums.album_date_released.dt.month <3))]\n",
    "tracks_albums_spring = tracks_albums.loc[lambda tracks_albums: (tracks_albums.album_date_released.dt.month >2)\\\n",
    "                 & (tracks_albums.album_date_released.dt.month <6)]\n",
    "tracks_albums_autumn = tracks_albums.loc[lambda tracks_albums: (tracks_albums.album_date_released.dt.month >8)\\\n",
    "                 & (tracks_albums.album_date_released.dt.month <12)]\n"
   ]
  },
  {
   "cell_type": "code",
   "execution_count": null,
   "metadata": {},
   "outputs": [],
   "source": [
    "#summer\n",
    "tracks_albums_summer_year = tracks_albums_summer.groupby([(tracks_albums_summer['album_date_released'].dt.year.rename('year')),\\\n",
    "                          (tracks_albums_summer['album_date_released'].dt.month.rename('month'))]).mean()\n",
    "\n",
    "tracks_albums_summer_year_mean = tracks_albums_summer_year.groupby('year').mean()\n",
    "tracks_albums_summer_year_mean_valence = tracks_albums_summer_year_mean[['valence']]\n",
    "\n",
    "# winter\n",
    "\n",
    "tracks_albums_winter_year = tracks_albums_winter.groupby([(tracks_albums_winter['album_date_released'].dt.year.rename('year')),\\\n",
    "                          (tracks_albums_winter['album_date_released'].dt.month.rename('month'))]).mean()\n",
    "\n",
    "tracks_albums_winter_year_mean = tracks_albums_winter_year.groupby('year').mean()\n",
    "tracks_albums_winter_year_mean_valence = tracks_albums_winter_year_mean[['valence']]\n",
    "\n",
    "#spring\n",
    "tracks_albums_spring_year = tracks_albums_spring.groupby([(tracks_albums_spring['album_date_released'].dt.year.rename('year')),\\\n",
    "                          (tracks_albums_spring['album_date_released'].dt.month.rename('month'))]).mean()\n",
    "\n",
    "tracks_albums_spring_year_mean = tracks_albums_spring_year.groupby('year').mean()\n",
    "tracks_albums_spring_year_mean_valence = tracks_albums_spring_year_mean[['valence']]\n",
    "\n",
    "#autumn\n",
    "tracks_albums_autumn_year = tracks_albums_autumn.groupby([(tracks_albums_autumn['album_date_released'].dt.year.rename('year')),\\\n",
    "                          (tracks_albums_autumn['album_date_released'].dt.month.rename('month'))]).mean()\n",
    "\n",
    "tracks_albums_autumn_year_mean = tracks_albums_autumn_year.groupby('year').mean()\n",
    "tracks_albums_autumn_year_mean_valence = tracks_albums_autumn_year_mean[['valence']]\n",
    "\n",
    "plt.figure(figsize=(10, 7))\n",
    "plt.title(\"Valence Seasons\")\n",
    "plt.grid()\n",
    "ax = sns.lineplot(data=tracks_albums_summer_year_mean_valence[\"valence\"], color=\"red\", label=\"Valence Summer\")\n",
    "ax = sns.lineplot(data=tracks_albums_winter_year_mean_valence[\"valence\"], color=\"darkblue\", label=\"Valence Winter\")\n",
    "ax = sns.lineplot(data=tracks_albums_spring_year_mean_valence[\"valence\"], color=\"lightgreen\", label=\"Valence Spring\")\n",
    "ax = sns.lineplot(data=tracks_albums_autumn_year_mean_valence[\"valence\"], color=\"coral\", label=\"Valence Autumn\")\n"
   ]
  },
  {
   "cell_type": "markdown",
   "metadata": {},
   "source": [
    "From the previous graphic we can observe that the valence of the music in general had a significant decrese, almost 50% since the 1990's to 2018."
   ]
  },
  {
   "cell_type": "code",
   "execution_count": null,
   "metadata": {},
   "outputs": [],
   "source": [
    "tracks_albums_summer_year_mean = tracks_albums_summer_year.groupby('year').mean()\n",
    "tracks_albums_summer_year_mean_danceability = tracks_albums_summer_year_mean[['danceability']]\n",
    "\n",
    "tracks_albums_winter_year_mean = tracks_albums_winter_year.groupby('year').mean()\n",
    "tracks_albums_winter_year_mean_danceability = tracks_albums_winter_year_mean[['danceability']]\n",
    "\n",
    "tracks_albums_spring_year_mean = tracks_albums_spring_year.groupby('year').mean()\n",
    "tracks_albums_spring_year_mean_danceability = tracks_albums_spring_year_mean[['danceability']]\n",
    "\n",
    "tracks_albums_autumn_year_mean = tracks_albums_autumn_year.groupby('year').mean()\n",
    "tracks_albums_autumn_year_mean_danceability = tracks_albums_autumn_year_mean[['danceability']]\n",
    "\n",
    "plt.figure(figsize=(10, 7))\n",
    "plt.title(\"Danceability Seasons\")\n",
    "plt.grid()\n",
    "ax = sns.lineplot(data=tracks_albums_summer_year_mean_danceability[\"danceability\"], color=\"red\", label=\"Danceability Summer\")\n",
    "ax = sns.lineplot(data=tracks_albums_winter_year_mean_danceability[\"danceability\"], color=\"darkblue\", label=\"Danceability Winter\")\n",
    "ax = sns.lineplot(data=tracks_albums_spring_year_mean_danceability[\"danceability\"], color=\"lightgreen\", label=\"Danceability Spring\")\n",
    "ax = sns.lineplot(data=tracks_albums_autumn_year_mean_danceability[\"danceability\"], color=\"coral\", label=\"Danceability Autumn\")\n"
   ]
  },
  {
   "cell_type": "markdown",
   "metadata": {},
   "source": [
    "From the previous graphic we can observe that the danceability of the music increased since the 1990's, with almost doubled value in 2018"
   ]
  },
  {
   "cell_type": "code",
   "execution_count": null,
   "metadata": {},
   "outputs": [],
   "source": [
    "tracks_albums_summer_year_mean = tracks_albums_summer_year.groupby('year').mean()\n",
    "tracks_albums_summer_year_mean_energy = tracks_albums_summer_year_mean[['energy']]\n",
    "\n",
    "tracks_albums_winter_year_mean = tracks_albums_winter_year.groupby('year').mean()\n",
    "tracks_albums_winter_year_mean_energy = tracks_albums_winter_year_mean[['energy']]\n",
    "\n",
    "tracks_albums_spring_year_mean = tracks_albums_spring_year.groupby('year').mean()\n",
    "tracks_albums_spring_year_mean_energy = tracks_albums_spring_year_mean[['energy']]\n",
    "\n",
    "tracks_albums_autumn_year_mean = tracks_albums_autumn_year.groupby('year').mean()\n",
    "tracks_albums_autumn_year_mean_energy = tracks_albums_autumn_year_mean[['energy']]\n",
    "\n",
    "\n",
    "plt.figure(figsize=(10, 7))\n",
    "plt.title(\"Energy Seasons \")\n",
    "plt.grid()\n",
    "ax = sns.lineplot(data=tracks_albums_summer_year_mean_energy[\"energy\"], color=\"red\", label=\"Energy Summer\")\n",
    "ax = sns.lineplot(data=tracks_albums_winter_year_mean_energy[\"energy\"], color=\"darkblue\", label=\"Energy Winter\")\n",
    "ax = sns.lineplot(data=tracks_albums_spring_year_mean_energy[\"energy\"], color=\"lightgreen\", label=\"Energy Spring\")\n",
    "ax = sns.lineplot(data=tracks_albums_autumn_year_mean_energy[\"energy\"], color=\"coral\", label=\"Energy Autumn\")\n"
   ]
  },
  {
   "cell_type": "markdown",
   "metadata": {},
   "source": [
    "The highest period in terms of energy of the music is around 2003 with a value of almost 0.9, however this value decreased in the last years, with almost 0.6 in the last year."
   ]
  },
  {
   "cell_type": "markdown",
   "metadata": {},
   "source": [
    "## Evolution of music 2000-2010 Valence/Energy/Danceability Seasons"
   ]
  },
  {
   "cell_type": "code",
   "execution_count": null,
   "metadata": {},
   "outputs": [],
   "source": [
    "#sumer\n",
    "tracks_albums_summer_2000 = tracks_albums.loc[lambda tracks_albums: (tracks_albums.album_date_released.dt.month >5)\\\n",
    "                 & (tracks_albums.album_date_released.dt.month <9) \\\n",
    "                 & (tracks_albums.album_date_released.dt.year >1999)\\\n",
    "                 & (tracks_albums.album_date_released.dt.year <2010)                           ]\n",
    "tracks_albums_summer_2000_year = tracks_albums_summer_2000.groupby([(tracks_albums_summer_2000['album_date_released'].dt.year.rename('year')),\\\n",
    "                          (tracks_albums_summer_2000['album_date_released'].dt.month.rename('month'))]).mean()\n",
    "\n",
    "#winter\n",
    "tracks_albums_winter_2000 = tracks_albums.loc[lambda tracks_albums: ((tracks_albums.album_date_released.dt.month <3)\\\n",
    "                 | (tracks_albums.album_date_released.dt.month >11)) \\\n",
    "                 & (tracks_albums.album_date_released.dt.year >1999)\\\n",
    "                 & (tracks_albums.album_date_released.dt.year <2010)                           ]\n",
    "tracks_albums_winter_2000_year = tracks_albums_winter_2000.groupby([(tracks_albums_winter_2000['album_date_released'].dt.year.rename('year')),\\\n",
    "                          (tracks_albums_winter_2000['album_date_released'].dt.month.rename('month'))]).mean()\n",
    "\n",
    "#spring\n",
    "tracks_albums_spring_2000 = tracks_albums.loc[lambda tracks_albums: (tracks_albums.album_date_released.dt.month >2)\\\n",
    "                 & (tracks_albums.album_date_released.dt.month <6) \\\n",
    "                 & (tracks_albums.album_date_released.dt.year >1999)\\\n",
    "                 & (tracks_albums.album_date_released.dt.year <2010)                           ]\n",
    "tracks_albums_spring_2000_year = tracks_albums_spring_2000.groupby([(tracks_albums_spring_2000['album_date_released'].dt.year.rename('year')),\\\n",
    "                          (tracks_albums_spring_2000['album_date_released'].dt.month.rename('month'))]).mean()\n",
    "\n",
    "#autumn\n",
    "tracks_albums_autumn_2000 = tracks_albums.loc[lambda tracks_albums: (tracks_albums.album_date_released.dt.month >8)\\\n",
    "                 & (tracks_albums.album_date_released.dt.month <12) \\\n",
    "                 & (tracks_albums.album_date_released.dt.year >1999)\\\n",
    "                 & (tracks_albums.album_date_released.dt.year <2010)                           ]\n",
    "tracks_albums_autumn_2000_year = tracks_albums_autumn_2000.groupby([(tracks_albums_autumn_2000['album_date_released'].dt.year.rename('year')),\\\n",
    "                          (tracks_albums_autumn_2000['album_date_released'].dt.month.rename('month'))]).mean()\n"
   ]
  },
  {
   "cell_type": "code",
   "execution_count": null,
   "metadata": {},
   "outputs": [],
   "source": [
    "#summer\n",
    "tracks_albums_summer_2000_year_mean = tracks_albums_summer_2000_year.groupby('year').mean()\n",
    "tracks_albums_summer_2000_year_mean_valence = tracks_albums_summer_2000_year_mean[['valence']]\n",
    "#winter\n",
    "tracks_albums_winter_2000_year_mean = tracks_albums_winter_2000_year.groupby('year').mean()\n",
    "tracks_albums_winter_2000_year_mean_valence = tracks_albums_winter_2000_year_mean[['valence']]\n",
    "#spring\n",
    "tracks_albums_spring_2000_year_mean = tracks_albums_spring_2000_year.groupby('year').mean()\n",
    "tracks_albums_spring_2000_year_mean_valence = tracks_albums_spring_2000_year_mean[['valence']]\n",
    "#autumn\n",
    "tracks_albums_autumn_2000_year_mean = tracks_albums_autumn_2000_year.groupby('year').mean()\n",
    "tracks_albums_autumn_2000_year_mean_valence = tracks_albums_autumn_2000_year_mean[['valence']]\n",
    "\n",
    "\n",
    "plt.figure(figsize=(10, 7))\n",
    "plt.title(\"Valence Seasons 2000-2010\")\n",
    "plt.grid()\n",
    "ax = sns.lineplot(data=tracks_albums_summer_2000_year_mean_valence[\"valence\"], color=\"red\", label=\"Valence Summer\")\n",
    "ax = sns.lineplot(data=tracks_albums_winter_2000_year_mean_valence[\"valence\"], color=\"darkblue\", label=\"Valence Winter\")\n",
    "ax = sns.lineplot(data=tracks_albums_spring_2000_year_mean_valence[\"valence\"], color=\"lightgreen\", label=\"Valence Spring\")\n",
    "ax = sns.lineplot(data=tracks_albums_autumn_2000_year_mean_valence[\"valence\"], color=\"coral\", label=\"Valence Autumn\")\n"
   ]
  },
  {
   "cell_type": "code",
   "execution_count": null,
   "metadata": {},
   "outputs": [],
   "source": [
    "#summer\n",
    "tracks_albums_summer_2000_year_mean = tracks_albums_summer_2000_year.groupby('year').mean()\n",
    "tracks_albums_summer_2000_year_mean_dancebility = tracks_albums_summer_2000_year_mean[['danceability']]\n",
    "\n",
    "#winter\n",
    "tracks_albums_winter_2000_year_mean = tracks_albums_winter_2000_year.groupby('year').mean()\n",
    "tracks_albums_winter_2000_year_mean_dancebility = tracks_albums_winter_2000_year_mean[['danceability']]\n",
    "\n",
    "#spring\n",
    "tracks_albums_spring_2000_year_mean = tracks_albums_spring_2000_year.groupby('year').mean()\n",
    "tracks_albums_spring_2000_year_mean_dancebility = tracks_albums_spring_2000_year_mean[['danceability']]\n",
    "\n",
    "#autumn\n",
    "tracks_albums_autumn_2000_year_mean = tracks_albums_autumn_2000_year.groupby('year').mean()\n",
    "tracks_albums_autumn_2000_year_mean_dancebility = tracks_albums_autumn_2000_year_mean[['danceability']]\n",
    "\n",
    "\n",
    "plt.figure(figsize=(10, 7))\n",
    "plt.title(\"Danceability Seasons 2000-2010\")\n",
    "plt.grid()\n",
    "ax = sns.lineplot(data=tracks_albums_summer_2000_year_mean_dancebility[\"danceability\"], color=\"red\", label=\"Danceability Summer\")\n",
    "ax = sns.lineplot(data=tracks_albums_winter_2000_year_mean_dancebility[\"danceability\"], color=\"darkblue\", label=\"Danceability Winter\")\n",
    "ax = sns.lineplot(data=tracks_albums_spring_2000_year_mean_dancebility[\"danceability\"], color=\"lightgreen\", label=\"Danceability Spring\")\n",
    "ax = sns.lineplot(data=tracks_albums_autumn_2000_year_mean_dancebility[\"danceability\"], color=\"coral\", label=\"Danceability Autumn\")\n"
   ]
  },
  {
   "cell_type": "code",
   "execution_count": null,
   "metadata": {},
   "outputs": [],
   "source": [
    "#summer\n",
    "tracks_albums_summer_2000_year_mean = tracks_albums_summer_2000_year.groupby('year').mean()\n",
    "tracks_albums_summer_2000_year_mean_energy = tracks_albums_summer_2000_year_mean[['energy']]\n",
    "\n",
    "# winter\n",
    "tracks_albums_winter_2000_year_mean = tracks_albums_winter_2000_year.groupby('year').mean()\n",
    "tracks_albums_winter_2000_year_mean_energy = tracks_albums_winter_2000_year_mean[['energy']]\n",
    "\n",
    "#spring\n",
    "tracks_albums_spring_2000_year_mean = tracks_albums_spring_2000_year.groupby('year').mean()\n",
    "tracks_albums_spring_2000_year_mean_energy = tracks_albums_spring_2000_year_mean[['energy']]\n",
    "\n",
    "#autumn\n",
    "tracks_albums_autumn_2000_year_mean = tracks_albums_autumn_2000_year.groupby('year').mean()\n",
    "tracks_albums_autumn_2000_year_mean_energy = tracks_albums_autumn_2000_year_mean[['energy']]\n",
    "\n",
    "plt.figure(figsize=(10, 7))\n",
    "plt.title(\"Energy Seasons 2000-2010\")\n",
    "plt.grid()\n",
    "ax = sns.lineplot(data=tracks_albums_summer_2000_year_mean_energy[\"energy\"], color=\"red\", label=\"Energy Summer\")\n",
    "ax = sns.lineplot(data=tracks_albums_winter_2000_year_mean_energy[\"energy\"], color=\"darkblue\", label=\"Energy Winter\")\n",
    "ax = sns.lineplot(data=tracks_albums_spring_2000_year_mean_energy[\"energy\"], color=\"lightgreen\", label=\"Energy Spring\")\n",
    "ax = sns.lineplot(data=tracks_albums_autumn_2000_year_mean_energy[\"energy\"], color=\"coral\", label=\"Energy Autumn\")\n"
   ]
  },
  {
   "cell_type": "markdown",
   "metadata": {},
   "source": [
    "## Evolution of music 2010-2018 Valence/Energy/Danceability"
   ]
  },
  {
   "cell_type": "code",
   "execution_count": null,
   "metadata": {},
   "outputs": [],
   "source": [
    "#summer\n",
    "tracks_albums_summer_2010 = tracks_albums.loc[lambda tracks_albums: (tracks_albums.album_date_released.dt.month >5)\\\n",
    "                 & (tracks_albums.album_date_released.dt.month <9) \\\n",
    "                 & (tracks_albums.album_date_released.dt.year >2009)]\n",
    "tracks_albums_summer_2010_year = tracks_albums_summer_2010.groupby([(tracks_albums_summer_2010['album_date_released'].dt.year.rename('year')),\\\n",
    "                          (tracks_albums_summer_2010['album_date_released'].dt.month.rename('month'))]).mean()\n",
    "\n",
    "#winter\n",
    "tracks_albums_winter_2010 = tracks_albums.loc[lambda tracks_albums: ((tracks_albums.album_date_released.dt.month <3)\\\n",
    "                 | (tracks_albums.album_date_released.dt.month >11)) \\\n",
    "                 & (tracks_albums.album_date_released.dt.year >2009)]\n",
    "tracks_albums_winter_2010_year = tracks_albums_winter_2010.groupby([(tracks_albums_winter_2010['album_date_released'].dt.year.rename('year')),\\\n",
    "                          (tracks_albums_winter_2010['album_date_released'].dt.month.rename('month'))]).mean()\n",
    "\n",
    "#spring\n",
    "tracks_albums_spring_2010 = tracks_albums.loc[lambda tracks_albums: (tracks_albums.album_date_released.dt.month >2)\\\n",
    "                 & (tracks_albums.album_date_released.dt.month <6) \\\n",
    "                 & (tracks_albums.album_date_released.dt.year >2009)]\n",
    "tracks_albums_spring_2010_year = tracks_albums_spring_2010.groupby([(tracks_albums_spring_2010['album_date_released'].dt.year.rename('year')),\\\n",
    "                          (tracks_albums_spring_2010['album_date_released'].dt.month.rename('month'))]).mean()\n",
    "\n",
    "#autumn\n",
    "tracks_albums_autumn_2010 = tracks_albums.loc[lambda tracks_albums: (tracks_albums.album_date_released.dt.month >8)\\\n",
    "                 & (tracks_albums.album_date_released.dt.month <12) \\\n",
    "                 & (tracks_albums.album_date_released.dt.year >2009)]\n",
    "tracks_albums_autumn_2010_year = tracks_albums_autumn_2010.groupby([(tracks_albums_autumn_2010['album_date_released'].dt.year.rename('year')),\\\n",
    "                          (tracks_albums_autumn_2010['album_date_released'].dt.month.rename('month'))]).mean()\n"
   ]
  },
  {
   "cell_type": "code",
   "execution_count": null,
   "metadata": {},
   "outputs": [],
   "source": [
    "#summer\n",
    "tracks_albums_summer_2010_year_mean = tracks_albums_summer_2010_year.groupby('year').mean()\n",
    "tracks_albums_summer_2010_year_mean_valence = tracks_albums_summer_2010_year_mean[['valence']]\n",
    "\n",
    "#winter\n",
    "tracks_albums_winter_2010_year_mean = tracks_albums_winter_2010_year.groupby('year').mean()\n",
    "tracks_albums_winter_2010_year_mean_valence = tracks_albums_winter_2010_year_mean[['valence']]\n",
    "\n",
    "#spring\n",
    "tracks_albums_spring_2010_year_mean = tracks_albums_spring_2010_year.groupby('year').mean()\n",
    "tracks_albums_spring_2010_year_mean_valence = tracks_albums_spring_2010_year_mean[['valence']]\n",
    "\n",
    "#autumn\n",
    "tracks_albums_autumn_2010_year_mean = tracks_albums_autumn_2010_year.groupby('year').mean()\n",
    "tracks_albums_autumn_2010_year_mean_valence = tracks_albums_autumn_2010_year_mean[['valence']]\n",
    "\n",
    "\n",
    "plt.figure(figsize=(10, 7))\n",
    "plt.title(\"Valence Seasons 2010-2018\")\n",
    "plt.grid()\n",
    "ax = sns.lineplot(data=tracks_albums_summer_2010_year_mean_valence[\"valence\"], color=\"red\", label=\"Valence Summer\")\n",
    "ax = sns.lineplot(data=tracks_albums_winter_2010_year_mean_valence[\"valence\"], color=\"darkblue\", label=\"Energy Winter\")\n",
    "ax = sns.lineplot(data=tracks_albums_spring_2010_year_mean_valence[\"valence\"], color=\"lightgreen\", label=\"Energy Spring\")\n",
    "ax = sns.lineplot(data=tracks_albums_autumn_2010_year_mean_valence[\"valence\"], color=\"coral\", label=\"Energy Autumn\")\n"
   ]
  },
  {
   "cell_type": "code",
   "execution_count": null,
   "metadata": {},
   "outputs": [],
   "source": [
    "#summer\n",
    "tracks_albums_summer_2010_year_mean = tracks_albums_summer_2010_year.groupby('year').mean()\n",
    "tracks_albums_summer_2010_year_mean_danceability= tracks_albums_summer_2010_year_mean[['danceability']]\n",
    "\n",
    "#winter\n",
    "tracks_albums_winter_2010_year_mean = tracks_albums_winter_2010_year.groupby('year').mean()\n",
    "tracks_albums_winter_2010_year_mean_danceability = tracks_albums_winter_2010_year_mean[['danceability']]\n",
    "\n",
    "#spring\n",
    "tracks_albums_spring_2010_year_mean = tracks_albums_spring_2010_year.groupby('year').mean()\n",
    "tracks_albums_spring_2010_year_mean_danceability = tracks_albums_spring_2010_year_mean[['danceability']]\n",
    "\n",
    "#autumn\n",
    "tracks_albums_autumn_2010_year_mean = tracks_albums_autumn_2010_year.groupby('year').mean()\n",
    "tracks_albums_autumn_2010_year_mean_danceability = tracks_albums_autumn_2010_year_mean[['danceability']]\n",
    "\n",
    "plt.figure(figsize=(10, 7))\n",
    "plt.title(\"Danceability Seasons 2010-2018\")\n",
    "plt.grid()\n",
    "ax = sns.lineplot(data=tracks_albums_summer_2010_year_mean_danceability[\"danceability\"], color=\"red\", label=\"Danceability Summer\")\n",
    "ax = sns.lineplot(data=tracks_albums_winter_2010_year_mean_danceability[\"danceability\"], color=\"darkblue\", label=\"Energy Winter\")\n",
    "ax = sns.lineplot(data=tracks_albums_spring_2010_year_mean_danceability[\"danceability\"], color=\"lightgreen\", label=\"Energy Spring\")\n",
    "ax = sns.lineplot(data=tracks_albums_autumn_2010_year_mean_danceability[\"danceability\"], color=\"coral\", label=\"Energy Autumn\")\n"
   ]
  },
  {
   "cell_type": "code",
   "execution_count": null,
   "metadata": {},
   "outputs": [],
   "source": [
    "#summer\n",
    "tracks_albums_summer_2010_year_mean = tracks_albums_summer_2010_year.groupby('year').mean()\n",
    "tracks_albums_summer_2010_year_mean_energy = tracks_albums_summer_2010_year_mean[['energy']]\n",
    "\n",
    "#winter\n",
    "tracks_albums_winter_2010_year_mean = tracks_albums_winter_2010_year.groupby('year').mean()\n",
    "tracks_albums_winter_2010_year_mean_energy = tracks_albums_winter_2010_year_mean[['energy']]\n",
    "\n",
    "#spring\n",
    "tracks_albums_spring_2010_year_mean = tracks_albums_spring_2010_year.groupby('year').mean()\n",
    "tracks_albums_spring_2010_year_mean_energy = tracks_albums_spring_2010_year_mean[['energy']]\n",
    "\n",
    "#autumn\n",
    "tracks_albums_autumn_2010_year_mean = tracks_albums_autumn_2010_year.groupby('year').mean()\n",
    "tracks_albums_autumn_2010_year_mean_energy = tracks_albums_autumn_2010_year_mean[['energy']]\n",
    "\n",
    "plt.figure(figsize=(10, 7))\n",
    "plt.title(\"Energy Seasons 2010-2018\")\n",
    "plt.grid()\n",
    "ax = sns.lineplot(data=tracks_albums_summer_2010_year_mean_energy[\"energy\"], color=\"red\", label=\"Energy Summer\")\n",
    "ax = sns.lineplot(data=tracks_albums_winter_2010_year_mean_energy[\"energy\"], color=\"darkblue\", label=\"Energy Winter\")\n",
    "ax = sns.lineplot(data=tracks_albums_spring_2010_year_mean_energy[\"energy\"], color=\"lightgreen\", label=\"Energy Spring\")\n",
    "ax = sns.lineplot(data=tracks_albums_autumn_2010_year_mean_energy[\"energy\"], color=\"coral\", label=\"Energy Autumn\")\n"
   ]
  },
  {
   "cell_type": "markdown",
   "metadata": {},
   "source": []
  },
  {
   "cell_type": "code",
   "execution_count": null,
   "metadata": {},
   "outputs": [],
   "source": []
  }
 ],
 "metadata": {
  "kernelspec": {
   "display_name": "Python 3",
   "language": "python",
   "name": "python3"
  },
  "language_info": {
   "codemirror_mode": {
    "name": "ipython",
    "version": 3
   },
   "file_extension": ".py",
   "mimetype": "text/x-python",
   "name": "python",
   "nbconvert_exporter": "python",
   "pygments_lexer": "ipython3",
   "version": "3.6.5"
  }
 },
 "nbformat": 4,
 "nbformat_minor": 1
}
