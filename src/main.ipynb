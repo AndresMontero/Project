{
 "cells": [
  {
   "cell_type": "markdown",
   "metadata": {},
   "source": [
    "# ADA 2018 -  Music Evolution: 2000's forward\n",
    "\n",
    "#### Andres Montero, Ariel Alba, Diego Iriarte\n",
    "\n",
    "\n"
   ]
  },
  {
   "cell_type": "markdown",
   "metadata": {},
   "source": [
    "## Abstract\n",
    "\n",
    "**COPIAR EL ABASTRACT FINAL DEL DATA STORY!!!!!!!!**\n",
    "\n",
    "Have you ever wondered how music evolved in the last years? Today with the explosion of the internet, music Services as Apple Music, Spotify, Tidal and other apps and platforms; it has become easier to access, obtain and share music. This project aims to find the evolution of music since 2000's in terms of songs/genres/artists popularity and preferences, evaluate the key features of the songs, such as energy, valence and danceability. We aim to understand and show how and which was the most popular genre in the last years, the most popular songs, the most important artist and what were the trends of the key features of those hits. \n",
    "\n",
    "For this purpose, we'll work with two datasets:\n",
    "\n",
    "* FMA: A Dataset For Music Analysis\n",
    "* Our crawled dataset created using Spotify and LastFM API\n",
    "\n"
   ]
  },
  {
   "cell_type": "code",
   "execution_count": null,
   "metadata": {},
   "outputs": [],
   "source": [
    "% matplotlib inline\n",
    "import pandas as pd\n",
    "import numpy as np\n",
    "import matplotlib.pyplot as plt\n",
    "import reverse_geocoder as rg\n",
    "import os.path\n",
    "import ast\n",
    "import seaborn as sns\n",
    "import os\n",
    "import sys\n",
    "import matplotlib\n",
    "import urllib, base64\n",
    "\n",
    "from sklearn.manifold import TSNE   \n",
    "from sklearn.cluster import KMeans  \n",
    "from helpers import *\n",
    "from datetime import datetime, date, time\n",
    "from scipy import stats\n",
    "\n",
    "try:\n",
    "    from StringIO import StringIO\n",
    "except ImportError:\n",
    "    from io import StringIO\n",
    "\n",
    "%load_ext autoreload\n",
    "%autoreload 2\n"
   ]
  },
  {
   "cell_type": "markdown",
   "metadata": {},
   "source": [
    "# Notebook Overview"
   ]
  },
  {
   "cell_type": "markdown",
   "metadata": {},
   "source": [
    "## 1. Dataset Description\n",
    "*  1.1 [FMA Dataset](#1.1)\n",
    "*  1.2 [LastFM and Spotify API](#1.2)\n"
   ]
  },
  {
   "cell_type": "markdown",
   "metadata": {},
   "source": [
    "## 2. Pre-processing AND Dataframes Creation\n",
    "\n",
    "*  2.1 [ARIELITO AUMENTA ALGO](#2.1)\n",
    "*  2.2 [ARIELITO AUMENTA ALGO MAS](#2.2)"
   ]
  },
  {
   "cell_type": "markdown",
   "metadata": {},
   "source": [
    "## 3. Data Analysis\n",
    "*   3.1 [Albums Date Released](#3.1)\n",
    "*   3.2 [Tracks Date Released](#3.2)\n",
    "*   3.3 [Where are the tracks produced?](#3.3)\n",
    "*   3.4 [Top 10 Albums](#3.4)\n",
    "*   3.5 [Top 10 Tracks](#3.5)\n",
    "*   3.6 [Clustering using Key-Features](#3.6)\n",
    "*   3.7 [Correlation Analysis](#3.7)\n",
    "*  3.7.1 [Relation between danceability and duration of the song](#3.7.1)\n",
    "*  3.7.2 [Relation between Valence-Danceability](#3.7.2)\n",
    "*  3.7.3 [Relation between Valence-Energy](#3.7.3)\n",
    "*  3.8 [Top tracks/genres by key features](#3.8)\n",
    "*  3.8.1 [Valence per Genre](#3.8.1)\n",
    "*  3.8.2 [Genres by # of tracks](#3.8.2)\n",
    "*  3.8.3 [Genres by popularity](#3.8.3)\n",
    "*  3.8.4 [Top artists since 2000s](#3.8.4)"
   ]
  },
  {
   "cell_type": "markdown",
   "metadata": {},
   "source": [
    "## 4 Evolution of music Valence/Energy/Danceability\n",
    "*  4.1 [Valence 2000-2018](#4.1)\n",
    "*  4.2 [Danceability 2000-2018](#4.2)\n",
    "*  4.3 [Energy 2000-2018](#4.3)\n",
    "*  4.4 [Valence 2000-2010](#4.4)\n",
    "*  4.5 [Danceability 2000-2010](#4.5)\n",
    "*  4.6 [Energy 2000-2010](#4.6)\n",
    "*  4.7 [Valence 2010-2018](#4.7)\n",
    "*  4.8 [Danceability 2010-2018](#4.8)\n",
    "*  4.9 [Energy 22010-2018](#4.9)"
   ]
  },
  {
   "cell_type": "markdown",
   "metadata": {},
   "source": [
    "## 1. Dataset Description\n",
    "<a id='1.1'></a>\n",
    "### 1.1 FMA Dataset.\n",
    "Free Music Archive (FMA), is an open and easily accessible music dataset. The dataset contains the information of 106,574 tracks from 16,341 artists and 14,854 albums, arranged in a hierarchical taxonomy of 161 genres. It provides full-length and high-quality audio, pre-computed features, together with track- and user-level metadata, tags, and free-form text such as biographies. For the project purposes, we focused on user-level metadata obtained in the following files:\n",
    "\n",
    "* tracks.csv: Per track metadata such as ID, title, artist, genres, tags and play counts, for all 106,574 tracks.\n",
    "* genres.csv: All 161 genre IDs with their name and parent (used to infer the genre hierarchy and top-level genres).\n",
    "* features.csv: track features extracted with librosa\n",
    "* echonest.csv: Audio features provided by Echonest (now Spotify) for a subset of 13,129 tracks.\n",
    "\n",
    "From the previous list of files, we only considered tracks.csv, genres.csv and echonest.csv, since features.csv contains musical attributes of the tracks and such information and its analysis is not included on the scope of the project.\n",
    "\n",
    "\n",
    "Then, we analyzed the features contained in each of the three mentioned csv files and extracted the ones that seemed to be useful for our analysis purposes and aligned with the objectives of the project.\n",
    "\n",
    "The features extracted are:\n",
    "\n",
    "#### From tracks.csv:\n",
    "* Track_id: track identification number for the platform used.\n",
    "* Danceability: Danceability describes how suitable a track is for dancing based on a combination of musical elements including tempo, rhythm stability, beat strength, and overall regularity. A value of 0.0 is least danceable and 1.0 is most danceable.\n",
    "* Energy: Energy is a measure from 0.0 to 1.0 and represents a perceptual measure of intensity and activity. Typically, energetic tracks feel fast, loud, and noisy. For example, death metal has high energy, while a Bach prelude scores low on the scale. Perceptual features contributing to this attribute include dynamic range, perceived loudness, timbre, onset rate, and general entropy.\n",
    "* Valence: A measure from 0.0 to 1.0 describing the musical positiveness conveyed by a track. Tracks with high valence sound more positive (e.g. happy, cheerful, euphoric), while tracks with low valence sound more negative (e.g. sad, depressed, angry).\n",
    "* Artist_latitude: latitude location of artist who performed the track\n",
    "* Artist_longitude: longitude location of artist who performed the track.\n",
    "* Artist_name: name of the artist who performed the track.\n",
    "* artist_discovery\n",
    "* Artist_hotness: Artist popularity is derived mathematically from track popularity.\n",
    "* song_currency\n",
    "* Song_hotness:  The popularity of the track. The value will be between 0 and 100, with 100 being the most popular. The popularity is calculated by algorithm and is based, in the most part, on the total number of plays the track has had and how recent those plays are. Songs that are being played a lot now will have a higher popularity than songs that were played a lot in the past\n",
    "\n",
    "#### From genres.csv:\n",
    "* genre_id: \n",
    "* #tracks: \n",
    "* parent\n",
    "* top_level\n",
    "\n",
    "#### From echonest.csv:\n",
    "* Track_id\n",
    "* Album_date_created\n",
    "* Album_date_released\n",
    "* Album_id\n",
    "* Album_listens\n",
    "* album_title\n",
    "* Artist_id\n",
    "* artist_latitude\n",
    "* Artist_longitude\n",
    "* artist_name    \n",
    "* Track_duration\n",
    "* Track_genre_top\n",
    "* Track_genres_all\n",
    "* Track_language\n",
    "* Track_listens\n",
    "* Track_tags\n",
    "* track_title\n",
    "\n"
   ]
  },
  {
   "cell_type": "markdown",
   "metadata": {},
   "source": [
    "<a id='1.2'></a>\n",
    "### 1.2 Spotify and LastFM API\n",
    "To complete the information gathered from FMA dataset, we used Spotify and LastFM API for years 2015-2018. The purpose was to complete the dataset with updated information about the last years, so our analysis could include the music evolution until 2018. \n",
    "\n",
    "Spotify tracks’ metadata contain a lot of information, and as before, we extracted only the ones that were considered useful for our study purposes, we were able to complete tracks information for the last years with the same features that we had with FMA dataset. We were able to gather huge amount of information from spotify, so we decided to just work with a sample of it, so our analysis could be balanced over the years. \n",
    "\n",
    "We merged both dataset into a one complete dataset containing information for all the years, we cleaned the data. "
   ]
  },
  {
   "cell_type": "code",
   "execution_count": null,
   "metadata": {},
   "outputs": [],
   "source": [
    "# Constants\n",
    "DATA_DIR = '../data/'\n",
    "\n",
    "MUSIC_DIR = '{dir}{file}/'.format(dir=DATA_DIR, \n",
    "                                  file='fma_metadata')\n",
    "CSV_DIR = 'assets/csv/'\n",
    "\n",
    "PKL_DIR = '{dir}{file}/'.format(dir=DATA_DIR, \n",
    "                               file='pkl')\n",
    "DEBUG = True\n",
    "\n",
    "FEATURES = ['danceability', 'energy', 'valence', 'song_hotness']\n"
   ]
  },
  {
   "cell_type": "markdown",
   "metadata": {},
   "source": [
    "<a id='2.1'></a>\n",
    "<a id='2.2'></a>\n",
    "## 2. Preprocessing TODO ARIELITO UN POCO DE CONTEXTO EN EL CLEANING DE LOS DATOS"
   ]
  },
  {
   "cell_type": "code",
   "execution_count": null,
   "metadata": {},
   "outputs": [],
   "source": [
    "# Read  and write files depending on the existance of own path\n",
    "genres_df_path = '{dir}{file}'.format(dir=PKL_DIR, \n",
    "                                     file='genres_df.pkl')\n",
    "albums_df_path = '{dir}{file}'.format(dir=PKL_DIR, \n",
    "                                     file='albums_df.pkl')\n",
    "artists_df_path = '{dir}{file}'.format(dir=PKL_DIR, \n",
    "                                     file='artists_df.pkl')\n",
    "tracks_df_path = '{dir}{file}'.format(dir=PKL_DIR, \n",
    "                                      file='tracks_df.pkl')\n",
    "track_genre_rel_df_path = '{dir}{file}'.format(dir=PKL_DIR, \n",
    "                                               file='track_genre_rel_df.pkl')\n",
    "if os.path.exists(genres_df_path):\n",
    "    genres_df = pd.read_pickle(genres_df_path)\n",
    "else:\n",
    "    print('There is no genres pandas data')\n",
    "    \n",
    "if os.path.exists(albums_df_path):\n",
    "    albums_df = pd.read_pickle(albums_df_path)\n",
    "else:\n",
    "    print('There is no albums pandas data')\n",
    "    \n",
    "if os.path.exists(artists_df_path):\n",
    "    artists_df = pd.read_pickle(artists_df_path)\n",
    "else:\n",
    "    print('There is no artists pandas data')\n",
    "    \n",
    "if os.path.exists(tracks_df_path):\n",
    "    tracks_df = pd.read_pickle(tracks_df_path)\n",
    "else:\n",
    "    print('There is no tracks pandas data')\n",
    "    \n",
    "if os.path.exists(track_genre_rel_df_path):\n",
    "    track_genre_rel_df = pd.read_pickle(track_genre_rel_df_path)\n",
    "else:\n",
    "    print('There is no tracks-genres pandas data')\n",
    "    "
   ]
  },
  {
   "cell_type": "markdown",
   "metadata": {},
   "source": [
    "Now we will observe the details of each df"
   ]
  },
  {
   "cell_type": "code",
   "execution_count": null,
   "metadata": {},
   "outputs": [],
   "source": [
    "pretty_print(genres_df, 'Genres', True)\n",
    "pretty_print(artists_df, 'Artists', True)\n",
    "pretty_print(albums_df, 'Albums', True)\n",
    "pretty_print(tracks_df, 'Tracks', True)\n",
    "pretty_print(track_genre_rel_df, 'Track-Genre', True)\n"
   ]
  },
  {
   "cell_type": "markdown",
   "metadata": {},
   "source": [
    "# 3. Data Analysis\n",
    "<a id='3.1'></a>\n",
    "###  3.1 Albums Date Released\n",
    "Once the details of the data frame are understood, the next step is to have the first visualization of the data, for this we will plot how many albums and tracks were released per year."
   ]
  },
  {
   "cell_type": "code",
   "execution_count": null,
   "metadata": {},
   "outputs": [],
   "source": [
    "album_dist = albums_df.groupby(albums_df['album_date_released'].dt.year).size()\n",
    "\n",
    "def dist_album_year():\n",
    "    album_dist.plot(kind='bar')\n",
    "    plt.grid()\n",
    "    plt.xticks(rotation=90)\n",
    "\n",
    "std_plot(dist_album_year, title='Distribution of Albums per Year',\n",
    "         xlabel='Year')\n"
   ]
  },
  {
   "cell_type": "markdown",
   "metadata": {},
   "source": [
    "In the graph we can observe that the quantity of albums grew exponentially with the years. \n",
    "And because we want to focus on the music from 2000's forward, for this we will define our data set between the years 2000-2018."
   ]
  },
  {
   "cell_type": "code",
   "execution_count": null,
   "metadata": {},
   "outputs": [],
   "source": [
    "start_date=pd.Timestamp(2000, 1, 1, 0)\n",
    "end_date=pd.Timestamp(2018,12,12,23)\n",
    "albums_df = albums_df[(albums_df.album_date_released > start_date) & (albums_df.album_date_released < end_date ) ]\n"
   ]
  },
  {
   "cell_type": "code",
   "execution_count": null,
   "metadata": {},
   "outputs": [],
   "source": [
    "album_dist = albums_df.groupby(albums_df['album_date_released'].dt.year).size()\n",
    "\n",
    "def dist_album_year():\n",
    "    album_dist.plot(kind='bar')\n",
    "    plt.grid()\n",
    "    plt.xticks(rotation=90)\n",
    "\n",
    "std_plot(dist_album_year, title='Distribution of Albums per Year 2000-2018',\n",
    "         xlabel='Year')"
   ]
  },
  {
   "cell_type": "markdown",
   "metadata": {},
   "source": [
    "<a id='3.2'></a>\n",
    "###  3.2 Tracks Date Released\n",
    "We do the same analysis for the tracks, first visualize to confirm that follows a similar pattern as the albums"
   ]
  },
  {
   "cell_type": "code",
   "execution_count": null,
   "metadata": {},
   "outputs": [],
   "source": [
    "tracks_albums = tracks_df.merge(albums_df)\n",
    "tracks_dist = tracks_albums.groupby(tracks_albums['album_date_released'].dt.year).size()\n",
    "tracks_filtered = tracks_albums[(tracks_albums.album_date_released > start_date)\\\n",
    "                                & (tracks_albums.album_date_released < end_date ) ]\n",
    "\n",
    "def dist_tracks_year():\n",
    "    tracks_dist.plot(kind='bar')\n",
    "    plt.grid()\n",
    "    plt.xticks(rotation=90)\n",
    "\n",
    "std_plot(dist_tracks_year, title='Distribution of Tracks per Year 2000-2018',\n",
    "         xlabel='Year')\n"
   ]
  },
  {
   "cell_type": "markdown",
   "metadata": {},
   "source": [
    "And like in the previous picture since the albums grow exponentialy the tracks follow the same pattern.\n",
    "Now the next step is to locate which country is the one with the highset proportion of production of tracks"
   ]
  },
  {
   "cell_type": "markdown",
   "metadata": {},
   "source": [
    "<a id='3.3'></a>\n",
    "###  3.3 Where are the tracks produced?\n",
    "We aim to find out where are tracks produced. We use the latitude and longitude artist features provided for each track."
   ]
  },
  {
   "cell_type": "code",
   "execution_count": null,
   "metadata": {},
   "outputs": [],
   "source": [
    "tracks_df = tracks_filtered\n",
    "track_artist = tracks_df.merge(artists_df, left_on='artist_id', \n",
    "                               right_on='artist_id')\n",
    "country_grouped = track_artist.groupby(track_artist['country']).size()\n",
    "country_top10 = country_grouped.sort_values(ascending=False) \\\n",
    "                                     .head(10)\n",
    "\n",
    "def country_track_top10():\n",
    "    country_top10.plot(kind='bar')\n",
    "    plt.ylabel('Number of Tracks')\n",
    "    plt.grid()\n",
    "    \n",
    "std_plot(country_track_top10, title='Top 10 countries that produce tracks',\n",
    "         ylabel='Number of tracks', xlabel='Country')\n"
   ]
  },
  {
   "cell_type": "markdown",
   "metadata": {},
   "source": [
    "We can observe that the top country producing tracks is the US, with a substancial difference comparing 20000 to 5000 with the next country Great Britain."
   ]
  },
  {
   "cell_type": "markdown",
   "metadata": {},
   "source": [
    "<a id='3.4'></a>\n",
    "###  3.4 Top 10 Albums\n",
    "We find the top 10 albums in the analyzed time interval 2000-2018"
   ]
  },
  {
   "cell_type": "code",
   "execution_count": null,
   "metadata": {},
   "outputs": [],
   "source": [
    "# albums_df=albums_df.copy()\n",
    "# albums_top10=albums_df.sort_values(by=['album_listens'],ascending=False).head(11)\n",
    "albums_grouped = albums_df.groupby(albums_df['album_id']) \\\n",
    "                          .first()[['album_title', 'album_listens']]\n",
    "albums_top10 = albums_grouped.sort_values(by='album_listens', \n",
    "                                          ascending=False).head(11)\n",
    "\n",
    "def album_listen_top10():\n",
    "    plt.grid()\n",
    "    sns.barplot(x='album_title', y='album_listens',\n",
    "                data=albums_top10)\n",
    "    plt.xticks(rotation=90)\n",
    "    \n",
    "std_plot(album_listen_top10, title='Top 10 Albums listened')\n"
   ]
  },
  {
   "cell_type": "markdown",
   "metadata": {},
   "source": [
    "<a id='3.5'></a>\n",
    "###  3.5 Top 10 Tracks\n",
    "We find the top 10 tracks between years 2000 - 2018"
   ]
  },
  {
   "cell_type": "code",
   "execution_count": null,
   "metadata": {},
   "outputs": [],
   "source": [
    "# tracks_df=tracks_filtered\n",
    "# tracks_top10=tracks_df.sort_values(by=['track_listens'],ascending=False).head(10)\n",
    "\n",
    "tracks_grouped = tracks_albums.groupby(tracks_df['track_id']) \\\n",
    "                          .first()[['track_title', 'track_listens']]\n",
    "tracks_top10 = tracks_grouped.sort_values(by='track_listens', \n",
    "                                          ascending=False).head(10)\n",
    "\n",
    "def track_listen_top10():\n",
    "    plt.grid()\n",
    "    sns.barplot(x='track_title', y= 'track_listens',\n",
    "                data=tracks_top10)\n",
    "    plt.xticks(rotation=90)\n",
    "    \n",
    "std_plot(track_listen_top10, title='Top 10 tracks listened')\n"
   ]
  },
  {
   "cell_type": "markdown",
   "metadata": {},
   "source": [
    "<a id='3.6'></a>\n",
    "###  3.6 Clustering using Key-Features"
   ]
  },
  {
   "cell_type": "markdown",
   "metadata": {},
   "source": [
    "#### Clustering using danceability, energy, valence and hotness features\n",
    "Now we will try to find if there are similar tracks regarding to danceability, energy, valence and hotness, and group them;\n"
   ]
  },
  {
   "cell_type": "code",
   "execution_count": null,
   "metadata": {},
   "outputs": [],
   "source": [
    "def reduce_tsne(data, reduce_to=2):\n",
    "    tsne = TSNE(n_components=reduce_to, verbose=1, perplexity=40, n_iter=300)\n",
    "    tsne_results = tsne.fit_transform(data)\n",
    "    print('TSNE Done!')\n",
    "    return tsne_results\n",
    "\n",
    "tsne_path = '{pkl}{tsne}'.format(pkl=PKL_DIR , tsne='tsne.pkl')\n",
    "track_artist_reduced = tracks_df.sample(frac=0.125).merge(artists_df)\n",
    "\n",
    "if os.path.exists(tsne_path):\n",
    "    data = pd.read_pickle(tsne_path)\n",
    "else:\n",
    "    features = track_artist_reduced.fillna(0)[FEATURES]\n",
    "    kmeans = KMeans(n_clusters=8)  \n",
    "    kmeans.fit(features) \n",
    "\n",
    "    coord = reduce_tsne(features, reduce_to=3)\n",
    "\n",
    "    d = {'x': coord[:, 0] , 'y': coord[:, 1], 'z': coord[:, 2], \n",
    "         'cluster': kmeans.labels_}\n",
    "\n",
    "    data = pd.DataFrame(data=d)\n",
    "    pd.to_pickle(data, tsne_path)\n",
    "    \n",
    "data = pd.concat([data, track_artist_reduced], axis=1)\n",
    "data = data.merge(albums_df).merge(track_genre_rel_df).merge(genres_df)\n",
    "data['year'] = data['album_date_released'].dt.year\n",
    "data_filter = data[['x', 'y', 'z', 'cluster', 'track_title', \n",
    "                    'album_title', 'artist_name', 'genre_parent', 'year']]\n",
    "data_filter.to_csv('../{csv}{file}'.format(csv=CSV_DIR, file='tsne.csv'))\n",
    "data_filter.head()\n"
   ]
  },
  {
   "cell_type": "markdown",
   "metadata": {},
   "source": [
    "<a id='3.7'></a>\n",
    "###  3.7 Correlation Analysis\n",
    "<a id='3.7.1'></a>\n",
    "#### 3.7.1 Relation between danceability and duration of the song\n",
    "Now we will try to find correlation between different features of the tracks, in this case the danceability and the duration of the song"
   ]
  },
  {
   "cell_type": "code",
   "execution_count": null,
   "metadata": {},
   "outputs": [],
   "source": [
    "tracks_df.insert(loc=13, column='track_duration_minutes',\n",
    "                 value=(tracks_df['track_duration'] / 60))\n",
    "\n",
    "tracks_df['track_duration_minutes'] = pd.to_numeric( \\\n",
    "                                            tracks_df['track_duration_minutes'])\n"
   ]
  },
  {
   "cell_type": "code",
   "execution_count": null,
   "metadata": {},
   "outputs": [],
   "source": [
    "tracks_df['track_duration_minutes'] = tracks_df['track_duration_minutes'] \\\n",
    "                                                .apply(lambda x : np.rint(x))\n",
    "\n",
    "def danceability_track_duration():\n",
    "    sns.regplot(x='danceability', y='track_duration_minutes',\n",
    "                data=tracks_df, ci=95, \n",
    "                line_kws = {'color': 'green'},\n",
    "                scatter_kws={'s': 0.5})\n",
    "    \n",
    "std_plot(danceability_track_duration)\n"
   ]
  },
  {
   "cell_type": "markdown",
   "metadata": {},
   "source": [
    "In the previous plot we can see that there is no clear correlation between danceability and the duration of the tracks, and to support this hypthesis we calculate the Spearman and Pearson Coefficient"
   ]
  },
  {
   "cell_type": "code",
   "execution_count": null,
   "metadata": {},
   "outputs": [],
   "source": [
    "tracks_df_correlation = tracks_df.dropna()\n",
    "spearman_coeff = stats.spearmanr(tracks_df_correlation['danceability'], \n",
    "                                 tracks_df_correlation['track_duration_minutes'])\n",
    "print('The spearman correlation is: {}'.format(spearman_coeff))\n"
   ]
  },
  {
   "cell_type": "code",
   "execution_count": null,
   "metadata": {},
   "outputs": [],
   "source": [
    "pearson_coeff = stats.pearsonr(tracks_df_correlation['danceability'], \n",
    "                                 tracks_df_correlation['track_duration_minutes'])\n",
    "print('The pearson correlation is: {}'.format(pearson_coeff))"
   ]
  },
  {
   "cell_type": "markdown",
   "metadata": {},
   "source": [
    "* With the previous results of the Spearman and Pearson coefficients, we conclude that there is no direct strong correlation between the duration of the tracks and the danceability\n"
   ]
  },
  {
   "cell_type": "markdown",
   "metadata": {},
   "source": [
    "<a id='3.7.2'></a>\n",
    "#### 3.7.2 Relation between Valence-Danceability"
   ]
  },
  {
   "cell_type": "markdown",
   "metadata": {},
   "source": [
    "One of the key features of the tracks is \"Valence\", which refers to the degree of positive or negative emotions one perceives from a song. We'll try to find some relations between this feature and the other key features \"Danceability\" and \"Energy\".\n"
   ]
  },
  {
   "cell_type": "code",
   "execution_count": null,
   "metadata": {},
   "outputs": [],
   "source": [
    "def danceability_valence():\n",
    "    sns.regplot(x='valence', y='danceability',\n",
    "                data=tracks_df, ci=95, \n",
    "                line_kws = {'color': 'green'},\n",
    "                scatter_kws={'s': 0.05})\n",
    "    \n",
    "std_plot(danceability_valence)\n"
   ]
  },
  {
   "cell_type": "markdown",
   "metadata": {},
   "source": [
    "As we can observe in the previous plot there is a moderate positive correlation between the valence and danceability, to confirm this we calculate the Spearman and Pearson correlation."
   ]
  },
  {
   "cell_type": "code",
   "execution_count": null,
   "metadata": {},
   "outputs": [],
   "source": [
    "spearman_coeff = stats.spearmanr(tracks_df_correlation['valence'], \n",
    "                                 tracks_df_correlation['danceability'])\n",
    "print('The spearman correlation is: {}'.format(spearman_coeff))\n"
   ]
  },
  {
   "cell_type": "code",
   "execution_count": null,
   "metadata": {},
   "outputs": [],
   "source": [
    "pearson_coeff = stats.pearsonr(tracks_df_correlation['valence'], \n",
    "                                 tracks_df_correlation['danceability'])\n",
    "print('The pearson correlation is: {}'.format(pearson_coeff))"
   ]
  },
  {
   "cell_type": "markdown",
   "metadata": {},
   "source": [
    "* With the previous results of the Spearman and Pearson coefficients, we conclude that there is moderate correlation between the valence and the danceability of a track"
   ]
  },
  {
   "cell_type": "markdown",
   "metadata": {},
   "source": [
    "<a id='3.7.3'></a>\n",
    "#### 3.7.3 Relation between Valence-Energy"
   ]
  },
  {
   "cell_type": "code",
   "execution_count": null,
   "metadata": {
    "scrolled": true
   },
   "outputs": [],
   "source": [
    "def track_listen_valence():\n",
    "    sns.regplot(x='valence', y='energy',\n",
    "                data=tracks_df, ci=95, \n",
    "                line_kws ={'color': 'green'}, \n",
    "                scatter_kws={'s': 0.01})\n",
    "    \n",
    "std_plot(track_listen_valence)\n"
   ]
  },
  {
   "cell_type": "code",
   "execution_count": null,
   "metadata": {},
   "outputs": [],
   "source": [
    "spearman_coeff = stats.spearmanr(tracks_df_correlation['valence'], \n",
    "                                 tracks_df_correlation['energy'])\n",
    "print('The spearman correlation is: {}'.format(spearman_coeff))\n"
   ]
  },
  {
   "cell_type": "code",
   "execution_count": null,
   "metadata": {},
   "outputs": [],
   "source": [
    "pearson_coeff = stats.pearsonr(tracks_df_correlation['valence'], \n",
    "                                 tracks_df_correlation['energy'])\n",
    "print('The pearson correlation is: {}'.format(pearson_coeff))"
   ]
  },
  {
   "cell_type": "markdown",
   "metadata": {},
   "source": [
    "* With the previous results of the Spearman and Pearson coefficients, we conclude that there is low correlation between the valence and the energy of a track"
   ]
  },
  {
   "cell_type": "markdown",
   "metadata": {},
   "source": [
    "<a id='3.8'></a>\n",
    "### 3.8 Top tracks/genres by key features"
   ]
  },
  {
   "cell_type": "markdown",
   "metadata": {},
   "source": [
    "<a id='3.8.1'></a>\n",
    "#### 3.8.1 Valence per Genre"
   ]
  },
  {
   "cell_type": "markdown",
   "metadata": {},
   "source": [
    "As we have seen that the valence has correlation between Energy and Danceability, so we conclude that this is an important feature and we will make a plot with the top genres with the highest average valence"
   ]
  },
  {
   "cell_type": "code",
   "execution_count": null,
   "metadata": {},
   "outputs": [],
   "source": [
    "track_rel = tracks_df.merge(track_genre_rel_df)\n",
    "track_genre = track_rel.merge(genres_df)\n",
    "genre_valence = track_genre.groupby('genre_parent')['valence'].mean()\n",
    "\n",
    "top10_genre_valence = genre_valence.sort_values(ascending=False)\n",
    "\n",
    "def genre_valence_top10():\n",
    "    top10_genre_valence.plot(kind='bar')\n",
    "       \n",
    "std_plot(genre_valence_top10, title='Valence per genre')"
   ]
  },
  {
   "cell_type": "markdown",
   "metadata": {},
   "source": [
    "As we can see in the previous graph the genre with the highest average valence is \"International\" so we will explore this genre with more detail."
   ]
  },
  {
   "cell_type": "markdown",
   "metadata": {},
   "source": [
    "<a id='3.8.2'></a>\n",
    "#### 3.8.2 Genres by # of tracks"
   ]
  },
  {
   "cell_type": "markdown",
   "metadata": {},
   "source": [
    "Then we will focus to see which genre was the one with the most releases per year."
   ]
  },
  {
   "cell_type": "code",
   "execution_count": null,
   "metadata": {},
   "outputs": [],
   "source": [
    "track_genre_album = track_genre.merge(albums_df)\n",
    "\n",
    "genre_year = track_genre_album[['genre_parent', 'album_date_released']]\n",
    "genre_year.insert(loc=2, column='album_released_year',\n",
    "                  value=(genre_year['album_date_released'].dt.year))\n"
   ]
  },
  {
   "cell_type": "code",
   "execution_count": null,
   "metadata": {},
   "outputs": [],
   "source": [
    "top_genre = genre_year.groupby(genre_year['genre_parent']).size()\n",
    "top_genre_sorted = top_genre.sort_values(ascending=False)\n",
    "\n",
    "def genres_num_track_top10():\n",
    "    top_genre_sorted.plot(kind='bar')\n",
    "    plt.grid()\n",
    "\n",
    "std_plot(genres_num_track_top10,\n",
    "         title='Top 10 Genres with more # of tracks')"
   ]
  },
  {
   "cell_type": "markdown",
   "metadata": {},
   "source": [
    "We can observe that the genre with the highest number of tracks is experimental followed closely by electronic"
   ]
  },
  {
   "cell_type": "markdown",
   "metadata": {},
   "source": [
    "<a id='3.8.3'></a>\n",
    "#### 3.8.3 Genres by popularity"
   ]
  },
  {
   "cell_type": "markdown",
   "metadata": {},
   "source": [
    "The next plot shows the top 10 Genres according to the popularity of that song, this is a key plot as we will observe that is the top genre over the las 18 years according to the \"Hotness\" of the artist and the tracks."
   ]
  },
  {
   "cell_type": "code",
   "execution_count": null,
   "metadata": {},
   "outputs": [],
   "source": [
    "# Top Genres with more popularity\n",
    "genre_popularity = track_genre.groupby('genre_parent')['song_hotness'].mean()\n",
    "top10_genre_popularity = genre_popularity.sort_values(ascending=False)\n",
    "\n",
    "def genre_popularity_top10():\n",
    "    top10_genre_popularity.plot(kind='bar')\n",
    "    \n",
    "std_plot(genre_popularity_top10, \n",
    "         title='Top 10 Genres with more popularity')\n"
   ]
  },
  {
   "cell_type": "markdown",
   "metadata": {},
   "source": [
    "We can observe that the most popular genre according to the \"Hotness\" is Spoken, which is a emerging genre specially on Spotify."
   ]
  },
  {
   "cell_type": "markdown",
   "metadata": {},
   "source": [
    "<a id='3.8.4'></a>\n",
    "#### 3.8.4 Top Artirst since 2000s"
   ]
  },
  {
   "cell_type": "markdown",
   "metadata": {},
   "source": [
    "The next section is to analyze the top artists over the las 18 years, this analysis will separated depending on the :\n",
    "\n",
    "-Artist_Hotness, -Track_Hotness and -Barplots over each year to see the evolution "
   ]
  },
  {
   "cell_type": "code",
   "execution_count": null,
   "metadata": {},
   "outputs": [],
   "source": [
    "# Top 10 artists by artists_hotness\n",
    "top10_artists = artists_df[['artist_name', 'artist_hotness']] \\\n",
    "                    .sort_values(by='artist_hotness',\n",
    "                                 ascending=False).head(15)\n",
    "\n",
    "def artists_top10():\n",
    "    return top10_artists.sort_values(by='artist_hotness',ascending=True).plot.barh(x='artist_name',\n",
    "    y='artist_hotness',xlim=(0.8,1),legend=False, grid=True)\n",
    "std_plot(artists_top10, title='Top 10 Artists by artist_hotness')\n"
   ]
  },
  {
   "cell_type": "code",
   "execution_count": null,
   "metadata": {},
   "outputs": [],
   "source": [
    "# Top 10 artists by tracks popularity\n",
    "track_artist = tracks_df.merge(artists_df)\n",
    "track_hotness_artist = track_artist.groupby('artist_name')['song_hotness'].mean()\n",
    "top10_artists = track_hotness_artist.sort_values(ascending=False).head(20)\n",
    "\n",
    "def artists_top10():\n",
    "    top10_artists.plot(kind='bar')\n",
    "    \n",
    "std_plot(artists_top10, title='Top 10 Artists by track hotness')\n"
   ]
  },
  {
   "cell_type": "code",
   "execution_count": null,
   "metadata": {},
   "outputs": [],
   "source": [
    "# Top Artists Evolution since 2000 by year\n",
    "tracks_albums_artists = tracks_df.merge(albums_df).merge(artists_df)\n",
    "\n",
    "for year in range(2000, 2019):\n",
    "    is_from_year = tracks_albums_artists['album_date_released'].dt.year == year\n",
    "    filter_tracks = tracks_albums_artists[is_from_year]\n",
    "    \n",
    "    track_hotness_artist = filter_tracks.groupby('artist_name')['song_hotness'].mean()\n",
    "    top10_artists = track_hotness_artist.sort_values(ascending=False).head(10)\n",
    "\n",
    "    def artists_top10():\n",
    "        top10_artists.plot(kind='bar')\n",
    "\n",
    "    std_plot(artists_top10, title='Top 10 Artists by track hotness of year {}'.format(year))\n",
    "    "
   ]
  },
  {
   "cell_type": "code",
   "execution_count": null,
   "metadata": {},
   "outputs": [],
   "source": [
    "# Top Artists Evolution since 2000 by year interval\n",
    "interval_y = [(2000, 2010), (2010, 2018)]\n",
    "\n",
    "for from_y, to_y in interval_y:\n",
    "    album_released_year = tracks_albums_artists['album_date_released'].dt.year\n",
    "    from_y_cond =  album_released_year >= from_y\n",
    "    to_y_cond = album_released_year < to_y\n",
    "    is_from_to_y = from_y_cond & to_y_cond\n",
    "    filter_tracks = tracks_albums_artists[is_from_to_y]\n",
    "    \n",
    "    track_hotness_artist = filter_tracks.groupby('artist_name')['song_hotness'].mean()\n",
    "    top10_artists = track_hotness_artist.sort_values(ascending=False).head(10)\n",
    "\n",
    "    def artists_top10():\n",
    "        top10_artists.plot(kind='bar')\n",
    "\n",
    "    std_plot(artists_top10, \n",
    "             title='Top 10 Artists by track hotness of from {from_y} to {to_y}'.format(from_y=from_y,\n",
    "                                                                                       to_y=to_y))"
   ]
  },
  {
   "cell_type": "markdown",
   "metadata": {},
   "source": [
    "<a id='4'></a>\n",
    "##  4 Evolution of music Valence/Energy/Danceability"
   ]
  },
  {
   "cell_type": "markdown",
   "metadata": {},
   "source": [
    "This section is to analyze the evolution of the music depending on the key features of \"Valence\", \"Energy\" and \"Danceability\"."
   ]
  },
  {
   "cell_type": "code",
   "execution_count": null,
   "metadata": {
    "scrolled": true
   },
   "outputs": [],
   "source": [
    "tracks_albums = tracks_df.merge(albums_df, how='inner')"
   ]
  },
  {
   "cell_type": "markdown",
   "metadata": {},
   "source": [
    "We will focus on the the seasons evolution: \"Summer\", \"Winter\", \"Spring\" and \"Autum\""
   ]
  },
  {
   "cell_type": "code",
   "execution_count": null,
   "metadata": {},
   "outputs": [],
   "source": [
    "tracks_albums_summer = tracks_albums.loc[lambda tracks_albums: (tracks_albums.album_date_released.dt.month >5)\\\n",
    "                 & (tracks_albums.album_date_released.dt.month <9)]\n",
    "tracks_albums_winter = tracks_albums.loc[lambda tracks_albums: ((tracks_albums.album_date_released.dt.month >11)\\\n",
    "                 | (tracks_albums.album_date_released.dt.month <3))]\n",
    "tracks_albums_spring = tracks_albums.loc[lambda tracks_albums: (tracks_albums.album_date_released.dt.month >2)\\\n",
    "                 & (tracks_albums.album_date_released.dt.month <6)]\n",
    "tracks_albums_autumn = tracks_albums.loc[lambda tracks_albums: (tracks_albums.album_date_released.dt.month >8)\\\n",
    "                 & (tracks_albums.album_date_released.dt.month <12)]\n"
   ]
  },
  {
   "cell_type": "markdown",
   "metadata": {},
   "source": [
    "<a id='4.1'></a>\n",
    "### 4.1 Valence 2000-2018"
   ]
  },
  {
   "cell_type": "code",
   "execution_count": null,
   "metadata": {},
   "outputs": [],
   "source": [
    "#summer\n",
    "tracks_albums_summer_year = tracks_albums_summer.groupby([(tracks_albums_summer['album_date_released'].dt.year.rename('year')),\\\n",
    "                          (tracks_albums_summer['album_date_released'].dt.month.rename('month'))]).mean()\n",
    "\n",
    "tracks_albums_summer_year_mean = tracks_albums_summer_year.groupby('year').mean()\n",
    "tracks_albums_summer_year_mean_valence = tracks_albums_summer_year_mean[['valence']]\n",
    "\n",
    "# winter\n",
    "\n",
    "tracks_albums_winter_year = tracks_albums_winter.groupby([(tracks_albums_winter['album_date_released'].dt.year.rename('year')),\\\n",
    "                          (tracks_albums_winter['album_date_released'].dt.month.rename('month'))]).mean()\n",
    "\n",
    "tracks_albums_winter_year_mean = tracks_albums_winter_year.groupby('year').mean()\n",
    "tracks_albums_winter_year_mean_valence = tracks_albums_winter_year_mean[['valence']]\n",
    "\n",
    "#spring\n",
    "tracks_albums_spring_year = tracks_albums_spring.groupby([(tracks_albums_spring['album_date_released'].dt.year.rename('year')),\\\n",
    "                          (tracks_albums_spring['album_date_released'].dt.month.rename('month'))]).mean()\n",
    "\n",
    "tracks_albums_spring_year_mean = tracks_albums_spring_year.groupby('year').mean()\n",
    "tracks_albums_spring_year_mean_valence = tracks_albums_spring_year_mean[['valence']]\n",
    "\n",
    "#autumn\n",
    "tracks_albums_autumn_year = tracks_albums_autumn.groupby([(tracks_albums_autumn['album_date_released'].dt.year.rename('year')),\\\n",
    "                          (tracks_albums_autumn['album_date_released'].dt.month.rename('month'))]).mean()\n",
    "\n",
    "tracks_albums_autumn_year_mean = tracks_albums_autumn_year.groupby('year').mean()\n",
    "tracks_albums_autumn_year_mean_valence = tracks_albums_autumn_year_mean[['valence']]\n",
    "\n",
    "tracks_albums_total = tracks_albums.groupby([(tracks_albums['album_date_released'].dt.year.rename('year'))\\\n",
    "                                                           ]).mean()\n",
    "tracks_albums_total_valence = tracks_albums_total[['valence']]\n",
    "\n",
    "def valence_seasons():\n",
    "    plt.grid()\n",
    "    plt.xlim(2000,2018)\n",
    "    sns.lineplot(data=tracks_albums_total_valence[\"valence\"],\n",
    "                 color=\"black\", label=\"Valence Total\", linewidth=5)\n",
    "    sns.lineplot(data=tracks_albums_summer_year_mean_valence[\"valence\"],\n",
    "                 color=\"red\", label=\"Valence Summer\")\n",
    "    sns.lineplot(data=tracks_albums_winter_year_mean_valence[\"valence\"], \n",
    "                 color=\"darkblue\", label=\"Valence Winter\")\n",
    "    sns.lineplot(data=tracks_albums_spring_year_mean_valence[\"valence\"], \n",
    "                 color=\"lightgreen\", label=\"Valence Spring\")\n",
    "    return sns.lineplot(data=tracks_albums_autumn_year_mean_valence[\"valence\"], \n",
    "                        color=\"coral\", label=\"Valence Autumn\")\n",
    "\n",
    "std_plot(valence_seasons, title='Valence Seasons')\n"
   ]
  },
  {
   "cell_type": "markdown",
   "metadata": {},
   "source": [
    "From the previous graphic we can observe that the valence of the music in general had a significant decrease from the 2000 until 2002, then there is a rise around 2004 and after that remains estable between 0.4 and 0.5"
   ]
  },
  {
   "cell_type": "markdown",
   "metadata": {},
   "source": [
    "<a id='4.2'></a>\n",
    "### 4.2 Danceability 2000-2018"
   ]
  },
  {
   "cell_type": "code",
   "execution_count": null,
   "metadata": {},
   "outputs": [],
   "source": [
    "tracks_albums_summer_year_mean = tracks_albums_summer_year.groupby('year').mean()\n",
    "tracks_albums_summer_year_mean_danceability = tracks_albums_summer_year_mean[['danceability']]\n",
    "\n",
    "tracks_albums_winter_year_mean = tracks_albums_winter_year.groupby('year').mean()\n",
    "tracks_albums_winter_year_mean_danceability = tracks_albums_winter_year_mean[['danceability']]\n",
    "\n",
    "tracks_albums_spring_year_mean = tracks_albums_spring_year.groupby('year').mean()\n",
    "tracks_albums_spring_year_mean_danceability = tracks_albums_spring_year_mean[['danceability']]\n",
    "\n",
    "tracks_albums_autumn_year_mean = tracks_albums_autumn_year.groupby('year').mean()\n",
    "tracks_albums_autumn_year_mean_danceability = tracks_albums_autumn_year_mean[['danceability']]\n",
    "\n",
    "tracks_albums_total = tracks_albums.groupby([(tracks_albums['album_date_released'].dt.year.rename('year'))\\\n",
    "                                                           ]).mean()\n",
    "tracks_albums_total_valence = tracks_albums_total[['danceability']]\n",
    "\n",
    "def valence_seasons():\n",
    "    plt.grid()\n",
    "    plt.xlim(2000,2018)\n",
    "    sns.lineplot(data=tracks_albums_total_valence[\"danceability\"], \n",
    "                 color=\"black\", label=\"Danceability Summer\", linewidth=5)\n",
    "    sns.lineplot(data=tracks_albums_summer_year_mean_danceability[\"danceability\"], \n",
    "                 color=\"red\", label=\"Danceability Summer\")\n",
    "    sns.lineplot(data=tracks_albums_winter_year_mean_danceability[\"danceability\"],\n",
    "                 color=\"darkblue\", label=\"Danceability Winter\")\n",
    "    sns.lineplot(data=tracks_albums_spring_year_mean_danceability[\"danceability\"], \n",
    "                 color=\"lightgreen\", label=\"Danceability Spring\")\n",
    "    return sns.lineplot(data=tracks_albums_autumn_year_mean_danceability[\"danceability\"],\n",
    "                        color=\"coral\", label=\"Danceability Autumn\")\n",
    "\n",
    "std_plot(valence_seasons, title='Danceability Seasons')\n"
   ]
  },
  {
   "cell_type": "markdown",
   "metadata": {},
   "source": [
    "From the previous graphic we can observe that the danceability of the music increased since the 2000's, with almost doubled value in 2018, the season of the year were the most danceably songs are realeased is winter as you can observe in the previous plot (blue line)."
   ]
  },
  {
   "cell_type": "markdown",
   "metadata": {},
   "source": [
    "<a id='4.3'></a>\n",
    "### 4.3 Energy 2000-2018"
   ]
  },
  {
   "cell_type": "code",
   "execution_count": null,
   "metadata": {},
   "outputs": [],
   "source": [
    "tracks_albums_summer_year_mean = tracks_albums_summer_year.groupby('year').mean()\n",
    "tracks_albums_summer_year_mean_energy = tracks_albums_summer_year_mean[['energy']]\n",
    "\n",
    "tracks_albums_winter_year_mean = tracks_albums_winter_year.groupby('year').mean()\n",
    "tracks_albums_winter_year_mean_energy = tracks_albums_winter_year_mean[['energy']]\n",
    "\n",
    "tracks_albums_spring_year_mean = tracks_albums_spring_year.groupby('year').mean()\n",
    "tracks_albums_spring_year_mean_energy = tracks_albums_spring_year_mean[['energy']]\n",
    "\n",
    "tracks_albums_autumn_year_mean = tracks_albums_autumn_year.groupby('year').mean()\n",
    "tracks_albums_autumn_year_mean_energy = tracks_albums_autumn_year_mean[['energy']]\n",
    "\n",
    "tracks_albums_total = tracks_albums.groupby([(tracks_albums['album_date_released'].dt.year.rename('year'))\\\n",
    "                                                           ]).mean()\n",
    "tracks_albums_total_valence = tracks_albums_total[['energy']]\n",
    "\n",
    "def energy_seasons():\n",
    "    plt.grid()\n",
    "    plt.xlim(2000,2018)\n",
    "    sns.lineplot(data=tracks_albums_total_valence[\"energy\"], \n",
    "                 color=\"black\", label=\"Energy Summer\", linewidth=5)\n",
    "    sns.lineplot(data=tracks_albums_summer_year_mean_energy[\"energy\"], \n",
    "                 color=\"red\", label=\"Energy Summer\")\n",
    "    sns.lineplot(data=tracks_albums_winter_year_mean_energy[\"energy\"],\n",
    "                 color=\"darkblue\", label=\"Energy Winter\")\n",
    "    sns.lineplot(data=tracks_albums_spring_year_mean_energy[\"energy\"],\n",
    "                 color=\"lightgreen\", label=\"Energy Spring\")\n",
    "    return sns.lineplot(data=tracks_albums_autumn_year_mean_energy[\"energy\"],\n",
    "                        color=\"coral\", label=\"Energy Autumn\")\n",
    "\n",
    "std_plot(energy_seasons, title='Energy Seasons')\n"
   ]
  },
  {
   "cell_type": "markdown",
   "metadata": {},
   "source": [
    "The highest period in terms of energy of the music is around 2012 with a value of almost 0.65, however this value decreased in the last years, and is showing a decreassing trend as you can observe in the previous plot."
   ]
  },
  {
   "cell_type": "markdown",
   "metadata": {},
   "source": [
    "<a id='4.4'></a>\n",
    "### 4.4 Valence 2000-2010 \n"
   ]
  },
  {
   "cell_type": "markdown",
   "metadata": {},
   "source": [
    "The following section will explain with more detailed the evolution of the key features of the tracks, now we impliment categorical values to group every two years."
   ]
  },
  {
   "cell_type": "code",
   "execution_count": null,
   "metadata": {},
   "outputs": [],
   "source": [
    "#sumer\n",
    "tracks_albums_summer_2000 = tracks_albums.loc[lambda tracks_albums: (tracks_albums.album_date_released.dt.month >5)\\\n",
    "                 & (tracks_albums.album_date_released.dt.month <9) \\\n",
    "                 & (tracks_albums.album_date_released.dt.year >1999)\\\n",
    "                 & (tracks_albums.album_date_released.dt.year <2010)]\n",
    "tracks_albums_summer_2000 = tracks_albums_summer_2000.copy()\n",
    "tracks_albums_summer_2000['categorical_year'] = pd.cut(tracks_albums_summer_2000['album_date_released'].dt.year, \\\n",
    "                                                       [2000, 2002, 2004, 2006, 2008, 2010], \\\n",
    "                                                       labels=[2002, 2004, 2006, 2008, 2010])\n",
    "tracks_albums_summer_2000_year = tracks_albums_summer_2000.groupby('categorical_year').mean()\n",
    "\n",
    "#winter\n",
    "tracks_albums_winter_2000 = tracks_albums.loc[lambda tracks_albums: ((tracks_albums.album_date_released.dt.month <3)\\\n",
    "                 | (tracks_albums.album_date_released.dt.month >11)) \\\n",
    "                 & (tracks_albums.album_date_released.dt.year >1999)\\\n",
    "                 & (tracks_albums.album_date_released.dt.year <2010)]\n",
    "tracks_albums_winter_2000 = tracks_albums_winter_2000.copy()\n",
    "tracks_albums_winter_2000['categorical_year'] = pd.cut(tracks_albums_winter_2000['album_date_released'].dt.year, \\\n",
    "                                                        [2000, 2002, 2004, 2006, 2008, 2010], \\\n",
    "                                                       labels=[2002, 2004, 2006, 2008, 2010])\n",
    "tracks_albums_winter_2000_year = tracks_albums_winter_2000.groupby('categorical_year').mean()\n",
    "\n",
    "#spring\n",
    "tracks_albums_spring_2000 = tracks_albums.loc[lambda tracks_albums: (tracks_albums.album_date_released.dt.month >2)\\\n",
    "                 & (tracks_albums.album_date_released.dt.month <6) \\\n",
    "                 & (tracks_albums.album_date_released.dt.year >1999)\\\n",
    "                 & (tracks_albums.album_date_released.dt.year <2010)]\n",
    "tracks_albums_spring_2000 = tracks_albums_spring_2000.copy()\n",
    "tracks_albums_spring_2000['categorical_year'] = pd.cut(tracks_albums_spring_2000['album_date_released'].dt.year, \\\n",
    "                                                        [2000, 2002, 2004, 2006, 2008, 2010], \\\n",
    "                                                       labels=[2002, 2004, 2006, 2008, 2010])\n",
    "tracks_albums_spring_2000_year = tracks_albums_spring_2000.groupby('categorical_year').mean()\n",
    "\n",
    "#autumn\n",
    "tracks_albums_autumn_2000 = tracks_albums.loc[lambda tracks_albums: (tracks_albums.album_date_released.dt.month >8)\\\n",
    "                 & (tracks_albums.album_date_released.dt.month <12) \\\n",
    "                 & (tracks_albums.album_date_released.dt.year >1999)\\\n",
    "                 & (tracks_albums.album_date_released.dt.year <2010)]\n",
    "tracks_albums_autumn_2000 = tracks_albums_autumn_2000.copy()\n",
    "tracks_albums_autumn_2000['categorical_year'] = pd.cut(tracks_albums_autumn_2000['album_date_released'].dt.year, \\\n",
    "                                                        [2000, 2002, 2004, 2006, 2008, 2010], \\\n",
    "                                                       labels=[2002, 2004, 2006, 2008, 2010])\n",
    "tracks_albums_autumn_2000_year = tracks_albums_autumn_2000.groupby('categorical_year').mean()\n",
    "\n",
    "#total\n",
    "tracks_albums_total_2000 = tracks_albums.loc[lambda tracks_albums:(tracks_albums.album_date_released.dt.year >1999)\\\n",
    "                 & (tracks_albums.album_date_released.dt.year <2010)]\n",
    "tracks_albums_total_2000 = tracks_albums_total_2000.copy()\n",
    "tracks_albums_total_2000['categorical_year'] = pd.cut(tracks_albums_total_2000['album_date_released'].dt.year, \\\n",
    "                                                        [2000, 2002, 2004, 2006, 2008, 2010], \\\n",
    "                                                       labels=[2002, 2004, 2006, 2008, 2010])\n",
    "tracks_albums_total_2000_year = tracks_albums_total_2000.groupby('categorical_year').mean()\n",
    "\n",
    "\n",
    "\n",
    "\n",
    "\n",
    "#summer\n",
    "tracks_albums_summer_2000_year_mean = tracks_albums_summer_2000_year.groupby('categorical_year').mean()\n",
    "tracks_albums_summer_2000_year_mean_valence = tracks_albums_summer_2000_year_mean[['valence']]\n",
    "#winter\n",
    "tracks_albums_winter_2000_year_mean = tracks_albums_winter_2000_year.groupby('categorical_year').mean()\n",
    "tracks_albums_winter_2000_year_mean_valence = tracks_albums_winter_2000_year_mean[['valence']]\n",
    "#spring\n",
    "tracks_albums_spring_2000_year_mean = tracks_albums_spring_2000_year.groupby('categorical_year').mean()\n",
    "tracks_albums_spring_2000_year_mean_valence = tracks_albums_spring_2000_year_mean[['valence']]\n",
    "#autumn\n",
    "tracks_albums_autumn_2000_year_mean = tracks_albums_autumn_2000_year.groupby('categorical_year').mean()\n",
    "tracks_albums_autumn_2000_year_mean_valence = tracks_albums_autumn_2000_year_mean[['valence']]\n",
    "#total\n",
    "tracks_albums_total_2000_mean = tracks_albums_total_2000_year.groupby('categorical_year').mean()\n",
    "tracks_albums_total_2000_mean_valence = tracks_albums_total_2000_mean[['valence']]\n",
    "\n"
   ]
  },
  {
   "cell_type": "code",
   "execution_count": null,
   "metadata": {},
   "outputs": [],
   "source": [
    "def valence_seasons_00_10_categorical():\n",
    "    plt.grid()\n",
    "    plt.ylim(0.35, 0.55)\n",
    "#     plt.yscale(\"log\")\n",
    "    sns.lineplot(data=tracks_albums_total_2000_mean_valence[\"valence\"], \n",
    "                 color=\"black\", label=\"Valence Total\", linewidth=5,)\n",
    "    sns.lineplot(data=tracks_albums_summer_2000_year_mean_valence[\"valence\"], \n",
    "                 color=\"red\", label=\"Valence Summer\")\n",
    "    sns.lineplot(data=tracks_albums_winter_2000_year_mean_valence[\"valence\"],\n",
    "                 color=\"darkblue\", label=\"Valence Winter\")\n",
    "    sns.lineplot(data=tracks_albums_spring_2000_year_mean_valence[\"valence\"], \n",
    "                 color=\"lightgreen\", label=\"Valence Spring\")\n",
    "    return sns.lineplot(data=tracks_albums_autumn_2000_year_mean_valence[\"valence\"], \n",
    "                        color=\"coral\", label=\"Valence Autumn\")\n",
    "\n",
    "std_plot(valence_seasons_00_10_categorical, title='Valence Seasons 2000-2010')\n",
    "export_line_viz([tracks_albums_total_2000_mean_valence, \n",
    "                 tracks_albums_summer_2000_year_mean_valence,\n",
    "                 tracks_albums_winter_2000_year_mean_valence, \n",
    "                 tracks_albums_spring_2000_year_mean_valence,\n",
    "                 tracks_albums_autumn_2000_year_mean_valence], \n",
    "                 'valence1')\n"
   ]
  },
  {
   "cell_type": "markdown",
   "metadata": {},
   "source": [
    "In the previous plot we can observe that the valence of the tracks increased from the 2002 until 2006, then it had a small decrease until 2008 and since then has remained stable."
   ]
  },
  {
   "cell_type": "markdown",
   "metadata": {},
   "source": [
    "<a id='4.5'></a>\n",
    "### 4.5 Danceability 2000-2010 "
   ]
  },
  {
   "cell_type": "code",
   "execution_count": null,
   "metadata": {},
   "outputs": [],
   "source": [
    "#summer\n",
    "tracks_albums_summer_2000_year_mean = tracks_albums_summer_2000_year.groupby('categorical_year').mean()\n",
    "tracks_albums_summer_2000_year_mean_dancebility = tracks_albums_summer_2000_year_mean[['danceability']]\n",
    "\n",
    "#winter\n",
    "tracks_albums_winter_2000_year_mean = tracks_albums_winter_2000_year.groupby('categorical_year').mean()\n",
    "tracks_albums_winter_2000_year_mean_dancebility = tracks_albums_winter_2000_year_mean[['danceability']]\n",
    "\n",
    "#spring\n",
    "tracks_albums_spring_2000_year_mean = tracks_albums_spring_2000_year.groupby('categorical_year').mean()\n",
    "tracks_albums_spring_2000_year_mean_dancebility = tracks_albums_spring_2000_year_mean[['danceability']]\n",
    "\n",
    "#autumn\n",
    "tracks_albums_autumn_2000_year_mean = tracks_albums_autumn_2000_year.groupby('categorical_year').mean()\n",
    "tracks_albums_autumn_2000_year_mean_dancebility = tracks_albums_autumn_2000_year_mean[['danceability']]\n",
    "#total\n",
    "tracks_albums_total_2000_mean = tracks_albums_total_2000_year.groupby('categorical_year').mean()\n",
    "tracks_albums_total_2000_mean_valence = tracks_albums_total_2000_mean[['danceability']]\n",
    "\n",
    "def danceability_seasons_00_10_categorical():\n",
    "    plt.grid()\n",
    "    plt.ylim(0.3, 0.6)\n",
    "    sns.lineplot(data=tracks_albums_total_2000_mean_valence[\"danceability\"], \n",
    "                 color=\"black\", label=\"Danceability Total\", linewidth=5)\n",
    "    sns.lineplot(data=tracks_albums_summer_2000_year_mean_dancebility[\"danceability\"],\n",
    "                 color=\"red\", label=\"Danceability Summer\")\n",
    "    sns.lineplot(data=tracks_albums_winter_2000_year_mean_dancebility[\"danceability\"], \n",
    "                 color=\"darkblue\", label=\"Danceability Winter\")\n",
    "    sns.lineplot(data=tracks_albums_spring_2000_year_mean_dancebility[\"danceability\"],\n",
    "                 color=\"lightgreen\", label=\"Danceability Spring\")\n",
    "    return sns.lineplot(data=tracks_albums_autumn_2000_year_mean_dancebility[\"danceability\"],\n",
    "                        color=\"coral\", label=\"Danceability Autumn\")\n",
    "\n",
    "std_plot(danceability_seasons_00_10_categorical, title='Danceability Seasons 2000-2010')\n",
    "export_line_viz([tracks_albums_total_2000_mean_valence, \n",
    "                 tracks_albums_summer_2000_year_mean_dancebility,\n",
    "                 tracks_albums_winter_2000_year_mean_dancebility, \n",
    "                 tracks_albums_spring_2000_year_mean_dancebility,\n",
    "                 tracks_albums_autumn_2000_year_mean_dancebility], \n",
    "                 'danceability1')\n",
    "\n"
   ]
  },
  {
   "cell_type": "markdown",
   "metadata": {},
   "source": [
    "<a id='4.6'></a>\n",
    "### 4.6 Energy 2000-201"
   ]
  },
  {
   "cell_type": "code",
   "execution_count": null,
   "metadata": {},
   "outputs": [],
   "source": [
    "#summer\n",
    "tracks_albums_summer_2000_year_mean = tracks_albums_summer_2000_year.groupby('categorical_year').mean()\n",
    "tracks_albums_summer_2000_year_mean_energy = tracks_albums_summer_2000_year_mean[['energy']]\n",
    "\n",
    "# winter\n",
    "tracks_albums_winter_2000_year_mean = tracks_albums_winter_2000_year.groupby('categorical_year').mean()\n",
    "tracks_albums_winter_2000_year_mean_energy = tracks_albums_winter_2000_year_mean[['energy']]\n",
    "\n",
    "#spring\n",
    "tracks_albums_spring_2000_year_mean = tracks_albums_spring_2000_year.groupby('categorical_year').mean()\n",
    "tracks_albums_spring_2000_year_mean_energy = tracks_albums_spring_2000_year_mean[['energy']]\n",
    "\n",
    "#autumn\n",
    "tracks_albums_autumn_2000_year_mean = tracks_albums_autumn_2000_year.groupby('categorical_year').mean()\n",
    "tracks_albums_autumn_2000_year_mean_energy = tracks_albums_autumn_2000_year_mean[['energy']]\n",
    "#total\n",
    "tracks_albums_total_2000_mean = tracks_albums_total_2000_year.groupby('categorical_year').mean()\n",
    "tracks_albums_total_2000_mean_valence = tracks_albums_total_2000_mean[['energy']]\n",
    "\n",
    "def energy_seasons_00_10_categorical():\n",
    "    plt.grid()\n",
    "    plt.ylim(0.35, 0.72)\n",
    "    sns.lineplot(data=tracks_albums_total_2000_mean_valence[\"energy\"], \n",
    "                 color=\"black\", label=\"Energy Total\", linewidth=5)\n",
    "    sns.lineplot(data=tracks_albums_summer_2000_year_mean_energy[\"energy\"],\n",
    "                 color=\"red\", label=\"Energy Summer\")\n",
    "    sns.lineplot(data=tracks_albums_winter_2000_year_mean_energy[\"energy\"],\n",
    "                 color=\"darkblue\", label=\"Energy Winter\")\n",
    "    sns.lineplot(data=tracks_albums_spring_2000_year_mean_energy[\"energy\"],\n",
    "                 color=\"lightgreen\", label=\"Energy Spring\")\n",
    "    return sns.lineplot(data=tracks_albums_autumn_2000_year_mean_energy[\"energy\"], \n",
    "                        color=\"coral\", label=\"Energy Autumn\")\n",
    "\n",
    "std_plot(energy_seasons_00_10_categorical, title='Energy Seasons 2000-2010')\n",
    "export_line_viz([tracks_albums_total_2000_mean_valence, \n",
    "                 tracks_albums_summer_2000_year_mean_energy,\n",
    "                 tracks_albums_winter_2000_year_mean_energy, \n",
    "                 tracks_albums_spring_2000_year_mean_energy,\n",
    "                 tracks_albums_autumn_2000_year_mean_energy], \n",
    "                 'energy1')"
   ]
  },
  {
   "cell_type": "markdown",
   "metadata": {},
   "source": [
    "<a id='4.7'></a>\n",
    "### 4.7 Valence 2010-2018"
   ]
  },
  {
   "cell_type": "code",
   "execution_count": null,
   "metadata": {},
   "outputs": [],
   "source": [
    "#summer\n",
    "tracks_albums_summer_2010 = tracks_albums.loc[lambda tracks_albums: (tracks_albums.album_date_released.dt.month >5)\\\n",
    "                 & (tracks_albums.album_date_released.dt.month <9) \\\n",
    "                 & (tracks_albums.album_date_released.dt.year >2009)]\n",
    "tracks_albums_summer_2010 = tracks_albums_summer_2010.copy()\n",
    "tracks_albums_summer_2010['categorical_year'] = pd.cut(tracks_albums_summer_2010['album_date_released'].dt.year, \\\n",
    "                                                       [2010, 2012, 2014, 2016, 2018], \\\n",
    "                                                       labels=[2012, 2014, 2016, 2018])\n",
    "tracks_albums_summer_2010_year = tracks_albums_summer_2010.groupby('categorical_year').mean()\n",
    "\n",
    "#winter\n",
    "tracks_albums_winter_2010 = tracks_albums.loc[lambda tracks_albums: ((tracks_albums.album_date_released.dt.month <3)\\\n",
    "                 | (tracks_albums.album_date_released.dt.month >11)) \\\n",
    "                 & (tracks_albums.album_date_released.dt.year >2009)]\n",
    "tracks_albums_winter_2010 = tracks_albums_winter_2010.copy()\n",
    "tracks_albums_winter_2010['categorical_year'] = pd.cut(tracks_albums_winter_2010['album_date_released'].dt.year, \\\n",
    "                                                       [2010, 2012, 2014, 2016, 2018], \\\n",
    "                                                       labels=[2012, 2014, 2016, 2018])\n",
    "tracks_albums_winter_2010_year = tracks_albums_winter_2010.groupby('categorical_year').mean()\n",
    "\n",
    "#spring\n",
    "tracks_albums_spring_2010 = tracks_albums.loc[lambda tracks_albums: (tracks_albums.album_date_released.dt.month >2)\\\n",
    "                 & (tracks_albums.album_date_released.dt.month <6) \\\n",
    "                 & (tracks_albums.album_date_released.dt.year >2009)]\n",
    "tracks_albums_spring_2010 = tracks_albums_spring_2010.copy()\n",
    "tracks_albums_spring_2010['categorical_year'] = pd.cut(tracks_albums_spring_2010['album_date_released'].dt.year, \\\n",
    "                                                       [2010, 2012, 2014, 2016, 2018], \\\n",
    "                                                       labels=[2012, 2014, 2016, 2018])\n",
    "tracks_albums_spring_2010_year = tracks_albums_spring_2010.groupby('categorical_year').mean()\n",
    "\n",
    "#autumn\n",
    "tracks_albums_autumn_2010 = tracks_albums.loc[lambda tracks_albums: (tracks_albums.album_date_released.dt.month >8)\\\n",
    "                 & (tracks_albums.album_date_released.dt.month <12) \\\n",
    "                 & (tracks_albums.album_date_released.dt.year >2009)]\n",
    "tracks_albums_autumn_2010 = tracks_albums_autumn_2010.copy()\n",
    "tracks_albums_autumn_2010['categorical_year'] = pd.cut(tracks_albums_autumn_2010['album_date_released'].dt.year, \\\n",
    "                                                       [2010, 2012, 2014, 2016, 2018], \\\n",
    "                                                       labels=[2012, 2014, 2016, 2018])\n",
    "tracks_albums_autumn_2010_year = tracks_albums_autumn_2010.groupby('categorical_year').mean()\n",
    "#total\n",
    "tracks_albums_total_2010 = tracks_albums.loc[lambda tracks_albums:(tracks_albums.album_date_released.dt.year >2009)\\\n",
    "                 & (tracks_albums.album_date_released.dt.year <2019)]\n",
    "tracks_albums_total_2010 = tracks_albums_total_2010.copy()\n",
    "tracks_albums_total_2010['categorical_year'] = pd.cut(tracks_albums_total_2010['album_date_released'].dt.year, \\\n",
    "                                                       [2010, 2012, 2014, 2016, 2018], \\\n",
    "                                                       labels=[2012, 2014, 2016, 2018])\n",
    "tracks_albums_total_2010_year = tracks_albums_total_2010.groupby('categorical_year').mean()\n"
   ]
  },
  {
   "cell_type": "code",
   "execution_count": null,
   "metadata": {},
   "outputs": [],
   "source": [
    "#summer\n",
    "tracks_albums_summer_2010_year_mean = tracks_albums_summer_2010_year.groupby('categorical_year').mean()\n",
    "tracks_albums_summer_2010_year_mean_valence = tracks_albums_summer_2010_year_mean[['valence']]\n",
    "\n",
    "#winter\n",
    "tracks_albums_winter_2010_year_mean = tracks_albums_winter_2010_year.groupby('categorical_year').mean()\n",
    "tracks_albums_winter_2010_year_mean_valence = tracks_albums_winter_2010_year_mean[['valence']]\n",
    "\n",
    "#spring\n",
    "tracks_albums_spring_2010_year_mean = tracks_albums_spring_2010_year.groupby('categorical_year').mean()\n",
    "tracks_albums_spring_2010_year_mean_valence = tracks_albums_spring_2010_year_mean[['valence']]\n",
    "\n",
    "#autumn\n",
    "tracks_albums_autumn_2010_year_mean = tracks_albums_autumn_2010_year.groupby('categorical_year').mean()\n",
    "tracks_albums_autumn_2010_year_mean_valence = tracks_albums_autumn_2010_year_mean[['valence']]\n",
    "\n",
    "#total\n",
    "tracks_albums_total_2010_mean = tracks_albums_total_2010_year.groupby('categorical_year').mean()\n",
    "tracks_albums_total_2010_mean_valence = tracks_albums_total_2010_mean[['valence']]\n",
    "\n",
    "def valence_seasons_10_18_categorical():\n",
    "    plt.grid()\n",
    "    plt.ylim(0.35, 0.55)\n",
    "    sns.lineplot(data=tracks_albums_total_2010_mean_valence[\"valence\"], \n",
    "                 color=\"black\", label=\"Valence Total\", linewidth=5)\n",
    "    sns.lineplot(data=tracks_albums_summer_2010_year_mean_valence[\"valence\"],\n",
    "                 color=\"red\", label=\"Valence Summer\")\n",
    "    sns.lineplot(data=tracks_albums_winter_2010_year_mean_valence[\"valence\"], \n",
    "                 color=\"darkblue\", label=\"Valence Winter\")\n",
    "    sns.lineplot(data=tracks_albums_spring_2010_year_mean_valence[\"valence\"], \n",
    "                 color=\"lightgreen\", label=\"Valence Spring\")\n",
    "    return sns.lineplot(data=tracks_albums_autumn_2010_year_mean_valence[\"valence\"], \n",
    "                        color=\"coral\", label=\"Valence Autumn\")\n",
    "\n",
    "std_plot(valence_seasons_10_18_categorical, title='Valence Seasons 2010-2018')\n",
    "export_line_viz([tracks_albums_total_2010_mean_valence, \n",
    "                 tracks_albums_summer_2010_year_mean_valence,\n",
    "                 tracks_albums_winter_2010_year_mean_valence, \n",
    "                 tracks_albums_spring_2010_year_mean_valence,\n",
    "                 tracks_albums_autumn_2010_year_mean_valence], \n",
    "                 'valence2')\n"
   ]
  },
  {
   "cell_type": "markdown",
   "metadata": {},
   "source": [
    "<a id='4.8'></a>\n",
    "### 4.8 Danceability 2010-2018"
   ]
  },
  {
   "cell_type": "code",
   "execution_count": null,
   "metadata": {},
   "outputs": [],
   "source": [
    "#summer\n",
    "tracks_albums_summer_2010_year_mean = tracks_albums_summer_2010_year.groupby('categorical_year').mean()\n",
    "tracks_albums_summer_2010_year_mean_danceability= tracks_albums_summer_2010_year_mean[['danceability']]\n",
    "\n",
    "#winter\n",
    "tracks_albums_winter_2010_year_mean = tracks_albums_winter_2010_year.groupby('categorical_year').mean()\n",
    "tracks_albums_winter_2010_year_mean_danceability = tracks_albums_winter_2010_year_mean[['danceability']]\n",
    "\n",
    "#spring\n",
    "tracks_albums_spring_2010_year_mean = tracks_albums_spring_2010_year.groupby('categorical_year').mean()\n",
    "tracks_albums_spring_2010_year_mean_danceability = tracks_albums_spring_2010_year_mean[['danceability']]\n",
    "\n",
    "#autumn\n",
    "tracks_albums_autumn_2010_year_mean = tracks_albums_autumn_2010_year.groupby('categorical_year').mean()\n",
    "tracks_albums_autumn_2010_year_mean_danceability = tracks_albums_autumn_2010_year_mean[['danceability']]\n",
    "\n",
    "#total\n",
    "tracks_albums_total_2010_mean = tracks_albums_total_2010_year.groupby('categorical_year').mean()\n",
    "tracks_albums_total_2010_mean_valence = tracks_albums_total_2010_mean[['danceability']]\n",
    "\n",
    "def danceability_seasons_10_18_categorical():\n",
    "    plt.grid()\n",
    "    plt.ylim(0.3, 0.6)\n",
    "    sns.lineplot(data=tracks_albums_total_2010_mean_valence[\"danceability\"], \n",
    "                 color=\"black\", label=\"Danceability Total\", linewidth=5)\n",
    "    sns.lineplot(data=tracks_albums_summer_2010_year_mean_danceability[\"danceability\"],\n",
    "                 color=\"red\", label=\"Danceability Summer\")\n",
    "    sns.lineplot(data=tracks_albums_winter_2010_year_mean_danceability[\"danceability\"],\n",
    "                 color=\"darkblue\", label=\"Danceability Winter\")\n",
    "    sns.lineplot(data=tracks_albums_spring_2010_year_mean_danceability[\"danceability\"],\n",
    "                 color=\"lightgreen\", label=\"Danceability Spring\")\n",
    "    return sns.lineplot(data=tracks_albums_autumn_2010_year_mean_danceability[\"danceability\"],\n",
    "                        color=\"coral\", label=\"Danceability Autumn\")\n",
    "\n",
    "std_plot(danceability_seasons_10_18_categorical, title='Danceability Seasons 2010-2018')\n",
    "export_line_viz([tracks_albums_total_2010_mean_valence, \n",
    "                 tracks_albums_summer_2010_year_mean_danceability,\n",
    "                 tracks_albums_winter_2010_year_mean_danceability, \n",
    "                 tracks_albums_spring_2010_year_mean_danceability,\n",
    "                 tracks_albums_autumn_2010_year_mean_danceability], \n",
    "                 'danceability2')\n"
   ]
  },
  {
   "cell_type": "markdown",
   "metadata": {},
   "source": [
    "The previous plot shows the increase of the evolution of the danceability of the tracks, as we can observe there is a clear increase of the danceability, the season where the danceability is higher is winter."
   ]
  },
  {
   "cell_type": "markdown",
   "metadata": {},
   "source": [
    "<a id='4.9'></a>\n",
    "### 4.9 Energy 2010-2018"
   ]
  },
  {
   "cell_type": "code",
   "execution_count": null,
   "metadata": {},
   "outputs": [],
   "source": [
    "#summer\n",
    "tracks_albums_summer_2010_year_mean = tracks_albums_summer_2010_year.groupby('categorical_year').mean()\n",
    "tracks_albums_summer_2010_year_mean_energy = tracks_albums_summer_2010_year_mean[['energy']]\n",
    "\n",
    "#winter\n",
    "tracks_albums_winter_2010_year_mean = tracks_albums_winter_2010_year.groupby('categorical_year').mean()\n",
    "tracks_albums_winter_2010_year_mean_energy = tracks_albums_winter_2010_year_mean[['energy']]\n",
    "\n",
    "#spring\n",
    "tracks_albums_spring_2010_year_mean = tracks_albums_spring_2010_year.groupby('categorical_year').mean()\n",
    "tracks_albums_spring_2010_year_mean_energy = tracks_albums_spring_2010_year_mean[['energy']]\n",
    "\n",
    "#autumn\n",
    "tracks_albums_autumn_2010_year_mean = tracks_albums_autumn_2010_year.groupby('categorical_year').mean()\n",
    "tracks_albums_autumn_2010_year_mean_energy = tracks_albums_autumn_2010_year_mean[['energy']]\n",
    "\n",
    "#total\n",
    "tracks_albums_total_2010_mean = tracks_albums_total_2010_year.groupby('categorical_year').mean()\n",
    "tracks_albums_total_2010_mean_valence = tracks_albums_total_2010_mean[['energy']]\n",
    "\n",
    "def energy_seasons_10_18_categorical():\n",
    "    plt.grid()\n",
    "    plt.ylim(0.35, 0.72)\n",
    "    sns.lineplot(data=tracks_albums_total_2010_mean_valence[\"energy\"], \n",
    "                 color=\"black\", label=\"Energy Total\", linewidth=5)\n",
    "    sns.lineplot(data=tracks_albums_summer_2010_year_mean_energy[\"energy\"], \n",
    "                 color=\"red\", label=\"Energy Summer\")\n",
    "    sns.lineplot(data=tracks_albums_winter_2010_year_mean_energy[\"energy\"],\n",
    "                 color=\"darkblue\", label=\"Energy Winter\")\n",
    "    sns.lineplot(data=tracks_albums_spring_2010_year_mean_energy[\"energy\"],\n",
    "                 color=\"lightgreen\", label=\"Energy Spring\")\n",
    "    return sns.lineplot(data=tracks_albums_autumn_2010_year_mean_energy[\"energy\"],\n",
    "                        color=\"coral\", label=\"Energy Autumn\")\n",
    "\n",
    "std_plot(energy_seasons_10_18_categorical, title='Energy Seasons 2010-2018')\n",
    "export_line_viz([tracks_albums_total_2010_mean_valence, \n",
    "                 tracks_albums_summer_2010_year_mean_energy,\n",
    "                 tracks_albums_winter_2010_year_mean_energy, \n",
    "                 tracks_albums_spring_2010_year_mean_energy,\n",
    "                 tracks_albums_autumn_2010_year_mean_energy], \n",
    "                 'energy2')\n"
   ]
  },
  {
   "cell_type": "code",
   "execution_count": null,
   "metadata": {},
   "outputs": [],
   "source": []
  }
 ],
 "metadata": {
  "kernelspec": {
   "display_name": "Python [default]",
   "language": "python",
   "name": "python3"
  },
  "language_info": {
   "codemirror_mode": {
    "name": "ipython",
    "version": 3
   },
   "file_extension": ".py",
   "mimetype": "text/x-python",
   "name": "python",
   "nbconvert_exporter": "python",
   "pygments_lexer": "ipython3",
   "version": "3.6.7"
  }
 },
 "nbformat": 4,
 "nbformat_minor": 1
}
