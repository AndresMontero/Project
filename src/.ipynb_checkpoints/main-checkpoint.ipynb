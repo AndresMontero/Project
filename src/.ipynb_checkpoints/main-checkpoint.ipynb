{
 "cells": [
  {
   "cell_type": "markdown",
   "metadata": {},
   "source": [
    "# ADA 2018 -  Music, from 90's to Milenials\n",
    "\n",
    "#### Andres Montero, Ariel Alba, Diego Iriarte\n",
    "\n",
    "\n"
   ]
  },
  {
   "cell_type": "markdown",
   "metadata": {},
   "source": [
    "Have you ever wondered how did music evolve in the last years? Today with the explosion of the internet, music Services as Apple Music, Spotify, Tidal and other apps and platforms; it has become easier to obtain and share music. This project aims to find the evolution of music since 1990's, evaluate the key features of the tracks, such as energy, valence and danceability. We want to show how and what was the most popular genre in the last years, the most popular song, the most important artist and what were the trends of the key features of this hits.\n",
    "\n",
    "For this purpose, we'll work with two datasets:\n",
    "\n",
    "* FMA: A Dataset For Music Analysis\n",
    "* Our crawled dataset created using Spotify and LastFM API\n",
    "\n"
   ]
  },
  {
   "cell_type": "code",
   "execution_count": 11,
   "metadata": {},
   "outputs": [
    {
     "name": "stdout",
     "output_type": "stream",
     "text": [
      "The autoreload extension is already loaded. To reload it, use:\n",
      "  %reload_ext autoreload\n"
     ]
    }
   ],
   "source": [
    "% matplotlib inline\n",
    "import pandas as pd\n",
    "import numpy as np\n",
    "import matplotlib.pyplot as plt\n",
    "import reverse_geocoder as rg\n",
    "import os.path\n",
    "import ast\n",
    "import seaborn as sns\n",
    "import os\n",
    "import sys\n",
    "import matplotlib\n",
    "import urllib, base64\n",
    "\n",
    "try:\n",
    "    from StringIO import StringIO\n",
    "except ImportError:\n",
    "    from io import StringIO\n",
    "\n",
    "from helpers import *\n",
    "from datetime import datetime, date, time\n",
    "from scipy import stats\n",
    "\n",
    "%load_ext autoreload\n",
    "%autoreload 2\n"
   ]
  },
  {
   "cell_type": "code",
   "execution_count": 12,
   "metadata": {},
   "outputs": [],
   "source": [
    "# Constants\n",
    "DATA_DIR = '../data/'\n",
    "MUSIC_DIR = '{dir}{file}/'.format(dir=DATA_DIR, \n",
    "                                  file='fma_metadata')\n",
    "PKL_DIR = '{dir}{file}/'.format(dir=DATA_DIR, \n",
    "                               file='pkl')\n",
    "DEBUG = True\n"
   ]
  },
  {
   "cell_type": "code",
   "execution_count": 13,
   "metadata": {},
   "outputs": [],
   "source": [
    "# Read  and wirte files depending on the existance of own path\n",
    "genres_df_path = '{dir}{file}'.format(dir=PKL_DIR, \n",
    "                                     file='genres_df.pkl')\n",
    "albums_df_path = '{dir}{file}'.format(dir=PKL_DIR, \n",
    "                                     file='albums_df.pkl')\n",
    "artists_df_path = '{dir}{file}'.format(dir=PKL_DIR, \n",
    "                                     file='artists_df.pkl')\n",
    "tracks_df_path = '{dir}{file}'.format(dir=PKL_DIR, \n",
    "                                      file='tracks_df.pkl')\n",
    "track_genre_rel_df_path = '{dir}{file}'.format(dir=PKL_DIR, \n",
    "                                               file='track_genre_rel_df.pkl')\n",
    "if os.path.exists(genres_df_path):\n",
    "    genres_df = pd.read_pickle(genres_df_path)\n",
    "else:\n",
    "    print('There is no genres pandas data')\n",
    "    \n",
    "if os.path.exists(albums_df_path):\n",
    "    albums_df = pd.read_pickle(albums_df_path)\n",
    "else:\n",
    "    print('There is no albums pandas data')\n",
    "    \n",
    "if os.path.exists(artists_df_path):\n",
    "    artists_df = pd.read_pickle(artists_df_path)\n",
    "else:\n",
    "    print('There is no artists pandas data')\n",
    "    \n",
    "if os.path.exists(tracks_df_path):\n",
    "    tracks_df = pd.read_pickle(tracks_df_path)\n",
    "else:\n",
    "    print('There is no tracks pandas data')\n",
    "    \n",
    "if os.path.exists(track_genre_rel_df_path):\n",
    "    track_genre_rel_df = pd.read_pickle(track_genre_rel_df_path)\n",
    "else:\n",
    "    print('There is no tracks-genres pandas data')\n",
    "    "
   ]
  },
  {
   "cell_type": "code",
   "execution_count": 14,
   "metadata": {},
   "outputs": [
    {
     "name": "stdout",
     "output_type": "stream",
     "text": [
      "Genres size: 163\n",
      "\n",
      "NaN count by column:\n",
      "genre_id     0\n",
      "#tracks      0\n",
      "parent       0\n",
      "title        0\n",
      "top_level    0\n",
      "dtype: int64\n"
     ]
    },
    {
     "data": {
      "text/html": [
       "<div>\n",
       "<style scoped>\n",
       "    .dataframe tbody tr th:only-of-type {\n",
       "        vertical-align: middle;\n",
       "    }\n",
       "\n",
       "    .dataframe tbody tr th {\n",
       "        vertical-align: top;\n",
       "    }\n",
       "\n",
       "    .dataframe thead th {\n",
       "        text-align: right;\n",
       "    }\n",
       "</style>\n",
       "<table border=\"1\" class=\"dataframe\">\n",
       "  <thead>\n",
       "    <tr style=\"text-align: right;\">\n",
       "      <th></th>\n",
       "      <th>genre_id</th>\n",
       "      <th>#tracks</th>\n",
       "      <th>parent</th>\n",
       "      <th>title</th>\n",
       "      <th>top_level</th>\n",
       "    </tr>\n",
       "  </thead>\n",
       "  <tbody>\n",
       "    <tr>\n",
       "      <th>0</th>\n",
       "      <td>1</td>\n",
       "      <td>8693</td>\n",
       "      <td>38</td>\n",
       "      <td>Avant-Garde</td>\n",
       "      <td>38</td>\n",
       "    </tr>\n",
       "    <tr>\n",
       "      <th>1</th>\n",
       "      <td>2</td>\n",
       "      <td>5271</td>\n",
       "      <td>0</td>\n",
       "      <td>International</td>\n",
       "      <td>2</td>\n",
       "    </tr>\n",
       "    <tr>\n",
       "      <th>2</th>\n",
       "      <td>3</td>\n",
       "      <td>1752</td>\n",
       "      <td>0</td>\n",
       "      <td>Blues</td>\n",
       "      <td>3</td>\n",
       "    </tr>\n",
       "    <tr>\n",
       "      <th>3</th>\n",
       "      <td>4</td>\n",
       "      <td>4126</td>\n",
       "      <td>0</td>\n",
       "      <td>Jazz</td>\n",
       "      <td>4</td>\n",
       "    </tr>\n",
       "    <tr>\n",
       "      <th>4</th>\n",
       "      <td>5</td>\n",
       "      <td>4106</td>\n",
       "      <td>0</td>\n",
       "      <td>Classical</td>\n",
       "      <td>5</td>\n",
       "    </tr>\n",
       "  </tbody>\n",
       "</table>\n",
       "</div>"
      ],
      "text/plain": [
       "   genre_id  #tracks  parent          title  top_level\n",
       "0         1     8693      38    Avant-Garde         38\n",
       "1         2     5271       0  International          2\n",
       "2         3     1752       0          Blues          3\n",
       "3         4     4126       0           Jazz          4\n",
       "4         5     4106       0      Classical          5"
      ]
     },
     "metadata": {},
     "output_type": "display_data"
    },
    {
     "name": "stdout",
     "output_type": "stream",
     "text": [
      "Artists size: 19819\n",
      "\n",
      "NaN count by column:\n",
      "artist_id               0\n",
      "artist_discovery    16943\n",
      "city                15983\n",
      "state               15983\n",
      "country             15983\n",
      "artist_family       16943\n",
      "artist_hotness      13465\n",
      "artist_latitude     15983\n",
      "artist_longitude    15983\n",
      "artist_name             0\n",
      "dtype: int64\n"
     ]
    },
    {
     "data": {
      "text/html": [
       "<div>\n",
       "<style scoped>\n",
       "    .dataframe tbody tr th:only-of-type {\n",
       "        vertical-align: middle;\n",
       "    }\n",
       "\n",
       "    .dataframe tbody tr th {\n",
       "        vertical-align: top;\n",
       "    }\n",
       "\n",
       "    .dataframe thead th {\n",
       "        text-align: right;\n",
       "    }\n",
       "</style>\n",
       "<table border=\"1\" class=\"dataframe\">\n",
       "  <thead>\n",
       "    <tr style=\"text-align: right;\">\n",
       "      <th></th>\n",
       "      <th>artist_id</th>\n",
       "      <th>artist_discovery</th>\n",
       "      <th>city</th>\n",
       "      <th>state</th>\n",
       "      <th>country</th>\n",
       "      <th>artist_family</th>\n",
       "      <th>artist_hotness</th>\n",
       "      <th>artist_latitude</th>\n",
       "      <th>artist_longitude</th>\n",
       "      <th>artist_name</th>\n",
       "    </tr>\n",
       "  </thead>\n",
       "  <tbody>\n",
       "    <tr>\n",
       "      <th>0</th>\n",
       "      <td>1</td>\n",
       "      <td>0.388990</td>\n",
       "      <td>Lakehurst</td>\n",
       "      <td>New Jersey</td>\n",
       "      <td>US</td>\n",
       "      <td>0.38674</td>\n",
       "      <td>0.40637</td>\n",
       "      <td>40.0583</td>\n",
       "      <td>-74.4057</td>\n",
       "      <td>AWOL</td>\n",
       "    </tr>\n",
       "    <tr>\n",
       "      <th>1</th>\n",
       "      <td>6</td>\n",
       "      <td>0.557339</td>\n",
       "      <td>NaN</td>\n",
       "      <td>NaN</td>\n",
       "      <td>NaN</td>\n",
       "      <td>0.614272</td>\n",
       "      <td>0.798387</td>\n",
       "      <td>NaN</td>\n",
       "      <td>NaN</td>\n",
       "      <td>Kurt Vile</td>\n",
       "    </tr>\n",
       "    <tr>\n",
       "      <th>2</th>\n",
       "      <td>54</td>\n",
       "      <td>0.388923</td>\n",
       "      <td>Providence</td>\n",
       "      <td>Rhode Island</td>\n",
       "      <td>US</td>\n",
       "      <td>0.330784</td>\n",
       "      <td>0.4063</td>\n",
       "      <td>41.824</td>\n",
       "      <td>-71.4128</td>\n",
       "      <td>Alec K. Redfearn &amp; the Eyesores</td>\n",
       "    </tr>\n",
       "    <tr>\n",
       "      <th>3</th>\n",
       "      <td>56</td>\n",
       "      <td>0.252381</td>\n",
       "      <td>Providence</td>\n",
       "      <td>Rhode Island</td>\n",
       "      <td>US</td>\n",
       "      <td>0.238153</td>\n",
       "      <td>0.263657</td>\n",
       "      <td>41.824</td>\n",
       "      <td>-71.4128</td>\n",
       "      <td>Amoebic Ensemble</td>\n",
       "    </tr>\n",
       "    <tr>\n",
       "      <th>4</th>\n",
       "      <td>60</td>\n",
       "      <td>0.262717</td>\n",
       "      <td>Philadelphia</td>\n",
       "      <td>Pennsylvania</td>\n",
       "      <td>US</td>\n",
       "      <td>0.173315</td>\n",
       "      <td>0.274455</td>\n",
       "      <td>39.9523</td>\n",
       "      <td>-75.1638</td>\n",
       "      <td>Arc and Sender</td>\n",
       "    </tr>\n",
       "  </tbody>\n",
       "</table>\n",
       "</div>"
      ],
      "text/plain": [
       "  artist_id  artist_discovery          city         state country  \\\n",
       "0         1          0.388990     Lakehurst    New Jersey      US   \n",
       "1         6          0.557339           NaN           NaN     NaN   \n",
       "2        54          0.388923    Providence  Rhode Island      US   \n",
       "3        56          0.252381    Providence  Rhode Island      US   \n",
       "4        60          0.262717  Philadelphia  Pennsylvania      US   \n",
       "\n",
       "  artist_family artist_hotness artist_latitude artist_longitude  \\\n",
       "0       0.38674        0.40637         40.0583         -74.4057   \n",
       "1      0.614272       0.798387             NaN              NaN   \n",
       "2      0.330784         0.4063          41.824         -71.4128   \n",
       "3      0.238153       0.263657          41.824         -71.4128   \n",
       "4      0.173315       0.274455         39.9523         -75.1638   \n",
       "\n",
       "                       artist_name  \n",
       "0                             AWOL  \n",
       "1                        Kurt Vile  \n",
       "2  Alec K. Redfearn & the Eyesores  \n",
       "3                 Amoebic Ensemble  \n",
       "4                   Arc and Sender  "
      ]
     },
     "metadata": {},
     "output_type": "display_data"
    },
    {
     "name": "stdout",
     "output_type": "stream",
     "text": [
      "Albums size: 17426\n",
      "\n",
      "NaN count by column:\n",
      "album_id                  0\n",
      "album_date_created     3031\n",
      "album_date_released    5404\n",
      "album_title               1\n",
      "album_listens            15\n",
      "dtype: int64\n"
     ]
    },
    {
     "data": {
      "text/html": [
       "<div>\n",
       "<style scoped>\n",
       "    .dataframe tbody tr th:only-of-type {\n",
       "        vertical-align: middle;\n",
       "    }\n",
       "\n",
       "    .dataframe tbody tr th {\n",
       "        vertical-align: top;\n",
       "    }\n",
       "\n",
       "    .dataframe thead th {\n",
       "        text-align: right;\n",
       "    }\n",
       "</style>\n",
       "<table border=\"1\" class=\"dataframe\">\n",
       "  <thead>\n",
       "    <tr style=\"text-align: right;\">\n",
       "      <th></th>\n",
       "      <th>album_id</th>\n",
       "      <th>album_date_created</th>\n",
       "      <th>album_date_released</th>\n",
       "      <th>album_title</th>\n",
       "      <th>album_listens</th>\n",
       "    </tr>\n",
       "  </thead>\n",
       "  <tbody>\n",
       "    <tr>\n",
       "      <th>0</th>\n",
       "      <td>1</td>\n",
       "      <td>2008-11-26 01:44:45</td>\n",
       "      <td>2009-01-05</td>\n",
       "      <td>AWOL - A Way Of Life</td>\n",
       "      <td>6073.0</td>\n",
       "    </tr>\n",
       "    <tr>\n",
       "      <th>1</th>\n",
       "      <td>6</td>\n",
       "      <td>2008-11-26 01:45:08</td>\n",
       "      <td>2008-02-06</td>\n",
       "      <td>Constant Hitmaker</td>\n",
       "      <td>47632.0</td>\n",
       "    </tr>\n",
       "    <tr>\n",
       "      <th>2</th>\n",
       "      <td>60</td>\n",
       "      <td>2008-11-26 01:49:57</td>\n",
       "      <td>2009-01-16</td>\n",
       "      <td>Every Man For Himself</td>\n",
       "      <td>1304.0</td>\n",
       "    </tr>\n",
       "    <tr>\n",
       "      <th>3</th>\n",
       "      <td>61</td>\n",
       "      <td>2008-11-26 01:49:59</td>\n",
       "      <td>2007-05-22</td>\n",
       "      <td>The Blind Spot</td>\n",
       "      <td>1300.0</td>\n",
       "    </tr>\n",
       "    <tr>\n",
       "      <th>4</th>\n",
       "      <td>62</td>\n",
       "      <td>2008-11-26 01:50:03</td>\n",
       "      <td>2005-01-25</td>\n",
       "      <td>The Quiet Room</td>\n",
       "      <td>845.0</td>\n",
       "    </tr>\n",
       "  </tbody>\n",
       "</table>\n",
       "</div>"
      ],
      "text/plain": [
       "  album_id   album_date_created album_date_released            album_title  \\\n",
       "0        1  2008-11-26 01:44:45          2009-01-05   AWOL - A Way Of Life   \n",
       "1        6  2008-11-26 01:45:08          2008-02-06      Constant Hitmaker   \n",
       "2       60  2008-11-26 01:49:57          2009-01-16  Every Man For Himself   \n",
       "3       61  2008-11-26 01:49:59          2007-05-22         The Blind Spot   \n",
       "4       62  2008-11-26 01:50:03          2005-01-25         The Quiet Room   \n",
       "\n",
       "   album_listens  \n",
       "0         6073.0  \n",
       "1        47632.0  \n",
       "2         1304.0  \n",
       "3         1300.0  \n",
       "4          845.0  "
      ]
     },
     "metadata": {},
     "output_type": "display_data"
    },
    {
     "name": "stdout",
     "output_type": "stream",
     "text": [
      "Tracks size: 214696\n",
      "\n",
      "NaN count by column:\n",
      "track_id               0\n",
      "track_title            1\n",
      "track_duration         0\n",
      "artist_id              0\n",
      "album_id               0\n",
      "track_language    199672\n",
      "track_listens      12266\n",
      "track_tags             0\n",
      "danceability       93445\n",
      "energy             93445\n",
      "valence            93445\n",
      "song_currency     201567\n",
      "song_hotness       93445\n",
      "dtype: int64\n"
     ]
    },
    {
     "data": {
      "text/html": [
       "<div>\n",
       "<style scoped>\n",
       "    .dataframe tbody tr th:only-of-type {\n",
       "        vertical-align: middle;\n",
       "    }\n",
       "\n",
       "    .dataframe tbody tr th {\n",
       "        vertical-align: top;\n",
       "    }\n",
       "\n",
       "    .dataframe thead th {\n",
       "        text-align: right;\n",
       "    }\n",
       "</style>\n",
       "<table border=\"1\" class=\"dataframe\">\n",
       "  <thead>\n",
       "    <tr style=\"text-align: right;\">\n",
       "      <th></th>\n",
       "      <th>track_id</th>\n",
       "      <th>track_title</th>\n",
       "      <th>track_duration</th>\n",
       "      <th>artist_id</th>\n",
       "      <th>album_id</th>\n",
       "      <th>track_language</th>\n",
       "      <th>track_listens</th>\n",
       "      <th>track_tags</th>\n",
       "      <th>danceability</th>\n",
       "      <th>energy</th>\n",
       "      <th>valence</th>\n",
       "      <th>song_currency</th>\n",
       "      <th>song_hotness</th>\n",
       "    </tr>\n",
       "  </thead>\n",
       "  <tbody>\n",
       "    <tr>\n",
       "      <th>0</th>\n",
       "      <td>2</td>\n",
       "      <td>Food</td>\n",
       "      <td>168.0</td>\n",
       "      <td>1</td>\n",
       "      <td>1</td>\n",
       "      <td>en</td>\n",
       "      <td>1293.0</td>\n",
       "      <td>[]</td>\n",
       "      <td>0.675894</td>\n",
       "      <td>0.634476</td>\n",
       "      <td>0.576661</td>\n",
       "      <td>0.000000</td>\n",
       "      <td>0.000000</td>\n",
       "    </tr>\n",
       "    <tr>\n",
       "      <th>1</th>\n",
       "      <td>3</td>\n",
       "      <td>Electric Ave</td>\n",
       "      <td>237.0</td>\n",
       "      <td>1</td>\n",
       "      <td>1</td>\n",
       "      <td>en</td>\n",
       "      <td>514.0</td>\n",
       "      <td>[]</td>\n",
       "      <td>0.528643</td>\n",
       "      <td>0.817461</td>\n",
       "      <td>0.269240</td>\n",
       "      <td>0.000000</td>\n",
       "      <td>0.000000</td>\n",
       "    </tr>\n",
       "    <tr>\n",
       "      <th>2</th>\n",
       "      <td>5</td>\n",
       "      <td>This World</td>\n",
       "      <td>206.0</td>\n",
       "      <td>1</td>\n",
       "      <td>1</td>\n",
       "      <td>en</td>\n",
       "      <td>1151.0</td>\n",
       "      <td>[]</td>\n",
       "      <td>0.745566</td>\n",
       "      <td>0.701470</td>\n",
       "      <td>0.621661</td>\n",
       "      <td>0.000000</td>\n",
       "      <td>0.000000</td>\n",
       "    </tr>\n",
       "    <tr>\n",
       "      <th>3</th>\n",
       "      <td>10</td>\n",
       "      <td>Freeway</td>\n",
       "      <td>161.0</td>\n",
       "      <td>6</td>\n",
       "      <td>6</td>\n",
       "      <td>en</td>\n",
       "      <td>50135.0</td>\n",
       "      <td>[]</td>\n",
       "      <td>0.658179</td>\n",
       "      <td>0.924525</td>\n",
       "      <td>0.963590</td>\n",
       "      <td>0.005158</td>\n",
       "      <td>0.354516</td>\n",
       "    </tr>\n",
       "    <tr>\n",
       "      <th>4</th>\n",
       "      <td>134</td>\n",
       "      <td>Street Music</td>\n",
       "      <td>207.0</td>\n",
       "      <td>1</td>\n",
       "      <td>1</td>\n",
       "      <td>en</td>\n",
       "      <td>943.0</td>\n",
       "      <td>[]</td>\n",
       "      <td>0.513238</td>\n",
       "      <td>0.560410</td>\n",
       "      <td>0.894072</td>\n",
       "      <td>0.000000</td>\n",
       "      <td>0.000000</td>\n",
       "    </tr>\n",
       "  </tbody>\n",
       "</table>\n",
       "</div>"
      ],
      "text/plain": [
       "  track_id   track_title  track_duration artist_id album_id track_language  \\\n",
       "0        2          Food           168.0         1        1             en   \n",
       "1        3  Electric Ave           237.0         1        1             en   \n",
       "2        5    This World           206.0         1        1             en   \n",
       "3       10       Freeway           161.0         6        6             en   \n",
       "4      134  Street Music           207.0         1        1             en   \n",
       "\n",
       "   track_listens track_tags  danceability    energy   valence  song_currency  \\\n",
       "0         1293.0         []      0.675894  0.634476  0.576661       0.000000   \n",
       "1          514.0         []      0.528643  0.817461  0.269240       0.000000   \n",
       "2         1151.0         []      0.745566  0.701470  0.621661       0.000000   \n",
       "3        50135.0         []      0.658179  0.924525  0.963590       0.005158   \n",
       "4          943.0         []      0.513238  0.560410  0.894072       0.000000   \n",
       "\n",
       "   song_hotness  \n",
       "0      0.000000  \n",
       "1      0.000000  \n",
       "2      0.000000  \n",
       "3      0.354516  \n",
       "4      0.000000  "
      ]
     },
     "metadata": {},
     "output_type": "display_data"
    },
    {
     "name": "stdout",
     "output_type": "stream",
     "text": [
      "Track-Genre size: 271647\n",
      "\n",
      "NaN count by column:\n",
      "track_id    0\n",
      "genre_id    0\n",
      "dtype: int64\n"
     ]
    },
    {
     "data": {
      "text/html": [
       "<div>\n",
       "<style scoped>\n",
       "    .dataframe tbody tr th:only-of-type {\n",
       "        vertical-align: middle;\n",
       "    }\n",
       "\n",
       "    .dataframe tbody tr th {\n",
       "        vertical-align: top;\n",
       "    }\n",
       "\n",
       "    .dataframe thead th {\n",
       "        text-align: right;\n",
       "    }\n",
       "</style>\n",
       "<table border=\"1\" class=\"dataframe\">\n",
       "  <thead>\n",
       "    <tr style=\"text-align: right;\">\n",
       "      <th></th>\n",
       "      <th>track_id</th>\n",
       "      <th>genre_id</th>\n",
       "    </tr>\n",
       "  </thead>\n",
       "  <tbody>\n",
       "    <tr>\n",
       "      <th>0</th>\n",
       "      <td>2</td>\n",
       "      <td>21</td>\n",
       "    </tr>\n",
       "    <tr>\n",
       "      <th>1</th>\n",
       "      <td>3</td>\n",
       "      <td>21</td>\n",
       "    </tr>\n",
       "    <tr>\n",
       "      <th>2</th>\n",
       "      <td>5</td>\n",
       "      <td>21</td>\n",
       "    </tr>\n",
       "    <tr>\n",
       "      <th>3</th>\n",
       "      <td>10</td>\n",
       "      <td>10</td>\n",
       "    </tr>\n",
       "    <tr>\n",
       "      <th>4</th>\n",
       "      <td>20</td>\n",
       "      <td>76</td>\n",
       "    </tr>\n",
       "  </tbody>\n",
       "</table>\n",
       "</div>"
      ],
      "text/plain": [
       "  track_id  genre_id\n",
       "0        2        21\n",
       "1        3        21\n",
       "2        5        21\n",
       "3       10        10\n",
       "4       20        76"
      ]
     },
     "metadata": {},
     "output_type": "display_data"
    }
   ],
   "source": [
    "pretty_print(genres_df, 'Genres', True)\n",
    "pretty_print(artists_df, 'Artists', True)\n",
    "pretty_print(albums_df, 'Albums', True)\n",
    "pretty_print(tracks_df, 'Tracks', True)\n",
    "pretty_print(track_genre_rel_df, 'Track-Genre', True)\n"
   ]
  },
  {
   "cell_type": "code",
   "execution_count": 15,
   "metadata": {},
   "outputs": [
    {
     "data": {
      "image/png": "[encoded data removed]",
      "text/plain": [
       "<Figure size 720x432 with 1 Axes>"
      ]
     },
     "metadata": {
      "needs_background": "light"
     },
     "output_type": "display_data"
    }
   ],
   "source": [
    "album_dist = albums_df.groupby(albums_df['album_date_released'].dt.year).size()\n",
    "\n",
    "def dist_album_year():\n",
    "    album_dist.plot(kind='bar')\n",
    "    plt.grid()\n",
    "    plt.xticks(rotation=90)\n",
    "\n",
    "    return plt.gcf()\n",
    "\n",
    "std_plot(dist_album_year, title='Distribution of Albums per Year',\n",
    "         xlabel='Year')\n"
   ]
  },
  {
   "cell_type": "markdown",
   "metadata": {},
   "source": [
    "In the previous picture we can see the production of albums per year grows exponentialy."
   ]
  },
  {
   "cell_type": "code",
   "execution_count": 16,
   "metadata": {},
   "outputs": [
    {
     "data": {
      "image/png": "[encoded data removed]",
      "text/plain": [
       "<Figure size 720x432 with 1 Axes>"
      ]
     },
     "metadata": {
      "needs_background": "light"
     },
     "output_type": "display_data"
    }
   ],
   "source": [
    "tracks_albums = tracks_df.merge(albums_df)\n",
    "tracks_dist = tracks_albums.groupby(tracks_albums['album_date_released'].dt.year).size()\n",
    "\n",
    "def dist_tracks_year():\n",
    "    ax = tracks_dist.plot(kind='bar')\n",
    "    plt.grid()\n",
    "    plt.xticks(rotation=90)\n",
    "    \n",
    "    return plt.gcf()\n",
    "\n",
    "std_plot(dist_tracks_year, 'Distribution of Tracks per Year',\n",
    "         xlabel='Year')\n"
   ]
  },
  {
   "cell_type": "markdown",
   "metadata": {},
   "source": [
    "And like in the previous picture since the albums grow exponentialy the tracks follow the same pattern."
   ]
  },
  {
   "cell_type": "code",
   "execution_count": null,
   "metadata": {},
   "outputs": [],
   "source": [
    "track_artist = tracks_df.merge(artists_df, left_on='artist_id', \n",
    "                               right_on='artist_id')\n",
    "country_grouped = track_artist.groupby(track_artist['country']).size()\n",
    "country_top10 = country_grouped.sort_values(ascending=False) \\\n",
    "                                     .head(10)\n",
    "\n",
    "def country_track_top10():\n",
    "    country_top10.plot(kind='bar')\n",
    "    plt.ylabel('Number of Tracks')\n",
    "    plt.grid()\n",
    "\n",
    "    return plt.gcf()\n",
    "    \n",
    "std_plot(country_track_top10, 'Top 10 countries that produce tracks',\n",
    "         ylabel='Number of tracks', xlabel='Country')\n"
   ]
  },
  {
   "cell_type": "markdown",
   "metadata": {},
   "source": [
    "We can observe that the top country producing tracks is the US, with a substancial difference comparing 20000 to 5000 with the next country Great Britain."
   ]
  },
  {
   "cell_type": "markdown",
   "metadata": {},
   "source": [
    "#### Top 10 albums"
   ]
  },
  {
   "cell_type": "code",
   "execution_count": null,
   "metadata": {},
   "outputs": [],
   "source": [
    "albums_grouped = albums_df.groupby(albums_df['album_id']) \\\n",
    "                          .first()[['album_title', 'album_listens']]\n",
    "albums_top10 = albums_grouped.sort_values(by='album_listens', \n",
    "                                          ascending=False).head(10)\n",
    "\n",
    "plt.figure(figsize=(10, 7))\n",
    "plt.title(\"Top 10 Albums listened\")\n",
    "plt.grid()\n",
    "ax = sns.barplot(x='album_title', y= 'album_listens',\n",
    "                 data=albums_top10)\n",
    "plt.xticks(rotation=45)\n"
   ]
  },
  {
   "cell_type": "markdown",
   "metadata": {},
   "source": [
    "#### Top 10 Tracks"
   ]
  },
  {
   "cell_type": "code",
   "execution_count": null,
   "metadata": {},
   "outputs": [],
   "source": [
    "tracks_grouped = tracks_df.groupby(tracks_df['track_id']) \\\n",
    "                          .first()[['track_title', 'track_listens']]\n",
    "tracks_top10 = tracks_grouped.sort_values(by='track_listens', \n",
    "                                          ascending=False).head(10)\n",
    "\n",
    "plt.figure(figsize=(7, 5))\n",
    "plt.title(\"Top 10 tracks listened\")\n",
    "plt.grid()\n",
    "ax = sns.barplot(x='track_title', y= 'track_listens',\n",
    "                 data=tracks_top10)\n",
    "plt.xticks(rotation=45)\n"
   ]
  },
  {
   "cell_type": "markdown",
   "metadata": {},
   "source": [
    "#### Relation between danceability and duration of the song"
   ]
  },
  {
   "cell_type": "code",
   "execution_count": null,
   "metadata": {},
   "outputs": [],
   "source": [
    "tracks_df.insert(loc=13, column='track_duration_minutes',\n",
    "                 value=(tracks_df['track_duration'] / 60))\n",
    "\n",
    "tracks_df['track_duration_minutes'] = pd.to_numeric( \\\n",
    "                                            tracks_df['track_duration_minutes'])\n"
   ]
  },
  {
   "cell_type": "code",
   "execution_count": null,
   "metadata": {},
   "outputs": [],
   "source": [
    "tracks_df['track_duration_minutes'] = tracks_df['track_duration_minutes'] \\\n",
    "                                                .apply(lambda x : np.rint(x))\n",
    "sns.regplot(x='danceability', y='track_duration_minutes',\n",
    "            data=tracks_df, ci=95, \n",
    "            line_kws = {'color': 'green'},scatter_kws={'s':0.5})\n"
   ]
  },
  {
   "cell_type": "code",
   "execution_count": null,
   "metadata": {},
   "outputs": [],
   "source": [
    "tracks_df_correlation = tracks_df.dropna()\n",
    "spearman_coeff = stats.spearmanr(tracks_df_correlation['danceability'], \n",
    "                                 tracks_df_correlation['track_duration_minutes'])\n",
    "print('The spearman correlation is: {}'.format(spearman_coeff))\n"
   ]
  },
  {
   "cell_type": "code",
   "execution_count": null,
   "metadata": {},
   "outputs": [],
   "source": [
    "pearson_coeff = stats.pearsonr(tracks_df_correlation['danceability'], \n",
    "                                 tracks_df_correlation['track_duration_minutes'])\n",
    "print('The pearson correlation is: {}'.format(pearson_coeff))"
   ]
  },
  {
   "cell_type": "markdown",
   "metadata": {},
   "source": [
    "###### With the previous results of the Spearman and Pearson coefficients, we conclude that there is no direct strong correlation between the duration of the tracks with the danceability\n"
   ]
  },
  {
   "cell_type": "markdown",
   "metadata": {},
   "source": [
    "## Relation between valence and other variables"
   ]
  },
  {
   "cell_type": "markdown",
   "metadata": {},
   "source": [
    "Valence refers to the degree of positive or negative emotions one perceives from a song. We'll try to find some relations between such varible and others.\n",
    "Relation between track_listens and valence"
   ]
  },
  {
   "cell_type": "code",
   "execution_count": null,
   "metadata": {},
   "outputs": [],
   "source": [
    "sns.regplot(x='valence', y='danceability',\n",
    "            data=tracks_df, ci=95, \n",
    "            line_kws = {'color': 'green'},scatter_kws={'s':0.01})\n"
   ]
  },
  {
   "cell_type": "code",
   "execution_count": null,
   "metadata": {},
   "outputs": [],
   "source": [
    "spearman_coeff = stats.spearmanr(tracks_df_correlation['valence'], \n",
    "                                 tracks_df_correlation['danceability'])\n",
    "print('The spearman correlation is: {}'.format(spearman_coeff))\n"
   ]
  },
  {
   "cell_type": "code",
   "execution_count": null,
   "metadata": {},
   "outputs": [],
   "source": [
    "pearson_coeff = stats.pearsonr(tracks_df_correlation['valence'], \n",
    "                                 tracks_df_correlation['danceability'])\n",
    "print('The pearson correlation is: {}'.format(pearson_coeff))"
   ]
  },
  {
   "cell_type": "markdown",
   "metadata": {},
   "source": [
    "###### With the previous results of the Spearman and Pearson coefficients, we conclude that there is moderate correlation between the valence and the danceability of a track"
   ]
  },
  {
   "cell_type": "code",
   "execution_count": null,
   "metadata": {},
   "outputs": [],
   "source": [
    "sns.regplot(x='valence', y='track_listens',\n",
    "            data=tracks_df, ci=95, \n",
    "            line_kws ={'color': 'green'}, scatter_kws={'s':0.01})\n"
   ]
  },
  {
   "cell_type": "markdown",
   "metadata": {},
   "source": [
    "#### As seen in the plot, it is difficult to find a relationships between the valence of the song and the number of listens."
   ]
  },
  {
   "cell_type": "markdown",
   "metadata": {},
   "source": [
    "## Top tracks/genres"
   ]
  },
  {
   "cell_type": "markdown",
   "metadata": {},
   "source": [
    "Mean value of valence per genre"
   ]
  },
  {
   "cell_type": "code",
   "execution_count": null,
   "metadata": {},
   "outputs": [],
   "source": [
    "track_rel = tracks_df.merge(track_genre_rel_df)\n",
    "track_genre = track_rel.merge(genres_df)\n",
    "genre_valence = track_genre.groupby('title')['valence'].mean()\n",
    "\n",
    "top10_genre_valence = genre_valence.sort_values(ascending=False).head(10)\n",
    "\n",
    "top10_genre_valence.plot(kind='bar', title='Valence per genre')\n"
   ]
  },
  {
   "cell_type": "markdown",
   "metadata": {},
   "source": [
    "We can observe that the genre with the highest valence is country & wester"
   ]
  },
  {
   "cell_type": "code",
   "execution_count": null,
   "metadata": {},
   "outputs": [],
   "source": [
    "track_genre_album = track_genre.merge(albums_df)\n",
    "\n",
    "genre_year = track_genre_album[['title', 'album_date_released']]\n",
    "genre_year.insert(loc=2, column='album_released_year',\n",
    "                  value=(genre_year['album_date_released'].dt.year))\n"
   ]
  },
  {
   "cell_type": "code",
   "execution_count": null,
   "metadata": {},
   "outputs": [],
   "source": [
    "top_genre = genre_year.groupby(genre_year['title']).size()\n",
    "top_genre_sorted = top_genre.sort_values(ascending=False).head(10)\n",
    "top_genre_sorted.plot(kind='bar', title=\"Top 10 Genres with more # of tracks\")\n",
    "plt.grid()\n"
   ]
  },
  {
   "cell_type": "markdown",
   "metadata": {},
   "source": [
    "We can observe that the genre with the highest number of tracks is experimental followed closely by electronic"
   ]
  },
  {
   "cell_type": "code",
   "execution_count": null,
   "metadata": {},
   "outputs": [],
   "source": [
    "# Top Genres with more popularity\n",
    "genre_popularity = track_genre.groupby('title')['song_hotness'].mean()\n",
    "top10_genre_popularity = genre_popularity.sort_values(ascending=False).head(10)\n",
    "top10_genre_popularity.plot(kind='bar', title='Top 10 Genres with more popularity')\n"
   ]
  },
  {
   "cell_type": "markdown",
   "metadata": {},
   "source": [
    "We can observe that the most popular genre is rap"
   ]
  },
  {
   "cell_type": "markdown",
   "metadata": {},
   "source": [
    "# TODO TOP ARTIST THROUGHT YEARS SINCE 2000"
   ]
  },
  {
   "cell_type": "markdown",
   "metadata": {},
   "source": [
    "## Evolution of music Valence/Energy/Danceability"
   ]
  },
  {
   "cell_type": "code",
   "execution_count": null,
   "metadata": {
    "scrolled": true
   },
   "outputs": [],
   "source": [
    "tracks_albums = tracks_df.merge(albums_df, how='inner')\n"
   ]
  },
  {
   "cell_type": "code",
   "execution_count": null,
   "metadata": {},
   "outputs": [],
   "source": [
    "tracks_albums_summer = tracks_albums.loc[lambda tracks_albums: (tracks_albums.album_date_released.dt.month >5)\\\n",
    "                 & (tracks_albums.album_date_released.dt.month <10)]\n"
   ]
  },
  {
   "cell_type": "code",
   "execution_count": null,
   "metadata": {},
   "outputs": [],
   "source": [
    "tracks_albums_summer_year = tracks_albums_summer.groupby([(tracks_albums_summer['album_date_released'].dt.year.rename('year')),\\\n",
    "                          (tracks_albums_summer['album_date_released'].dt.month.rename('month'))]).mean()\n",
    "\n",
    "tracks_albums_summer_year_mean = tracks_albums_summer_year.groupby('year').mean()\n",
    "tracks_albums_summer_year_mean_valence = tracks_albums_summer_year_mean[['valence']]\n",
    "\n",
    "plt.figure(figsize=(10, 7))\n",
    "plt.title(\"Valence Summer Hits\")\n",
    "plt.grid()\n",
    "ax = sns.lineplot(data=tracks_albums_summer_year_mean_valence[\"valence\"], color=\"coral\", label=\"Valence\")"
   ]
  },
  {
   "cell_type": "markdown",
   "metadata": {},
   "source": [
    "From the previous graphic we can observe that the valence of the music in general had a significant decrese, almost 50% since the 1990's to 2018."
   ]
  },
  {
   "cell_type": "code",
   "execution_count": null,
   "metadata": {},
   "outputs": [],
   "source": [
    "tracks_albums_summer_year_mean = tracks_albums_summer_year.groupby('year').mean()\n",
    "tracks_albums_summer_year_mean_danceability = tracks_albums_summer_year_mean[['danceability']]\n",
    "\n",
    "plt.figure(figsize=(10, 7))\n",
    "plt.title(\"Danceability Summer Hits\")\n",
    "plt.grid()\n",
    "ax = sns.lineplot(data=tracks_albums_summer_year_mean_danceability[\"danceability\"], color=\"chartreuse\", label=\"Danceability\")"
   ]
  },
  {
   "cell_type": "markdown",
   "metadata": {},
   "source": [
    "From the previous graphic we can observe that the danceability of the music increased since the 1990's, with almost doubled value in 2018"
   ]
  },
  {
   "cell_type": "code",
   "execution_count": null,
   "metadata": {},
   "outputs": [],
   "source": [
    "tracks_albums_summer_year_mean = tracks_albums_summer_year.groupby('year').mean()\n",
    "tracks_albums_summer_year_mean_energy = tracks_albums_summer_year_mean[['energy']]\n",
    "\n",
    "plt.figure(figsize=(10, 7))\n",
    "plt.title(\"Energy Summer Hits\")\n",
    "plt.grid()\n",
    "ax = sns.lineplot(data=tracks_albums_summer_year_mean_energy[\"energy\"], color=\"skyblue\", label=\"Energy\")"
   ]
  },
  {
   "cell_type": "markdown",
   "metadata": {},
   "source": [
    "The highest period in terms of energy of the music is around 2003 with a value of almost 0.9, however this value decreased in the last years, with almost 0.6 in the last year."
   ]
  },
  {
   "cell_type": "markdown",
   "metadata": {},
   "source": [
    "## Evolution of music 2000-2010 Valence/Energy/Danceability"
   ]
  },
  {
   "cell_type": "code",
   "execution_count": null,
   "metadata": {},
   "outputs": [],
   "source": [
    "tracks_albums_summer_2000 = tracks_albums.loc[lambda tracks_albums: (tracks_albums.album_date_released.dt.month >5)\\\n",
    "                 & (tracks_albums.album_date_released.dt.month <10) \\\n",
    "                 & (tracks_albums.album_date_released.dt.year >1999)\\\n",
    "                 & (tracks_albums.album_date_released.dt.year <2010)                           ]\n",
    "tracks_albums_summer_2000_year = tracks_albums_summer_2000.groupby([(tracks_albums_summer_2000['album_date_released'].dt.year.rename('year')),\\\n",
    "                          (tracks_albums_summer_2000['album_date_released'].dt.month.rename('month'))]).mean()\n"
   ]
  },
  {
   "cell_type": "code",
   "execution_count": null,
   "metadata": {},
   "outputs": [],
   "source": [
    "tracks_albums_summer_2000_year_mean = tracks_albums_summer_2000_year.groupby('year').mean()\n",
    "tracks_albums_summer_2000_year_mean_valence = tracks_albums_summer_2000_year_mean[['valence']]\n",
    "\n",
    "plt.figure(figsize=(10, 7))\n",
    "plt.title(\"Valence Summer Hits 2000-2010\")\n",
    "plt.grid()\n",
    "ax = sns.lineplot(data=tracks_albums_summer_2000_year_mean_valence[\"valence\"], color=\"coral\", label=\"Valence\")"
   ]
  },
  {
   "cell_type": "code",
   "execution_count": null,
   "metadata": {},
   "outputs": [],
   "source": [
    "tracks_albums_summer_2000_year_mean = tracks_albums_summer_2000_year.groupby('year').mean()\n",
    "tracks_albums_summer_2000_year_mean_dancebility = tracks_albums_summer_2000_year_mean[['danceability']]\n",
    "\n",
    "plt.figure(figsize=(10, 7))\n",
    "plt.title(\"Danceability Summer Hits 2000-2010\")\n",
    "plt.grid()\n",
    "ax = sns.lineplot(data=tracks_albums_summer_2000_year_mean_dancebility[\"danceability\"], color=\"chartreuse\", label=\"Danceability\")"
   ]
  },
  {
   "cell_type": "code",
   "execution_count": null,
   "metadata": {},
   "outputs": [],
   "source": [
    "tracks_albums_summer_2000_year_mean = tracks_albums_summer_2000_year.groupby('year').mean()\n",
    "tracks_albums_summer_2000_year_mean_energy = tracks_albums_summer_2000_year_mean[['energy']]\n",
    "\n",
    "plt.figure(figsize=(10, 7))\n",
    "plt.title(\"Energy Summer Hits 2000-2010\")\n",
    "plt.grid()\n",
    "ax = sns.lineplot(data=tracks_albums_summer_2000_year_mean_energy[\"energy\"], color=\"skyblue\", label=\"Energy\")\n"
   ]
  },
  {
   "cell_type": "markdown",
   "metadata": {},
   "source": [
    "## Evolution of music 2010-2018 Valence/Energy/Danceability"
   ]
  },
  {
   "cell_type": "code",
   "execution_count": null,
   "metadata": {},
   "outputs": [],
   "source": [
    "tracks_albums_summer_2010 = tracks_albums.loc[lambda tracks_albums: (tracks_albums.album_date_released.dt.month >5)\\\n",
    "                 & (tracks_albums.album_date_released.dt.month <10) \\\n",
    "                 & (tracks_albums.album_date_released.dt.year >2009)]\n",
    "tracks_albums_summer_2010_year = tracks_albums_summer_2010.groupby([(tracks_albums_summer_2010['album_date_released'].dt.year.rename('year')),\\\n",
    "                          (tracks_albums_summer_2010['album_date_released'].dt.month.rename('month'))]).mean()\n"
   ]
  },
  {
   "cell_type": "code",
   "execution_count": null,
   "metadata": {},
   "outputs": [],
   "source": [
    "tracks_albums_summer_2010_year_mean = tracks_albums_summer_2010_year.groupby('year').mean()\n",
    "tracks_albums_summer_2010_year_mean_valence = tracks_albums_summer_2010_year_mean[['valence']]\n",
    "\n",
    "plt.figure(figsize=(10, 7))\n",
    "plt.title(\"Valence Summer Hits 2010-2018\")\n",
    "plt.grid()\n",
    "ax = sns.lineplot(data=tracks_albums_summer_2010_year_mean_valence[\"valence\"], color=\"coral\", label=\"Valence\")\n"
   ]
  },
  {
   "cell_type": "code",
   "execution_count": null,
   "metadata": {},
   "outputs": [],
   "source": [
    "tracks_albums_summer_2010_year_mean = tracks_albums_summer_2010_year.groupby('year').mean()\n",
    "tracks_albums_summer_2010_year_mean_dancebility = tracks_albums_summer_2010_year_mean[['danceability']]\n",
    "\n",
    "plt.figure(figsize=(10, 7))\n",
    "plt.title(\"Danceability Summer Hits 2010-2018\")\n",
    "plt.grid()\n",
    "ax = sns.lineplot(data=tracks_albums_summer_2010_year_mean_dancebility[\"danceability\"], color=\"chartreuse\", label=\"Danceability\")\n"
   ]
  },
  {
   "cell_type": "code",
   "execution_count": null,
   "metadata": {},
   "outputs": [],
   "source": [
    "tracks_albums_summer_2010_year_mean = tracks_albums_summer_2010_year.groupby('year').mean()\n",
    "tracks_albums_summer_2010_year_mean_dancebility = tracks_albums_summer_2010_year_mean[['energy']]\n",
    "\n",
    "plt.figure(figsize=(10, 7))\n",
    "plt.title(\"Danceability Summer Hits 2010-2018\")\n",
    "plt.grid()\n",
    "ax = sns.lineplot(data=tracks_albums_summer_2010_year_mean_dancebility[\"energy\"], color=\"skyblue\", label=\"Energy\")\n"
   ]
  },
  {
   "cell_type": "markdown",
   "metadata": {},
   "source": []
  },
  {
   "cell_type": "code",
   "execution_count": null,
   "metadata": {},
   "outputs": [],
   "source": []
  }
 ],
 "metadata": {
  "kernelspec": {
   "display_name": "Python [default]",
   "language": "python",
   "name": "python3"
  },
  "language_info": {
   "codemirror_mode": {
    "name": "ipython",
    "version": 3
   },
   "file_extension": ".py",
   "mimetype": "text/x-python",
   "name": "python",
   "nbconvert_exporter": "python",
   "pygments_lexer": "ipython3",
   "version": "3.6.6"
  }
 },
 "nbformat": 4,
 "nbformat_minor": 1
}
