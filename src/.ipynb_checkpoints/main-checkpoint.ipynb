{
 "cells": [
  {
   "cell_type": "markdown",
   "metadata": {},
   "source": [
    "# ADA 2018 -  Music, from 90's to Milenials\n",
    "\n",
    "#### Andres Montero, Ariel Alba, Diego Iriarte\n",
    "\n",
    "\n"
   ]
  },
  {
   "cell_type": "markdown",
   "metadata": {},
   "source": [
    "Have you ever wondered how music evolved in the last years? Today with the explosion of the internet, music Services as Apple Music, Spotify, Tidal and other apps and platforms; it has become easier to access, obtain and share music. This project aims to find the evolution of music since 2000's in terms of songs/genres/artists popularity and preferences, evaluate the key features of the songs, such as energy, valence and danceability. We aim to understand and show how and which was the most popular genre in the last years, the most popular songs, the most important artist and what were the trends of the key features of those hits. \n",
    "\n",
    "For this purpose, we'll work with two datasets:\n",
    "\n",
    "* FMA: A Dataset For Music Analysis\n",
    "* Our crawled dataset created using Spotify and LastFM API\n",
    "\n"
   ]
  },
  {
   "cell_type": "code",
   "execution_count": 1,
   "metadata": {},
   "outputs": [],
   "source": [
    "% matplotlib inline\n",
    "import pandas as pd\n",
    "import numpy as np\n",
    "import matplotlib.pyplot as plt\n",
    "import reverse_geocoder as rg\n",
    "import os.path\n",
    "import ast\n",
    "import seaborn as sns\n",
    "import os\n",
    "import sys\n",
    "import matplotlib\n",
    "import urllib, base64\n",
    "\n",
    "from sklearn.manifold import TSNE   \n",
    "from sklearn.cluster import KMeans  \n",
    "from helpers import *\n",
    "from datetime import datetime, date, time\n",
    "from scipy import stats\n",
    "\n",
    "try:\n",
    "    from StringIO import StringIO\n",
    "except ImportError:\n",
    "    from io import StringIO\n",
    "\n",
    "%load_ext autoreload\n",
    "%autoreload 2\n"
   ]
  },
  {
   "cell_type": "markdown",
   "metadata": {},
   "source": [
    "First we will define the working directory so that we can import the pre-processed data "
   ]
  },
  {
   "cell_type": "code",
   "execution_count": 2,
   "metadata": {},
   "outputs": [],
   "source": [
    "# Constants\n",
    "DATA_DIR = '../data/'\n",
    "\n",
    "MUSIC_DIR = '{dir}{file}/'.format(dir=DATA_DIR, \n",
    "                                  file='fma_metadata')\n",
    "CSV_DIR = 'assets/csv/'\n",
    "\n",
    "PKL_DIR = '{dir}{file}/'.format(dir=DATA_DIR, \n",
    "                               file='pkl')\n",
    "DEBUG = True\n",
    "\n",
    "FEATURES = ['danceability', 'energy', 'valence', 'song_hotness']\n"
   ]
  },
  {
   "cell_type": "markdown",
   "metadata": {},
   "source": [
    "If the data is not found, the notebook data_cleaning should be exceuted first "
   ]
  },
  {
   "cell_type": "code",
   "execution_count": 3,
   "metadata": {},
   "outputs": [],
   "source": [
    "# Read  and write files depending on the existance of own path\n",
    "genres_df_path = '{dir}{file}'.format(dir=PKL_DIR, \n",
    "                                     file='genres_df.pkl')\n",
    "albums_df_path = '{dir}{file}'.format(dir=PKL_DIR, \n",
    "                                     file='albums_df.pkl')\n",
    "artists_df_path = '{dir}{file}'.format(dir=PKL_DIR, \n",
    "                                     file='artists_df.pkl')\n",
    "tracks_df_path = '{dir}{file}'.format(dir=PKL_DIR, \n",
    "                                      file='tracks_df.pkl')\n",
    "track_genre_rel_df_path = '{dir}{file}'.format(dir=PKL_DIR, \n",
    "                                               file='track_genre_rel_df.pkl')\n",
    "if os.path.exists(genres_df_path):\n",
    "    genres_df = pd.read_pickle(genres_df_path)\n",
    "else:\n",
    "    print('There is no genres pandas data')\n",
    "    \n",
    "if os.path.exists(albums_df_path):\n",
    "    albums_df = pd.read_pickle(albums_df_path)\n",
    "else:\n",
    "    print('There is no albums pandas data')\n",
    "    \n",
    "if os.path.exists(artists_df_path):\n",
    "    artists_df = pd.read_pickle(artists_df_path)\n",
    "else:\n",
    "    print('There is no artists pandas data')\n",
    "    \n",
    "if os.path.exists(tracks_df_path):\n",
    "    tracks_df = pd.read_pickle(tracks_df_path)\n",
    "else:\n",
    "    print('There is no tracks pandas data')\n",
    "    \n",
    "if os.path.exists(track_genre_rel_df_path):\n",
    "    track_genre_rel_df = pd.read_pickle(track_genre_rel_df_path)\n",
    "else:\n",
    "    print('There is no tracks-genres pandas data')\n",
    "    "
   ]
  },
  {
   "cell_type": "markdown",
   "metadata": {},
   "source": [
    "Now we will observe the details of each df"
   ]
  },
  {
   "cell_type": "code",
   "execution_count": 4,
   "metadata": {},
   "outputs": [
    {
     "name": "stdout",
     "output_type": "stream",
     "text": [
      "Genres size: 163\n",
      "\n",
      "NaN count by column:\n",
      "genre_id        0\n",
      "#tracks         0\n",
      "parent          0\n",
      "title           0\n",
      "top_level       0\n",
      "genre_parent    0\n",
      "dtype: int64\n"
     ]
    },
    {
     "data": {
      "text/html": [
       "<div>\n",
       "<style scoped>\n",
       "    .dataframe tbody tr th:only-of-type {\n",
       "        vertical-align: middle;\n",
       "    }\n",
       "\n",
       "    .dataframe tbody tr th {\n",
       "        vertical-align: top;\n",
       "    }\n",
       "\n",
       "    .dataframe thead th {\n",
       "        text-align: right;\n",
       "    }\n",
       "</style>\n",
       "<table border=\"1\" class=\"dataframe\">\n",
       "  <thead>\n",
       "    <tr style=\"text-align: right;\">\n",
       "      <th></th>\n",
       "      <th>genre_id</th>\n",
       "      <th>#tracks</th>\n",
       "      <th>parent</th>\n",
       "      <th>title</th>\n",
       "      <th>top_level</th>\n",
       "      <th>genre_parent</th>\n",
       "    </tr>\n",
       "  </thead>\n",
       "  <tbody>\n",
       "    <tr>\n",
       "      <th>0</th>\n",
       "      <td>1</td>\n",
       "      <td>8693</td>\n",
       "      <td>38</td>\n",
       "      <td>Avant-Garde</td>\n",
       "      <td>38</td>\n",
       "      <td>Experimental</td>\n",
       "    </tr>\n",
       "    <tr>\n",
       "      <th>1</th>\n",
       "      <td>2</td>\n",
       "      <td>5271</td>\n",
       "      <td>0</td>\n",
       "      <td>International</td>\n",
       "      <td>2</td>\n",
       "      <td>International</td>\n",
       "    </tr>\n",
       "    <tr>\n",
       "      <th>2</th>\n",
       "      <td>3</td>\n",
       "      <td>1752</td>\n",
       "      <td>0</td>\n",
       "      <td>Blues</td>\n",
       "      <td>3</td>\n",
       "      <td>Blues</td>\n",
       "    </tr>\n",
       "    <tr>\n",
       "      <th>3</th>\n",
       "      <td>4</td>\n",
       "      <td>4126</td>\n",
       "      <td>0</td>\n",
       "      <td>Jazz</td>\n",
       "      <td>4</td>\n",
       "      <td>Jazz</td>\n",
       "    </tr>\n",
       "    <tr>\n",
       "      <th>4</th>\n",
       "      <td>5</td>\n",
       "      <td>4106</td>\n",
       "      <td>0</td>\n",
       "      <td>Classical</td>\n",
       "      <td>5</td>\n",
       "      <td>Classical</td>\n",
       "    </tr>\n",
       "  </tbody>\n",
       "</table>\n",
       "</div>"
      ],
      "text/plain": [
       "   genre_id  #tracks  parent          title  top_level   genre_parent\n",
       "0         1     8693      38    Avant-Garde         38   Experimental\n",
       "1         2     5271       0  International          2  International\n",
       "2         3     1752       0          Blues          3          Blues\n",
       "3         4     4126       0           Jazz          4           Jazz\n",
       "4         5     4106       0      Classical          5      Classical"
      ]
     },
     "metadata": {},
     "output_type": "display_data"
    },
    {
     "name": "stdout",
     "output_type": "stream",
     "text": [
      "Artists size: 21966\n",
      "\n",
      "NaN count by column:\n",
      "artist_id               0\n",
      "artist_discovery    19090\n",
      "city                18130\n",
      "state               18130\n",
      "country             18130\n",
      "artist_family       19090\n",
      "artist_hotness      13465\n",
      "artist_latitude     18130\n",
      "artist_longitude    18130\n",
      "artist_name             0\n",
      "dtype: int64\n"
     ]
    },
    {
     "data": {
      "text/html": [
       "<div>\n",
       "<style scoped>\n",
       "    .dataframe tbody tr th:only-of-type {\n",
       "        vertical-align: middle;\n",
       "    }\n",
       "\n",
       "    .dataframe tbody tr th {\n",
       "        vertical-align: top;\n",
       "    }\n",
       "\n",
       "    .dataframe thead th {\n",
       "        text-align: right;\n",
       "    }\n",
       "</style>\n",
       "<table border=\"1\" class=\"dataframe\">\n",
       "  <thead>\n",
       "    <tr style=\"text-align: right;\">\n",
       "      <th></th>\n",
       "      <th>artist_id</th>\n",
       "      <th>artist_discovery</th>\n",
       "      <th>city</th>\n",
       "      <th>state</th>\n",
       "      <th>country</th>\n",
       "      <th>artist_family</th>\n",
       "      <th>artist_hotness</th>\n",
       "      <th>artist_latitude</th>\n",
       "      <th>artist_longitude</th>\n",
       "      <th>artist_name</th>\n",
       "    </tr>\n",
       "  </thead>\n",
       "  <tbody>\n",
       "    <tr>\n",
       "      <th>0</th>\n",
       "      <td>1</td>\n",
       "      <td>0.388990</td>\n",
       "      <td>Lakehurst</td>\n",
       "      <td>New Jersey</td>\n",
       "      <td>US</td>\n",
       "      <td>0.38674</td>\n",
       "      <td>0.40637</td>\n",
       "      <td>40.0583</td>\n",
       "      <td>-74.4057</td>\n",
       "      <td>AWOL</td>\n",
       "    </tr>\n",
       "    <tr>\n",
       "      <th>1</th>\n",
       "      <td>6</td>\n",
       "      <td>0.557339</td>\n",
       "      <td>NaN</td>\n",
       "      <td>NaN</td>\n",
       "      <td>NaN</td>\n",
       "      <td>0.614272</td>\n",
       "      <td>0.798387</td>\n",
       "      <td>NaN</td>\n",
       "      <td>NaN</td>\n",
       "      <td>Kurt Vile</td>\n",
       "    </tr>\n",
       "    <tr>\n",
       "      <th>2</th>\n",
       "      <td>54</td>\n",
       "      <td>0.388923</td>\n",
       "      <td>Providence</td>\n",
       "      <td>Rhode Island</td>\n",
       "      <td>US</td>\n",
       "      <td>0.330784</td>\n",
       "      <td>0.4063</td>\n",
       "      <td>41.824</td>\n",
       "      <td>-71.4128</td>\n",
       "      <td>Alec K. Redfearn &amp; the Eyesores</td>\n",
       "    </tr>\n",
       "    <tr>\n",
       "      <th>3</th>\n",
       "      <td>56</td>\n",
       "      <td>0.252381</td>\n",
       "      <td>Providence</td>\n",
       "      <td>Rhode Island</td>\n",
       "      <td>US</td>\n",
       "      <td>0.238153</td>\n",
       "      <td>0.263657</td>\n",
       "      <td>41.824</td>\n",
       "      <td>-71.4128</td>\n",
       "      <td>Amoebic Ensemble</td>\n",
       "    </tr>\n",
       "    <tr>\n",
       "      <th>4</th>\n",
       "      <td>60</td>\n",
       "      <td>0.262717</td>\n",
       "      <td>Philadelphia</td>\n",
       "      <td>Pennsylvania</td>\n",
       "      <td>US</td>\n",
       "      <td>0.173315</td>\n",
       "      <td>0.274455</td>\n",
       "      <td>39.9523</td>\n",
       "      <td>-75.1638</td>\n",
       "      <td>Arc and Sender</td>\n",
       "    </tr>\n",
       "  </tbody>\n",
       "</table>\n",
       "</div>"
      ],
      "text/plain": [
       "  artist_id  artist_discovery          city         state country  \\\n",
       "0         1          0.388990     Lakehurst    New Jersey      US   \n",
       "1         6          0.557339           NaN           NaN     NaN   \n",
       "2        54          0.388923    Providence  Rhode Island      US   \n",
       "3        56          0.252381    Providence  Rhode Island      US   \n",
       "4        60          0.262717  Philadelphia  Pennsylvania      US   \n",
       "\n",
       "  artist_family artist_hotness artist_latitude artist_longitude  \\\n",
       "0       0.38674        0.40637         40.0583         -74.4057   \n",
       "1      0.614272       0.798387             NaN              NaN   \n",
       "2      0.330784         0.4063          41.824         -71.4128   \n",
       "3      0.238153       0.263657          41.824         -71.4128   \n",
       "4      0.173315       0.274455         39.9523         -75.1638   \n",
       "\n",
       "                       artist_name  \n",
       "0                             AWOL  \n",
       "1                        Kurt Vile  \n",
       "2  Alec K. Redfearn & the Eyesores  \n",
       "3                 Amoebic Ensemble  \n",
       "4                   Arc and Sender  "
      ]
     },
     "metadata": {},
     "output_type": "display_data"
    },
    {
     "name": "stdout",
     "output_type": "stream",
     "text": [
      "Albums size: 19621\n",
      "\n",
      "NaN count by column:\n",
      "album_id                  0\n",
      "album_date_created     5226\n",
      "album_date_released    5404\n",
      "album_title               1\n",
      "album_listens            34\n",
      "dtype: int64\n"
     ]
    },
    {
     "data": {
      "text/html": [
       "<div>\n",
       "<style scoped>\n",
       "    .dataframe tbody tr th:only-of-type {\n",
       "        vertical-align: middle;\n",
       "    }\n",
       "\n",
       "    .dataframe tbody tr th {\n",
       "        vertical-align: top;\n",
       "    }\n",
       "\n",
       "    .dataframe thead th {\n",
       "        text-align: right;\n",
       "    }\n",
       "</style>\n",
       "<table border=\"1\" class=\"dataframe\">\n",
       "  <thead>\n",
       "    <tr style=\"text-align: right;\">\n",
       "      <th></th>\n",
       "      <th>album_id</th>\n",
       "      <th>album_date_created</th>\n",
       "      <th>album_date_released</th>\n",
       "      <th>album_title</th>\n",
       "      <th>album_listens</th>\n",
       "    </tr>\n",
       "  </thead>\n",
       "  <tbody>\n",
       "    <tr>\n",
       "      <th>0</th>\n",
       "      <td>1</td>\n",
       "      <td>2008-11-26 01:44:45</td>\n",
       "      <td>2009-01-05</td>\n",
       "      <td>AWOL - A Way Of Life</td>\n",
       "      <td>6073.0</td>\n",
       "    </tr>\n",
       "    <tr>\n",
       "      <th>1</th>\n",
       "      <td>6</td>\n",
       "      <td>2008-11-26 01:45:08</td>\n",
       "      <td>2008-02-06</td>\n",
       "      <td>Constant Hitmaker</td>\n",
       "      <td>47632.0</td>\n",
       "    </tr>\n",
       "    <tr>\n",
       "      <th>2</th>\n",
       "      <td>60</td>\n",
       "      <td>2008-11-26 01:49:57</td>\n",
       "      <td>2009-01-16</td>\n",
       "      <td>Every Man For Himself</td>\n",
       "      <td>1304.0</td>\n",
       "    </tr>\n",
       "    <tr>\n",
       "      <th>3</th>\n",
       "      <td>61</td>\n",
       "      <td>2008-11-26 01:49:59</td>\n",
       "      <td>2007-05-22</td>\n",
       "      <td>The Blind Spot</td>\n",
       "      <td>1300.0</td>\n",
       "    </tr>\n",
       "    <tr>\n",
       "      <th>4</th>\n",
       "      <td>62</td>\n",
       "      <td>2008-11-26 01:50:03</td>\n",
       "      <td>2005-01-25</td>\n",
       "      <td>The Quiet Room</td>\n",
       "      <td>845.0</td>\n",
       "    </tr>\n",
       "  </tbody>\n",
       "</table>\n",
       "</div>"
      ],
      "text/plain": [
       "  album_id   album_date_created album_date_released            album_title  \\\n",
       "0        1  2008-11-26 01:44:45          2009-01-05   AWOL - A Way Of Life   \n",
       "1        6  2008-11-26 01:45:08          2008-02-06      Constant Hitmaker   \n",
       "2       60  2008-11-26 01:49:57          2009-01-16  Every Man For Himself   \n",
       "3       61  2008-11-26 01:49:59          2007-05-22         The Blind Spot   \n",
       "4       62  2008-11-26 01:50:03          2005-01-25         The Quiet Room   \n",
       "\n",
       "   album_listens  \n",
       "0         6073.0  \n",
       "1        47632.0  \n",
       "2         1304.0  \n",
       "3         1300.0  \n",
       "4          845.0  "
      ]
     },
     "metadata": {},
     "output_type": "display_data"
    },
    {
     "name": "stdout",
     "output_type": "stream",
     "text": [
      "Tracks size: 285078\n",
      "\n",
      "NaN count by column:\n",
      "track_id               0\n",
      "track_title            1\n",
      "track_duration         0\n",
      "artist_id              0\n",
      "album_id               0\n",
      "track_language    270054\n",
      "track_listens      14409\n",
      "track_tags             0\n",
      "danceability       93445\n",
      "energy             93445\n",
      "valence            93445\n",
      "song_currency     271949\n",
      "song_hotness       93445\n",
      "dtype: int64\n"
     ]
    },
    {
     "data": {
      "text/html": [
       "<div>\n",
       "<style scoped>\n",
       "    .dataframe tbody tr th:only-of-type {\n",
       "        vertical-align: middle;\n",
       "    }\n",
       "\n",
       "    .dataframe tbody tr th {\n",
       "        vertical-align: top;\n",
       "    }\n",
       "\n",
       "    .dataframe thead th {\n",
       "        text-align: right;\n",
       "    }\n",
       "</style>\n",
       "<table border=\"1\" class=\"dataframe\">\n",
       "  <thead>\n",
       "    <tr style=\"text-align: right;\">\n",
       "      <th></th>\n",
       "      <th>track_id</th>\n",
       "      <th>track_title</th>\n",
       "      <th>track_duration</th>\n",
       "      <th>artist_id</th>\n",
       "      <th>album_id</th>\n",
       "      <th>track_language</th>\n",
       "      <th>track_listens</th>\n",
       "      <th>track_tags</th>\n",
       "      <th>danceability</th>\n",
       "      <th>energy</th>\n",
       "      <th>valence</th>\n",
       "      <th>song_currency</th>\n",
       "      <th>song_hotness</th>\n",
       "    </tr>\n",
       "  </thead>\n",
       "  <tbody>\n",
       "    <tr>\n",
       "      <th>0</th>\n",
       "      <td>2</td>\n",
       "      <td>Food</td>\n",
       "      <td>168.0</td>\n",
       "      <td>1</td>\n",
       "      <td>1</td>\n",
       "      <td>en</td>\n",
       "      <td>1293.0</td>\n",
       "      <td>[]</td>\n",
       "      <td>0.675894</td>\n",
       "      <td>0.634476</td>\n",
       "      <td>0.576661</td>\n",
       "      <td>0.000000</td>\n",
       "      <td>0.000000</td>\n",
       "    </tr>\n",
       "    <tr>\n",
       "      <th>1</th>\n",
       "      <td>3</td>\n",
       "      <td>Electric Ave</td>\n",
       "      <td>237.0</td>\n",
       "      <td>1</td>\n",
       "      <td>1</td>\n",
       "      <td>en</td>\n",
       "      <td>514.0</td>\n",
       "      <td>[]</td>\n",
       "      <td>0.528643</td>\n",
       "      <td>0.817461</td>\n",
       "      <td>0.269240</td>\n",
       "      <td>0.000000</td>\n",
       "      <td>0.000000</td>\n",
       "    </tr>\n",
       "    <tr>\n",
       "      <th>2</th>\n",
       "      <td>5</td>\n",
       "      <td>This World</td>\n",
       "      <td>206.0</td>\n",
       "      <td>1</td>\n",
       "      <td>1</td>\n",
       "      <td>en</td>\n",
       "      <td>1151.0</td>\n",
       "      <td>[]</td>\n",
       "      <td>0.745566</td>\n",
       "      <td>0.701470</td>\n",
       "      <td>0.621661</td>\n",
       "      <td>0.000000</td>\n",
       "      <td>0.000000</td>\n",
       "    </tr>\n",
       "    <tr>\n",
       "      <th>3</th>\n",
       "      <td>10</td>\n",
       "      <td>Freeway</td>\n",
       "      <td>161.0</td>\n",
       "      <td>6</td>\n",
       "      <td>6</td>\n",
       "      <td>en</td>\n",
       "      <td>50135.0</td>\n",
       "      <td>[]</td>\n",
       "      <td>0.658179</td>\n",
       "      <td>0.924525</td>\n",
       "      <td>0.963590</td>\n",
       "      <td>0.005158</td>\n",
       "      <td>0.354516</td>\n",
       "    </tr>\n",
       "    <tr>\n",
       "      <th>4</th>\n",
       "      <td>134</td>\n",
       "      <td>Street Music</td>\n",
       "      <td>207.0</td>\n",
       "      <td>1</td>\n",
       "      <td>1</td>\n",
       "      <td>en</td>\n",
       "      <td>943.0</td>\n",
       "      <td>[]</td>\n",
       "      <td>0.513238</td>\n",
       "      <td>0.560410</td>\n",
       "      <td>0.894072</td>\n",
       "      <td>0.000000</td>\n",
       "      <td>0.000000</td>\n",
       "    </tr>\n",
       "  </tbody>\n",
       "</table>\n",
       "</div>"
      ],
      "text/plain": [
       "  track_id   track_title  track_duration artist_id album_id track_language  \\\n",
       "0        2          Food           168.0         1        1             en   \n",
       "1        3  Electric Ave           237.0         1        1             en   \n",
       "2        5    This World           206.0         1        1             en   \n",
       "3       10       Freeway           161.0         6        6             en   \n",
       "4      134  Street Music           207.0         1        1             en   \n",
       "\n",
       "   track_listens track_tags  danceability    energy   valence  song_currency  \\\n",
       "0         1293.0         []      0.675894  0.634476  0.576661       0.000000   \n",
       "1          514.0         []      0.528643  0.817461  0.269240       0.000000   \n",
       "2         1151.0         []      0.745566  0.701470  0.621661       0.000000   \n",
       "3        50135.0         []      0.658179  0.924525  0.963590       0.005158   \n",
       "4          943.0         []      0.513238  0.560410  0.894072       0.000000   \n",
       "\n",
       "   song_hotness  \n",
       "0      0.000000  \n",
       "1      0.000000  \n",
       "2      0.000000  \n",
       "3      0.354516  \n",
       "4      0.000000  "
      ]
     },
     "metadata": {},
     "output_type": "display_data"
    },
    {
     "name": "stdout",
     "output_type": "stream",
     "text": [
      "Track-Genre size: 287767\n",
      "\n",
      "NaN count by column:\n",
      "track_id    0\n",
      "genre_id    0\n",
      "dtype: int64\n"
     ]
    },
    {
     "data": {
      "text/html": [
       "<div>\n",
       "<style scoped>\n",
       "    .dataframe tbody tr th:only-of-type {\n",
       "        vertical-align: middle;\n",
       "    }\n",
       "\n",
       "    .dataframe tbody tr th {\n",
       "        vertical-align: top;\n",
       "    }\n",
       "\n",
       "    .dataframe thead th {\n",
       "        text-align: right;\n",
       "    }\n",
       "</style>\n",
       "<table border=\"1\" class=\"dataframe\">\n",
       "  <thead>\n",
       "    <tr style=\"text-align: right;\">\n",
       "      <th></th>\n",
       "      <th>track_id</th>\n",
       "      <th>genre_id</th>\n",
       "    </tr>\n",
       "  </thead>\n",
       "  <tbody>\n",
       "    <tr>\n",
       "      <th>0</th>\n",
       "      <td>2</td>\n",
       "      <td>21</td>\n",
       "    </tr>\n",
       "    <tr>\n",
       "      <th>1</th>\n",
       "      <td>3</td>\n",
       "      <td>21</td>\n",
       "    </tr>\n",
       "    <tr>\n",
       "      <th>2</th>\n",
       "      <td>5</td>\n",
       "      <td>21</td>\n",
       "    </tr>\n",
       "    <tr>\n",
       "      <th>3</th>\n",
       "      <td>10</td>\n",
       "      <td>10</td>\n",
       "    </tr>\n",
       "    <tr>\n",
       "      <th>4</th>\n",
       "      <td>20</td>\n",
       "      <td>76</td>\n",
       "    </tr>\n",
       "  </tbody>\n",
       "</table>\n",
       "</div>"
      ],
      "text/plain": [
       "  track_id  genre_id\n",
       "0        2        21\n",
       "1        3        21\n",
       "2        5        21\n",
       "3       10        10\n",
       "4       20        76"
      ]
     },
     "metadata": {},
     "output_type": "display_data"
    }
   ],
   "source": [
    "pretty_print(genres_df, 'Genres', True)\n",
    "pretty_print(artists_df, 'Artists', True)\n",
    "pretty_print(albums_df, 'Albums', True)\n",
    "pretty_print(tracks_df, 'Tracks', True)\n",
    "pretty_print(track_genre_rel_df, 'Track-Genre', True)\n"
   ]
  },
  {
   "cell_type": "markdown",
   "metadata": {},
   "source": [
    "Once the details of the data frame are understood, the next step is to have the first visualization of the data, for this we will plot how many albums and tracks were released per year."
   ]
  },
  {
   "cell_type": "code",
   "execution_count": 5,
   "metadata": {},
   "outputs": [
    {
     "data": {
      "image/png": "[encoded data removed]",
      "text/plain": [
       "<Figure size 720x432 with 1 Axes>"
      ]
     },
     "metadata": {},
     "output_type": "display_data"
    }
   ],
   "source": [
    "album_dist = albums_df.groupby(albums_df['album_date_released'].dt.year).size()\n",
    "\n",
    "def dist_album_year():\n",
    "    album_dist.plot(kind='bar')\n",
    "    plt.grid()\n",
    "    plt.xticks(rotation=90)\n",
    "\n",
    "std_plot(dist_album_year, title='Distribution of Albums per Year',\n",
    "         xlabel='Year')\n"
   ]
  },
  {
   "cell_type": "markdown",
   "metadata": {},
   "source": [
    "In the graph we can observe that the quantity of albums grew exponentially with the years. \n",
    "And because we want to focus on the music from 90's to Milenials we will define our data set between the years 2000-2018."
   ]
  },
  {
   "cell_type": "code",
   "execution_count": 6,
   "metadata": {},
   "outputs": [],
   "source": [
    "start_date=pd.Timestamp(2000, 1, 1, 0)\n",
    "end_date=pd.Timestamp(2018,12,12,23)\n",
    "albums_df = albums_df[(albums_df.album_date_released > start_date) & (albums_df.album_date_released < end_date ) ]\n"
   ]
  },
  {
   "cell_type": "code",
   "execution_count": 7,
   "metadata": {},
   "outputs": [
    {
     "data": {
      "image/png": "[encoded data removed]",
      "text/plain": [
       "<Figure size 720x432 with 1 Axes>"
      ]
     },
     "metadata": {},
     "output_type": "display_data"
    }
   ],
   "source": [
    "album_dist = albums_df.groupby(albums_df['album_date_released'].dt.year).size()\n",
    "\n",
    "def dist_album_year():\n",
    "    album_dist.plot(kind='bar')\n",
    "    plt.grid()\n",
    "    plt.xticks(rotation=90)\n",
    "\n",
    "std_plot(dist_album_year, title='Distribution of Albums per Year 2000-2018',\n",
    "         xlabel='Year')"
   ]
  },
  {
   "cell_type": "markdown",
   "metadata": {},
   "source": [
    "We do the same analysis for the tracks, first visualize to confirm that follows a similar pattern as the albums"
   ]
  },
  {
   "cell_type": "code",
   "execution_count": 8,
   "metadata": {},
   "outputs": [
    {
     "data": {
      "image/png": "[encoded data removed]",
      "text/plain": [
       "<Figure size 720x432 with 1 Axes>"
      ]
     },
     "metadata": {},
     "output_type": "display_data"
    }
   ],
   "source": [
    "tracks_albums = tracks_df.merge(albums_df)\n",
    "tracks_dist = tracks_albums.groupby(tracks_albums['album_date_released'].dt.year).size()\n",
    "\n",
    "def dist_tracks_year():\n",
    "    tracks_dist.plot(kind='bar')\n",
    "    plt.grid()\n",
    "    plt.xticks(rotation=90)\n",
    "\n",
    "std_plot(dist_tracks_year, title='Distribution of Tracks per Year',\n",
    "         xlabel='Year')\n"
   ]
  },
  {
   "cell_type": "code",
   "execution_count": 9,
   "metadata": {},
   "outputs": [],
   "source": [
    "tracks_filtered = tracks_albums[(tracks_albums.album_date_released > start_date)\\\n",
    "                                & (tracks_albums.album_date_released < end_date ) ]"
   ]
  },
  {
   "cell_type": "code",
   "execution_count": 10,
   "metadata": {},
   "outputs": [
    {
     "data": {
      "image/png": "[encoded data removed]",
      "text/plain": [
       "<Figure size 720x432 with 1 Axes>"
      ]
     },
     "metadata": {},
     "output_type": "display_data"
    }
   ],
   "source": [
    "album_dist = tracks_filtered.groupby(tracks_albums['album_date_released'].dt.year).size()\n",
    "\n",
    "def dist_album_year():\n",
    "    album_dist.plot(kind='bar')\n",
    "    plt.grid()\n",
    "    plt.xticks(rotation=90)\n",
    "\n",
    "std_plot(dist_album_year, title='Distribution of Albums per Year',\n",
    "         xlabel='Year')"
   ]
  },
  {
   "cell_type": "markdown",
   "metadata": {},
   "source": [
    "And like in the previous picture since the albums grow exponentialy the tracks follow the same pattern.\n",
    "Now the next step is to locate which country is the one with the highset proportion of production of tracks"
   ]
  },
  {
   "cell_type": "code",
   "execution_count": 11,
   "metadata": {},
   "outputs": [
    {
     "data": {
      "image/png": "[encoded data removed]",
      "text/plain": [
       "<Figure size 720x432 with 1 Axes>"
      ]
     },
     "metadata": {},
     "output_type": "display_data"
    }
   ],
   "source": [
    "tracks_df = tracks_filtered\n",
    "track_artist = tracks_df.merge(artists_df, left_on='artist_id', \n",
    "                               right_on='artist_id')\n",
    "country_grouped = track_artist.groupby(track_artist['country']).size()\n",
    "country_top10 = country_grouped.sort_values(ascending=False) \\\n",
    "                                     .head(10)\n",
    "\n",
    "def country_track_top10():\n",
    "    country_top10.plot(kind='bar')\n",
    "    plt.ylabel('Number of Tracks')\n",
    "    plt.grid()\n",
    "    \n",
    "std_plot(country_track_top10, title='Top 10 countries that produce tracks',\n",
    "         ylabel='Number of tracks', xlabel='Country')\n"
   ]
  },
  {
   "cell_type": "markdown",
   "metadata": {},
   "source": [
    "We can observe that the top country producing tracks is the US, with a substancial difference comparing 20000 to 5000 with the next country Great Britain."
   ]
  },
  {
   "cell_type": "markdown",
   "metadata": {},
   "source": [
    "#### Top 10 albums\n",
    "The top 10 albums "
   ]
  },
  {
   "cell_type": "code",
   "execution_count": 12,
   "metadata": {},
   "outputs": [
    {
     "name": "stderr",
     "output_type": "stream",
     "text": [
      "C:\\Users\\Andres Montero\\Anaconda3\\lib\\site-packages\\scipy\\stats\\stats.py:1713: FutureWarning: Using a non-tuple sequence for multidimensional indexing is deprecated; use `arr[tuple(seq)]` instead of `arr[seq]`. In the future this will be interpreted as an array index, `arr[np.array(seq)]`, which will result either in an error or a different result.\n",
      "  return np.add.reduce(sorted[indexer] * weights, axis=axis) / sumval\n"
     ]
    },
    {
     "data": {
      "image/png": "[encoded data removed]",
      "text/plain": [
       "<Figure size 720x432 with 1 Axes>"
      ]
     },
     "metadata": {},
     "output_type": "display_data"
    }
   ],
   "source": [
    "# albums_df=album_filtered.copy()\n",
    "# albums_top10=albums_df.sort_values(by=['album_listens'],ascending=False).head(10)\n",
    "albums_grouped = albums_df.groupby(albums_df['album_id']) \\\n",
    "                          .first()[['album_title', 'album_listens']]\n",
    "albums_top10 = albums_grouped.sort_values(by='album_listens', \n",
    "                                          ascending=False).head(10)\n",
    "\n",
    "def album_listen_top10():\n",
    "    plt.grid()\n",
    "    sns.barplot(x='album_title', y='album_listens',\n",
    "                data=albums_top10)\n",
    "    plt.xticks(rotation=45)\n",
    "    \n",
    "std_plot(album_listen_top10, title='Top 10 Albums listened')\n"
   ]
  },
  {
   "cell_type": "markdown",
   "metadata": {},
   "source": [
    "#### Top 10 Tracks"
   ]
  },
  {
   "cell_type": "code",
   "execution_count": 13,
   "metadata": {},
   "outputs": [
    {
     "data": {
      "image/png": "[encoded data removed]",
      "text/plain": [
       "<Figure size 720x432 with 1 Axes>"
      ]
     },
     "metadata": {},
     "output_type": "display_data"
    }
   ],
   "source": [
    "# tracks_df=tracks_filtered\n",
    "# tracks_top10=tracks_df.sort_values(by=['track_listens'],ascending=False).head(10)\n",
    "\n",
    "tracks_grouped = tracks_albums.groupby(tracks_df['track_id']) \\\n",
    "                          .first()[['track_title', 'track_listens']]\n",
    "tracks_top10 = tracks_grouped.sort_values(by='track_listens', \n",
    "                                          ascending=False).head(10)\n",
    "\n",
    "def track_listen_top10():\n",
    "    plt.grid()\n",
    "    sns.barplot(x='track_title', y= 'track_listens',\n",
    "                data=tracks_top10)\n",
    "    plt.xticks(rotation=45)\n",
    "    \n",
    "std_plot(track_listen_top10, title='Top 10 tracks listened')\n"
   ]
  },
  {
   "cell_type": "markdown",
   "metadata": {},
   "source": [
    "#### Clustering using danceability, energy, valence and hotness features\n",
    "Now we will try to find if there are similar tracks regarding to danceability, energy, valence and hotness, and group them;\n"
   ]
  },
  {
   "cell_type": "code",
   "execution_count": 14,
   "metadata": {},
   "outputs": [
    {
     "data": {
      "text/html": [
       "<div>\n",
       "<style scoped>\n",
       "    .dataframe tbody tr th:only-of-type {\n",
       "        vertical-align: middle;\n",
       "    }\n",
       "\n",
       "    .dataframe tbody tr th {\n",
       "        vertical-align: top;\n",
       "    }\n",
       "\n",
       "    .dataframe thead th {\n",
       "        text-align: right;\n",
       "    }\n",
       "</style>\n",
       "<table border=\"1\" class=\"dataframe\">\n",
       "  <thead>\n",
       "    <tr style=\"text-align: right;\">\n",
       "      <th></th>\n",
       "      <th>x</th>\n",
       "      <th>y</th>\n",
       "      <th>z</th>\n",
       "      <th>cluster</th>\n",
       "      <th>track_title</th>\n",
       "      <th>album_title</th>\n",
       "      <th>artist_name</th>\n",
       "      <th>genre_parent</th>\n",
       "      <th>year</th>\n",
       "    </tr>\n",
       "  </thead>\n",
       "  <tbody>\n",
       "    <tr>\n",
       "      <th>0</th>\n",
       "      <td>-15.671057</td>\n",
       "      <td>75.005463</td>\n",
       "      <td>109.819077</td>\n",
       "      <td>0.0</td>\n",
       "      <td>Zero</td>\n",
       "      <td>Classwar Karaoke - 0027 Survey</td>\n",
       "      <td>weltAusstellung and Stephen Oldfield</td>\n",
       "      <td>Experimental</td>\n",
       "      <td>2014</td>\n",
       "    </tr>\n",
       "    <tr>\n",
       "      <th>1</th>\n",
       "      <td>-1.529421</td>\n",
       "      <td>-1.371815</td>\n",
       "      <td>-7.517342</td>\n",
       "      <td>0.0</td>\n",
       "      <td>Symmetrical K</td>\n",
       "      <td>Classwar Karaoke - 0027 Survey</td>\n",
       "      <td>Destroyevsky</td>\n",
       "      <td>Experimental</td>\n",
       "      <td>2014</td>\n",
       "    </tr>\n",
       "    <tr>\n",
       "      <th>2</th>\n",
       "      <td>-0.193912</td>\n",
       "      <td>-2.454896</td>\n",
       "      <td>1.143896</td>\n",
       "      <td>0.0</td>\n",
       "      <td>Schiphorst Rumble</td>\n",
       "      <td>Classwar Karaoke - 0027 Survey</td>\n",
       "      <td>Ronny Wærnes</td>\n",
       "      <td>Experimental</td>\n",
       "      <td>2014</td>\n",
       "    </tr>\n",
       "    <tr>\n",
       "      <th>3</th>\n",
       "      <td>-1.486949</td>\n",
       "      <td>-5.269392</td>\n",
       "      <td>-4.227625</td>\n",
       "      <td>0.0</td>\n",
       "      <td>Daydreaming (Reminiscence)</td>\n",
       "      <td>Classwar Karaoke - 0027 Survey</td>\n",
       "      <td>LIL</td>\n",
       "      <td>Experimental</td>\n",
       "      <td>2014</td>\n",
       "    </tr>\n",
       "    <tr>\n",
       "      <th>4</th>\n",
       "      <td>4.898997</td>\n",
       "      <td>0.170989</td>\n",
       "      <td>-3.901319</td>\n",
       "      <td>0.0</td>\n",
       "      <td>Jam 10 (1-27-2014)</td>\n",
       "      <td>Classwar Karaoke - 0027 Survey</td>\n",
       "      <td>Pink Hex</td>\n",
       "      <td>Experimental</td>\n",
       "      <td>2014</td>\n",
       "    </tr>\n",
       "  </tbody>\n",
       "</table>\n",
       "</div>"
      ],
      "text/plain": [
       "           x          y           z  cluster                 track_title  \\\n",
       "0 -15.671057  75.005463  109.819077      0.0                        Zero   \n",
       "1  -1.529421  -1.371815   -7.517342      0.0               Symmetrical K   \n",
       "2  -0.193912  -2.454896    1.143896      0.0           Schiphorst Rumble   \n",
       "3  -1.486949  -5.269392   -4.227625      0.0  Daydreaming (Reminiscence)   \n",
       "4   4.898997   0.170989   -3.901319      0.0          Jam 10 (1-27-2014)   \n",
       "\n",
       "                      album_title                           artist_name  \\\n",
       "0  Classwar Karaoke - 0027 Survey  weltAusstellung and Stephen Oldfield   \n",
       "1  Classwar Karaoke - 0027 Survey                          Destroyevsky   \n",
       "2  Classwar Karaoke - 0027 Survey                          Ronny Wærnes   \n",
       "3  Classwar Karaoke - 0027 Survey                                   LIL   \n",
       "4  Classwar Karaoke - 0027 Survey                              Pink Hex   \n",
       "\n",
       "   genre_parent  year  \n",
       "0  Experimental  2014  \n",
       "1  Experimental  2014  \n",
       "2  Experimental  2014  \n",
       "3  Experimental  2014  \n",
       "4  Experimental  2014  "
      ]
     },
     "execution_count": 14,
     "metadata": {},
     "output_type": "execute_result"
    }
   ],
   "source": [
    "def reduce_tsne(data, reduce_to=2):\n",
    "    tsne = TSNE(n_components=reduce_to, verbose=1, perplexity=40, n_iter=300)\n",
    "    tsne_results = tsne.fit_transform(data)\n",
    "    print('TSNE Done!')\n",
    "    return tsne_results\n",
    "\n",
    "tsne_path = '{pkl}{tsne}'.format(pkl=PKL_DIR , tsne='tsne.pkl')\n",
    "track_artist_reduced = tracks_df.sample(frac=0.125).merge(artists_df)\n",
    "\n",
    "if os.path.exists(tsne_path):\n",
    "    data = pd.read_pickle(tsne_path)\n",
    "else:\n",
    "    features = track_artist_reduced.fillna(0)[FEATURES]\n",
    "    kmeans = KMeans(n_clusters=8)  \n",
    "    kmeans.fit(features) \n",
    "\n",
    "    coord = reduce_tsne(features, reduce_to=3)\n",
    "\n",
    "    d = {'x': coord[:, 0] , 'y': coord[:, 1], 'z': coord[:, 2], \n",
    "         'cluster': kmeans.labels_}\n",
    "\n",
    "    data = pd.DataFrame(data=d)\n",
    "    pd.to_pickle(data, tsne_path)\n",
    "    \n",
    "data = pd.concat([data, track_artist_reduced], axis=1)\n",
    "data = data.merge(albums_df).merge(track_genre_rel_df).merge(genres_df)\n",
    "data['year'] = data['album_date_released'].dt.year\n",
    "data_filter = data[['x', 'y', 'z', 'cluster', 'track_title', \n",
    "                    'album_title', 'artist_name', 'genre_parent', 'year']]\n",
    "data_filter.to_csv('../{csv}{file}'.format(csv=CSV_DIR, file='tsne.csv'))\n",
    "data_filter.head()\n"
   ]
  },
  {
   "cell_type": "markdown",
   "metadata": {},
   "source": [
    "#### Relation between danceability and duration of the song\n",
    "Now we will try to find correlation between different features of the tracks, in this case the danceability and the duration of the song"
   ]
  },
  {
   "cell_type": "code",
   "execution_count": 15,
   "metadata": {},
   "outputs": [],
   "source": [
    "tracks_df.insert(loc=13, column='track_duration_minutes',\n",
    "                 value=(tracks_df['track_duration'] / 60))\n",
    "\n",
    "tracks_df['track_duration_minutes'] = pd.to_numeric( \\\n",
    "                                            tracks_df['track_duration_minutes'])\n"
   ]
  },
  {
   "cell_type": "code",
   "execution_count": null,
   "metadata": {},
   "outputs": [],
   "source": [
    "tracks_df['track_duration_minutes'] = tracks_df['track_duration_minutes'] \\\n",
    "                                                .apply(lambda x : np.rint(x))\n",
    "\n",
    "def danceability_track_duration():\n",
    "    sns.regplot(x='danceability', y='track_duration_minutes',\n",
    "                data=tracks_df, ci=95, \n",
    "                line_kws = {'color': 'green'},\n",
    "                scatter_kws={'s': 0.5})\n",
    "    \n",
    "std_plot(danceability_track_duration)\n"
   ]
  },
  {
   "cell_type": "markdown",
   "metadata": {},
   "source": [
    "In the previous plot we can see that there is no clear correlation between danceability and the duration of the tracks, and to support this hypthesis we calculate the Spearman and Pearson Coefficient"
   ]
  },
  {
   "cell_type": "code",
   "execution_count": null,
   "metadata": {},
   "outputs": [],
   "source": [
    "tracks_df_correlation = tracks_df.dropna()\n",
    "spearman_coeff = stats.spearmanr(tracks_df_correlation['danceability'], \n",
    "                                 tracks_df_correlation['track_duration_minutes'])\n",
    "print('The spearman correlation is: {}'.format(spearman_coeff))\n"
   ]
  },
  {
   "cell_type": "code",
   "execution_count": null,
   "metadata": {},
   "outputs": [],
   "source": [
    "pearson_coeff = stats.pearsonr(tracks_df_correlation['danceability'], \n",
    "                                 tracks_df_correlation['track_duration_minutes'])\n",
    "print('The pearson correlation is: {}'.format(pearson_coeff))"
   ]
  },
  {
   "cell_type": "markdown",
   "metadata": {},
   "source": [
    "* With the previous results of the Spearman and Pearson coefficients, we conclude that there is no direct strong correlation between the duration of the tracks and the danceability\n"
   ]
  },
  {
   "cell_type": "markdown",
   "metadata": {},
   "source": [
    "## Relation between valence and other variables"
   ]
  },
  {
   "cell_type": "markdown",
   "metadata": {},
   "source": [
    "One of the key features of the tracks is \"Valence\", which refers to the degree of positive or negative emotions one perceives from a song. We'll try to find some relations between this feature and the other key features \"Danceability\" and \"Energy\".\n"
   ]
  },
  {
   "cell_type": "code",
   "execution_count": null,
   "metadata": {},
   "outputs": [],
   "source": [
    "def danceability_valence():\n",
    "    sns.regplot(x='valence', y='danceability',\n",
    "                data=tracks_df, ci=95, \n",
    "                line_kws = {'color': 'green'},\n",
    "                scatter_kws={'s': 0.05})\n",
    "    \n",
    "std_plot(danceability_valence)\n"
   ]
  },
  {
   "cell_type": "markdown",
   "metadata": {},
   "source": [
    "As we can observe in the previous plot there is a moderate positive correlation between the valence and danceability, to confirm this we calculate the Spearman and Pearson correlation."
   ]
  },
  {
   "cell_type": "code",
   "execution_count": null,
   "metadata": {},
   "outputs": [],
   "source": [
    "spearman_coeff = stats.spearmanr(tracks_df_correlation['valence'], \n",
    "                                 tracks_df_correlation['danceability'])\n",
    "print('The spearman correlation is: {}'.format(spearman_coeff))\n"
   ]
  },
  {
   "cell_type": "code",
   "execution_count": null,
   "metadata": {},
   "outputs": [],
   "source": [
    "pearson_coeff = stats.pearsonr(tracks_df_correlation['valence'], \n",
    "                                 tracks_df_correlation['danceability'])\n",
    "print('The pearson correlation is: {}'.format(pearson_coeff))"
   ]
  },
  {
   "cell_type": "markdown",
   "metadata": {},
   "source": [
    "* With the previous results of the Spearman and Pearson coefficients, we conclude that there is moderate correlation between the valence and the danceability of a track"
   ]
  },
  {
   "cell_type": "code",
   "execution_count": null,
   "metadata": {
    "scrolled": true
   },
   "outputs": [],
   "source": [
    "def track_listen_valence():\n",
    "    sns.regplot(x='valence', y='energy',\n",
    "                data=tracks_df, ci=95, \n",
    "                line_kws ={'color': 'green'}, \n",
    "                scatter_kws={'s': 0.01})\n",
    "    \n",
    "std_plot(track_listen_valence)\n"
   ]
  },
  {
   "cell_type": "code",
   "execution_count": null,
   "metadata": {},
   "outputs": [],
   "source": [
    "spearman_coeff = stats.spearmanr(tracks_df_correlation['valence'], \n",
    "                                 tracks_df_correlation['energy'])\n",
    "print('The spearman correlation is: {}'.format(spearman_coeff))\n"
   ]
  },
  {
   "cell_type": "code",
   "execution_count": null,
   "metadata": {},
   "outputs": [],
   "source": [
    "pearson_coeff = stats.pearsonr(tracks_df_correlation['valence'], \n",
    "                                 tracks_df_correlation['energy'])\n",
    "print('The pearson correlation is: {}'.format(pearson_coeff))"
   ]
  },
  {
   "cell_type": "markdown",
   "metadata": {},
   "source": [
    "* With the previous results of the Spearman and Pearson coefficients, we conclude that there is low correlation between the valence and the energy of a track"
   ]
  },
  {
   "cell_type": "markdown",
   "metadata": {},
   "source": [
    "## Top tracks/genres"
   ]
  },
  {
   "cell_type": "markdown",
   "metadata": {},
   "source": [
    "As we have seen that the valence has correlation between Energy and Danceability, so we conclude that this is an important feature and we will make a plot with the top genres with the highest average valence"
   ]
  },
  {
   "cell_type": "code",
   "execution_count": null,
   "metadata": {},
   "outputs": [],
   "source": [
    "track_rel = tracks_df.merge(track_genre_rel_df)\n",
    "track_genre = track_rel.merge(genres_df)\n",
    "genre_valence = track_genre.groupby('genre_parent')['valence'].mean()\n",
    "\n",
    "top10_genre_valence = genre_valence.sort_values(ascending=False)\n",
    "\n",
    "def genre_valence_top10():\n",
    "    top10_genre_valence.plot(kind='bar')\n",
    "       \n",
    "std_plot(genre_valence_top10, title='Valence per genre')"
   ]
  },
  {
   "cell_type": "markdown",
   "metadata": {},
   "source": [
    "As we can see in the previous graph the genre with the highest average valence is \"International\" so we will explore this genre with more detail."
   ]
  },
  {
   "cell_type": "markdown",
   "metadata": {},
   "source": [
    "Then we will focus to see which genre was the one with the most releases per year."
   ]
  },
  {
   "cell_type": "code",
   "execution_count": null,
   "metadata": {},
   "outputs": [],
   "source": [
    "track_genre_album = track_genre.merge(albums_df)\n",
    "\n",
    "genre_year = track_genre_album[['genre_parent', 'album_date_released']]\n",
    "genre_year.insert(loc=2, column='album_released_year',\n",
    "                  value=(genre_year['album_date_released'].dt.year))\n"
   ]
  },
  {
   "cell_type": "code",
   "execution_count": null,
   "metadata": {},
   "outputs": [],
   "source": [
    "top_genre = genre_year.groupby(genre_year['genre_parent']).size()\n",
    "top_genre_sorted = top_genre.sort_values(ascending=False)\n",
    "\n",
    "def genres_num_track_top10():\n",
    "    top_genre_sorted.plot(kind='bar')\n",
    "    plt.grid()\n",
    "\n",
    "std_plot(genres_num_track_top10,\n",
    "         title='Top 10 Genres with more # of tracks')"
   ]
  },
  {
   "cell_type": "markdown",
   "metadata": {},
   "source": [
    "We can observe that the genre with the highest number of tracks is experimental followed closely by electronic"
   ]
  },
  {
   "cell_type": "markdown",
   "metadata": {},
   "source": [
    "The next plot shows the top 10 Genres according to the popularity of that song, this is a key plot as we will observe that is the top genre over the las 18 years according to the \"Hotness\" of the artist and the tracks."
   ]
  },
  {
   "cell_type": "code",
   "execution_count": null,
   "metadata": {},
   "outputs": [],
   "source": [
    "# Top Genres with more popularity\n",
    "genre_popularity = track_genre.groupby('genre_parent')['song_hotness'].mean()\n",
    "top10_genre_popularity = genre_popularity.sort_values(ascending=False)\n",
    "\n",
    "def genre_popularity_top10():\n",
    "    top10_genre_popularity.plot(kind='bar')\n",
    "    \n",
    "std_plot(genre_popularity_top10, \n",
    "         title='Top 10 Genres with more popularity')\n"
   ]
  },
  {
   "cell_type": "markdown",
   "metadata": {},
   "source": [
    "We can observe that the most popular genre according to the \"Hotness\" is Spoken, which is a emerging genre specially on Spotify."
   ]
  },
  {
   "cell_type": "markdown",
   "metadata": {},
   "source": [
    "# TOP ARTIST THROUGHT YEARS SINCE 2000"
   ]
  },
  {
   "cell_type": "markdown",
   "metadata": {},
   "source": [
    "The next section is to analyze the top artists over the las 18 years, this analysis will separated depending on the :\n",
    "\n",
    "-Artist_Hotness, -Track_Hotness and -Barplots over each year to see the evolution "
   ]
  },
  {
   "cell_type": "code",
   "execution_count": null,
   "metadata": {},
   "outputs": [],
   "source": [
    "# Top 10 artists by artists_hotness\n",
    "top10_artists = artists_df[['artist_name', 'artist_hotness']] \\\n",
    "                    .sort_values(by='artist_hotness',\n",
    "                                 ascending=False).head(20)\n",
    "\n",
    "def artists_top10():\n",
    "    return top10_artists.plot(x='artist_name', y='artist_hotness',\n",
    "                              kind='bar')\n",
    "    \n",
    "std_plot(artists_top10, title='Top 10 Artists by artist_hotness')\n"
   ]
  },
  {
   "cell_type": "code",
   "execution_count": null,
   "metadata": {},
   "outputs": [],
   "source": [
    "# Top 10 artists by tracks popularity\n",
    "track_artist = tracks_df.merge(artists_df)\n",
    "track_hotness_artist = track_artist.groupby('artist_name')['song_hotness'].mean()\n",
    "top10_artists = track_hotness_artist.sort_values(ascending=False).head(20)\n",
    "\n",
    "def artists_top10():\n",
    "    top10_artists.plot(kind='bar')\n",
    "    \n",
    "std_plot(artists_top10, title='Top 10 Artists by track hotness')\n"
   ]
  },
  {
   "cell_type": "code",
   "execution_count": null,
   "metadata": {},
   "outputs": [],
   "source": [
    "# Top Artists Evolution since 2000 by year\n",
    "tracks_albums_artists = tracks_df.merge(albums_df).merge(artists_df)\n",
    "\n",
    "for year in range(2000, 2019):\n",
    "    is_from_year = tracks_albums_artists['album_date_released'].dt.year == year\n",
    "    filter_tracks = tracks_albums_artists[is_from_year]\n",
    "    \n",
    "    track_hotness_artist = filter_tracks.groupby('artist_name')['song_hotness'].mean()\n",
    "    top10_artists = track_hotness_artist.sort_values(ascending=False).head(10)\n",
    "\n",
    "    def artists_top10():\n",
    "        top10_artists.plot(kind='bar')\n",
    "\n",
    "    std_plot(artists_top10, title='Top 10 Artists by track hotness of year {}'.format(year))\n",
    "    "
   ]
  },
  {
   "cell_type": "code",
   "execution_count": null,
   "metadata": {},
   "outputs": [],
   "source": [
    "# Top Artists Evolution since 2000 by year interval\n",
    "interval_y = [(2000, 2010), (2010, 2018)]\n",
    "\n",
    "for from_y, to_y in interval_y:\n",
    "    album_released_year = tracks_albums_artists['album_date_released'].dt.year\n",
    "    from_y_cond =  album_released_year >= from_y\n",
    "    to_y_cond = album_released_year < to_y\n",
    "    is_from_to_y = from_y_cond & to_y_cond\n",
    "    filter_tracks = tracks_albums_artists[is_from_to_y]\n",
    "    \n",
    "    track_hotness_artist = filter_tracks.groupby('artist_name')['song_hotness'].mean()\n",
    "    top10_artists = track_hotness_artist.sort_values(ascending=False).head(10)\n",
    "\n",
    "    def artists_top10():\n",
    "        top10_artists.plot(kind='bar')\n",
    "\n",
    "    std_plot(artists_top10, \n",
    "             title='Top 10 Artists by track hotness of from {from_y} to {to_y}'.format(from_y=from_y,\n",
    "                                                                                       to_y=to_y))"
   ]
  },
  {
   "cell_type": "markdown",
   "metadata": {},
   "source": [
    "## Evolution of music Valence/Energy/Danceability"
   ]
  },
  {
   "cell_type": "markdown",
   "metadata": {},
   "source": [
    "This section is to analyze the evolution of the music depending on the key features of \"Valence\", \"Energy\" and \"Danceability\"."
   ]
  },
  {
   "cell_type": "code",
   "execution_count": null,
   "metadata": {
    "scrolled": true
   },
   "outputs": [],
   "source": [
    "tracks_albums = tracks_df.merge(albums_df, how='inner')\n"
   ]
  },
  {
   "cell_type": "markdown",
   "metadata": {},
   "source": [
    "We will focus on the the seasons evolution: \"Summer\", \"Winter\", \"Spring\" and \"Autum\""
   ]
  },
  {
   "cell_type": "code",
   "execution_count": null,
   "metadata": {},
   "outputs": [],
   "source": [
    "tracks_albums_summer = tracks_albums.loc[lambda tracks_albums: (tracks_albums.album_date_released.dt.month >5)\\\n",
    "                 & (tracks_albums.album_date_released.dt.month <9)]\n",
    "tracks_albums_winter = tracks_albums.loc[lambda tracks_albums: ((tracks_albums.album_date_released.dt.month >11)\\\n",
    "                 | (tracks_albums.album_date_released.dt.month <3))]\n",
    "tracks_albums_spring = tracks_albums.loc[lambda tracks_albums: (tracks_albums.album_date_released.dt.month >2)\\\n",
    "                 & (tracks_albums.album_date_released.dt.month <6)]\n",
    "tracks_albums_autumn = tracks_albums.loc[lambda tracks_albums: (tracks_albums.album_date_released.dt.month >8)\\\n",
    "                 & (tracks_albums.album_date_released.dt.month <12)]\n"
   ]
  },
  {
   "cell_type": "code",
   "execution_count": null,
   "metadata": {},
   "outputs": [],
   "source": [
    "#summer\n",
    "tracks_albums_summer_year = tracks_albums_summer.groupby([(tracks_albums_summer['album_date_released'].dt.year.rename('year')),\\\n",
    "                          (tracks_albums_summer['album_date_released'].dt.month.rename('month'))]).mean()\n",
    "\n",
    "tracks_albums_summer_year_mean = tracks_albums_summer_year.groupby('year').mean()\n",
    "tracks_albums_summer_year_mean_valence = tracks_albums_summer_year_mean[['valence']]\n",
    "\n",
    "# winter\n",
    "\n",
    "tracks_albums_winter_year = tracks_albums_winter.groupby([(tracks_albums_winter['album_date_released'].dt.year.rename('year')),\\\n",
    "                          (tracks_albums_winter['album_date_released'].dt.month.rename('month'))]).mean()\n",
    "\n",
    "tracks_albums_winter_year_mean = tracks_albums_winter_year.groupby('year').mean()\n",
    "tracks_albums_winter_year_mean_valence = tracks_albums_winter_year_mean[['valence']]\n",
    "\n",
    "#spring\n",
    "tracks_albums_spring_year = tracks_albums_spring.groupby([(tracks_albums_spring['album_date_released'].dt.year.rename('year')),\\\n",
    "                          (tracks_albums_spring['album_date_released'].dt.month.rename('month'))]).mean()\n",
    "\n",
    "tracks_albums_spring_year_mean = tracks_albums_spring_year.groupby('year').mean()\n",
    "tracks_albums_spring_year_mean_valence = tracks_albums_spring_year_mean[['valence']]\n",
    "\n",
    "#autumn\n",
    "tracks_albums_autumn_year = tracks_albums_autumn.groupby([(tracks_albums_autumn['album_date_released'].dt.year.rename('year')),\\\n",
    "                          (tracks_albums_autumn['album_date_released'].dt.month.rename('month'))]).mean()\n",
    "\n",
    "tracks_albums_autumn_year_mean = tracks_albums_autumn_year.groupby('year').mean()\n",
    "tracks_albums_autumn_year_mean_valence = tracks_albums_autumn_year_mean[['valence']]\n",
    "\n",
    "tracks_albums_total = tracks_albums.groupby([(tracks_albums['album_date_released'].dt.year.rename('year'))\\\n",
    "                                                           ]).mean()\n",
    "tracks_albums_total_valence = tracks_albums_total[['valence']]\n",
    "\n",
    "def valence_seasons():\n",
    "    plt.grid()\n",
    "    sns.lineplot(data=tracks_albums_total_valence[\"valence\"],\n",
    "                 color=\"black\", label=\"Valence Total\", linewidth=5)\n",
    "    sns.lineplot(data=tracks_albums_summer_year_mean_valence[\"valence\"],\n",
    "                 color=\"red\", label=\"Valence Summer\")\n",
    "    sns.lineplot(data=tracks_albums_winter_year_mean_valence[\"valence\"], \n",
    "                 color=\"darkblue\", label=\"Valence Winter\")\n",
    "    sns.lineplot(data=tracks_albums_spring_year_mean_valence[\"valence\"], \n",
    "                 color=\"lightgreen\", label=\"Valence Spring\")\n",
    "    return sns.lineplot(data=tracks_albums_autumn_year_mean_valence[\"valence\"], \n",
    "                        color=\"coral\", label=\"Valence Autumn\")\n",
    "\n",
    "std_plot(valence_seasons, title='Valence Seasons')\n"
   ]
  },
  {
   "cell_type": "markdown",
   "metadata": {},
   "source": [
    "From the previous graphic we can observe that the valence of the music in general had a significant decrease from the 2000 until 2002, then there is a rise around 2004 and after that remains estable between 0.4 and 0.5"
   ]
  },
  {
   "cell_type": "code",
   "execution_count": null,
   "metadata": {},
   "outputs": [],
   "source": [
    "tracks_albums_summer_year_mean = tracks_albums_summer_year.groupby('year').mean()\n",
    "tracks_albums_summer_year_mean_danceability = tracks_albums_summer_year_mean[['danceability']]\n",
    "\n",
    "tracks_albums_winter_year_mean = tracks_albums_winter_year.groupby('year').mean()\n",
    "tracks_albums_winter_year_mean_danceability = tracks_albums_winter_year_mean[['danceability']]\n",
    "\n",
    "tracks_albums_spring_year_mean = tracks_albums_spring_year.groupby('year').mean()\n",
    "tracks_albums_spring_year_mean_danceability = tracks_albums_spring_year_mean[['danceability']]\n",
    "\n",
    "tracks_albums_autumn_year_mean = tracks_albums_autumn_year.groupby('year').mean()\n",
    "tracks_albums_autumn_year_mean_danceability = tracks_albums_autumn_year_mean[['danceability']]\n",
    "\n",
    "tracks_albums_total = tracks_albums.groupby([(tracks_albums['album_date_released'].dt.year.rename('year'))\\\n",
    "                                                           ]).mean()\n",
    "tracks_albums_total_valence = tracks_albums_total[['danceability']]\n",
    "\n",
    "def valence_seasons():\n",
    "    plt.grid()\n",
    "    sns.lineplot(data=tracks_albums_total_valence[\"danceability\"], \n",
    "                 color=\"black\", label=\"Danceability Summer\", linewidth=5)\n",
    "    sns.lineplot(data=tracks_albums_summer_year_mean_danceability[\"danceability\"], \n",
    "                 color=\"red\", label=\"Danceability Summer\")\n",
    "    sns.lineplot(data=tracks_albums_winter_year_mean_danceability[\"danceability\"],\n",
    "                 color=\"darkblue\", label=\"Danceability Winter\")\n",
    "    sns.lineplot(data=tracks_albums_spring_year_mean_danceability[\"danceability\"], \n",
    "                 color=\"lightgreen\", label=\"Danceability Spring\")\n",
    "    return sns.lineplot(data=tracks_albums_autumn_year_mean_danceability[\"danceability\"],\n",
    "                        color=\"coral\", label=\"Danceability Autumn\")\n",
    "\n",
    "std_plot(valence_seasons, title='Danceability Seasons')\n"
   ]
  },
  {
   "cell_type": "markdown",
   "metadata": {},
   "source": [
    "From the previous graphic we can observe that the danceability of the music increased since the 2000's, with almost doubled value in 2018, the season of the year were the most danceably songs are realeased is winter as you can observe in the previous plot (blue line)."
   ]
  },
  {
   "cell_type": "code",
   "execution_count": null,
   "metadata": {},
   "outputs": [],
   "source": [
    "tracks_albums_summer_year_mean = tracks_albums_summer_year.groupby('year').mean()\n",
    "tracks_albums_summer_year_mean_energy = tracks_albums_summer_year_mean[['energy']]\n",
    "\n",
    "tracks_albums_winter_year_mean = tracks_albums_winter_year.groupby('year').mean()\n",
    "tracks_albums_winter_year_mean_energy = tracks_albums_winter_year_mean[['energy']]\n",
    "\n",
    "tracks_albums_spring_year_mean = tracks_albums_spring_year.groupby('year').mean()\n",
    "tracks_albums_spring_year_mean_energy = tracks_albums_spring_year_mean[['energy']]\n",
    "\n",
    "tracks_albums_autumn_year_mean = tracks_albums_autumn_year.groupby('year').mean()\n",
    "tracks_albums_autumn_year_mean_energy = tracks_albums_autumn_year_mean[['energy']]\n",
    "\n",
    "tracks_albums_total = tracks_albums.groupby([(tracks_albums['album_date_released'].dt.year.rename('year'))\\\n",
    "                                                           ]).mean()\n",
    "tracks_albums_total_valence = tracks_albums_total[['energy']]\n",
    "\n",
    "def energy_seasons():\n",
    "    plt.grid()\n",
    "    sns.lineplot(data=tracks_albums_total_valence[\"energy\"], \n",
    "                 color=\"black\", label=\"Energy Summer\", linewidth=5)\n",
    "    sns.lineplot(data=tracks_albums_summer_year_mean_energy[\"energy\"], \n",
    "                 color=\"red\", label=\"Energy Summer\")\n",
    "    sns.lineplot(data=tracks_albums_winter_year_mean_energy[\"energy\"],\n",
    "                 color=\"darkblue\", label=\"Energy Winter\")\n",
    "    sns.lineplot(data=tracks_albums_spring_year_mean_energy[\"energy\"],\n",
    "                 color=\"lightgreen\", label=\"Energy Spring\")\n",
    "    return sns.lineplot(data=tracks_albums_autumn_year_mean_energy[\"energy\"],\n",
    "                        color=\"coral\", label=\"Energy Autumn\")\n",
    "\n",
    "std_plot(energy_seasons, title='Energy Seasons')\n"
   ]
  },
  {
   "cell_type": "markdown",
   "metadata": {},
   "source": [
    "The highest period in terms of energy of the music is around 2012 with a value of almost 0.65, however this value decreased in the last years, and is showing a decreassing trend as you can observe in the previous plot."
   ]
  },
  {
   "cell_type": "markdown",
   "metadata": {},
   "source": [
    "## Evolution of music 2000-2010 Valence/Energy/Danceability Seasons"
   ]
  },
  {
   "cell_type": "markdown",
   "metadata": {},
   "source": [
    "The following section will do a more extensive research about the key features of the tracks on the period of 2000-2010."
   ]
  },
  {
   "cell_type": "code",
   "execution_count": null,
   "metadata": {},
   "outputs": [],
   "source": [
    "#sumer\n",
    "tracks_albums_summer_2000 = tracks_albums.loc[lambda tracks_albums: (tracks_albums.album_date_released.dt.month >5)\\\n",
    "                 & (tracks_albums.album_date_released.dt.month <9) \\\n",
    "                 & (tracks_albums.album_date_released.dt.year >1999)\\\n",
    "                 & (tracks_albums.album_date_released.dt.year <2010)                           ]\n",
    "tracks_albums_summer_2000_year = tracks_albums_summer_2000.groupby([(tracks_albums_summer_2000['album_date_released'].dt.year.rename('year')),\\\n",
    "                          (tracks_albums_summer_2000['album_date_released'].dt.month.rename('month'))]).mean()\n",
    "\n",
    "#winter\n",
    "tracks_albums_winter_2000 = tracks_albums.loc[lambda tracks_albums: ((tracks_albums.album_date_released.dt.month <3)\\\n",
    "                 | (tracks_albums.album_date_released.dt.month >11)) \\\n",
    "                 & (tracks_albums.album_date_released.dt.year >1999)\\\n",
    "                 & (tracks_albums.album_date_released.dt.year <2010)                           ]\n",
    "tracks_albums_winter_2000_year = tracks_albums_winter_2000.groupby([(tracks_albums_winter_2000['album_date_released'].dt.year.rename('year')),\\\n",
    "                          (tracks_albums_winter_2000['album_date_released'].dt.month.rename('month'))]).mean()\n",
    "\n",
    "#spring\n",
    "tracks_albums_spring_2000 = tracks_albums.loc[lambda tracks_albums: (tracks_albums.album_date_released.dt.month >2)\\\n",
    "                 & (tracks_albums.album_date_released.dt.month <6) \\\n",
    "                 & (tracks_albums.album_date_released.dt.year >1999)\\\n",
    "                 & (tracks_albums.album_date_released.dt.year <2010)                           ]\n",
    "tracks_albums_spring_2000_year = tracks_albums_spring_2000.groupby([(tracks_albums_spring_2000['album_date_released'].dt.year.rename('year')),\\\n",
    "                          (tracks_albums_spring_2000['album_date_released'].dt.month.rename('month'))]).mean()\n",
    "\n",
    "#autumn\n",
    "tracks_albums_autumn_2000 = tracks_albums.loc[lambda tracks_albums: (tracks_albums.album_date_released.dt.month >8)\\\n",
    "                 & (tracks_albums.album_date_released.dt.month <12) \\\n",
    "                 & (tracks_albums.album_date_released.dt.year >1999)\\\n",
    "                 & (tracks_albums.album_date_released.dt.year <2010)                           ]\n",
    "tracks_albums_autumn_2000_year = tracks_albums_autumn_2000.groupby([(tracks_albums_autumn_2000['album_date_released'].dt.year.rename('year')),\\\n",
    "                          (tracks_albums_autumn_2000['album_date_released'].dt.month.rename('month'))]).mean()\n",
    "#total\n",
    "tracks_albums_total_2000 = tracks_albums.loc[lambda tracks_albums:(tracks_albums.album_date_released.dt.year >1999)\\\n",
    "                 & (tracks_albums.album_date_released.dt.year <2010)]\n",
    "tracks_albums_total_2000_year = tracks_albums_total_2000.groupby([(tracks_albums_total_2000['album_date_released'].dt.year.rename('year'))]).mean()\n"
   ]
  },
  {
   "cell_type": "code",
   "execution_count": null,
   "metadata": {},
   "outputs": [],
   "source": [
    "#summer\n",
    "tracks_albums_summer_2000_year_mean = tracks_albums_summer_2000_year.groupby('year').mean()\n",
    "tracks_albums_summer_2000_year_mean_valence = tracks_albums_summer_2000_year_mean[['valence']]\n",
    "#winter\n",
    "tracks_albums_winter_2000_year_mean = tracks_albums_winter_2000_year.groupby('year').mean()\n",
    "tracks_albums_winter_2000_year_mean_valence = tracks_albums_winter_2000_year_mean[['valence']]\n",
    "#spring\n",
    "tracks_albums_spring_2000_year_mean = tracks_albums_spring_2000_year.groupby('year').mean()\n",
    "tracks_albums_spring_2000_year_mean_valence = tracks_albums_spring_2000_year_mean[['valence']]\n",
    "#autumn\n",
    "tracks_albums_autumn_2000_year_mean = tracks_albums_autumn_2000_year.groupby('year').mean()\n",
    "tracks_albums_autumn_2000_year_mean_valence = tracks_albums_autumn_2000_year_mean[['valence']]\n",
    "#total\n",
    "tracks_albums_total_2000_mean = tracks_albums_total_2000_year.groupby('year').mean()\n",
    "tracks_albums_total_2000_mean_valence = tracks_albums_total_2000_mean[['valence']]\n",
    "\n",
    "def valence_seasons_00_10():\n",
    "    plt.grid()\n",
    "    sns.lineplot(data=tracks_albums_total_2000_mean_valence[\"valence\"], \n",
    "                 color=\"black\", label=\"Valence Total\", linewidth=5)\n",
    "    sns.lineplot(data=tracks_albums_summer_2000_year_mean_valence[\"valence\"], \n",
    "                 color=\"red\", label=\"Valence Summer\")\n",
    "    sns.lineplot(data=tracks_albums_winter_2000_year_mean_valence[\"valence\"],\n",
    "                 color=\"darkblue\", label=\"Valence Winter\")\n",
    "    sns.lineplot(data=tracks_albums_spring_2000_year_mean_valence[\"valence\"], \n",
    "                 color=\"lightgreen\", label=\"Valence Spring\")\n",
    "    return sns.lineplot(data=tracks_albums_autumn_2000_year_mean_valence[\"valence\"], \n",
    "                        color=\"coral\", label=\"Valence Autumn\")\n",
    "\n",
    "std_plot(valence_seasons_00_10, title='Valence Seasons 2000-2010')\n",
    "    "
   ]
  },
  {
   "cell_type": "markdown",
   "metadata": {},
   "source": []
  },
  {
   "cell_type": "code",
   "execution_count": null,
   "metadata": {},
   "outputs": [],
   "source": [
    "def plot_function_seasons(summary_df,feature,period):\n",
    "    N = len(summary_df)\n",
    "    ind = np.arange(N) \n",
    "    width = 0.15\n",
    "    fig = plt.figure(figsize=(13,7))\n",
    "    ax = fig.add_subplot(111)\n",
    "    yvals = summary_df.winter\n",
    "    rects1 = ax.bar(ind, yvals, width,color=\"lightskyblue\")\n",
    "    zvals = summary_df.spring\n",
    "    rects2 = ax.bar(ind+width+0.01, zvals, width,color=\"darkseagreen\")\n",
    "    kvals = summary_df.summer\n",
    "    rects3 = ax.bar(ind+width*2+0.02, kvals, width,color=\"lightcoral\")\n",
    "    xvals = summary_df.autumn\n",
    "    rects4 = ax.bar(ind+width*2+width+0.03, xvals, width,color=\"burlywood\")\n",
    "    \n",
    "    ax.set_xlabel('Year')\n",
    "    ax.set_ylabel(feature)\n",
    "    ax.set_xticks(ind+width)\n",
    "    ax.set_xticklabels( (summary_df.index.values) )\n",
    "    ax.legend( (rects1[0], rects2[0], rects3[0],rects4[0]), ('winter', 'spring', 'summer','autumn') )\n",
    "    plt.grid()\n",
    "    plt.title(str(feature)+\" in the period \"+str(period))\n",
    "    plt.show()\n",
    "    "
   ]
  },
  {
   "cell_type": "code",
   "execution_count": null,
   "metadata": {},
   "outputs": [],
   "source": [
    "summary_valence_2000=pd.merge(pd.merge(tracks_albums_summer_2000_year_mean_valence,tracks_albums_winter_2000_year_mean_valence , on='year'),\n",
    "        pd.merge(tracks_albums_spring_2000_year_mean_valence,tracks_albums_autumn_2000_year_mean_valence , on='year'),on='year')\n",
    "summary_valence_2000.columns=['summer', 'winter', 'spring', 'autumn']\n",
    "summary_valence_2000\n",
    "\n",
    "plot_function_seasons(summary_valence_2000,'Valence',period='2000-2009')"
   ]
  },
  {
   "cell_type": "code",
   "execution_count": null,
   "metadata": {},
   "outputs": [],
   "source": [
    "#summer\n",
    "tracks_albums_summer_2000_year_mean = tracks_albums_summer_2000_year.groupby('year').mean()\n",
    "tracks_albums_summer_2000_year_mean_dancebility = tracks_albums_summer_2000_year_mean[['danceability']]\n",
    "\n",
    "#winter\n",
    "tracks_albums_winter_2000_year_mean = tracks_albums_winter_2000_year.groupby('year').mean()\n",
    "tracks_albums_winter_2000_year_mean_dancebility = tracks_albums_winter_2000_year_mean[['danceability']]\n",
    "\n",
    "#spring\n",
    "tracks_albums_spring_2000_year_mean = tracks_albums_spring_2000_year.groupby('year').mean()\n",
    "tracks_albums_spring_2000_year_mean_dancebility = tracks_albums_spring_2000_year_mean[['danceability']]\n",
    "\n",
    "#autumn\n",
    "tracks_albums_autumn_2000_year_mean = tracks_albums_autumn_2000_year.groupby('year').mean()\n",
    "tracks_albums_autumn_2000_year_mean_dancebility = tracks_albums_autumn_2000_year_mean[['danceability']]\n",
    "#total\n",
    "tracks_albums_total_2000_mean = tracks_albums_total_2000_year.groupby('year').mean()\n",
    "tracks_albums_total_2000_mean_valence = tracks_albums_total_2000_mean[['danceability']]\n",
    "\n",
    "def danceability_seasons_00_10():\n",
    "    plt.grid()\n",
    "    sns.lineplot(data=tracks_albums_total_2000_mean_valence[\"danceability\"], \n",
    "                 color=\"black\", label=\"Danceability Total\", linewidth=5)\n",
    "    sns.lineplot(data=tracks_albums_summer_2000_year_mean_dancebility[\"danceability\"],\n",
    "                 color=\"red\", label=\"Danceability Summer\")\n",
    "    sns.lineplot(data=tracks_albums_winter_2000_year_mean_dancebility[\"danceability\"], \n",
    "                 color=\"darkblue\", label=\"Danceability Winter\")\n",
    "    sns.lineplot(data=tracks_albums_spring_2000_year_mean_dancebility[\"danceability\"],\n",
    "                 color=\"lightgreen\", label=\"Danceability Spring\")\n",
    "    return sns.lineplot(data=tracks_albums_autumn_2000_year_mean_dancebility[\"danceability\"],\n",
    "                        color=\"coral\", label=\"Danceability Autumn\")\n",
    "\n",
    "std_plot(danceability_seasons_00_10, title='Danceability Seasons 2000-2010')\n",
    "    "
   ]
  },
  {
   "cell_type": "code",
   "execution_count": null,
   "metadata": {},
   "outputs": [],
   "source": [
    "summary_danceability_2000=pd.merge(pd.merge(tracks_albums_summer_2000_year_mean_dancebility,tracks_albums_winter_2000_year_mean_dancebility , on='year'),\n",
    "        pd.merge(tracks_albums_spring_2000_year_mean_dancebility,tracks_albums_autumn_2000_year_mean_dancebility , on='year'),on='year')\n",
    "summary_danceability_2000.columns=['summer', 'winter', 'spring', 'autumn']\n",
    "summary_danceability_2000\n",
    "\n",
    "plot_function_seasons(summary_danceability_2000,'Danceability',period='2000-2009')"
   ]
  },
  {
   "cell_type": "code",
   "execution_count": null,
   "metadata": {},
   "outputs": [],
   "source": [
    "#summer\n",
    "tracks_albums_summer_2000_year_mean = tracks_albums_summer_2000_year.groupby('year').mean()\n",
    "tracks_albums_summer_2000_year_mean_energy = tracks_albums_summer_2000_year_mean[['energy']]\n",
    "\n",
    "# winter\n",
    "tracks_albums_winter_2000_year_mean = tracks_albums_winter_2000_year.groupby('year').mean()\n",
    "tracks_albums_winter_2000_year_mean_energy = tracks_albums_winter_2000_year_mean[['energy']]\n",
    "\n",
    "#spring\n",
    "tracks_albums_spring_2000_year_mean = tracks_albums_spring_2000_year.groupby('year').mean()\n",
    "tracks_albums_spring_2000_year_mean_energy = tracks_albums_spring_2000_year_mean[['energy']]\n",
    "\n",
    "#autumn\n",
    "tracks_albums_autumn_2000_year_mean = tracks_albums_autumn_2000_year.groupby('year').mean()\n",
    "tracks_albums_autumn_2000_year_mean_energy = tracks_albums_autumn_2000_year_mean[['energy']]\n",
    "#total\n",
    "tracks_albums_total_2000_mean = tracks_albums_total_2000_year.groupby('year').mean()\n",
    "tracks_albums_total_2000_mean_valence = tracks_albums_total_2000_mean[['energy']]\n",
    "\n",
    "def energy_seasons_00_10():\n",
    "    plt.grid()\n",
    "    sns.lineplot(data=tracks_albums_total_2000_mean_valence[\"energy\"], \n",
    "                 color=\"black\", label=\"Energy Total\", linewidth=5)\n",
    "    sns.lineplot(data=tracks_albums_summer_2000_year_mean_energy[\"energy\"],\n",
    "                 color=\"red\", label=\"Energy Summer\")\n",
    "    sns.lineplot(data=tracks_albums_winter_2000_year_mean_energy[\"energy\"],\n",
    "                 color=\"darkblue\", label=\"Energy Winter\")\n",
    "    sns.lineplot(data=tracks_albums_spring_2000_year_mean_energy[\"energy\"],\n",
    "                 color=\"lightgreen\", label=\"Energy Spring\")\n",
    "    return sns.lineplot(data=tracks_albums_autumn_2000_year_mean_energy[\"energy\"], \n",
    "                        color=\"coral\", label=\"Energy Autumn\")\n",
    "\n",
    "std_plot(energy_seasons_00_10, title='Energy Seasons 2000-2010')\n"
   ]
  },
  {
   "cell_type": "code",
   "execution_count": null,
   "metadata": {},
   "outputs": [],
   "source": [
    "summary_energy_2000=pd.merge(pd.merge(tracks_albums_summer_2000_year_mean_energy,tracks_albums_winter_2000_year_mean_energy , on='year'),\n",
    "        pd.merge(tracks_albums_spring_2000_year_mean_energy,tracks_albums_autumn_2000_year_mean_energy , on='year'),on='year')\n",
    "summary_energy_2000.columns=['summer', 'winter', 'spring', 'autumn']\n",
    "summary_energy_2000\n",
    "\n",
    "plot_function_seasons(summary_energy_2000,'Energy',period='2000-2009')"
   ]
  },
  {
   "cell_type": "markdown",
   "metadata": {},
   "source": [
    "## Evolution of music 2010-2018 Valence/Energy/Danceability"
   ]
  },
  {
   "cell_type": "code",
   "execution_count": null,
   "metadata": {},
   "outputs": [],
   "source": [
    "#summer\n",
    "tracks_albums_summer_2010 = tracks_albums.loc[lambda tracks_albums: (tracks_albums.album_date_released.dt.month >5)\\\n",
    "                 & (tracks_albums.album_date_released.dt.month <9) \\\n",
    "                 & (tracks_albums.album_date_released.dt.year >2009)]\n",
    "tracks_albums_summer_2010_year = tracks_albums_summer_2010.groupby([(tracks_albums_summer_2010['album_date_released'].dt.year.rename('year')),\\\n",
    "                          (tracks_albums_summer_2010['album_date_released'].dt.month.rename('month'))]).mean()\n",
    "\n",
    "#winter\n",
    "tracks_albums_winter_2010 = tracks_albums.loc[lambda tracks_albums: ((tracks_albums.album_date_released.dt.month <3)\\\n",
    "                 | (tracks_albums.album_date_released.dt.month >11)) \\\n",
    "                 & (tracks_albums.album_date_released.dt.year >2009)]\n",
    "tracks_albums_winter_2010_year = tracks_albums_winter_2010.groupby([(tracks_albums_winter_2010['album_date_released'].dt.year.rename('year')),\\\n",
    "                          (tracks_albums_winter_2010['album_date_released'].dt.month.rename('month'))]).mean()\n",
    "\n",
    "#spring\n",
    "tracks_albums_spring_2010 = tracks_albums.loc[lambda tracks_albums: (tracks_albums.album_date_released.dt.month >2)\\\n",
    "                 & (tracks_albums.album_date_released.dt.month <6) \\\n",
    "                 & (tracks_albums.album_date_released.dt.year >2009)]\n",
    "tracks_albums_spring_2010_year = tracks_albums_spring_2010.groupby([(tracks_albums_spring_2010['album_date_released'].dt.year.rename('year')),\\\n",
    "                          (tracks_albums_spring_2010['album_date_released'].dt.month.rename('month'))]).mean()\n",
    "\n",
    "#autumn\n",
    "tracks_albums_autumn_2010 = tracks_albums.loc[lambda tracks_albums: (tracks_albums.album_date_released.dt.month >8)\\\n",
    "                 & (tracks_albums.album_date_released.dt.month <12) \\\n",
    "                 & (tracks_albums.album_date_released.dt.year >2009)]\n",
    "tracks_albums_autumn_2010_year = tracks_albums_autumn_2010.groupby([(tracks_albums_autumn_2010['album_date_released'].dt.year.rename('year')),\\\n",
    "                          (tracks_albums_autumn_2010['album_date_released'].dt.month.rename('month'))]).mean()\n",
    "#total\n",
    "tracks_albums_total_2010 = tracks_albums.loc[lambda tracks_albums:(tracks_albums.album_date_released.dt.year >2009)\\\n",
    "                 & (tracks_albums.album_date_released.dt.year <2019)]\n",
    "tracks_albums_total_2010_year = tracks_albums_total_2010.groupby([(tracks_albums_total_2010['album_date_released'].dt.year.rename('year'))]).mean()\n"
   ]
  },
  {
   "cell_type": "code",
   "execution_count": null,
   "metadata": {},
   "outputs": [],
   "source": [
    "#summer\n",
    "tracks_albums_summer_2010_year_mean = tracks_albums_summer_2010_year.groupby('year').mean()\n",
    "tracks_albums_summer_2010_year_mean_valence = tracks_albums_summer_2010_year_mean[['valence']]\n",
    "\n",
    "#winter\n",
    "tracks_albums_winter_2010_year_mean = tracks_albums_winter_2010_year.groupby('year').mean()\n",
    "tracks_albums_winter_2010_year_mean_valence = tracks_albums_winter_2010_year_mean[['valence']]\n",
    "\n",
    "#spring\n",
    "tracks_albums_spring_2010_year_mean = tracks_albums_spring_2010_year.groupby('year').mean()\n",
    "tracks_albums_spring_2010_year_mean_valence = tracks_albums_spring_2010_year_mean[['valence']]\n",
    "\n",
    "#autumn\n",
    "tracks_albums_autumn_2010_year_mean = tracks_albums_autumn_2010_year.groupby('year').mean()\n",
    "tracks_albums_autumn_2010_year_mean_valence = tracks_albums_autumn_2010_year_mean[['valence']]\n",
    "\n",
    "#total\n",
    "tracks_albums_total_2010_mean = tracks_albums_total_2010_year.groupby('year').mean()\n",
    "tracks_albums_total_2010_mean_valence = tracks_albums_total_2010_mean[['valence']]\n",
    "\n",
    "def valence_seasons_10_18():\n",
    "    plt.grid()\n",
    "    sns.lineplot(data=tracks_albums_total_2010_mean_valence[\"valence\"], \n",
    "                 color=\"black\", label=\"Valence Total\", linewidth=5)\n",
    "    sns.lineplot(data=tracks_albums_summer_2010_year_mean_valence[\"valence\"],\n",
    "                 color=\"red\", label=\"Valence Summer\")\n",
    "    sns.lineplot(data=tracks_albums_winter_2010_year_mean_valence[\"valence\"], \n",
    "                 color=\"darkblue\", label=\"Valence Winter\")\n",
    "    sns.lineplot(data=tracks_albums_spring_2010_year_mean_valence[\"valence\"], \n",
    "                 color=\"lightgreen\", label=\"Valence Spring\")\n",
    "    return sns.lineplot(data=tracks_albums_autumn_2010_year_mean_valence[\"valence\"], \n",
    "                        color=\"coral\", label=\"Valence Autumn\")\n",
    "\n",
    "std_plot(valence_seasons_10_18, title='Valence Seasons 2010-2018')\n"
   ]
  },
  {
   "cell_type": "code",
   "execution_count": null,
   "metadata": {},
   "outputs": [],
   "source": [
    "summary_valence_2010=pd.merge(pd.merge(tracks_albums_summer_2010_year_mean_valence,tracks_albums_winter_2010_year_mean_valence , on='year'),\n",
    "        pd.merge(tracks_albums_spring_2010_year_mean_valence,tracks_albums_autumn_2010_year_mean_valence , on='year'),on='year')\n",
    "summary_valence_2010.columns=['summer', 'winter', 'spring', 'autumn']\n",
    "summary_valence_2010\n",
    "\n",
    "plot_function_seasons(summary_valence_2010,'Valence',period='2010-2018')"
   ]
  },
  {
   "cell_type": "code",
   "execution_count": null,
   "metadata": {
    "scrolled": true
   },
   "outputs": [],
   "source": [
    "#summer\n",
    "tracks_albums_summer_2010_year_mean = tracks_albums_summer_2010_year.groupby('year').mean()\n",
    "tracks_albums_summer_2010_year_mean_danceability= tracks_albums_summer_2010_year_mean[['danceability']]\n",
    "\n",
    "#winter\n",
    "tracks_albums_winter_2010_year_mean = tracks_albums_winter_2010_year.groupby('year').mean()\n",
    "tracks_albums_winter_2010_year_mean_danceability = tracks_albums_winter_2010_year_mean[['danceability']]\n",
    "\n",
    "#spring\n",
    "tracks_albums_spring_2010_year_mean = tracks_albums_spring_2010_year.groupby('year').mean()\n",
    "tracks_albums_spring_2010_year_mean_danceability = tracks_albums_spring_2010_year_mean[['danceability']]\n",
    "\n",
    "#autumn\n",
    "tracks_albums_autumn_2010_year_mean = tracks_albums_autumn_2010_year.groupby('year').mean()\n",
    "tracks_albums_autumn_2010_year_mean_danceability = tracks_albums_autumn_2010_year_mean[['danceability']]\n",
    "\n",
    "#total\n",
    "tracks_albums_total_2010_mean = tracks_albums_total_2010_year.groupby('year').mean()\n",
    "tracks_albums_total_2010_mean_valence = tracks_albums_total_2010_mean[['danceability']]\n",
    "\n",
    "def danceability_seasons_10_18():\n",
    "    plt.grid()\n",
    "    sns.lineplot(data=tracks_albums_total_2010_mean_valence[\"danceability\"], \n",
    "                 color=\"black\", label=\"Danceability Total\", linewidth=5)\n",
    "    sns.lineplot(data=tracks_albums_summer_2010_year_mean_danceability[\"danceability\"],\n",
    "                 color=\"red\", label=\"Danceability Summer\")\n",
    "    sns.lineplot(data=tracks_albums_winter_2010_year_mean_danceability[\"danceability\"],\n",
    "                 color=\"darkblue\", label=\"Danceability Winter\")\n",
    "    sns.lineplot(data=tracks_albums_spring_2010_year_mean_danceability[\"danceability\"],\n",
    "                 color=\"lightgreen\", label=\"Danceability Spring\")\n",
    "    return sns.lineplot(data=tracks_albums_autumn_2010_year_mean_danceability[\"danceability\"],\n",
    "                        color=\"coral\", label=\"Danceability Autumn\")\n",
    "\n",
    "std_plot(danceability_seasons_10_18, title='Danceability Seasons 2010-2018')\n"
   ]
  },
  {
   "cell_type": "code",
   "execution_count": null,
   "metadata": {},
   "outputs": [],
   "source": [
    "summary_danceability_2010=pd.merge(pd.merge(tracks_albums_summer_2010_year_mean_danceability,tracks_albums_winter_2010_year_mean_danceability , on='year'),\n",
    "        pd.merge(tracks_albums_spring_2010_year_mean_danceability,tracks_albums_autumn_2010_year_mean_danceability , on='year'),on='year')\n",
    "summary_danceability_2010.columns=['summer', 'winter', 'spring', 'autumn']\n",
    "summary_danceability_2010\n",
    "\n",
    "plot_function_seasons(summary_danceability_2010,'Danceability',period='2010-2018')"
   ]
  },
  {
   "cell_type": "code",
   "execution_count": null,
   "metadata": {},
   "outputs": [],
   "source": [
    "#summer\n",
    "tracks_albums_summer_2010_year_mean = tracks_albums_summer_2010_year.groupby('year').mean()\n",
    "tracks_albums_summer_2010_year_mean_energy = tracks_albums_summer_2010_year_mean[['energy']]\n",
    "\n",
    "#winter\n",
    "tracks_albums_winter_2010_year_mean = tracks_albums_winter_2010_year.groupby('year').mean()\n",
    "tracks_albums_winter_2010_year_mean_energy = tracks_albums_winter_2010_year_mean[['energy']]\n",
    "\n",
    "#spring\n",
    "tracks_albums_spring_2010_year_mean = tracks_albums_spring_2010_year.groupby('year').mean()\n",
    "tracks_albums_spring_2010_year_mean_energy = tracks_albums_spring_2010_year_mean[['energy']]\n",
    "\n",
    "#autumn\n",
    "tracks_albums_autumn_2010_year_mean = tracks_albums_autumn_2010_year.groupby('year').mean()\n",
    "tracks_albums_autumn_2010_year_mean_energy = tracks_albums_autumn_2010_year_mean[['energy']]\n",
    "\n",
    "#total\n",
    "tracks_albums_total_2010_mean = tracks_albums_total_2010_year.groupby('year').mean()\n",
    "tracks_albums_total_2010_mean_valence = tracks_albums_total_2010_mean[['energy']]\n",
    "\n",
    "def energy_seasons_10_18():\n",
    "    plt.grid()\n",
    "    sns.lineplot(data=tracks_albums_total_2010_mean_valence[\"energy\"], \n",
    "                 color=\"black\", label=\"Energy Total\", linewidth=5)\n",
    "    sns.lineplot(data=tracks_albums_summer_2010_year_mean_energy[\"energy\"], \n",
    "                 color=\"red\", label=\"Energy Summer\")\n",
    "    sns.lineplot(data=tracks_albums_winter_2010_year_mean_energy[\"energy\"],\n",
    "                 color=\"darkblue\", label=\"Energy Winter\")\n",
    "    sns.lineplot(data=tracks_albums_spring_2010_year_mean_energy[\"energy\"],\n",
    "                 color=\"lightgreen\", label=\"Energy Spring\")\n",
    "    return sns.lineplot(data=tracks_albums_autumn_2010_year_mean_energy[\"energy\"],\n",
    "                        color=\"coral\", label=\"Energy Autumn\")\n",
    "\n",
    "std_plot(energy_seasons_10_18, title='Energy Seasons 2010-2018')\n"
   ]
  },
  {
   "cell_type": "code",
   "execution_count": null,
   "metadata": {},
   "outputs": [],
   "source": [
    "summary_energy_2010=pd.merge(pd.merge(tracks_albums_summer_2010_year_mean_energy,tracks_albums_winter_2010_year_mean_energy , on='year'),\n",
    "        pd.merge(tracks_albums_spring_2010_year_mean_energy,tracks_albums_autumn_2010_year_mean_energy , on='year'),on='year')\n",
    "summary_energy_2010.columns=['summer', 'winter', 'spring', 'autumn']\n",
    "summary_energy_2010\n",
    "\n",
    "plot_function_seasons(summary_energy_2010,'Energy',period='2010-2018')"
   ]
  },
  {
   "cell_type": "markdown",
   "metadata": {},
   "source": [
    "In the previous plots we observed the evolution with noisy plots, to fix this problem we will proceed to the next section."
   ]
  },
  {
   "cell_type": "markdown",
   "metadata": {},
   "source": [
    "## Evolution of music 2000-2010 Valence/Energy/Danceability Seasons \n",
    "##### With categorical value of 2 to reduce noise "
   ]
  },
  {
   "cell_type": "markdown",
   "metadata": {},
   "source": [
    "The following section will explain with more detailed the evolution of the key features of the tracks, now we impliment categorical values to group every two years."
   ]
  },
  {
   "cell_type": "code",
   "execution_count": null,
   "metadata": {},
   "outputs": [],
   "source": [
    "#sumer\n",
    "tracks_albums_summer_2000 = tracks_albums.loc[lambda tracks_albums: (tracks_albums.album_date_released.dt.month >5)\\\n",
    "                 & (tracks_albums.album_date_released.dt.month <9) \\\n",
    "                 & (tracks_albums.album_date_released.dt.year >1999)\\\n",
    "                 & (tracks_albums.album_date_released.dt.year <2010)]\n",
    "tracks_albums_summer_2000 = tracks_albums_summer_2000.copy()\n",
    "tracks_albums_summer_2000['categorical_year'] = pd.cut(tracks_albums_summer_2000['album_date_released'].dt.year, \\\n",
    "                                                       [2000, 2002, 2004, 2006, 2008, 2010], \\\n",
    "                                                       labels=[2002, 2004, 2006, 2008, 2010])\n",
    "tracks_albums_summer_2000_year = tracks_albums_summer_2000.groupby('categorical_year').mean()\n",
    "\n",
    "#winter\n",
    "tracks_albums_winter_2000 = tracks_albums.loc[lambda tracks_albums: ((tracks_albums.album_date_released.dt.month <3)\\\n",
    "                 | (tracks_albums.album_date_released.dt.month >11)) \\\n",
    "                 & (tracks_albums.album_date_released.dt.year >1999)\\\n",
    "                 & (tracks_albums.album_date_released.dt.year <2010)]\n",
    "tracks_albums_winter_2000 = tracks_albums_winter_2000.copy()\n",
    "tracks_albums_winter_2000['categorical_year'] = pd.cut(tracks_albums_winter_2000['album_date_released'].dt.year, \\\n",
    "                                                        [2000, 2002, 2004, 2006, 2008, 2010], \\\n",
    "                                                       labels=[2002, 2004, 2006, 2008, 2010])\n",
    "tracks_albums_winter_2000_year = tracks_albums_winter_2000.groupby('categorical_year').mean()\n",
    "\n",
    "#spring\n",
    "tracks_albums_spring_2000 = tracks_albums.loc[lambda tracks_albums: (tracks_albums.album_date_released.dt.month >2)\\\n",
    "                 & (tracks_albums.album_date_released.dt.month <6) \\\n",
    "                 & (tracks_albums.album_date_released.dt.year >1999)\\\n",
    "                 & (tracks_albums.album_date_released.dt.year <2010)]\n",
    "tracks_albums_spring_2000 = tracks_albums_spring_2000.copy()\n",
    "tracks_albums_spring_2000['categorical_year'] = pd.cut(tracks_albums_spring_2000['album_date_released'].dt.year, \\\n",
    "                                                        [2000, 2002, 2004, 2006, 2008, 2010], \\\n",
    "                                                       labels=[2002, 2004, 2006, 2008, 2010])\n",
    "tracks_albums_spring_2000_year = tracks_albums_spring_2000.groupby('categorical_year').mean()\n",
    "\n",
    "#autumn\n",
    "tracks_albums_autumn_2000 = tracks_albums.loc[lambda tracks_albums: (tracks_albums.album_date_released.dt.month >8)\\\n",
    "                 & (tracks_albums.album_date_released.dt.month <12) \\\n",
    "                 & (tracks_albums.album_date_released.dt.year >1999)\\\n",
    "                 & (tracks_albums.album_date_released.dt.year <2010)]\n",
    "tracks_albums_autumn_2000 = tracks_albums_autumn_2000.copy()\n",
    "tracks_albums_autumn_2000['categorical_year'] = pd.cut(tracks_albums_autumn_2000['album_date_released'].dt.year, \\\n",
    "                                                        [2000, 2002, 2004, 2006, 2008, 2010], \\\n",
    "                                                       labels=[2002, 2004, 2006, 2008, 2010])\n",
    "tracks_albums_autumn_2000_year = tracks_albums_autumn_2000.groupby('categorical_year').mean()\n",
    "\n",
    "#total\n",
    "tracks_albums_total_2000 = tracks_albums.loc[lambda tracks_albums:(tracks_albums.album_date_released.dt.year >1999)\\\n",
    "                 & (tracks_albums.album_date_released.dt.year <2010)]\n",
    "tracks_albums_total_2000 = tracks_albums_total_2000.copy()\n",
    "tracks_albums_total_2000['categorical_year'] = pd.cut(tracks_albums_total_2000['album_date_released'].dt.year, \\\n",
    "                                                        [2000, 2002, 2004, 2006, 2008, 2010], \\\n",
    "                                                       labels=[2002, 2004, 2006, 2008, 2010])\n",
    "tracks_albums_total_2000_year = tracks_albums_total_2000.groupby('categorical_year').mean()\n",
    "\n",
    "\n",
    "\n",
    "\n",
    "\n",
    "#summer\n",
    "tracks_albums_summer_2000_year_mean = tracks_albums_summer_2000_year.groupby('categorical_year').mean()\n",
    "tracks_albums_summer_2000_year_mean_valence = tracks_albums_summer_2000_year_mean[['valence']]\n",
    "#winter\n",
    "tracks_albums_winter_2000_year_mean = tracks_albums_winter_2000_year.groupby('categorical_year').mean()\n",
    "tracks_albums_winter_2000_year_mean_valence = tracks_albums_winter_2000_year_mean[['valence']]\n",
    "#spring\n",
    "tracks_albums_spring_2000_year_mean = tracks_albums_spring_2000_year.groupby('categorical_year').mean()\n",
    "tracks_albums_spring_2000_year_mean_valence = tracks_albums_spring_2000_year_mean[['valence']]\n",
    "#autumn\n",
    "tracks_albums_autumn_2000_year_mean = tracks_albums_autumn_2000_year.groupby('categorical_year').mean()\n",
    "tracks_albums_autumn_2000_year_mean_valence = tracks_albums_autumn_2000_year_mean[['valence']]\n",
    "#total\n",
    "tracks_albums_total_2000_mean = tracks_albums_total_2000_year.groupby('categorical_year').mean()\n",
    "tracks_albums_total_2000_mean_valence = tracks_albums_total_2000_mean[['valence']]\n",
    "\n"
   ]
  },
  {
   "cell_type": "code",
   "execution_count": null,
   "metadata": {},
   "outputs": [],
   "source": [
    "def valence_seasons_00_10_categorical():\n",
    "    plt.grid()\n",
    "    plt.ylim(0.3, 0.6)\n",
    "#     plt.yscale(\"log\")\n",
    "    sns.lineplot(data=tracks_albums_total_2000_mean_valence[\"valence\"], \n",
    "                 color=\"black\", label=\"Valence Total\", linewidth=5,)\n",
    "    sns.lineplot(data=tracks_albums_summer_2000_year_mean_valence[\"valence\"], \n",
    "                 color=\"red\", label=\"Valence Summer\")\n",
    "    sns.lineplot(data=tracks_albums_winter_2000_year_mean_valence[\"valence\"],\n",
    "                 color=\"darkblue\", label=\"Valence Winter\")\n",
    "    sns.lineplot(data=tracks_albums_spring_2000_year_mean_valence[\"valence\"], \n",
    "                 color=\"lightgreen\", label=\"Valence Spring\")\n",
    "    return sns.lineplot(data=tracks_albums_autumn_2000_year_mean_valence[\"valence\"], \n",
    "                        color=\"coral\", label=\"Valence Autumn\")\n",
    "\n",
    "std_plot(valence_seasons_00_10, title='Valence Seasons 2000-2010 Categorical')\n",
    "    "
   ]
  },
  {
   "cell_type": "markdown",
   "metadata": {},
   "source": [
    "In the previous plot we can observe that the valence of the tracks increased from the 2002 until 2006, then it had a small decrease until 2008 and since then has remained stable."
   ]
  },
  {
   "cell_type": "code",
   "execution_count": null,
   "metadata": {},
   "outputs": [],
   "source": [
    "#summer\n",
    "tracks_albums_summer_2000_year_mean = tracks_albums_summer_2000_year.groupby('categorical_year').mean()\n",
    "tracks_albums_summer_2000_year_mean_dancebility = tracks_albums_summer_2000_year_mean[['danceability']]\n",
    "\n",
    "#winter\n",
    "tracks_albums_winter_2000_year_mean = tracks_albums_winter_2000_year.groupby('categorical_year').mean()\n",
    "tracks_albums_winter_2000_year_mean_dancebility = tracks_albums_winter_2000_year_mean[['danceability']]\n",
    "\n",
    "#spring\n",
    "tracks_albums_spring_2000_year_mean = tracks_albums_spring_2000_year.groupby('categorical_year').mean()\n",
    "tracks_albums_spring_2000_year_mean_dancebility = tracks_albums_spring_2000_year_mean[['danceability']]\n",
    "\n",
    "#autumn\n",
    "tracks_albums_autumn_2000_year_mean = tracks_albums_autumn_2000_year.groupby('categorical_year').mean()\n",
    "tracks_albums_autumn_2000_year_mean_dancebility = tracks_albums_autumn_2000_year_mean[['danceability']]\n",
    "#total\n",
    "tracks_albums_total_2000_mean = tracks_albums_total_2000_year.groupby('categorical_year').mean()\n",
    "tracks_albums_total_2000_mean_valence = tracks_albums_total_2000_mean[['danceability']]\n",
    "\n",
    "def danceability_seasons_00_10_categorical():\n",
    "    plt.grid()\n",
    "    sns.lineplot(data=tracks_albums_total_2000_mean_valence[\"danceability\"], \n",
    "                 color=\"black\", label=\"Danceability Total\", linewidth=5)\n",
    "    sns.lineplot(data=tracks_albums_summer_2000_year_mean_dancebility[\"danceability\"],\n",
    "                 color=\"red\", label=\"Danceability Summer\")\n",
    "    sns.lineplot(data=tracks_albums_winter_2000_year_mean_dancebility[\"danceability\"], \n",
    "                 color=\"darkblue\", label=\"Danceability Winter\")\n",
    "    sns.lineplot(data=tracks_albums_spring_2000_year_mean_dancebility[\"danceability\"],\n",
    "                 color=\"lightgreen\", label=\"Danceability Spring\")\n",
    "    return sns.lineplot(data=tracks_albums_autumn_2000_year_mean_dancebility[\"danceability\"],\n",
    "                        color=\"coral\", label=\"Danceability Autumn\")\n",
    "\n",
    "std_plot(danceability_seasons_00_10, title='Danceability Seasons 2000-2010 Categorical')\n"
   ]
  },
  {
   "cell_type": "code",
   "execution_count": null,
   "metadata": {},
   "outputs": [],
   "source": [
    "#summer\n",
    "tracks_albums_summer_2000_year_mean = tracks_albums_summer_2000_year.groupby('categorical_year').mean()\n",
    "tracks_albums_summer_2000_year_mean_energy = tracks_albums_summer_2000_year_mean[['energy']]\n",
    "\n",
    "# winter\n",
    "tracks_albums_winter_2000_year_mean = tracks_albums_winter_2000_year.groupby('categorical_year').mean()\n",
    "tracks_albums_winter_2000_year_mean_energy = tracks_albums_winter_2000_year_mean[['energy']]\n",
    "\n",
    "#spring\n",
    "tracks_albums_spring_2000_year_mean = tracks_albums_spring_2000_year.groupby('categorical_year').mean()\n",
    "tracks_albums_spring_2000_year_mean_energy = tracks_albums_spring_2000_year_mean[['energy']]\n",
    "\n",
    "#autumn\n",
    "tracks_albums_autumn_2000_year_mean = tracks_albums_autumn_2000_year.groupby('categorical_year').mean()\n",
    "tracks_albums_autumn_2000_year_mean_energy = tracks_albums_autumn_2000_year_mean[['energy']]\n",
    "#total\n",
    "tracks_albums_total_2000_mean = tracks_albums_total_2000_year.groupby('categorical_year').mean()\n",
    "tracks_albums_total_2000_mean_valence = tracks_albums_total_2000_mean[['energy']]\n",
    "\n",
    "def energy_seasons_00_10_categorical():\n",
    "    plt.grid()\n",
    "    sns.lineplot(data=tracks_albums_total_2000_mean_valence[\"energy\"], \n",
    "                 color=\"black\", label=\"Energy sssssssssssTotal\", linewidth=5)\n",
    "    sns.lineplot(data=tracks_albums_summer_2000_year_mean_energy[\"energy\"],\n",
    "                 color=\"red\", label=\"Energy Summer\")\n",
    "    sns.lineplot(data=tracks_albums_winter_2000_year_mean_energy[\"energy\"],\n",
    "                 color=\"darkblue\", label=\"Energy Winter\")\n",
    "    sns.lineplot(data=tracks_albums_spring_2000_year_mean_energy[\"energy\"],\n",
    "                 color=\"lightgreen\", label=\"Energy Spring\")\n",
    "    return sns.lineplot(data=tracks_albums_autumn_2000_year_mean_energy[\"energy\"], \n",
    "                        color=\"coral\", label=\"Energy Autumn\")\n",
    "\n",
    "std_plot(energy_seasons_00_10, title='Energy Seasons 2000-2010 Categorical')\n"
   ]
  },
  {
   "cell_type": "markdown",
   "metadata": {},
   "source": [
    "## Evolution of music 2010-2018 Valence/Energy/Danceability\n",
    "##### With categorical value of 2 to reduce noise "
   ]
  },
  {
   "cell_type": "code",
   "execution_count": null,
   "metadata": {},
   "outputs": [],
   "source": [
    "#summer\n",
    "tracks_albums_summer_2010 = tracks_albums.loc[lambda tracks_albums: (tracks_albums.album_date_released.dt.month >5)\\\n",
    "                 & (tracks_albums.album_date_released.dt.month <9) \\\n",
    "                 & (tracks_albums.album_date_released.dt.year >2009)]\n",
    "tracks_albums_summer_2010 = tracks_albums_summer_2010.copy()\n",
    "tracks_albums_summer_2010['categorical_year'] = pd.cut(tracks_albums_summer_2010['album_date_released'].dt.year, \\\n",
    "                                                       [2010, 2012, 2014, 2016, 2018], \\\n",
    "                                                       labels=[2012, 2014, 2016, 2018])\n",
    "tracks_albums_summer_2010_year = tracks_albums_summer_2010.groupby('categorical_year').mean()\n",
    "\n",
    "#winter\n",
    "tracks_albums_winter_2010 = tracks_albums.loc[lambda tracks_albums: ((tracks_albums.album_date_released.dt.month <3)\\\n",
    "                 | (tracks_albums.album_date_released.dt.month >11)) \\\n",
    "                 & (tracks_albums.album_date_released.dt.year >2009)]\n",
    "tracks_albums_winter_2010 = tracks_albums_winter_2010.copy()\n",
    "tracks_albums_winter_2010['categorical_year'] = pd.cut(tracks_albums_winter_2010['album_date_released'].dt.year, \\\n",
    "                                                       [2010, 2012, 2014, 2016, 2018], \\\n",
    "                                                       labels=[2012, 2014, 2016, 2018])\n",
    "tracks_albums_winter_2010_year = tracks_albums_winter_2010.groupby('categorical_year').mean()\n",
    "\n",
    "#spring\n",
    "tracks_albums_spring_2010 = tracks_albums.loc[lambda tracks_albums: (tracks_albums.album_date_released.dt.month >2)\\\n",
    "                 & (tracks_albums.album_date_released.dt.month <6) \\\n",
    "                 & (tracks_albums.album_date_released.dt.year >2009)]\n",
    "tracks_albums_spring_2010 = tracks_albums_spring_2010.copy()\n",
    "tracks_albums_spring_2010['categorical_year'] = pd.cut(tracks_albums_spring_2010['album_date_released'].dt.year, \\\n",
    "                                                       [2010, 2012, 2014, 2016, 2018], \\\n",
    "                                                       labels=[2012, 2014, 2016, 2018])\n",
    "tracks_albums_spring_2010_year = tracks_albums_spring_2010.groupby('categorical_year').mean()\n",
    "\n",
    "#autumn\n",
    "tracks_albums_autumn_2010 = tracks_albums.loc[lambda tracks_albums: (tracks_albums.album_date_released.dt.month >8)\\\n",
    "                 & (tracks_albums.album_date_released.dt.month <12) \\\n",
    "                 & (tracks_albums.album_date_released.dt.year >2009)]\n",
    "tracks_albums_autumn_2010 = tracks_albums_autumn_2010.copy()\n",
    "tracks_albums_autumn_2010['categorical_year'] = pd.cut(tracks_albums_autumn_2010['album_date_released'].dt.year, \\\n",
    "                                                       [2010, 2012, 2014, 2016, 2018], \\\n",
    "                                                       labels=[2012, 2014, 2016, 2018])\n",
    "tracks_albums_autumn_2010_year = tracks_albums_autumn_2010.groupby('categorical_year').mean()\n",
    "#total\n",
    "tracks_albums_total_2010 = tracks_albums.loc[lambda tracks_albums:(tracks_albums.album_date_released.dt.year >2009)\\\n",
    "                 & (tracks_albums.album_date_released.dt.year <2019)]\n",
    "tracks_albums_total_2010 = tracks_albums_total_2010.copy()\n",
    "tracks_albums_total_2010['categorical_year'] = pd.cut(tracks_albums_total_2010['album_date_released'].dt.year, \\\n",
    "                                                       [2010, 2012, 2014, 2016, 2018], \\\n",
    "                                                       labels=[2012, 2014, 2016, 2018])\n",
    "tracks_albums_total_2010_year = tracks_albums_total_2010.groupby('categorical_year').mean()\n"
   ]
  },
  {
   "cell_type": "code",
   "execution_count": null,
   "metadata": {},
   "outputs": [],
   "source": [
    "#summer\n",
    "tracks_albums_summer_2010_year_mean = tracks_albums_summer_2010_year.groupby('categorical_year').mean()\n",
    "tracks_albums_summer_2010_year_mean_valence = tracks_albums_summer_2010_year_mean[['valence']]\n",
    "\n",
    "#winter\n",
    "tracks_albums_winter_2010_year_mean = tracks_albums_winter_2010_year.groupby('categorical_year').mean()\n",
    "tracks_albums_winter_2010_year_mean_valence = tracks_albums_winter_2010_year_mean[['valence']]\n",
    "\n",
    "#spring\n",
    "tracks_albums_spring_2010_year_mean = tracks_albums_spring_2010_year.groupby('categorical_year').mean()\n",
    "tracks_albums_spring_2010_year_mean_valence = tracks_albums_spring_2010_year_mean[['valence']]\n",
    "\n",
    "#autumn\n",
    "tracks_albums_autumn_2010_year_mean = tracks_albums_autumn_2010_year.groupby('categorical_year').mean()\n",
    "tracks_albums_autumn_2010_year_mean_valence = tracks_albums_autumn_2010_year_mean[['valence']]\n",
    "\n",
    "#total\n",
    "tracks_albums_total_2010_mean = tracks_albums_total_2010_year.groupby('categorical_year').mean()\n",
    "tracks_albums_total_2010_mean_valence = tracks_albums_total_2010_mean[['valence']]\n",
    "\n",
    "def valence_seasons_10_18_categorical():\n",
    "    plt.grid()\n",
    "    sns.lineplot(data=tracks_albums_total_2010_mean_valence[\"valence\"], \n",
    "                 color=\"black\", label=\"Valence Total\", linewidth=5)\n",
    "    sns.lineplot(data=tracks_albums_summer_2010_year_mean_valence[\"valence\"],\n",
    "                 color=\"red\", label=\"Valence Summer\")\n",
    "    sns.lineplot(data=tracks_albums_winter_2010_year_mean_valence[\"valence\"], \n",
    "                 color=\"darkblue\", label=\"Valence Winter\")\n",
    "    sns.lineplot(data=tracks_albums_spring_2010_year_mean_valence[\"valence\"], \n",
    "                 color=\"lightgreen\", label=\"Valence Spring\")\n",
    "    return sns.lineplot(data=tracks_albums_autumn_2010_year_mean_valence[\"valence\"], \n",
    "                        color=\"coral\", label=\"Valence Autumn\")\n",
    "\n",
    "std_plot(valence_seasons_10_18, title='Valence Seasons 2010-2018 Categorical')\n"
   ]
  },
  {
   "cell_type": "code",
   "execution_count": null,
   "metadata": {},
   "outputs": [],
   "source": [
    "#summer\n",
    "tracks_albums_summer_2010_year_mean = tracks_albums_summer_2010_year.groupby('categorical_year').mean()\n",
    "tracks_albums_summer_2010_year_mean_danceability= tracks_albums_summer_2010_year_mean[['danceability']]\n",
    "\n",
    "#winter\n",
    "tracks_albums_winter_2010_year_mean = tracks_albums_winter_2010_year.groupby('categorical_year').mean()\n",
    "tracks_albums_winter_2010_year_mean_danceability = tracks_albums_winter_2010_year_mean[['danceability']]\n",
    "\n",
    "#spring\n",
    "tracks_albums_spring_2010_year_mean = tracks_albums_spring_2010_year.groupby('categorical_year').mean()\n",
    "tracks_albums_spring_2010_year_mean_danceability = tracks_albums_spring_2010_year_mean[['danceability']]\n",
    "\n",
    "#autumn\n",
    "tracks_albums_autumn_2010_year_mean = tracks_albums_autumn_2010_year.groupby('categorical_year').mean()\n",
    "tracks_albums_autumn_2010_year_mean_danceability = tracks_albums_autumn_2010_year_mean[['danceability']]\n",
    "\n",
    "#total\n",
    "tracks_albums_total_2010_mean = tracks_albums_total_2010_year.groupby('categorical_year').mean()\n",
    "tracks_albums_total_2010_mean_valence = tracks_albums_total_2010_mean[['danceability']]\n",
    "\n",
    "def danceability_seasons_10_18_categorical():\n",
    "    plt.grid()\n",
    "    sns.lineplot(data=tracks_albums_total_2010_mean_valence[\"danceability\"], \n",
    "                 color=\"black\", label=\"Danceability Total\", linewidth=5)\n",
    "    sns.lineplot(data=tracks_albums_summer_2010_year_mean_danceability[\"danceability\"],\n",
    "                 color=\"red\", label=\"Danceability Summer\")\n",
    "    sns.lineplot(data=tracks_albums_winter_2010_year_mean_danceability[\"danceability\"],\n",
    "                 color=\"darkblue\", label=\"Danceability Winter\")\n",
    "    sns.lineplot(data=tracks_albums_spring_2010_year_mean_danceability[\"danceability\"],\n",
    "                 color=\"lightgreen\", label=\"Danceability Spring\")\n",
    "    return sns.lineplot(data=tracks_albums_autumn_2010_year_mean_danceability[\"danceability\"],\n",
    "                        color=\"coral\", label=\"Danceability Autumn\")\n",
    "\n",
    "std_plot(danceability_seasons_10_18, title='Danceability Seasons 2010-2018 Categorical')\n"
   ]
  },
  {
   "cell_type": "markdown",
   "metadata": {},
   "source": [
    "The previous plot shows the increase of the evolution of the danceability of the tracks, as we can observe there is a clear increase of the danceability, the season where the danceability is higher is winter, but this may be somewhat missleading because winter for the north hemisphere is summer on the south hemisphere, and the gender with the highest danceability is international, where we can have salsa, latin, etc. Coincidence?"
   ]
  },
  {
   "cell_type": "code",
   "execution_count": null,
   "metadata": {},
   "outputs": [],
   "source": [
    "#summer\n",
    "tracks_albums_summer_2010_year_mean = tracks_albums_summer_2010_year.groupby('categorical_year').mean()\n",
    "tracks_albums_summer_2010_year_mean_energy = tracks_albums_summer_2010_year_mean[['energy']]\n",
    "\n",
    "#winter\n",
    "tracks_albums_winter_2010_year_mean = tracks_albums_winter_2010_year.groupby('categorical_year').mean()\n",
    "tracks_albums_winter_2010_year_mean_energy = tracks_albums_winter_2010_year_mean[['energy']]\n",
    "\n",
    "#spring\n",
    "tracks_albums_spring_2010_year_mean = tracks_albums_spring_2010_year.groupby('categorical_year').mean()\n",
    "tracks_albums_spring_2010_year_mean_energy = tracks_albums_spring_2010_year_mean[['energy']]\n",
    "\n",
    "#autumn\n",
    "tracks_albums_autumn_2010_year_mean = tracks_albums_autumn_2010_year.groupby('categorical_year').mean()\n",
    "tracks_albums_autumn_2010_year_mean_energy = tracks_albums_autumn_2010_year_mean[['energy']]\n",
    "\n",
    "#total\n",
    "tracks_albums_total_2010_mean = tracks_albums_total_2010_year.groupby('categorical_year').mean()\n",
    "tracks_albums_total_2010_mean_valence = tracks_albums_total_2010_mean[['energy']]\n",
    "\n",
    "def energy_seasons_10_18_categorical():\n",
    "    plt.grid()\n",
    "    sns.lineplot(data=tracks_albums_total_2010_mean_valence[\"energy\"], \n",
    "                 color=\"black\", label=\"Energy Total\", linewidth=5)\n",
    "    sns.lineplot(data=tracks_albums_summer_2010_year_mean_energy[\"energy\"], \n",
    "                 color=\"red\", label=\"Energy Summer\")\n",
    "    sns.lineplot(data=tracks_albums_winter_2010_year_mean_energy[\"energy\"],\n",
    "                 color=\"darkblue\", label=\"Energy Winter\")\n",
    "    sns.lineplot(data=tracks_albums_spring_2010_year_mean_energy[\"energy\"],\n",
    "                 color=\"lightgreen\", label=\"Energy Spring\")\n",
    "    return sns.lineplot(data=tracks_albums_autumn_2010_year_mean_energy[\"energy\"],\n",
    "                        color=\"coral\", label=\"Energy Autumn\")\n",
    "\n",
    "std_plot(energy_seasons_10_18, title='Energy Seasons 2010-2018 Categorical')\n"
   ]
  },
  {
   "cell_type": "code",
   "execution_count": null,
   "metadata": {},
   "outputs": [],
   "source": [
    "# alls = tracks_df.merge(track_genre_rel_df).merge(genres_df) \\\n",
    "# .merge(albums_df).merge(artists_df)\n",
    "# # alls = alls['album_date_released'].dt.year\n",
    "# alls[alls['album_date_released'].dt.year > 2013]\n",
    "# genres = alls.groupby('genre_parent').mean().sort_values(by='song_hotness',\n",
    "#                                                   ascending=False).head(10)\n",
    "# genres = genres.reset_index()[['genre_id', 'genre_parent']]\n",
    "\n",
    "# a = tracks_df.merge(track_genre_rel_df).merge(genres_df).merge(genres, right_on='genre_parent', left_on='genre_parent') \\\n",
    "#         .merge(albums_df).merge(artists_df)\n",
    "# b = a.sort_values(by='song_hotness', ascending=False)\n",
    "# c = b.groupby(['genre_parent', b.album_date_released.dt.year, 'artist_name']).mean()\n",
    "# c.dropna(subset=['song_hotness'])\n",
    "# c.sort_values(by='song_hotness', ascending=False, inplace=True)\n",
    "# c.head(200)\n",
    "# # c.danceability\n",
    "# # tracks_albums_winter_2010 = tracks_albums.loc[lambda tracks_albums: ((tracks_albums.album_date_released.dt.month <3)\\\n",
    "# #                  | (tracks_albums.album_date_released.dt.month >11)) \\\n",
    "# #                  & (tracks_albums.album_date_released.dt.year >2009)]\n",
    "# # test = c.loc[lambda c:(c.album_date_released>2016)]\n",
    "# # test\n",
    "# # c.to_csv('test.csv', encoding='utf-8')"
   ]
  },
  {
   "cell_type": "code",
   "execution_count": null,
   "metadata": {},
   "outputs": [],
   "source": []
  },
  {
   "cell_type": "code",
   "execution_count": null,
   "metadata": {},
   "outputs": [],
   "source": []
  }
 ],
 "metadata": {
  "kernelspec": {
   "display_name": "Python 3",
   "language": "python",
   "name": "python3"
  },
  "language_info": {
   "codemirror_mode": {
    "name": "ipython",
    "version": 3
   },
   "file_extension": ".py",
   "mimetype": "text/x-python",
   "name": "python",
   "nbconvert_exporter": "python",
   "pygments_lexer": "ipython3",
   "version": "3.6.5"
  }
 },
 "nbformat": 4,
 "nbformat_minor": 1
}
