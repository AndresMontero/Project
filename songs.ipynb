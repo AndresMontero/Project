{
 "cells": [
  {
   "cell_type": "markdown",
   "metadata": {},
   "source": [
    "# ADA 2018 -  “Happiness” Share it through music.\n",
    "\n",
    "#### Andres Montero, Ariel Alba, Diego Iriarte\n",
    "\n",
    "\n"
   ]
  },
  {
   "cell_type": "code",
   "execution_count": null,
   "metadata": {},
   "outputs": [],
   "source": [
    "% matplotlib inline\n",
    "import pandas as pd\n",
    "import numpy as np\n",
    "import matplotlib.pyplot as plt\n",
    "import reverse_geocoder as rg\n",
    "import os.path\n",
    "import ast\n",
    "import seaborn as sns\n",
    "\n",
    "from helpers import *\n",
    "from datetime import datetime, date, time\n",
    "from scipy import stats\n",
    "\n",
    "%load_ext autoreload\n",
    "%autoreload 2\n"
   ]
  },
  {
   "cell_type": "code",
   "execution_count": null,
   "metadata": {},
   "outputs": [],
   "source": [
    "# Constants\n",
    "DATA_DIR = './data/'\n",
    "MUSIC_DIR = '{dir}{file}/'.format(dir=DATA_DIR, \n",
    "                                  file='fma_metadata')\n",
    "PKL_DIR = '{dir}{file}/'.format(dir=DATA_DIR, \n",
    "                               file='pkl')\n",
    "\n",
    "# True if we want to to execute the clean phase and to force \n",
    "# saving the cleaned file\n",
    "CLEAN_PHASE = True\n",
    "DEBUG = True\n"
   ]
  },
  {
   "cell_type": "code",
   "execution_count": null,
   "metadata": {},
   "outputs": [],
   "source": [
    "if CLEAN_PHASE:\n",
    "    echonest_path = '{dir}{file}'.format(dir=MUSIC_DIR, \n",
    "                                         file='echonest.csv')\n",
    "    features_path = '{dir}{file}'.format(dir=MUSIC_DIR,\n",
    "                                         file='features.csv')\n",
    "    genres_path = '{dir}{file}'.format(dir=MUSIC_DIR,\n",
    "                                       file='genres.csv')\n",
    "    tracks_path = '{dir}{file}'.format(dir=MUSIC_DIR,\n",
    "                                       file='tracks.csv')\n",
    "    "
   ]
  },
  {
   "cell_type": "code",
   "execution_count": null,
   "metadata": {},
   "outputs": [],
   "source": [
    "if CLEAN_PHASE:\n",
    "    # Load datasets into pandas dataframes\n",
    "    echonest_col_names=['track_id','danceability','energy',\n",
    "                        'artist_latitude','artist_longitude',\n",
    "                        'artist_name','artist_discovery',\n",
    "                        'artist_family','artist_hotness',\n",
    "                        'song_currency','song_hotness']\n",
    "    \n",
    "    echonest_dtypes = {'track_id': int, 'danceability': float, \n",
    "                       'energy': float, 'artist_latitude': float, \n",
    "                       'artist_longitude': float, 'artist_name': str,\n",
    "                       'artist_discovery': float, 'artist_family': float,\n",
    "                       'artist_hotness': float, 'song_currency': float,\n",
    "                       'song_hotness': float}\n",
    "    \n",
    "    echonest_df = pd.read_csv(echonest_path, names=echonest_col_names,\n",
    "                              header=3, dtype=echonest_dtypes, \n",
    "                              usecols=[0,2,3,11,13,14,21,22,23,24,25])\n",
    "\n",
    "    genres_dtypes = {'genre_id': int, '#tracks': int, \n",
    "                     'parent': int, 'top_level': int}\n",
    "    \n",
    "    genres_df = pd.read_csv(genres_path, dtype=genres_dtypes)\n",
    "    \n",
    "    track_col_names = ['track_id', 'album_date_created',\n",
    "                       'album_date_released', 'album_id',\n",
    "                       'album_listens', 'album_title', 'artist_id',\n",
    "                       'artist_name', 'track_duration', 'track_genre_top',\n",
    "                       'track_language', 'track_listens', 'track_tags', \n",
    "                       'track_title']\n",
    "\n",
    "    tracks_dtypes = {'track_id': int, 'album_date_created': str,\n",
    "                     'album_date_released': str, \n",
    "                     'album_id': int, 'album_listens': int, \n",
    "                     'album_title': str, 'artist_id': int,\n",
    "                     'artist_name': str, 'track_duration': int, \n",
    "                     'track_genre_top': str, 'track_language': str,\n",
    "                     'track_listens': int, 'track_tags': str, \n",
    "                     'track_title': str}\n",
    "\n",
    "    tracks_df = pd.read_csv(tracks_path, names=track_col_names,\n",
    "                            header=2, usecols=[0, 2, 3, 6, 8, 11,\n",
    "                                               21, 26, 38, 40, 45, \n",
    "                                               47, 51, 52])\n"
   ]
  },
  {
   "cell_type": "code",
   "execution_count": null,
   "metadata": {},
   "outputs": [],
   "source": [
    "# Echonest clean phase \n",
    "if CLEAN_PHASE:\n",
    "    # Get city, state, country from artist longitude and latitude\n",
    "    cities=[]\n",
    "    states=[]\n",
    "    countries=[]\n",
    "    \n",
    "    for i in range (0, len(echonest_df)):\n",
    "        if np.isnan(echonest_df.artist_latitude[i]):\n",
    "            city = np.nan\n",
    "            state = np.nan\n",
    "            country = np.nan\n",
    "        else:\n",
    "            coordinates = (echonest_df.artist_latitude[i], \n",
    "                           echonest_df.artist_longitude[i])\n",
    "            results = rg.search(coordinates, mode=1)\n",
    "            city = results[0]['name']\n",
    "            state = results[0]['admin1']\n",
    "            country = results[0]['cc']\n",
    "        \n",
    "        cities.append(city)\n",
    "        states.append(state)\n",
    "        countries.append(country)\n",
    "    \n",
    "    echonest_df.insert(loc=5, column='city', \n",
    "                       value=pd.Series(cities))\n",
    "    echonest_df.insert(loc=6, column='state',\n",
    "                       value=pd.Series(states))\n",
    "    echonest_df.insert(loc=7, column='country', \n",
    "                       value=pd.Series(countries))\n",
    "    "
   ]
  },
  {
   "cell_type": "code",
   "execution_count": null,
   "metadata": {},
   "outputs": [],
   "source": [
    "# Tracks clean phase\n",
    "if CLEAN_PHASE:\n",
    "    # Transforms str to datetime\n",
    "    tracks_df['album_date_released'] = pd.to_datetime( \\\n",
    "                                            tracks_df['album_date_released'])\n",
    "    tracks_df['album_date_created'] = pd.to_datetime( \\\n",
    "                                            tracks_df['album_date_created'])\n",
    "    # Transform str to list\n",
    "    tracks_df['track_tags'] = tracks_df['track_tags'].apply(lambda x: ast.literal_eval(x))\n"
   ]
  },
  {
   "cell_type": "code",
   "execution_count": null,
   "metadata": {},
   "outputs": [],
   "source": [
    "# if CLEAN_PHASE:\n",
    "#     # Normalize dataframes to take out redundancy\n",
    "#     # Select main columns to create new df\n",
    "#     artists_df = tracks_df[['artist_id', 'artist_name']].copy()\n",
    "\n",
    "#     albums_df = tracks_df[['album_id', 'album_date_created', 'album_date_released',\n",
    "#                            'album_title', 'album_listens']].copy()\n",
    "\n",
    "#     # Drop duplicates\n",
    "#     artists_df = artists_df.drop_duplicates('artist_id')\n",
    "#     albums_df = albums_df.drop_duplicates('album_id')\n",
    "    \n",
    "#     # Join echonist data to artist\n",
    "#     echonest_tracks = echonest_df.merge(tracks_df, left_on='track_id', \n",
    "#                                         right_on='track_id')\n",
    "    \n",
    "#     print(echonest_tracks.describe())\n",
    "    "
   ]
  },
  {
   "cell_type": "code",
   "execution_count": null,
   "metadata": {},
   "outputs": [],
   "source": [
    "# print('Artists size: {}'.format(len(artists_df)))\n",
    "# if DEBUG: print('\\nNaN count by column:\\n{}' \\\n",
    "#                 .format(artists_df.isna().sum(axis=0)))\n",
    "# artists_df.head()\n"
   ]
  },
  {
   "cell_type": "code",
   "execution_count": null,
   "metadata": {},
   "outputs": [],
   "source": [
    "# albums_df.head()"
   ]
  },
  {
   "cell_type": "code",
   "execution_count": null,
   "metadata": {},
   "outputs": [],
   "source": []
  },
  {
   "cell_type": "code",
   "execution_count": null,
   "metadata": {},
   "outputs": [],
   "source": [
    "echonest_df"
   ]
  },
  {
   "cell_type": "code",
   "execution_count": null,
   "metadata": {},
   "outputs": [],
   "source": [
    "# Read  and wirte files depending on the existance of own path\n",
    "echonest_df_path = '{dir}{file}'.format(dir=PKL_DIR, \n",
    "                                        file='echonest_df.pkl')\n",
    "genre_df_path = '{dir}{file}'.format(dir=PKL_DIR, \n",
    "                                     file='genres_df.pkl')\n",
    "tracks_df_path = '{dir}{file}'.format(dir=PKL_DIR, \n",
    "                                      file='tracks_df.pkl')\n",
    "\n",
    "if not CLEAN_PHASE or os.path.exists(echonest_df_path):\n",
    "    echonest_df = pd.read_pickle(echonest_df_path)\n",
    "else:\n",
    "    echonest_df.to_pickle(echonest_df_path)\n",
    "    \n",
    "if not CLEAN_PHASE or os.path.exists(echonest_df_path):\n",
    "    genres_df = pd.read_pickle(genre_df_path)\n",
    "else:\n",
    "    genres_df.to_pickle(genre_df_path)\n",
    "    \n",
    "if not CLEAN_PHASE or os.path.exists(tracks_df_path):\n",
    "    tracks_df = pd.read_pickle(tracks_df_path)\n",
    "else:\n",
    "    tracks_df.to_pickle(tracks_df_path)\n",
    "    "
   ]
  },
  {
   "cell_type": "code",
   "execution_count": null,
   "metadata": {},
   "outputs": [],
   "source": [
    "print('Echonest size: {}'.format(len(echonest_df)))\n",
    "if DEBUG: print('\\nNaN count by column:\\n{}' \\\n",
    "                .format(echonest_df.isna().sum(axis=0)))\n",
    "echonest_df.head()\n"
   ]
  },
  {
   "cell_type": "code",
   "execution_count": null,
   "metadata": {},
   "outputs": [],
   "source": [
    "print('Genres size: {}'.format(len(genres_df)))\n",
    "if DEBUG: print('\\nNaN count by column:\\n{}' \\\n",
    "                .format(genres_df.isna().sum(axis=0)))\n",
    "genres_df.head()\n"
   ]
  },
  {
   "cell_type": "code",
   "execution_count": null,
   "metadata": {},
   "outputs": [],
   "source": [
    "print('Tracks size: {}'.format(len(tracks_df)))\n",
    "if DEBUG: print('\\nNaN count by column:\\n{}' \\\n",
    "                .format(tracks_df.isna().sum(axis=0)))\n",
    "tracks_df.tail()\n"
   ]
  },
  {
   "cell_type": "markdown",
   "metadata": {},
   "source": [
    "#### First we will see the top 10 countries were the music is produced."
   ]
  },
  {
   "cell_type": "code",
   "execution_count": null,
   "metadata": {},
   "outputs": [],
   "source": [
    "#Merge data to have the entire data frame\n",
    "tracks_echonest = pd.merge(echonest_df, tracks_df, \n",
    "                           left_on='track_id', right_on='track_id', \n",
    "                           how='right')\n",
    "tracks_echonest.head()\n"
   ]
  },
  {
   "cell_type": "code",
   "execution_count": null,
   "metadata": {},
   "outputs": [],
   "source": [
    "tracks_grouped = tracks_echonest.groupby(tracks_echonest['country']) \\\n",
    "                                .size()\n",
    "tracks_country_top10 = tracks_grouped.sort_values(ascending=False) \\\n",
    "                                     .head(10)\n",
    "tracks_country_top10.plot(kind='bar', \n",
    "                          title=\"Top 10 countries that produce tracks\")\n",
    "plt.ylabel('Number of Tracks')\n",
    "plt.grid()\n"
   ]
  },
  {
   "cell_type": "markdown",
   "metadata": {},
   "source": [
    "#### Top 10 albums"
   ]
  },
  {
   "cell_type": "code",
   "execution_count": null,
   "metadata": {},
   "outputs": [],
   "source": [
    "tracks_echonest['album_listens'] = tracks_echonest['album_listens'] \\\n",
    "                                     .apply(lambda x : neg_to_zero(x))\n",
    "# tacks_echonest['album_listens']\n"
   ]
  },
  {
   "cell_type": "code",
   "execution_count": null,
   "metadata": {},
   "outputs": [],
   "source": [
    "albums = tracks_echonest.groupby(tracks_echonest['album_listens']) \\\n",
    "                        .size()\n",
    "albums_top10 = albums.sort_values(ascending=False).head(10)\n",
    "albums_top10.plot(kind='bar', title=\"Top 10 Albums\")\n",
    "plt.grid()\n"
   ]
  },
  {
   "cell_type": "markdown",
   "metadata": {},
   "source": [
    "#### Top 10 Tracks"
   ]
  },
  {
   "cell_type": "code",
   "execution_count": null,
   "metadata": {},
   "outputs": [],
   "source": [
    "tracks_top10 = tracks_echonest.sort_values(by='track_listens',\n",
    "                                           ascending=False).head(10)\n",
    "plt.figure(figsize=(15, 8))\n",
    "plt.title(\"Top 10 tracks listened\")\n",
    "plt.grid()\n",
    "ax = sns.barplot(x='track_title', y= 'track_listens',\n",
    "                 data=tracks_top10)\n"
   ]
  },
  {
   "cell_type": "markdown",
   "metadata": {},
   "source": [
    "#### Relation between danceability and duration of the song"
   ]
  },
  {
   "cell_type": "code",
   "execution_count": null,
   "metadata": {},
   "outputs": [],
   "source": [
    "def cat_duration(quantity):\n",
    "    \"\"\"Function to clean inventory from raw data\n",
    "\n",
    "    Args:\n",
    "        quantity: Raw quantity.\n",
    "    Returns:\n",
    "        new_quantity: Official quantity.\n",
    "    \"\"\"\n",
    "    \n",
    "    if quantity <=2.0:\n",
    "        return (1.0)\n",
    "    elif quantity >2.0 & quantity<=4.0:\n",
    "        return (2.0)\n",
    "    else:\n",
    "        return (3.0)\n"
   ]
  },
  {
   "cell_type": "code",
   "execution_count": null,
   "metadata": {},
   "outputs": [],
   "source": [
    "tracks_echonest.insert(loc=23, column='track_duration_minutes',\n",
    "                       value=(tracks_echonest['track_duration'] / 60))\n"
   ]
  },
  {
   "cell_type": "code",
   "execution_count": null,
   "metadata": {},
   "outputs": [],
   "source": [
    "pd.to_numeric(tracks_echonest['track_duration_minutes'])\n",
    "tracks_echonest['track_duration_minutes'] = tracks_echonest['track_duration_minutes'] \\\n",
    "                                                .apply(lambda x : np.rint(x))\n",
    "sns.regplot(x='danceability', y='track_duration_minutes',\n",
    "            data=tracks_echonest, ci=95, \n",
    "            line_kws = {'color': 'green'})\n"
   ]
  },
  {
   "cell_type": "code",
   "execution_count": null,
   "metadata": {},
   "outputs": [],
   "source": [
    "tracks_echonest.head()\n"
   ]
  },
  {
   "cell_type": "code",
   "execution_count": null,
   "metadata": {},
   "outputs": [],
   "source": [
    "spearman_coeff = stats.spearmanr(tracks_echonest['danceability'], \n",
    "                                 tracks_echonest['track_duration_minutes'])\n",
    "spearman_coeff\n"
   ]
  },
  {
   "cell_type": "code",
   "execution_count": null,
   "metadata": {},
   "outputs": [],
   "source": [
    "genre_year = tracks_echonest[['track_genre_top', 'album_date_released']]\n",
    "genre_year.insert(loc=2, column='album_released_year',\n",
    "                  value=(genre_year['album_date_released'].dt.year))\n",
    "genre_year.head()\n"
   ]
  },
  {
   "cell_type": "code",
   "execution_count": null,
   "metadata": {},
   "outputs": [],
   "source": [
    "top_genre = genre_year.groupby(genre_year['track_genre_top']).size()"
   ]
  },
  {
   "cell_type": "code",
   "execution_count": null,
   "metadata": {},
   "outputs": [],
   "source": [
    "top_genre_sorted = top_genre.sort_values(ascending=False).head(10)\n",
    "top_genre_sorted.plot(kind='bar', title=\"Top 10 Genres\")\n",
    "plt.grid()\n"
   ]
  },
  {
   "cell_type": "code",
   "execution_count": null,
   "metadata": {},
   "outputs": [],
   "source": []
  },
  {
   "cell_type": "code",
   "execution_count": null,
   "metadata": {},
   "outputs": [],
   "source": []
  },
  {
   "cell_type": "code",
   "execution_count": null,
   "metadata": {},
   "outputs": [],
   "source": []
  },
  {
   "cell_type": "code",
   "execution_count": null,
   "metadata": {},
   "outputs": [],
   "source": []
  }
 ],
 "metadata": {
  "kernelspec": {
   "display_name": "Python [conda env:ada]",
   "language": "python",
   "name": "conda-env-ada-py"
  },
  "language_info": {
   "codemirror_mode": {
    "name": "ipython",
    "version": 3
   },
   "file_extension": ".py",
   "mimetype": "text/x-python",
   "name": "python",
   "nbconvert_exporter": "python",
   "pygments_lexer": "ipython3",
   "version": "3.6.7"
  }
 },
 "nbformat": 4,
 "nbformat_minor": 1
}
