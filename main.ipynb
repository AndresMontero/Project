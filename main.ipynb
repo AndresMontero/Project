{
 "cells": [
  {
   "cell_type": "markdown",
   "metadata": {},
   "source": [
    "# ADA 2018 -  Evolution of Music.\n",
    "\n",
    "#### Andres Montero, Ariel Alba, Diego Iriarte\n",
    "\n",
    "\n"
   ]
  },
  {
   "cell_type": "markdown",
   "metadata": {},
   "source": [
    "This project aims to find the relationships between tweets and music, specifically focus on tweets which reflect a positive sentiment or mood and we'll relate them to the kind of music those people listen to. We believe that music preferences vary depending on people's mood, so we can detect what kind of music people tend to listen to when they are feeling happy or posting tweets with positive sentiment, which in our case are equivalent.\n",
    "For it, we'll work with two datasets:\n",
    "\n",
    "* FMA: A Dataset For Music Analysis\n",
    "* Sentiment140 dataset with 1.6 million tweets\n",
    "\n",
    "Tweets dataset is a labeled set, indicating whether each tweet has a positive sentiment or not.\n",
    "In order to define whether the proposed idea is feasible or not, we follow these steps:\n",
    "\n",
    "**A)** Preprocessing and analyzing FMA dataset. Gather the data that will be used, the dataset is very extense and we must focus on the data that will be used for our study. We clean the data, define the type of variables, normalize them and deal with missing values. From the cleaned data, we get some statistical information of the dataset, such as most listened songs, albums and others. We try to find some relationships between some information of the dataset such as: danceability, energy, number of times listened, location and others, too.\n",
    "\n",
    "**B)** Loading and analyzing of Sentiment140 dataset. We will only focus on tweets which are labeled as positive sentiment and the approach. The dataset contains few information about the tweets such as date, sentiment, userID and tweet, and is limited to tweets of yar 2009. Before doing any further preprocessing of such dataset we decided to check the possible relationships that we could find with FMA dataset.\n",
    "\n",
    "**C)** Find relationships between both datasets. It is important to identify whether the idea of the project is feasible or not. For the idea to be feasible, we need to find a considerable number of positive tweets which are somehow related to music or songs. To measure this relationships our approach is the following:\n",
    "\n",
    "* Count how many tweets are linked to a song\n",
    "* Count how many tweets explicitly say spotify on it.\n",
    "* Find words related to music contained in the tweets (may be a difficult task)\n",
    "\n",
    "**D)** In case, our two first approaches to find the relationships between both datasets don't succeed, we may not be able to try with the third one due to time contraints and task difficulty. If this is the scenario, the project scope will be reduced and will mostly focus on the FMA dataset and a specific event in the past years which may caused an impact on music production and preferences. Such scenario will be defined according to the insights found in part A.\n"
   ]
  },
  {
   "cell_type": "code",
   "execution_count": 1,
   "metadata": {},
   "outputs": [],
   "source": [
    "% matplotlib inline\n",
    "import pandas as pd\n",
    "import numpy as np\n",
    "import matplotlib.pyplot as plt\n",
    "import reverse_geocoder as rg\n",
    "import os.path\n",
    "import ast\n",
    "import seaborn as sns\n",
    "\n",
    "from helpers import *\n",
    "from datetime import datetime, date, time\n",
    "from scipy import stats\n",
    "\n",
    "%load_ext autoreload\n",
    "%autoreload 2\n"
   ]
  },
  {
   "cell_type": "code",
   "execution_count": 2,
   "metadata": {},
   "outputs": [],
   "source": [
    "# Constants\n",
    "DATA_DIR = './data/'\n",
    "MUSIC_DIR = '{dir}{file}/'.format(dir=DATA_DIR, \n",
    "                                  file='fma_metadata')\n",
    "PKL_DIR = '{dir}{file}/'.format(dir=DATA_DIR, \n",
    "                               file='pkl')\n",
    "DEBUG = True\n"
   ]
  },
  {
   "cell_type": "code",
   "execution_count": 3,
   "metadata": {},
   "outputs": [],
   "source": [
    "# Read  and wirte files depending on the existance of own path\n",
    "genres_df_path = '{dir}{file}'.format(dir=PKL_DIR, \n",
    "                                     file='genres_df.pkl')\n",
    "albums_df_path = '{dir}{file}'.format(dir=PKL_DIR, \n",
    "                                     file='albums_df.pkl')\n",
    "artists_df_path = '{dir}{file}'.format(dir=PKL_DIR, \n",
    "                                     file='artists_df.pkl')\n",
    "tracks_df_path = '{dir}{file}'.format(dir=PKL_DIR, \n",
    "                                      file='tracks_df.pkl')\n",
    "track_genre_rel_df_path = '{dir}{file}'.format(dir=PKL_DIR, \n",
    "                                               file='track_genre_rel_df.pkl')\n",
    "if os.path.exists(genres_df_path):\n",
    "    genres_df = pd.read_pickle(genres_df_path)\n",
    "else:\n",
    "    print('There is no genres pandas data')\n",
    "    \n",
    "if os.path.exists(albums_df_path):\n",
    "    albums_df = pd.read_pickle(albums_df_path)\n",
    "else:\n",
    "    print('There is no albums pandas data')\n",
    "    \n",
    "if os.path.exists(artists_df_path):\n",
    "    artists_df = pd.read_pickle(artists_df_path)\n",
    "else:\n",
    "    print('There is no artists pandas data')\n",
    "    \n",
    "if os.path.exists(tracks_df_path):\n",
    "    tracks_df = pd.read_pickle(tracks_df_path)\n",
    "else:\n",
    "    print('There is no tracks pandas data')\n",
    "    \n",
    "if os.path.exists(track_genre_rel_df_path):\n",
    "    track_genre_rel_df = pd.read_pickle(track_genre_rel_df_path)\n",
    "else:\n",
    "    print('There is no tracks-genres pandas data')\n",
    "    "
   ]
  },
  {
   "cell_type": "code",
   "execution_count": 4,
   "metadata": {},
   "outputs": [
    {
     "name": "stdout",
     "output_type": "stream",
     "text": [
      "Genres size: 163\n",
      "\n",
      "NaN count by column:\n",
      "genre_id     0\n",
      "#tracks      0\n",
      "parent       0\n",
      "title        0\n",
      "top_level    0\n",
      "dtype: int64\n"
     ]
    },
    {
     "data": {
      "text/html": [
       "<div>\n",
       "<style scoped>\n",
       "    .dataframe tbody tr th:only-of-type {\n",
       "        vertical-align: middle;\n",
       "    }\n",
       "\n",
       "    .dataframe tbody tr th {\n",
       "        vertical-align: top;\n",
       "    }\n",
       "\n",
       "    .dataframe thead th {\n",
       "        text-align: right;\n",
       "    }\n",
       "</style>\n",
       "<table border=\"1\" class=\"dataframe\">\n",
       "  <thead>\n",
       "    <tr style=\"text-align: right;\">\n",
       "      <th></th>\n",
       "      <th>genre_id</th>\n",
       "      <th>#tracks</th>\n",
       "      <th>parent</th>\n",
       "      <th>title</th>\n",
       "      <th>top_level</th>\n",
       "    </tr>\n",
       "  </thead>\n",
       "  <tbody>\n",
       "    <tr>\n",
       "      <th>0</th>\n",
       "      <td>1</td>\n",
       "      <td>8693</td>\n",
       "      <td>38</td>\n",
       "      <td>Avant-Garde</td>\n",
       "      <td>38</td>\n",
       "    </tr>\n",
       "    <tr>\n",
       "      <th>1</th>\n",
       "      <td>2</td>\n",
       "      <td>5271</td>\n",
       "      <td>0</td>\n",
       "      <td>International</td>\n",
       "      <td>2</td>\n",
       "    </tr>\n",
       "    <tr>\n",
       "      <th>2</th>\n",
       "      <td>3</td>\n",
       "      <td>1752</td>\n",
       "      <td>0</td>\n",
       "      <td>Blues</td>\n",
       "      <td>3</td>\n",
       "    </tr>\n",
       "    <tr>\n",
       "      <th>3</th>\n",
       "      <td>4</td>\n",
       "      <td>4126</td>\n",
       "      <td>0</td>\n",
       "      <td>Jazz</td>\n",
       "      <td>4</td>\n",
       "    </tr>\n",
       "    <tr>\n",
       "      <th>4</th>\n",
       "      <td>5</td>\n",
       "      <td>4106</td>\n",
       "      <td>0</td>\n",
       "      <td>Classical</td>\n",
       "      <td>5</td>\n",
       "    </tr>\n",
       "  </tbody>\n",
       "</table>\n",
       "</div>"
      ],
      "text/plain": [
       "   genre_id  #tracks  parent          title  top_level\n",
       "0         1     8693      38    Avant-Garde         38\n",
       "1         2     5271       0  International          2\n",
       "2         3     1752       0          Blues          3\n",
       "3         4     4126       0           Jazz          4\n",
       "4         5     4106       0      Classical          5"
      ]
     },
     "metadata": {},
     "output_type": "display_data"
    },
    {
     "name": "stdout",
     "output_type": "stream",
     "text": [
      "Artists size: 19819\n",
      "\n",
      "NaN count by column:\n",
      "artist_id               0\n",
      "artist_discovery    16943\n",
      "city                15983\n",
      "state               15983\n",
      "country             15983\n",
      "artist_family       16943\n",
      "artist_hotness      13465\n",
      "artist_latitude     15983\n",
      "artist_longitude    15983\n",
      "artist_name             0\n",
      "dtype: int64\n"
     ]
    },
    {
     "data": {
      "text/html": [
       "<div>\n",
       "<style scoped>\n",
       "    .dataframe tbody tr th:only-of-type {\n",
       "        vertical-align: middle;\n",
       "    }\n",
       "\n",
       "    .dataframe tbody tr th {\n",
       "        vertical-align: top;\n",
       "    }\n",
       "\n",
       "    .dataframe thead th {\n",
       "        text-align: right;\n",
       "    }\n",
       "</style>\n",
       "<table border=\"1\" class=\"dataframe\">\n",
       "  <thead>\n",
       "    <tr style=\"text-align: right;\">\n",
       "      <th></th>\n",
       "      <th>artist_id</th>\n",
       "      <th>artist_discovery</th>\n",
       "      <th>city</th>\n",
       "      <th>state</th>\n",
       "      <th>country</th>\n",
       "      <th>artist_family</th>\n",
       "      <th>artist_hotness</th>\n",
       "      <th>artist_latitude</th>\n",
       "      <th>artist_longitude</th>\n",
       "      <th>artist_name</th>\n",
       "    </tr>\n",
       "  </thead>\n",
       "  <tbody>\n",
       "    <tr>\n",
       "      <th>0</th>\n",
       "      <td>1</td>\n",
       "      <td>0.388990</td>\n",
       "      <td>Lakehurst</td>\n",
       "      <td>New Jersey</td>\n",
       "      <td>US</td>\n",
       "      <td>0.38674</td>\n",
       "      <td>0.40637</td>\n",
       "      <td>40.0583</td>\n",
       "      <td>-74.4057</td>\n",
       "      <td>AWOL</td>\n",
       "    </tr>\n",
       "    <tr>\n",
       "      <th>1</th>\n",
       "      <td>6</td>\n",
       "      <td>0.557339</td>\n",
       "      <td>NaN</td>\n",
       "      <td>NaN</td>\n",
       "      <td>NaN</td>\n",
       "      <td>0.614272</td>\n",
       "      <td>0.798387</td>\n",
       "      <td>NaN</td>\n",
       "      <td>NaN</td>\n",
       "      <td>Kurt Vile</td>\n",
       "    </tr>\n",
       "    <tr>\n",
       "      <th>2</th>\n",
       "      <td>54</td>\n",
       "      <td>0.388923</td>\n",
       "      <td>Providence</td>\n",
       "      <td>Rhode Island</td>\n",
       "      <td>US</td>\n",
       "      <td>0.330784</td>\n",
       "      <td>0.4063</td>\n",
       "      <td>41.824</td>\n",
       "      <td>-71.4128</td>\n",
       "      <td>Alec K. Redfearn &amp; the Eyesores</td>\n",
       "    </tr>\n",
       "    <tr>\n",
       "      <th>3</th>\n",
       "      <td>56</td>\n",
       "      <td>0.252381</td>\n",
       "      <td>Providence</td>\n",
       "      <td>Rhode Island</td>\n",
       "      <td>US</td>\n",
       "      <td>0.238153</td>\n",
       "      <td>0.263657</td>\n",
       "      <td>41.824</td>\n",
       "      <td>-71.4128</td>\n",
       "      <td>Amoebic Ensemble</td>\n",
       "    </tr>\n",
       "    <tr>\n",
       "      <th>4</th>\n",
       "      <td>60</td>\n",
       "      <td>0.262717</td>\n",
       "      <td>Philadelphia</td>\n",
       "      <td>Pennsylvania</td>\n",
       "      <td>US</td>\n",
       "      <td>0.173315</td>\n",
       "      <td>0.274455</td>\n",
       "      <td>39.9523</td>\n",
       "      <td>-75.1638</td>\n",
       "      <td>Arc and Sender</td>\n",
       "    </tr>\n",
       "  </tbody>\n",
       "</table>\n",
       "</div>"
      ],
      "text/plain": [
       "  artist_id  artist_discovery          city         state country  \\\n",
       "0         1          0.388990     Lakehurst    New Jersey      US   \n",
       "1         6          0.557339           NaN           NaN     NaN   \n",
       "2        54          0.388923    Providence  Rhode Island      US   \n",
       "3        56          0.252381    Providence  Rhode Island      US   \n",
       "4        60          0.262717  Philadelphia  Pennsylvania      US   \n",
       "\n",
       "  artist_family artist_hotness artist_latitude artist_longitude  \\\n",
       "0       0.38674        0.40637         40.0583         -74.4057   \n",
       "1      0.614272       0.798387             NaN              NaN   \n",
       "2      0.330784         0.4063          41.824         -71.4128   \n",
       "3      0.238153       0.263657          41.824         -71.4128   \n",
       "4      0.173315       0.274455         39.9523         -75.1638   \n",
       "\n",
       "                       artist_name  \n",
       "0                             AWOL  \n",
       "1                        Kurt Vile  \n",
       "2  Alec K. Redfearn & the Eyesores  \n",
       "3                 Amoebic Ensemble  \n",
       "4                   Arc and Sender  "
      ]
     },
     "metadata": {},
     "output_type": "display_data"
    },
    {
     "name": "stdout",
     "output_type": "stream",
     "text": [
      "Albums size: 17426\n",
      "\n",
      "NaN count by column:\n",
      "album_id                  0\n",
      "album_date_created     3031\n",
      "album_date_released    5404\n",
      "album_title               1\n",
      "album_listens            13\n",
      "dtype: int64\n"
     ]
    },
    {
     "data": {
      "text/html": [
       "<div>\n",
       "<style scoped>\n",
       "    .dataframe tbody tr th:only-of-type {\n",
       "        vertical-align: middle;\n",
       "    }\n",
       "\n",
       "    .dataframe tbody tr th {\n",
       "        vertical-align: top;\n",
       "    }\n",
       "\n",
       "    .dataframe thead th {\n",
       "        text-align: right;\n",
       "    }\n",
       "</style>\n",
       "<table border=\"1\" class=\"dataframe\">\n",
       "  <thead>\n",
       "    <tr style=\"text-align: right;\">\n",
       "      <th></th>\n",
       "      <th>album_id</th>\n",
       "      <th>album_date_created</th>\n",
       "      <th>album_date_released</th>\n",
       "      <th>album_title</th>\n",
       "      <th>album_listens</th>\n",
       "    </tr>\n",
       "  </thead>\n",
       "  <tbody>\n",
       "    <tr>\n",
       "      <th>0</th>\n",
       "      <td>1</td>\n",
       "      <td>2008-11-26 01:44:45</td>\n",
       "      <td>2009-01-05</td>\n",
       "      <td>AWOL - A Way Of Life</td>\n",
       "      <td>6073.0</td>\n",
       "    </tr>\n",
       "    <tr>\n",
       "      <th>1</th>\n",
       "      <td>6</td>\n",
       "      <td>2008-11-26 01:45:08</td>\n",
       "      <td>2008-02-06</td>\n",
       "      <td>Constant Hitmaker</td>\n",
       "      <td>47632.0</td>\n",
       "    </tr>\n",
       "    <tr>\n",
       "      <th>2</th>\n",
       "      <td>60</td>\n",
       "      <td>2008-11-26 01:49:57</td>\n",
       "      <td>2009-01-16</td>\n",
       "      <td>Every Man For Himself</td>\n",
       "      <td>1304.0</td>\n",
       "    </tr>\n",
       "    <tr>\n",
       "      <th>3</th>\n",
       "      <td>61</td>\n",
       "      <td>2008-11-26 01:49:59</td>\n",
       "      <td>2007-05-22</td>\n",
       "      <td>The Blind Spot</td>\n",
       "      <td>1300.0</td>\n",
       "    </tr>\n",
       "    <tr>\n",
       "      <th>4</th>\n",
       "      <td>62</td>\n",
       "      <td>2008-11-26 01:50:03</td>\n",
       "      <td>2005-01-25</td>\n",
       "      <td>The Quiet Room</td>\n",
       "      <td>845.0</td>\n",
       "    </tr>\n",
       "  </tbody>\n",
       "</table>\n",
       "</div>"
      ],
      "text/plain": [
       "  album_id   album_date_created album_date_released            album_title  \\\n",
       "0        1  2008-11-26 01:44:45          2009-01-05   AWOL - A Way Of Life   \n",
       "1        6  2008-11-26 01:45:08          2008-02-06      Constant Hitmaker   \n",
       "2       60  2008-11-26 01:49:57          2009-01-16  Every Man For Himself   \n",
       "3       61  2008-11-26 01:49:59          2007-05-22         The Blind Spot   \n",
       "4       62  2008-11-26 01:50:03          2005-01-25         The Quiet Room   \n",
       "\n",
       "   album_listens  \n",
       "0         6073.0  \n",
       "1        47632.0  \n",
       "2         1304.0  \n",
       "3         1300.0  \n",
       "4          845.0  "
      ]
     },
     "metadata": {},
     "output_type": "display_data"
    },
    {
     "name": "stdout",
     "output_type": "stream",
     "text": [
      "Tracks size: 214696\n",
      "\n",
      "NaN count by column:\n",
      "track_id               0\n",
      "track_title            1\n",
      "track_duration         0\n",
      "artist_id              0\n",
      "album_id               0\n",
      "track_language    199672\n",
      "track_listens      12285\n",
      "track_tags             0\n",
      "danceability       93445\n",
      "energy             93445\n",
      "valence            93445\n",
      "song_currency     201567\n",
      "song_hotness       93445\n",
      "dtype: int64\n"
     ]
    },
    {
     "data": {
      "text/html": [
       "<div>\n",
       "<style scoped>\n",
       "    .dataframe tbody tr th:only-of-type {\n",
       "        vertical-align: middle;\n",
       "    }\n",
       "\n",
       "    .dataframe tbody tr th {\n",
       "        vertical-align: top;\n",
       "    }\n",
       "\n",
       "    .dataframe thead th {\n",
       "        text-align: right;\n",
       "    }\n",
       "</style>\n",
       "<table border=\"1\" class=\"dataframe\">\n",
       "  <thead>\n",
       "    <tr style=\"text-align: right;\">\n",
       "      <th></th>\n",
       "      <th>track_id</th>\n",
       "      <th>track_title</th>\n",
       "      <th>track_duration</th>\n",
       "      <th>artist_id</th>\n",
       "      <th>album_id</th>\n",
       "      <th>track_language</th>\n",
       "      <th>track_listens</th>\n",
       "      <th>track_tags</th>\n",
       "      <th>danceability</th>\n",
       "      <th>energy</th>\n",
       "      <th>valence</th>\n",
       "      <th>song_currency</th>\n",
       "      <th>song_hotness</th>\n",
       "    </tr>\n",
       "  </thead>\n",
       "  <tbody>\n",
       "    <tr>\n",
       "      <th>0</th>\n",
       "      <td>2</td>\n",
       "      <td>Food</td>\n",
       "      <td>168.0</td>\n",
       "      <td>1</td>\n",
       "      <td>1</td>\n",
       "      <td>en</td>\n",
       "      <td>1293.0</td>\n",
       "      <td>[]</td>\n",
       "      <td>0.675894</td>\n",
       "      <td>0.634476</td>\n",
       "      <td>0.576661</td>\n",
       "      <td>0.000000</td>\n",
       "      <td>0.000000</td>\n",
       "    </tr>\n",
       "    <tr>\n",
       "      <th>1</th>\n",
       "      <td>3</td>\n",
       "      <td>Electric Ave</td>\n",
       "      <td>237.0</td>\n",
       "      <td>1</td>\n",
       "      <td>1</td>\n",
       "      <td>en</td>\n",
       "      <td>514.0</td>\n",
       "      <td>[]</td>\n",
       "      <td>0.528643</td>\n",
       "      <td>0.817461</td>\n",
       "      <td>0.269240</td>\n",
       "      <td>0.000000</td>\n",
       "      <td>0.000000</td>\n",
       "    </tr>\n",
       "    <tr>\n",
       "      <th>2</th>\n",
       "      <td>5</td>\n",
       "      <td>This World</td>\n",
       "      <td>206.0</td>\n",
       "      <td>1</td>\n",
       "      <td>1</td>\n",
       "      <td>en</td>\n",
       "      <td>1151.0</td>\n",
       "      <td>[]</td>\n",
       "      <td>0.745566</td>\n",
       "      <td>0.701470</td>\n",
       "      <td>0.621661</td>\n",
       "      <td>0.000000</td>\n",
       "      <td>0.000000</td>\n",
       "    </tr>\n",
       "    <tr>\n",
       "      <th>3</th>\n",
       "      <td>10</td>\n",
       "      <td>Freeway</td>\n",
       "      <td>161.0</td>\n",
       "      <td>6</td>\n",
       "      <td>6</td>\n",
       "      <td>en</td>\n",
       "      <td>50135.0</td>\n",
       "      <td>[]</td>\n",
       "      <td>0.658179</td>\n",
       "      <td>0.924525</td>\n",
       "      <td>0.963590</td>\n",
       "      <td>0.005158</td>\n",
       "      <td>0.354516</td>\n",
       "    </tr>\n",
       "    <tr>\n",
       "      <th>4</th>\n",
       "      <td>134</td>\n",
       "      <td>Street Music</td>\n",
       "      <td>207.0</td>\n",
       "      <td>1</td>\n",
       "      <td>1</td>\n",
       "      <td>en</td>\n",
       "      <td>943.0</td>\n",
       "      <td>[]</td>\n",
       "      <td>0.513238</td>\n",
       "      <td>0.560410</td>\n",
       "      <td>0.894072</td>\n",
       "      <td>0.000000</td>\n",
       "      <td>0.000000</td>\n",
       "    </tr>\n",
       "  </tbody>\n",
       "</table>\n",
       "</div>"
      ],
      "text/plain": [
       "  track_id   track_title  track_duration artist_id album_id track_language  \\\n",
       "0        2          Food           168.0         1        1             en   \n",
       "1        3  Electric Ave           237.0         1        1             en   \n",
       "2        5    This World           206.0         1        1             en   \n",
       "3       10       Freeway           161.0         6        6             en   \n",
       "4      134  Street Music           207.0         1        1             en   \n",
       "\n",
       "   track_listens track_tags  danceability    energy   valence  song_currency  \\\n",
       "0         1293.0         []      0.675894  0.634476  0.576661       0.000000   \n",
       "1          514.0         []      0.528643  0.817461  0.269240       0.000000   \n",
       "2         1151.0         []      0.745566  0.701470  0.621661       0.000000   \n",
       "3        50135.0         []      0.658179  0.924525  0.963590       0.005158   \n",
       "4          943.0         []      0.513238  0.560410  0.894072       0.000000   \n",
       "\n",
       "   song_hotness  \n",
       "0      0.000000  \n",
       "1      0.000000  \n",
       "2      0.000000  \n",
       "3      0.354516  \n",
       "4      0.000000  "
      ]
     },
     "metadata": {},
     "output_type": "display_data"
    },
    {
     "name": "stdout",
     "output_type": "stream",
     "text": [
      "Track-Genre size: 271654\n",
      "\n",
      "NaN count by column:\n",
      "track_id    0\n",
      "genre_id    0\n",
      "dtype: int64\n"
     ]
    },
    {
     "data": {
      "text/html": [
       "<div>\n",
       "<style scoped>\n",
       "    .dataframe tbody tr th:only-of-type {\n",
       "        vertical-align: middle;\n",
       "    }\n",
       "\n",
       "    .dataframe tbody tr th {\n",
       "        vertical-align: top;\n",
       "    }\n",
       "\n",
       "    .dataframe thead th {\n",
       "        text-align: right;\n",
       "    }\n",
       "</style>\n",
       "<table border=\"1\" class=\"dataframe\">\n",
       "  <thead>\n",
       "    <tr style=\"text-align: right;\">\n",
       "      <th></th>\n",
       "      <th>track_id</th>\n",
       "      <th>genre_id</th>\n",
       "    </tr>\n",
       "  </thead>\n",
       "  <tbody>\n",
       "    <tr>\n",
       "      <th>0</th>\n",
       "      <td>2</td>\n",
       "      <td>21</td>\n",
       "    </tr>\n",
       "    <tr>\n",
       "      <th>1</th>\n",
       "      <td>3</td>\n",
       "      <td>21</td>\n",
       "    </tr>\n",
       "    <tr>\n",
       "      <th>2</th>\n",
       "      <td>5</td>\n",
       "      <td>21</td>\n",
       "    </tr>\n",
       "    <tr>\n",
       "      <th>3</th>\n",
       "      <td>10</td>\n",
       "      <td>10</td>\n",
       "    </tr>\n",
       "    <tr>\n",
       "      <th>4</th>\n",
       "      <td>20</td>\n",
       "      <td>76</td>\n",
       "    </tr>\n",
       "  </tbody>\n",
       "</table>\n",
       "</div>"
      ],
      "text/plain": [
       "  track_id  genre_id\n",
       "0        2        21\n",
       "1        3        21\n",
       "2        5        21\n",
       "3       10        10\n",
       "4       20        76"
      ]
     },
     "metadata": {},
     "output_type": "display_data"
    }
   ],
   "source": [
    "pretty_print(genres_df, 'Genres', True)\n",
    "pretty_print(artists_df, 'Artists', True)\n",
    "pretty_print(albums_df, 'Albums', True)\n",
    "pretty_print(tracks_df, 'Tracks', True)\n",
    "pretty_print(track_genre_rel_df, 'Track-Genre', True)\n"
   ]
  },
  {
   "cell_type": "code",
   "execution_count": 5,
   "metadata": {},
   "outputs": [
    {
     "data": {
      "text/plain": [
       "(array([ 0,  1,  2,  3,  4,  5,  6,  7,  8,  9, 10, 11, 12, 13, 14, 15, 16,\n",
       "        17, 18, 19, 20, 21, 22, 23, 24, 25, 26, 27, 28, 29, 30, 31, 32, 33,\n",
       "        34, 35, 36, 37, 38, 39, 40, 41, 42, 43, 44, 45, 46, 47, 48, 49, 50,\n",
       "        51, 52, 53, 54, 55, 56, 57]), <a list of 58 Text xticklabel objects>)"
      ]
     },
     "execution_count": 5,
     "metadata": {},
     "output_type": "execute_result"
    },
    {
     "data": {
      "image/png": "[encoded data removed]",
      "text/plain": [
       "<Figure size 648x504 with 1 Axes>"
      ]
     },
     "metadata": {},
     "output_type": "display_data"
    }
   ],
   "source": [
    "album_dist = albums_df.groupby(albums_df['album_date_released'].dt.year).size()\n",
    "\n",
    "plt.figure(figsize=(9, 7))\n",
    "ax = album_dist.plot(kind='bar')\n",
    "plt.title(\"Distribution of Albums per Year\")\n",
    "plt.grid()\n",
    "plt.xticks(rotation=90)"
   ]
  },
  {
   "cell_type": "code",
   "execution_count": 6,
   "metadata": {},
   "outputs": [
    {
     "data": {
      "text/plain": [
       "(array([ 0,  1,  2,  3,  4,  5,  6,  7,  8,  9, 10, 11, 12, 13, 14, 15, 16,\n",
       "        17, 18, 19, 20, 21, 22, 23, 24, 25, 26, 27, 28, 29, 30, 31, 32, 33,\n",
       "        34, 35, 36, 37, 38, 39, 40, 41, 42, 43, 44, 45, 46, 47, 48, 49, 50,\n",
       "        51, 52, 53, 54, 55, 56, 57]), <a list of 58 Text xticklabel objects>)"
      ]
     },
     "execution_count": 6,
     "metadata": {},
     "output_type": "execute_result"
    },
    {
     "data": {
      "image/png": "[encoded data removed]",
      "text/plain": [
       "<Figure size 648x504 with 1 Axes>"
      ]
     },
     "metadata": {},
     "output_type": "display_data"
    }
   ],
   "source": [
    "tracks_albums = tracks_df.merge(albums_df)\n",
    "tracks_dist = tracks_albums.groupby(tracks_albums['album_date_released'].dt.year).size()\n",
    "plt.figure(figsize=(9, 7))\n",
    "ax = tracks_dist.plot(kind='bar')\n",
    "plt.title(\"Distribution of Tracks per Year\")\n",
    "plt.grid()\n",
    "plt.xticks(rotation=90)"
   ]
  },
  {
   "cell_type": "code",
   "execution_count": 7,
   "metadata": {},
   "outputs": [
    {
     "data": {
      "image/png": "[encoded data removed]",
      "text/plain": [
       "<Figure size 432x288 with 1 Axes>"
      ]
     },
     "metadata": {},
     "output_type": "display_data"
    }
   ],
   "source": [
    "track_artist = tracks_df.merge(artists_df, left_on='artist_id', \n",
    "                               right_on='artist_id')\n",
    "country_grouped = track_artist.groupby(track_artist['country']).size()\n",
    "country_top10 = country_grouped.sort_values(ascending=False) \\\n",
    "                                     .head(10)\n",
    "country_top10.plot(kind='bar', \n",
    "                   title=\"Top 10 countries that produce tracks\")\n",
    "plt.ylabel('Number of Tracks')\n",
    "plt.grid()\n"
   ]
  },
  {
   "cell_type": "markdown",
   "metadata": {},
   "source": [
    "#### Top 10 albums"
   ]
  },
  {
   "cell_type": "code",
   "execution_count": 8,
   "metadata": {},
   "outputs": [
    {
     "data": {
      "text/plain": [
       "(array([0, 1, 2, 3, 4, 5, 6, 7, 8, 9]), <a list of 10 Text xticklabel objects>)"
      ]
     },
     "execution_count": 8,
     "metadata": {},
     "output_type": "execute_result"
    },
    {
     "data": {
      "image/png": "[encoded data removed]",
      "text/plain": [
       "<Figure size 720x504 with 1 Axes>"
      ]
     },
     "metadata": {},
     "output_type": "display_data"
    }
   ],
   "source": [
    "albums_grouped = albums_df.groupby(albums_df['album_id']) \\\n",
    "                          .first()[['album_title', 'album_listens']]\n",
    "albums_top10 = albums_grouped.sort_values(by='album_listens', \n",
    "                                          ascending=False).head(10)\n",
    "\n",
    "plt.figure(figsize=(10, 7))\n",
    "plt.title(\"Top 10 Albums listened\")\n",
    "plt.grid()\n",
    "ax = sns.barplot(x='album_title', y= 'album_listens',\n",
    "                 data=albums_top10)\n",
    "plt.xticks(rotation=90)\n"
   ]
  },
  {
   "cell_type": "markdown",
   "metadata": {},
   "source": [
    "#### Top 10 Tracks"
   ]
  },
  {
   "cell_type": "code",
   "execution_count": 9,
   "metadata": {},
   "outputs": [
    {
     "name": "stderr",
     "output_type": "stream",
     "text": [
      "C:\\Users\\Andres Montero\\Anaconda3\\lib\\site-packages\\scipy\\stats\\stats.py:1713: FutureWarning: Using a non-tuple sequence for multidimensional indexing is deprecated; use `arr[tuple(seq)]` instead of `arr[seq]`. In the future this will be interpreted as an array index, `arr[np.array(seq)]`, which will result either in an error or a different result.\n",
      "  return np.add.reduce(sorted[indexer] * weights, axis=axis) / sumval\n"
     ]
    },
    {
     "data": {
      "text/plain": [
       "(array([0, 1, 2, 3, 4, 5, 6, 7]), <a list of 8 Text xticklabel objects>)"
      ]
     },
     "execution_count": 9,
     "metadata": {},
     "output_type": "execute_result"
    },
    {
     "data": {
      "image/png": "[encoded data removed]",
      "text/plain": [
       "<Figure size 432x288 with 1 Axes>"
      ]
     },
     "metadata": {},
     "output_type": "display_data"
    },
    {
     "data": {
      "image/png": "[encoded data removed]",
      "text/plain": [
       "<Figure size 504x360 with 1 Axes>"
      ]
     },
     "metadata": {},
     "output_type": "display_data"
    }
   ],
   "source": [
    "tracks_grouped = tracks_df.groupby(tracks_df['track_id']) \\\n",
    "                          .first()[['track_title', 'track_listens']]\n",
    "tracks_top10 = tracks_grouped.sort_values(by='track_listens', \n",
    "                                          ascending=False).head(10)\n",
    "\n",
    "\n",
    "albums_top10.plot(x='album_title', kind='bar', title=\"Top 10 Albums\")\n",
    "plt.grid()\n",
    "plt.figure(figsize=(7, 5))\n",
    "plt.title(\"Top 10 tracks listened\")\n",
    "plt.grid()\n",
    "ax = sns.barplot(x='track_title', y= 'track_listens',\n",
    "                 data=tracks_top10)\n",
    "plt.xticks(rotation=45)\n"
   ]
  },
  {
   "cell_type": "markdown",
   "metadata": {},
   "source": [
    "#### Relation between danceability and duration of the song"
   ]
  },
  {
   "cell_type": "code",
   "execution_count": 10,
   "metadata": {},
   "outputs": [],
   "source": [
    "tracks_df.insert(loc=13, column='track_duration_minutes',\n",
    "                 value=(tracks_df['track_duration'] / 60))\n",
    "\n",
    "tracks_df['track_duration_minutes'] = pd.to_numeric( \\\n",
    "                                            tracks_df['track_duration_minutes'])\n"
   ]
  },
  {
   "cell_type": "code",
   "execution_count": 11,
   "metadata": {},
   "outputs": [
    {
     "name": "stderr",
     "output_type": "stream",
     "text": [
      "C:\\Users\\Andres Montero\\Anaconda3\\lib\\site-packages\\scipy\\stats\\stats.py:1713: FutureWarning: Using a non-tuple sequence for multidimensional indexing is deprecated; use `arr[tuple(seq)]` instead of `arr[seq]`. In the future this will be interpreted as an array index, `arr[np.array(seq)]`, which will result either in an error or a different result.\n",
      "  return np.add.reduce(sorted[indexer] * weights, axis=axis) / sumval\n"
     ]
    },
    {
     "data": {
      "text/plain": [
       "<matplotlib.axes._subplots.AxesSubplot at 0x28853a33518>"
      ]
     },
     "execution_count": 11,
     "metadata": {},
     "output_type": "execute_result"
    },
    {
     "data": {
      "image/png": "[encoded data removed]",
      "text/plain": [
       "<Figure size 432x288 with 1 Axes>"
      ]
     },
     "metadata": {},
     "output_type": "display_data"
    }
   ],
   "source": [
    "tracks_df['track_duration_minutes'] = tracks_df['track_duration_minutes'] \\\n",
    "                                                .apply(lambda x : np.rint(x))\n",
    "sns.regplot(x='danceability', y='track_duration_minutes',\n",
    "            data=tracks_df, ci=95, \n",
    "            line_kws = {'color': 'green'})\n"
   ]
  },
  {
   "cell_type": "code",
   "execution_count": 12,
   "metadata": {},
   "outputs": [
    {
     "data": {
      "text/html": [
       "<div>\n",
       "<style scoped>\n",
       "    .dataframe tbody tr th:only-of-type {\n",
       "        vertical-align: middle;\n",
       "    }\n",
       "\n",
       "    .dataframe tbody tr th {\n",
       "        vertical-align: top;\n",
       "    }\n",
       "\n",
       "    .dataframe thead th {\n",
       "        text-align: right;\n",
       "    }\n",
       "</style>\n",
       "<table border=\"1\" class=\"dataframe\">\n",
       "  <thead>\n",
       "    <tr style=\"text-align: right;\">\n",
       "      <th></th>\n",
       "      <th>track_id</th>\n",
       "      <th>track_title</th>\n",
       "      <th>track_duration</th>\n",
       "      <th>artist_id</th>\n",
       "      <th>album_id</th>\n",
       "      <th>track_language</th>\n",
       "      <th>track_listens</th>\n",
       "      <th>track_tags</th>\n",
       "      <th>danceability</th>\n",
       "      <th>energy</th>\n",
       "      <th>valence</th>\n",
       "      <th>song_currency</th>\n",
       "      <th>song_hotness</th>\n",
       "      <th>track_duration_minutes</th>\n",
       "    </tr>\n",
       "  </thead>\n",
       "  <tbody>\n",
       "    <tr>\n",
       "      <th>0</th>\n",
       "      <td>2</td>\n",
       "      <td>Food</td>\n",
       "      <td>168.0</td>\n",
       "      <td>1</td>\n",
       "      <td>1</td>\n",
       "      <td>en</td>\n",
       "      <td>1293.0</td>\n",
       "      <td>[]</td>\n",
       "      <td>0.675894</td>\n",
       "      <td>0.634476</td>\n",
       "      <td>0.576661</td>\n",
       "      <td>0.000000</td>\n",
       "      <td>0.000000</td>\n",
       "      <td>3.0</td>\n",
       "    </tr>\n",
       "    <tr>\n",
       "      <th>1</th>\n",
       "      <td>3</td>\n",
       "      <td>Electric Ave</td>\n",
       "      <td>237.0</td>\n",
       "      <td>1</td>\n",
       "      <td>1</td>\n",
       "      <td>en</td>\n",
       "      <td>514.0</td>\n",
       "      <td>[]</td>\n",
       "      <td>0.528643</td>\n",
       "      <td>0.817461</td>\n",
       "      <td>0.269240</td>\n",
       "      <td>0.000000</td>\n",
       "      <td>0.000000</td>\n",
       "      <td>4.0</td>\n",
       "    </tr>\n",
       "    <tr>\n",
       "      <th>2</th>\n",
       "      <td>5</td>\n",
       "      <td>This World</td>\n",
       "      <td>206.0</td>\n",
       "      <td>1</td>\n",
       "      <td>1</td>\n",
       "      <td>en</td>\n",
       "      <td>1151.0</td>\n",
       "      <td>[]</td>\n",
       "      <td>0.745566</td>\n",
       "      <td>0.701470</td>\n",
       "      <td>0.621661</td>\n",
       "      <td>0.000000</td>\n",
       "      <td>0.000000</td>\n",
       "      <td>3.0</td>\n",
       "    </tr>\n",
       "    <tr>\n",
       "      <th>3</th>\n",
       "      <td>10</td>\n",
       "      <td>Freeway</td>\n",
       "      <td>161.0</td>\n",
       "      <td>6</td>\n",
       "      <td>6</td>\n",
       "      <td>en</td>\n",
       "      <td>50135.0</td>\n",
       "      <td>[]</td>\n",
       "      <td>0.658179</td>\n",
       "      <td>0.924525</td>\n",
       "      <td>0.963590</td>\n",
       "      <td>0.005158</td>\n",
       "      <td>0.354516</td>\n",
       "      <td>3.0</td>\n",
       "    </tr>\n",
       "    <tr>\n",
       "      <th>4</th>\n",
       "      <td>134</td>\n",
       "      <td>Street Music</td>\n",
       "      <td>207.0</td>\n",
       "      <td>1</td>\n",
       "      <td>1</td>\n",
       "      <td>en</td>\n",
       "      <td>943.0</td>\n",
       "      <td>[]</td>\n",
       "      <td>0.513238</td>\n",
       "      <td>0.560410</td>\n",
       "      <td>0.894072</td>\n",
       "      <td>0.000000</td>\n",
       "      <td>0.000000</td>\n",
       "      <td>3.0</td>\n",
       "    </tr>\n",
       "  </tbody>\n",
       "</table>\n",
       "</div>"
      ],
      "text/plain": [
       "  track_id   track_title  track_duration artist_id album_id track_language  \\\n",
       "0        2          Food           168.0         1        1             en   \n",
       "1        3  Electric Ave           237.0         1        1             en   \n",
       "2        5    This World           206.0         1        1             en   \n",
       "3       10       Freeway           161.0         6        6             en   \n",
       "4      134  Street Music           207.0         1        1             en   \n",
       "\n",
       "   track_listens track_tags  danceability    energy   valence  song_currency  \\\n",
       "0         1293.0         []      0.675894  0.634476  0.576661       0.000000   \n",
       "1          514.0         []      0.528643  0.817461  0.269240       0.000000   \n",
       "2         1151.0         []      0.745566  0.701470  0.621661       0.000000   \n",
       "3        50135.0         []      0.658179  0.924525  0.963590       0.005158   \n",
       "4          943.0         []      0.513238  0.560410  0.894072       0.000000   \n",
       "\n",
       "   song_hotness  track_duration_minutes  \n",
       "0      0.000000                     3.0  \n",
       "1      0.000000                     4.0  \n",
       "2      0.000000                     3.0  \n",
       "3      0.354516                     3.0  \n",
       "4      0.000000                     3.0  "
      ]
     },
     "execution_count": 12,
     "metadata": {},
     "output_type": "execute_result"
    }
   ],
   "source": [
    "tracks_df.head()\n"
   ]
  },
  {
   "cell_type": "code",
   "execution_count": 13,
   "metadata": {},
   "outputs": [
    {
     "name": "stdout",
     "output_type": "stream",
     "text": [
      "The spearman correlation is: SpearmanrResult(correlation=-0.03915727479024427, pvalue=0.0028031306518225274)\n"
     ]
    }
   ],
   "source": [
    "tracks_df_correlation = tracks_df.dropna()\n",
    "spearman_coeff = stats.spearmanr(tracks_df_correlation['danceability'], \n",
    "                                 tracks_df_correlation['track_duration_minutes'])\n",
    "print('The spearman correlation is: {}'.format(spearman_coeff))\n"
   ]
  },
  {
   "cell_type": "code",
   "execution_count": 14,
   "metadata": {},
   "outputs": [
    {
     "name": "stdout",
     "output_type": "stream",
     "text": [
      "The pearson correlation is: (-0.11209761784908044, 9.551426265293523e-18)\n"
     ]
    }
   ],
   "source": [
    "pearson_coeff = stats.pearsonr(tracks_df_correlation['danceability'], \n",
    "                                 tracks_df_correlation['track_duration_minutes'])\n",
    "print('The pearson correlation is: {}'.format(pearson_coeff))"
   ]
  },
  {
   "cell_type": "markdown",
   "metadata": {},
   "source": [
    "#### Relation between valence and other variables"
   ]
  },
  {
   "cell_type": "markdown",
   "metadata": {},
   "source": [
    "Valence refers to the degree of positive or negative emotions one perceives from a song. We'll try to find some relations between such varible and others.\n",
    "Relation between track_listens and valence"
   ]
  },
  {
   "cell_type": "code",
   "execution_count": 15,
   "metadata": {},
   "outputs": [
    {
     "name": "stderr",
     "output_type": "stream",
     "text": [
      "C:\\Users\\Andres Montero\\Anaconda3\\lib\\site-packages\\scipy\\stats\\stats.py:1713: FutureWarning: Using a non-tuple sequence for multidimensional indexing is deprecated; use `arr[tuple(seq)]` instead of `arr[seq]`. In the future this will be interpreted as an array index, `arr[np.array(seq)]`, which will result either in an error or a different result.\n",
      "  return np.add.reduce(sorted[indexer] * weights, axis=axis) / sumval\n"
     ]
    },
    {
     "data": {
      "text/plain": [
       "<matplotlib.axes._subplots.AxesSubplot at 0x28855cc4048>"
      ]
     },
     "execution_count": 15,
     "metadata": {},
     "output_type": "execute_result"
    },
    {
     "data": {
      "image/png": "[encoded data removed]",
      "text/plain": [
       "<Figure size 432x288 with 1 Axes>"
      ]
     },
     "metadata": {},
     "output_type": "display_data"
    }
   ],
   "source": [
    "sns.regplot(x='valence', y='track_listens',\n",
    "            data=tracks_df, ci=95, \n",
    "            line_kws ={'color': 'green'})\n"
   ]
  },
  {
   "cell_type": "markdown",
   "metadata": {},
   "source": [
    "As seen in the plot, it is difficult to find a relationships between the valence of the song and the number of listens. We also tried to find relation between valence and energy, or valence and danceability and we found that such relationships are highly variable and do not show any dependance."
   ]
  },
  {
   "cell_type": "markdown",
   "metadata": {},
   "source": [
    "Mean value of valence per genre"
   ]
  },
  {
   "cell_type": "code",
   "execution_count": 16,
   "metadata": {},
   "outputs": [
    {
     "data": {
      "text/plain": [
       "<matplotlib.axes._subplots.AxesSubplot at 0x28855d01160>"
      ]
     },
     "execution_count": 16,
     "metadata": {},
     "output_type": "execute_result"
    },
    {
     "data": {
      "image/png": "[encoded data removed]",
      "text/plain": [
       "<Figure size 432x288 with 1 Axes>"
      ]
     },
     "metadata": {},
     "output_type": "display_data"
    }
   ],
   "source": [
    "track_rel = tracks_df.merge(track_genre_rel_df)\n",
    "track_genre = track_rel.merge(genres_df)\n",
    "genre_valence = track_genre.groupby('title')['valence'].mean()\n",
    "\n",
    "top10_genre_valence = genre_valence.sort_values(ascending=False).head(10)\n",
    "\n",
    "top10_genre_valence.plot(x='track_genre_top', kind='bar', \n",
    "                         title='Valence per genre')\n"
   ]
  },
  {
   "cell_type": "code",
   "execution_count": 17,
   "metadata": {},
   "outputs": [
    {
     "data": {
      "text/html": [
       "<div>\n",
       "<style scoped>\n",
       "    .dataframe tbody tr th:only-of-type {\n",
       "        vertical-align: middle;\n",
       "    }\n",
       "\n",
       "    .dataframe tbody tr th {\n",
       "        vertical-align: top;\n",
       "    }\n",
       "\n",
       "    .dataframe thead th {\n",
       "        text-align: right;\n",
       "    }\n",
       "</style>\n",
       "<table border=\"1\" class=\"dataframe\">\n",
       "  <thead>\n",
       "    <tr style=\"text-align: right;\">\n",
       "      <th></th>\n",
       "      <th>title</th>\n",
       "      <th>album_date_released</th>\n",
       "      <th>album_released_year</th>\n",
       "    </tr>\n",
       "  </thead>\n",
       "  <tbody>\n",
       "    <tr>\n",
       "      <th>0</th>\n",
       "      <td>Hip-Hop</td>\n",
       "      <td>2009-01-05</td>\n",
       "      <td>2009.0</td>\n",
       "    </tr>\n",
       "    <tr>\n",
       "      <th>1</th>\n",
       "      <td>Hip-Hop</td>\n",
       "      <td>2009-01-05</td>\n",
       "      <td>2009.0</td>\n",
       "    </tr>\n",
       "    <tr>\n",
       "      <th>2</th>\n",
       "      <td>Hip-Hop</td>\n",
       "      <td>2009-01-05</td>\n",
       "      <td>2009.0</td>\n",
       "    </tr>\n",
       "    <tr>\n",
       "      <th>3</th>\n",
       "      <td>Hip-Hop</td>\n",
       "      <td>2009-01-05</td>\n",
       "      <td>2009.0</td>\n",
       "    </tr>\n",
       "    <tr>\n",
       "      <th>4</th>\n",
       "      <td>Hip-Hop</td>\n",
       "      <td>2009-01-05</td>\n",
       "      <td>2009.0</td>\n",
       "    </tr>\n",
       "  </tbody>\n",
       "</table>\n",
       "</div>"
      ],
      "text/plain": [
       "     title album_date_released  album_released_year\n",
       "0  Hip-Hop          2009-01-05               2009.0\n",
       "1  Hip-Hop          2009-01-05               2009.0\n",
       "2  Hip-Hop          2009-01-05               2009.0\n",
       "3  Hip-Hop          2009-01-05               2009.0\n",
       "4  Hip-Hop          2009-01-05               2009.0"
      ]
     },
     "execution_count": 17,
     "metadata": {},
     "output_type": "execute_result"
    }
   ],
   "source": [
    "track_genre_album = track_genre.merge(albums_df)\n",
    "\n",
    "genre_year = track_genre_album[['title', 'album_date_released']]\n",
    "genre_year.insert(loc=2, column='album_released_year',\n",
    "                  value=(genre_year['album_date_released'].dt.year))\n",
    "genre_year.head()\n"
   ]
  },
  {
   "cell_type": "code",
   "execution_count": 18,
   "metadata": {},
   "outputs": [],
   "source": [
    "top_genre = genre_year.groupby(genre_year['title']).size()"
   ]
  },
  {
   "cell_type": "code",
   "execution_count": 19,
   "metadata": {},
   "outputs": [
    {
     "data": {
      "image/png": "[encoded data removed]",
      "text/plain": [
       "<Figure size 432x288 with 1 Axes>"
      ]
     },
     "metadata": {},
     "output_type": "display_data"
    }
   ],
   "source": [
    "top_genre_sorted = top_genre.sort_values(ascending=False).head(10)\n",
    "top_genre_sorted.plot(kind='bar', title=\"Top 10 Genres\")\n",
    "plt.grid()\n"
   ]
  },
  {
   "cell_type": "code",
   "execution_count": 20,
   "metadata": {},
   "outputs": [
    {
     "data": {
      "text/html": [
       "<div>\n",
       "<style scoped>\n",
       "    .dataframe tbody tr th:only-of-type {\n",
       "        vertical-align: middle;\n",
       "    }\n",
       "\n",
       "    .dataframe tbody tr th {\n",
       "        vertical-align: top;\n",
       "    }\n",
       "\n",
       "    .dataframe thead th {\n",
       "        text-align: right;\n",
       "    }\n",
       "</style>\n",
       "<table border=\"1\" class=\"dataframe\">\n",
       "  <thead>\n",
       "    <tr style=\"text-align: right;\">\n",
       "      <th></th>\n",
       "      <th>track_id</th>\n",
       "      <th>track_title</th>\n",
       "      <th>track_duration</th>\n",
       "      <th>artist_id</th>\n",
       "      <th>album_id</th>\n",
       "      <th>track_language</th>\n",
       "      <th>track_listens</th>\n",
       "      <th>track_tags</th>\n",
       "      <th>danceability</th>\n",
       "      <th>energy</th>\n",
       "      <th>valence</th>\n",
       "      <th>song_currency</th>\n",
       "      <th>song_hotness</th>\n",
       "      <th>track_duration_minutes</th>\n",
       "      <th>album_date_created</th>\n",
       "      <th>album_date_released</th>\n",
       "      <th>album_title</th>\n",
       "      <th>album_listens</th>\n",
       "    </tr>\n",
       "  </thead>\n",
       "  <tbody>\n",
       "    <tr>\n",
       "      <th>78723</th>\n",
       "      <td>116489</td>\n",
       "      <td>Tossed</td>\n",
       "      <td>186.0</td>\n",
       "      <td>19461</td>\n",
       "      <td>17932</td>\n",
       "      <td>NaN</td>\n",
       "      <td>3185.0</td>\n",
       "      <td>[]</td>\n",
       "      <td>NaN</td>\n",
       "      <td>NaN</td>\n",
       "      <td>NaN</td>\n",
       "      <td>NaN</td>\n",
       "      <td>NaN</td>\n",
       "      <td>3.0</td>\n",
       "      <td>2015-03-16 14:45:09</td>\n",
       "      <td>2021-03-01</td>\n",
       "      <td>Grey River</td>\n",
       "      <td>18090.0</td>\n",
       "    </tr>\n",
       "    <tr>\n",
       "      <th>78721</th>\n",
       "      <td>116487</td>\n",
       "      <td>Scraper</td>\n",
       "      <td>243.0</td>\n",
       "      <td>19461</td>\n",
       "      <td>17932</td>\n",
       "      <td>NaN</td>\n",
       "      <td>2566.0</td>\n",
       "      <td>[]</td>\n",
       "      <td>NaN</td>\n",
       "      <td>NaN</td>\n",
       "      <td>NaN</td>\n",
       "      <td>NaN</td>\n",
       "      <td>NaN</td>\n",
       "      <td>4.0</td>\n",
       "      <td>2015-03-16 14:45:09</td>\n",
       "      <td>2021-03-01</td>\n",
       "      <td>Grey River</td>\n",
       "      <td>18090.0</td>\n",
       "    </tr>\n",
       "    <tr>\n",
       "      <th>78725</th>\n",
       "      <td>116491</td>\n",
       "      <td>Wistful</td>\n",
       "      <td>84.0</td>\n",
       "      <td>19461</td>\n",
       "      <td>17932</td>\n",
       "      <td>NaN</td>\n",
       "      <td>5267.0</td>\n",
       "      <td>[]</td>\n",
       "      <td>NaN</td>\n",
       "      <td>NaN</td>\n",
       "      <td>NaN</td>\n",
       "      <td>NaN</td>\n",
       "      <td>NaN</td>\n",
       "      <td>1.0</td>\n",
       "      <td>2015-03-16 14:45:09</td>\n",
       "      <td>2021-03-01</td>\n",
       "      <td>Grey River</td>\n",
       "      <td>18090.0</td>\n",
       "    </tr>\n",
       "    <tr>\n",
       "      <th>78724</th>\n",
       "      <td>116490</td>\n",
       "      <td>Transit</td>\n",
       "      <td>143.0</td>\n",
       "      <td>19461</td>\n",
       "      <td>17932</td>\n",
       "      <td>NaN</td>\n",
       "      <td>3845.0</td>\n",
       "      <td>[]</td>\n",
       "      <td>NaN</td>\n",
       "      <td>NaN</td>\n",
       "      <td>NaN</td>\n",
       "      <td>NaN</td>\n",
       "      <td>NaN</td>\n",
       "      <td>2.0</td>\n",
       "      <td>2015-03-16 14:45:09</td>\n",
       "      <td>2021-03-01</td>\n",
       "      <td>Grey River</td>\n",
       "      <td>18090.0</td>\n",
       "    </tr>\n",
       "    <tr>\n",
       "      <th>78722</th>\n",
       "      <td>116488</td>\n",
       "      <td>Slider</td>\n",
       "      <td>132.0</td>\n",
       "      <td>19461</td>\n",
       "      <td>17932</td>\n",
       "      <td>NaN</td>\n",
       "      <td>3227.0</td>\n",
       "      <td>[]</td>\n",
       "      <td>NaN</td>\n",
       "      <td>NaN</td>\n",
       "      <td>NaN</td>\n",
       "      <td>NaN</td>\n",
       "      <td>NaN</td>\n",
       "      <td>2.0</td>\n",
       "      <td>2015-03-16 14:45:09</td>\n",
       "      <td>2021-03-01</td>\n",
       "      <td>Grey River</td>\n",
       "      <td>18090.0</td>\n",
       "    </tr>\n",
       "  </tbody>\n",
       "</table>\n",
       "</div>"
      ],
      "text/plain": [
       "      track_id track_title  track_duration artist_id album_id track_language  \\\n",
       "78723   116489      Tossed           186.0     19461    17932            NaN   \n",
       "78721   116487     Scraper           243.0     19461    17932            NaN   \n",
       "78725   116491     Wistful            84.0     19461    17932            NaN   \n",
       "78724   116490     Transit           143.0     19461    17932            NaN   \n",
       "78722   116488      Slider           132.0     19461    17932            NaN   \n",
       "\n",
       "       track_listens track_tags  danceability  energy  valence  song_currency  \\\n",
       "78723         3185.0         []           NaN     NaN      NaN            NaN   \n",
       "78721         2566.0         []           NaN     NaN      NaN            NaN   \n",
       "78725         5267.0         []           NaN     NaN      NaN            NaN   \n",
       "78724         3845.0         []           NaN     NaN      NaN            NaN   \n",
       "78722         3227.0         []           NaN     NaN      NaN            NaN   \n",
       "\n",
       "       song_hotness  track_duration_minutes   album_date_created  \\\n",
       "78723           NaN                     3.0  2015-03-16 14:45:09   \n",
       "78721           NaN                     4.0  2015-03-16 14:45:09   \n",
       "78725           NaN                     1.0  2015-03-16 14:45:09   \n",
       "78724           NaN                     2.0  2015-03-16 14:45:09   \n",
       "78722           NaN                     2.0  2015-03-16 14:45:09   \n",
       "\n",
       "      album_date_released album_title  album_listens  \n",
       "78723          2021-03-01  Grey River        18090.0  \n",
       "78721          2021-03-01  Grey River        18090.0  \n",
       "78725          2021-03-01  Grey River        18090.0  \n",
       "78724          2021-03-01  Grey River        18090.0  \n",
       "78722          2021-03-01  Grey River        18090.0  "
      ]
     },
     "execution_count": 20,
     "metadata": {},
     "output_type": "execute_result"
    }
   ],
   "source": [
    "track_album = tracks_df.merge(albums_df)\n",
    "track_album.sort_values(by='album_date_released', ascending=False).head()"
   ]
  },
  {
   "cell_type": "code",
   "execution_count": 21,
   "metadata": {},
   "outputs": [
    {
     "data": {
      "text/html": [
       "<div>\n",
       "<style scoped>\n",
       "    .dataframe tbody tr th:only-of-type {\n",
       "        vertical-align: middle;\n",
       "    }\n",
       "\n",
       "    .dataframe tbody tr th {\n",
       "        vertical-align: top;\n",
       "    }\n",
       "\n",
       "    .dataframe thead th {\n",
       "        text-align: right;\n",
       "    }\n",
       "</style>\n",
       "<table border=\"1\" class=\"dataframe\">\n",
       "  <thead>\n",
       "    <tr style=\"text-align: right;\">\n",
       "      <th></th>\n",
       "      <th>track_id</th>\n",
       "      <th>track_title</th>\n",
       "      <th>track_duration</th>\n",
       "      <th>artist_id</th>\n",
       "      <th>album_id</th>\n",
       "      <th>track_language</th>\n",
       "      <th>track_listens</th>\n",
       "      <th>track_tags</th>\n",
       "      <th>danceability</th>\n",
       "      <th>energy</th>\n",
       "      <th>valence</th>\n",
       "      <th>song_currency</th>\n",
       "      <th>song_hotness</th>\n",
       "      <th>track_duration_minutes</th>\n",
       "      <th>album_date_created</th>\n",
       "      <th>album_date_released</th>\n",
       "      <th>album_title</th>\n",
       "      <th>album_listens</th>\n",
       "    </tr>\n",
       "  </thead>\n",
       "  <tbody>\n",
       "    <tr>\n",
       "      <th>0</th>\n",
       "      <td>2</td>\n",
       "      <td>Food</td>\n",
       "      <td>168.0</td>\n",
       "      <td>1</td>\n",
       "      <td>1</td>\n",
       "      <td>en</td>\n",
       "      <td>1293.0</td>\n",
       "      <td>[]</td>\n",
       "      <td>0.675894</td>\n",
       "      <td>0.634476</td>\n",
       "      <td>0.576661</td>\n",
       "      <td>0.0</td>\n",
       "      <td>0.0</td>\n",
       "      <td>3.0</td>\n",
       "      <td>2008-11-26 01:44:45</td>\n",
       "      <td>2009-01-05</td>\n",
       "      <td>AWOL - A Way Of Life</td>\n",
       "      <td>6073.0</td>\n",
       "    </tr>\n",
       "    <tr>\n",
       "      <th>1</th>\n",
       "      <td>3</td>\n",
       "      <td>Electric Ave</td>\n",
       "      <td>237.0</td>\n",
       "      <td>1</td>\n",
       "      <td>1</td>\n",
       "      <td>en</td>\n",
       "      <td>514.0</td>\n",
       "      <td>[]</td>\n",
       "      <td>0.528643</td>\n",
       "      <td>0.817461</td>\n",
       "      <td>0.269240</td>\n",
       "      <td>0.0</td>\n",
       "      <td>0.0</td>\n",
       "      <td>4.0</td>\n",
       "      <td>2008-11-26 01:44:45</td>\n",
       "      <td>2009-01-05</td>\n",
       "      <td>AWOL - A Way Of Life</td>\n",
       "      <td>6073.0</td>\n",
       "    </tr>\n",
       "    <tr>\n",
       "      <th>2</th>\n",
       "      <td>5</td>\n",
       "      <td>This World</td>\n",
       "      <td>206.0</td>\n",
       "      <td>1</td>\n",
       "      <td>1</td>\n",
       "      <td>en</td>\n",
       "      <td>1151.0</td>\n",
       "      <td>[]</td>\n",
       "      <td>0.745566</td>\n",
       "      <td>0.701470</td>\n",
       "      <td>0.621661</td>\n",
       "      <td>0.0</td>\n",
       "      <td>0.0</td>\n",
       "      <td>3.0</td>\n",
       "      <td>2008-11-26 01:44:45</td>\n",
       "      <td>2009-01-05</td>\n",
       "      <td>AWOL - A Way Of Life</td>\n",
       "      <td>6073.0</td>\n",
       "    </tr>\n",
       "    <tr>\n",
       "      <th>3</th>\n",
       "      <td>134</td>\n",
       "      <td>Street Music</td>\n",
       "      <td>207.0</td>\n",
       "      <td>1</td>\n",
       "      <td>1</td>\n",
       "      <td>en</td>\n",
       "      <td>943.0</td>\n",
       "      <td>[]</td>\n",
       "      <td>0.513238</td>\n",
       "      <td>0.560410</td>\n",
       "      <td>0.894072</td>\n",
       "      <td>0.0</td>\n",
       "      <td>0.0</td>\n",
       "      <td>3.0</td>\n",
       "      <td>2008-11-26 01:44:45</td>\n",
       "      <td>2009-01-05</td>\n",
       "      <td>AWOL - A Way Of Life</td>\n",
       "      <td>6073.0</td>\n",
       "    </tr>\n",
       "    <tr>\n",
       "      <th>4</th>\n",
       "      <td>10666</td>\n",
       "      <td>Hangloose</td>\n",
       "      <td>266.0</td>\n",
       "      <td>1</td>\n",
       "      <td>1</td>\n",
       "      <td>en</td>\n",
       "      <td>929.0</td>\n",
       "      <td>[]</td>\n",
       "      <td>0.543760</td>\n",
       "      <td>0.528764</td>\n",
       "      <td>0.800948</td>\n",
       "      <td>0.0</td>\n",
       "      <td>0.0</td>\n",
       "      <td>4.0</td>\n",
       "      <td>2008-11-26 01:44:45</td>\n",
       "      <td>2009-01-05</td>\n",
       "      <td>AWOL - A Way Of Life</td>\n",
       "      <td>6073.0</td>\n",
       "    </tr>\n",
       "  </tbody>\n",
       "</table>\n",
       "</div>"
      ],
      "text/plain": [
       "  track_id   track_title  track_duration artist_id album_id track_language  \\\n",
       "0        2          Food           168.0         1        1             en   \n",
       "1        3  Electric Ave           237.0         1        1             en   \n",
       "2        5    This World           206.0         1        1             en   \n",
       "3      134  Street Music           207.0         1        1             en   \n",
       "4    10666     Hangloose           266.0         1        1             en   \n",
       "\n",
       "   track_listens track_tags  danceability    energy   valence  song_currency  \\\n",
       "0         1293.0         []      0.675894  0.634476  0.576661            0.0   \n",
       "1          514.0         []      0.528643  0.817461  0.269240            0.0   \n",
       "2         1151.0         []      0.745566  0.701470  0.621661            0.0   \n",
       "3          943.0         []      0.513238  0.560410  0.894072            0.0   \n",
       "4          929.0         []      0.543760  0.528764  0.800948            0.0   \n",
       "\n",
       "   song_hotness  track_duration_minutes   album_date_created  \\\n",
       "0           0.0                     3.0  2008-11-26 01:44:45   \n",
       "1           0.0                     4.0  2008-11-26 01:44:45   \n",
       "2           0.0                     3.0  2008-11-26 01:44:45   \n",
       "3           0.0                     3.0  2008-11-26 01:44:45   \n",
       "4           0.0                     4.0  2008-11-26 01:44:45   \n",
       "\n",
       "  album_date_released           album_title  album_listens  \n",
       "0          2009-01-05  AWOL - A Way Of Life         6073.0  \n",
       "1          2009-01-05  AWOL - A Way Of Life         6073.0  \n",
       "2          2009-01-05  AWOL - A Way Of Life         6073.0  \n",
       "3          2009-01-05  AWOL - A Way Of Life         6073.0  \n",
       "4          2009-01-05  AWOL - A Way Of Life         6073.0  "
      ]
     },
     "execution_count": 21,
     "metadata": {},
     "output_type": "execute_result"
    }
   ],
   "source": [
    "track_album.sort_values(by='album_date_created').head()\n"
   ]
  },
  {
   "cell_type": "code",
   "execution_count": 22,
   "metadata": {},
   "outputs": [
    {
     "data": {
      "text/html": [
       "<div>\n",
       "<style scoped>\n",
       "    .dataframe tbody tr th:only-of-type {\n",
       "        vertical-align: middle;\n",
       "    }\n",
       "\n",
       "    .dataframe tbody tr th {\n",
       "        vertical-align: top;\n",
       "    }\n",
       "\n",
       "    .dataframe thead th {\n",
       "        text-align: right;\n",
       "    }\n",
       "</style>\n",
       "<table border=\"1\" class=\"dataframe\">\n",
       "  <thead>\n",
       "    <tr style=\"text-align: right;\">\n",
       "      <th></th>\n",
       "      <th>album_id</th>\n",
       "      <th>album_date_created</th>\n",
       "      <th>album_date_released</th>\n",
       "      <th>album_title</th>\n",
       "      <th>album_listens</th>\n",
       "    </tr>\n",
       "  </thead>\n",
       "  <tbody>\n",
       "    <tr>\n",
       "      <th>0</th>\n",
       "      <td>1</td>\n",
       "      <td>2008-11-26 01:44:45</td>\n",
       "      <td>2009-01-05</td>\n",
       "      <td>AWOL - A Way Of Life</td>\n",
       "      <td>6073.0</td>\n",
       "    </tr>\n",
       "    <tr>\n",
       "      <th>1</th>\n",
       "      <td>6</td>\n",
       "      <td>2008-11-26 01:45:08</td>\n",
       "      <td>2008-02-06</td>\n",
       "      <td>Constant Hitmaker</td>\n",
       "      <td>47632.0</td>\n",
       "    </tr>\n",
       "    <tr>\n",
       "      <th>2</th>\n",
       "      <td>60</td>\n",
       "      <td>2008-11-26 01:49:57</td>\n",
       "      <td>2009-01-16</td>\n",
       "      <td>Every Man For Himself</td>\n",
       "      <td>1304.0</td>\n",
       "    </tr>\n",
       "    <tr>\n",
       "      <th>3</th>\n",
       "      <td>61</td>\n",
       "      <td>2008-11-26 01:49:59</td>\n",
       "      <td>2007-05-22</td>\n",
       "      <td>The Blind Spot</td>\n",
       "      <td>1300.0</td>\n",
       "    </tr>\n",
       "    <tr>\n",
       "      <th>4</th>\n",
       "      <td>62</td>\n",
       "      <td>2008-11-26 01:50:03</td>\n",
       "      <td>2005-01-25</td>\n",
       "      <td>The Quiet Room</td>\n",
       "      <td>845.0</td>\n",
       "    </tr>\n",
       "  </tbody>\n",
       "</table>\n",
       "</div>"
      ],
      "text/plain": [
       "  album_id   album_date_created album_date_released            album_title  \\\n",
       "0        1  2008-11-26 01:44:45          2009-01-05   AWOL - A Way Of Life   \n",
       "1        6  2008-11-26 01:45:08          2008-02-06      Constant Hitmaker   \n",
       "2       60  2008-11-26 01:49:57          2009-01-16  Every Man For Himself   \n",
       "3       61  2008-11-26 01:49:59          2007-05-22         The Blind Spot   \n",
       "4       62  2008-11-26 01:50:03          2005-01-25         The Quiet Room   \n",
       "\n",
       "   album_listens  \n",
       "0         6073.0  \n",
       "1        47632.0  \n",
       "2         1304.0  \n",
       "3         1300.0  \n",
       "4          845.0  "
      ]
     },
     "execution_count": 22,
     "metadata": {},
     "output_type": "execute_result"
    }
   ],
   "source": [
    "albums_df.head()"
   ]
  },
  {
   "cell_type": "code",
   "execution_count": 23,
   "metadata": {},
   "outputs": [
    {
     "data": {
      "text/html": [
       "<div>\n",
       "<style scoped>\n",
       "    .dataframe tbody tr th:only-of-type {\n",
       "        vertical-align: middle;\n",
       "    }\n",
       "\n",
       "    .dataframe tbody tr th {\n",
       "        vertical-align: top;\n",
       "    }\n",
       "\n",
       "    .dataframe thead th {\n",
       "        text-align: right;\n",
       "    }\n",
       "</style>\n",
       "<table border=\"1\" class=\"dataframe\">\n",
       "  <thead>\n",
       "    <tr style=\"text-align: right;\">\n",
       "      <th></th>\n",
       "      <th>album_id</th>\n",
       "      <th>album_date_created</th>\n",
       "      <th>album_date_released</th>\n",
       "      <th>album_title</th>\n",
       "      <th>album_listens</th>\n",
       "    </tr>\n",
       "  </thead>\n",
       "  <tbody>\n",
       "    <tr>\n",
       "      <th>2362</th>\n",
       "      <td>16961</td>\n",
       "      <td>2014-10-03 12:55:45</td>\n",
       "      <td>1902-01-01</td>\n",
       "      <td>Piano Rolls from archive.org</td>\n",
       "      <td>75597.0</td>\n",
       "    </tr>\n",
       "    <tr>\n",
       "      <th>349</th>\n",
       "      <td>1729</td>\n",
       "      <td>2009-01-09 15:01:43</td>\n",
       "      <td>1905-01-10</td>\n",
       "      <td>Edison Gold Moulded Record: 9154</td>\n",
       "      <td>1722.0</td>\n",
       "    </tr>\n",
       "    <tr>\n",
       "      <th>350</th>\n",
       "      <td>1731</td>\n",
       "      <td>2009-01-09 15:02:36</td>\n",
       "      <td>1907-01-10</td>\n",
       "      <td>Edison Gold Moulded Record: 9665</td>\n",
       "      <td>4280.0</td>\n",
       "    </tr>\n",
       "    <tr>\n",
       "      <th>347</th>\n",
       "      <td>1727</td>\n",
       "      <td>2009-01-09 15:00:50</td>\n",
       "      <td>1909-01-01</td>\n",
       "      <td>Edison Amberol: 126</td>\n",
       "      <td>1019.0</td>\n",
       "    </tr>\n",
       "    <tr>\n",
       "      <th>2692</th>\n",
       "      <td>1724</td>\n",
       "      <td>2009-01-09 14:59:22</td>\n",
       "      <td>1911-01-10</td>\n",
       "      <td>Edison Amberol: 678</td>\n",
       "      <td>1493.0</td>\n",
       "    </tr>\n",
       "  </tbody>\n",
       "</table>\n",
       "</div>"
      ],
      "text/plain": [
       "     album_id   album_date_created album_date_released  \\\n",
       "2362    16961  2014-10-03 12:55:45          1902-01-01   \n",
       "349      1729  2009-01-09 15:01:43          1905-01-10   \n",
       "350      1731  2009-01-09 15:02:36          1907-01-10   \n",
       "347      1727  2009-01-09 15:00:50          1909-01-01   \n",
       "2692     1724  2009-01-09 14:59:22          1911-01-10   \n",
       "\n",
       "                           album_title  album_listens  \n",
       "2362      Piano Rolls from archive.org        75597.0  \n",
       "349   Edison Gold Moulded Record: 9154         1722.0  \n",
       "350   Edison Gold Moulded Record: 9665         4280.0  \n",
       "347                Edison Amberol: 126         1019.0  \n",
       "2692               Edison Amberol: 678         1493.0  "
      ]
     },
     "execution_count": 23,
     "metadata": {},
     "output_type": "execute_result"
    }
   ],
   "source": [
    "albums_df.sort_values(by = ['album_date_released']).head()"
   ]
  },
  {
   "cell_type": "code",
   "execution_count": 24,
   "metadata": {
    "scrolled": true
   },
   "outputs": [
    {
     "data": {
      "text/html": [
       "<div>\n",
       "<style scoped>\n",
       "    .dataframe tbody tr th:only-of-type {\n",
       "        vertical-align: middle;\n",
       "    }\n",
       "\n",
       "    .dataframe tbody tr th {\n",
       "        vertical-align: top;\n",
       "    }\n",
       "\n",
       "    .dataframe thead th {\n",
       "        text-align: right;\n",
       "    }\n",
       "</style>\n",
       "<table border=\"1\" class=\"dataframe\">\n",
       "  <thead>\n",
       "    <tr style=\"text-align: right;\">\n",
       "      <th></th>\n",
       "      <th>track_id</th>\n",
       "      <th>track_title</th>\n",
       "      <th>track_duration</th>\n",
       "      <th>artist_id</th>\n",
       "      <th>album_id</th>\n",
       "      <th>track_language</th>\n",
       "      <th>track_listens</th>\n",
       "      <th>track_tags</th>\n",
       "      <th>danceability</th>\n",
       "      <th>energy</th>\n",
       "      <th>valence</th>\n",
       "      <th>song_currency</th>\n",
       "      <th>song_hotness</th>\n",
       "      <th>track_duration_minutes</th>\n",
       "      <th>album_date_created</th>\n",
       "      <th>album_date_released</th>\n",
       "      <th>album_title</th>\n",
       "      <th>album_listens</th>\n",
       "    </tr>\n",
       "  </thead>\n",
       "  <tbody>\n",
       "    <tr>\n",
       "      <th>0</th>\n",
       "      <td>2</td>\n",
       "      <td>Food</td>\n",
       "      <td>168.0</td>\n",
       "      <td>1</td>\n",
       "      <td>1</td>\n",
       "      <td>en</td>\n",
       "      <td>1293.0</td>\n",
       "      <td>[]</td>\n",
       "      <td>0.675894</td>\n",
       "      <td>0.634476</td>\n",
       "      <td>0.576661</td>\n",
       "      <td>0.0</td>\n",
       "      <td>0.0</td>\n",
       "      <td>3.0</td>\n",
       "      <td>2008-11-26 01:44:45</td>\n",
       "      <td>2009-01-05</td>\n",
       "      <td>AWOL - A Way Of Life</td>\n",
       "      <td>6073.0</td>\n",
       "    </tr>\n",
       "    <tr>\n",
       "      <th>1</th>\n",
       "      <td>3</td>\n",
       "      <td>Electric Ave</td>\n",
       "      <td>237.0</td>\n",
       "      <td>1</td>\n",
       "      <td>1</td>\n",
       "      <td>en</td>\n",
       "      <td>514.0</td>\n",
       "      <td>[]</td>\n",
       "      <td>0.528643</td>\n",
       "      <td>0.817461</td>\n",
       "      <td>0.269240</td>\n",
       "      <td>0.0</td>\n",
       "      <td>0.0</td>\n",
       "      <td>4.0</td>\n",
       "      <td>2008-11-26 01:44:45</td>\n",
       "      <td>2009-01-05</td>\n",
       "      <td>AWOL - A Way Of Life</td>\n",
       "      <td>6073.0</td>\n",
       "    </tr>\n",
       "    <tr>\n",
       "      <th>2</th>\n",
       "      <td>5</td>\n",
       "      <td>This World</td>\n",
       "      <td>206.0</td>\n",
       "      <td>1</td>\n",
       "      <td>1</td>\n",
       "      <td>en</td>\n",
       "      <td>1151.0</td>\n",
       "      <td>[]</td>\n",
       "      <td>0.745566</td>\n",
       "      <td>0.701470</td>\n",
       "      <td>0.621661</td>\n",
       "      <td>0.0</td>\n",
       "      <td>0.0</td>\n",
       "      <td>3.0</td>\n",
       "      <td>2008-11-26 01:44:45</td>\n",
       "      <td>2009-01-05</td>\n",
       "      <td>AWOL - A Way Of Life</td>\n",
       "      <td>6073.0</td>\n",
       "    </tr>\n",
       "    <tr>\n",
       "      <th>3</th>\n",
       "      <td>134</td>\n",
       "      <td>Street Music</td>\n",
       "      <td>207.0</td>\n",
       "      <td>1</td>\n",
       "      <td>1</td>\n",
       "      <td>en</td>\n",
       "      <td>943.0</td>\n",
       "      <td>[]</td>\n",
       "      <td>0.513238</td>\n",
       "      <td>0.560410</td>\n",
       "      <td>0.894072</td>\n",
       "      <td>0.0</td>\n",
       "      <td>0.0</td>\n",
       "      <td>3.0</td>\n",
       "      <td>2008-11-26 01:44:45</td>\n",
       "      <td>2009-01-05</td>\n",
       "      <td>AWOL - A Way Of Life</td>\n",
       "      <td>6073.0</td>\n",
       "    </tr>\n",
       "    <tr>\n",
       "      <th>4</th>\n",
       "      <td>10666</td>\n",
       "      <td>Hangloose</td>\n",
       "      <td>266.0</td>\n",
       "      <td>1</td>\n",
       "      <td>1</td>\n",
       "      <td>en</td>\n",
       "      <td>929.0</td>\n",
       "      <td>[]</td>\n",
       "      <td>0.543760</td>\n",
       "      <td>0.528764</td>\n",
       "      <td>0.800948</td>\n",
       "      <td>0.0</td>\n",
       "      <td>0.0</td>\n",
       "      <td>4.0</td>\n",
       "      <td>2008-11-26 01:44:45</td>\n",
       "      <td>2009-01-05</td>\n",
       "      <td>AWOL - A Way Of Life</td>\n",
       "      <td>6073.0</td>\n",
       "    </tr>\n",
       "  </tbody>\n",
       "</table>\n",
       "</div>"
      ],
      "text/plain": [
       "  track_id   track_title  track_duration artist_id album_id track_language  \\\n",
       "0        2          Food           168.0         1        1             en   \n",
       "1        3  Electric Ave           237.0         1        1             en   \n",
       "2        5    This World           206.0         1        1             en   \n",
       "3      134  Street Music           207.0         1        1             en   \n",
       "4    10666     Hangloose           266.0         1        1             en   \n",
       "\n",
       "   track_listens track_tags  danceability    energy   valence  song_currency  \\\n",
       "0         1293.0         []      0.675894  0.634476  0.576661            0.0   \n",
       "1          514.0         []      0.528643  0.817461  0.269240            0.0   \n",
       "2         1151.0         []      0.745566  0.701470  0.621661            0.0   \n",
       "3          943.0         []      0.513238  0.560410  0.894072            0.0   \n",
       "4          929.0         []      0.543760  0.528764  0.800948            0.0   \n",
       "\n",
       "   song_hotness  track_duration_minutes   album_date_created  \\\n",
       "0           0.0                     3.0  2008-11-26 01:44:45   \n",
       "1           0.0                     4.0  2008-11-26 01:44:45   \n",
       "2           0.0                     3.0  2008-11-26 01:44:45   \n",
       "3           0.0                     3.0  2008-11-26 01:44:45   \n",
       "4           0.0                     4.0  2008-11-26 01:44:45   \n",
       "\n",
       "  album_date_released           album_title  album_listens  \n",
       "0          2009-01-05  AWOL - A Way Of Life         6073.0  \n",
       "1          2009-01-05  AWOL - A Way Of Life         6073.0  \n",
       "2          2009-01-05  AWOL - A Way Of Life         6073.0  \n",
       "3          2009-01-05  AWOL - A Way Of Life         6073.0  \n",
       "4          2009-01-05  AWOL - A Way Of Life         6073.0  "
      ]
     },
     "execution_count": 24,
     "metadata": {},
     "output_type": "execute_result"
    }
   ],
   "source": [
    "tracks_albums = tracks_df.merge(albums_df, how='inner')\n",
    "tracks_albums.head()"
   ]
  },
  {
   "cell_type": "code",
   "execution_count": null,
   "metadata": {},
   "outputs": [],
   "source": []
  },
  {
   "cell_type": "code",
   "execution_count": 25,
   "metadata": {},
   "outputs": [
    {
     "data": {
      "text/html": [
       "<div>\n",
       "<style scoped>\n",
       "    .dataframe tbody tr th:only-of-type {\n",
       "        vertical-align: middle;\n",
       "    }\n",
       "\n",
       "    .dataframe tbody tr th {\n",
       "        vertical-align: top;\n",
       "    }\n",
       "\n",
       "    .dataframe thead th {\n",
       "        text-align: right;\n",
       "    }\n",
       "</style>\n",
       "<table border=\"1\" class=\"dataframe\">\n",
       "  <thead>\n",
       "    <tr style=\"text-align: right;\">\n",
       "      <th></th>\n",
       "      <th>track_id</th>\n",
       "      <th>track_title</th>\n",
       "      <th>track_duration</th>\n",
       "      <th>artist_id</th>\n",
       "      <th>album_id</th>\n",
       "      <th>track_language</th>\n",
       "      <th>track_listens</th>\n",
       "      <th>track_tags</th>\n",
       "      <th>danceability</th>\n",
       "      <th>energy</th>\n",
       "      <th>valence</th>\n",
       "      <th>song_currency</th>\n",
       "      <th>song_hotness</th>\n",
       "      <th>track_duration_minutes</th>\n",
       "      <th>album_date_created</th>\n",
       "      <th>album_date_released</th>\n",
       "      <th>album_title</th>\n",
       "      <th>album_listens</th>\n",
       "    </tr>\n",
       "  </thead>\n",
       "  <tbody>\n",
       "    <tr>\n",
       "      <th>16</th>\n",
       "      <td>153</td>\n",
       "      <td>Hundred-Year Flood</td>\n",
       "      <td>405.0</td>\n",
       "      <td>60</td>\n",
       "      <td>69</td>\n",
       "      <td>en</td>\n",
       "      <td>424.0</td>\n",
       "      <td>[]</td>\n",
       "      <td>0.255661</td>\n",
       "      <td>0.979774</td>\n",
       "      <td>0.034018</td>\n",
       "      <td>0.00025</td>\n",
       "      <td>0.044300</td>\n",
       "      <td>7.0</td>\n",
       "      <td>2008-11-26 01:50:50</td>\n",
       "      <td>2005-06-07</td>\n",
       "      <td>Arc and Sender</td>\n",
       "      <td>628.0</td>\n",
       "    </tr>\n",
       "    <tr>\n",
       "      <th>17</th>\n",
       "      <td>154</td>\n",
       "      <td>Squares And Circles</td>\n",
       "      <td>319.0</td>\n",
       "      <td>60</td>\n",
       "      <td>69</td>\n",
       "      <td>en</td>\n",
       "      <td>205.0</td>\n",
       "      <td>[]</td>\n",
       "      <td>0.352946</td>\n",
       "      <td>0.023852</td>\n",
       "      <td>0.035632</td>\n",
       "      <td>0.00050</td>\n",
       "      <td>0.070213</td>\n",
       "      <td>5.0</td>\n",
       "      <td>2008-11-26 01:50:50</td>\n",
       "      <td>2005-06-07</td>\n",
       "      <td>Arc and Sender</td>\n",
       "      <td>628.0</td>\n",
       "    </tr>\n",
       "    <tr>\n",
       "      <th>19</th>\n",
       "      <td>169</td>\n",
       "      <td>Boss of Goth</td>\n",
       "      <td>144.0</td>\n",
       "      <td>62</td>\n",
       "      <td>72</td>\n",
       "      <td>en</td>\n",
       "      <td>270.0</td>\n",
       "      <td>[]</td>\n",
       "      <td>0.225978</td>\n",
       "      <td>0.722835</td>\n",
       "      <td>0.028347</td>\n",
       "      <td>0.00025</td>\n",
       "      <td>0.039431</td>\n",
       "      <td>2.0</td>\n",
       "      <td>2008-11-26 01:51:48</td>\n",
       "      <td>2008-06-23</td>\n",
       "      <td>Boss of Goth</td>\n",
       "      <td>716.0</td>\n",
       "    </tr>\n",
       "    <tr>\n",
       "      <th>20</th>\n",
       "      <td>173</td>\n",
       "      <td>Save Life's Golden Receipt In Case Refund Needed</td>\n",
       "      <td>218.0</td>\n",
       "      <td>62</td>\n",
       "      <td>72</td>\n",
       "      <td>en</td>\n",
       "      <td>177.0</td>\n",
       "      <td>[]</td>\n",
       "      <td>0.285293</td>\n",
       "      <td>0.564689</td>\n",
       "      <td>0.254299</td>\n",
       "      <td>0.00050</td>\n",
       "      <td>0.062497</td>\n",
       "      <td>4.0</td>\n",
       "      <td>2008-11-26 01:51:48</td>\n",
       "      <td>2008-06-23</td>\n",
       "      <td>Boss of Goth</td>\n",
       "      <td>716.0</td>\n",
       "    </tr>\n",
       "    <tr>\n",
       "      <th>21</th>\n",
       "      <td>174</td>\n",
       "      <td>Senator's Stance</td>\n",
       "      <td>199.0</td>\n",
       "      <td>62</td>\n",
       "      <td>72</td>\n",
       "      <td>en</td>\n",
       "      <td>116.0</td>\n",
       "      <td>[]</td>\n",
       "      <td>0.339698</td>\n",
       "      <td>0.846639</td>\n",
       "      <td>0.048243</td>\n",
       "      <td>0.00050</td>\n",
       "      <td>0.062497</td>\n",
       "      <td>3.0</td>\n",
       "      <td>2008-11-26 01:51:48</td>\n",
       "      <td>2008-06-23</td>\n",
       "      <td>Boss of Goth</td>\n",
       "      <td>716.0</td>\n",
       "    </tr>\n",
       "  </tbody>\n",
       "</table>\n",
       "</div>"
      ],
      "text/plain": [
       "   track_id                                       track_title  track_duration  \\\n",
       "16      153                                Hundred-Year Flood           405.0   \n",
       "17      154                               Squares And Circles           319.0   \n",
       "19      169                                      Boss of Goth           144.0   \n",
       "20      173  Save Life's Golden Receipt In Case Refund Needed           218.0   \n",
       "21      174                                  Senator's Stance           199.0   \n",
       "\n",
       "   artist_id album_id track_language  track_listens track_tags  danceability  \\\n",
       "16        60       69             en          424.0         []      0.255661   \n",
       "17        60       69             en          205.0         []      0.352946   \n",
       "19        62       72             en          270.0         []      0.225978   \n",
       "20        62       72             en          177.0         []      0.285293   \n",
       "21        62       72             en          116.0         []      0.339698   \n",
       "\n",
       "      energy   valence  song_currency  song_hotness  track_duration_minutes  \\\n",
       "16  0.979774  0.034018        0.00025      0.044300                     7.0   \n",
       "17  0.023852  0.035632        0.00050      0.070213                     5.0   \n",
       "19  0.722835  0.028347        0.00025      0.039431                     2.0   \n",
       "20  0.564689  0.254299        0.00050      0.062497                     4.0   \n",
       "21  0.846639  0.048243        0.00050      0.062497                     3.0   \n",
       "\n",
       "     album_date_created album_date_released     album_title  album_listens  \n",
       "16  2008-11-26 01:50:50          2005-06-07  Arc and Sender          628.0  \n",
       "17  2008-11-26 01:50:50          2005-06-07  Arc and Sender          628.0  \n",
       "19  2008-11-26 01:51:48          2008-06-23    Boss of Goth          716.0  \n",
       "20  2008-11-26 01:51:48          2008-06-23    Boss of Goth          716.0  \n",
       "21  2008-11-26 01:51:48          2008-06-23    Boss of Goth          716.0  "
      ]
     },
     "execution_count": 25,
     "metadata": {},
     "output_type": "execute_result"
    }
   ],
   "source": [
    "tracks_albums_summer = tracks_albums.loc[lambda tracks_albums: (tracks_albums.album_date_released.dt.month >5)\\\n",
    "                 & (tracks_albums.album_date_released.dt.month <10)]\n",
    "tracks_albums_summer.head()"
   ]
  },
  {
   "cell_type": "code",
   "execution_count": 26,
   "metadata": {},
   "outputs": [
    {
     "data": {
      "image/png": "[encoded data removed]",
      "text/plain": [
       "<Figure size 720x504 with 1 Axes>"
      ]
     },
     "metadata": {},
     "output_type": "display_data"
    }
   ],
   "source": [
    "tracks_albums_summer_year = tracks_albums_summer.groupby([(tracks_albums_summer['album_date_released'].dt.year.rename('year')),\\\n",
    "                          (tracks_albums_summer['album_date_released'].dt.month.rename('month'))]).mean()\n",
    "\n",
    "tracks_albums_summer_year_mean = tracks_albums_summer_year.groupby('year').mean()\n",
    "tracks_albums_summer_year_mean_valence = tracks_albums_summer_year_mean[['valence']]\n",
    "\n",
    "plt.figure(figsize=(10, 7))\n",
    "plt.title(\"Valence Summer Hits\")\n",
    "plt.grid()\n",
    "ax = sns.lineplot(data=tracks_albums_summer_year_mean_valence[\"valence\"], color=\"coral\", label=\"Valence\")"
   ]
  },
  {
   "cell_type": "code",
   "execution_count": 27,
   "metadata": {},
   "outputs": [
    {
     "data": {
      "image/png": "[encoded data removed]",
      "text/plain": [
       "<Figure size 720x504 with 1 Axes>"
      ]
     },
     "metadata": {},
     "output_type": "display_data"
    }
   ],
   "source": [
    "tracks_albums_summer_year_mean = tracks_albums_summer_year.groupby('year').mean()\n",
    "tracks_albums_summer_year_mean_danceability = tracks_albums_summer_year_mean[['danceability']]\n",
    "\n",
    "plt.figure(figsize=(10, 7))\n",
    "plt.title(\"Danceability Summer Hits\")\n",
    "plt.grid()\n",
    "ax = sns.lineplot(data=tracks_albums_summer_year_mean_danceability[\"danceability\"], color=\"chartreuse\", label=\"Danceability\")"
   ]
  },
  {
   "cell_type": "code",
   "execution_count": 28,
   "metadata": {},
   "outputs": [
    {
     "data": {
      "image/png": "[encoded data removed]",
      "text/plain": [
       "<Figure size 720x504 with 1 Axes>"
      ]
     },
     "metadata": {},
     "output_type": "display_data"
    }
   ],
   "source": [
    "tracks_albums_summer_year_mean = tracks_albums_summer_year.groupby('year').mean()\n",
    "tracks_albums_summer_year_mean_energy = tracks_albums_summer_year_mean[['energy']]\n",
    "\n",
    "plt.figure(figsize=(10, 7))\n",
    "plt.title(\"Energy Summer Hits\")\n",
    "plt.grid()\n",
    "ax = sns.lineplot(data=tracks_albums_summer_year_mean_energy[\"energy\"], color=\"skyblue\", label=\"Energy\")"
   ]
  },
  {
   "cell_type": "code",
   "execution_count": 29,
   "metadata": {},
   "outputs": [],
   "source": [
    "tracks_albums_summer_2010 = tracks_albums.loc[lambda tracks_albums: (tracks_albums.album_date_released.dt.month >5)\\\n",
    "                 & (tracks_albums.album_date_released.dt.month <10) \\\n",
    "                 & (tracks_albums.album_date_released.dt.year >2009)]\n",
    "tracks_albums_summer_2010_year = tracks_albums_summer_2010.groupby([(tracks_albums_summer_2010['album_date_released'].dt.year.rename('year')),\\\n",
    "                          (tracks_albums_summer_2010['album_date_released'].dt.month.rename('month'))]).mean()\n"
   ]
  },
  {
   "cell_type": "code",
   "execution_count": 30,
   "metadata": {},
   "outputs": [
    {
     "data": {
      "image/png": "[encoded data removed]",
      "text/plain": [
       "<Figure size 720x504 with 1 Axes>"
      ]
     },
     "metadata": {},
     "output_type": "display_data"
    }
   ],
   "source": [
    "tracks_albums_summer_2010_year_mean = tracks_albums_summer_2010_year.groupby('year').mean()\n",
    "tracks_albums_summer_2010_year_mean_valence = tracks_albums_summer_2010_year_mean[['valence']]\n",
    "\n",
    "plt.figure(figsize=(10, 7))\n",
    "plt.title(\"Valence Summer Hits 2010-2018\")\n",
    "plt.grid()\n",
    "ax = sns.lineplot(data=tracks_albums_summer_2010_year_mean_valence[\"valence\"], color=\"coral\", label=\"Valence\")"
   ]
  },
  {
   "cell_type": "code",
   "execution_count": 31,
   "metadata": {},
   "outputs": [
    {
     "data": {
      "image/png": "[encoded data removed]",
      "text/plain": [
       "<Figure size 720x504 with 1 Axes>"
      ]
     },
     "metadata": {},
     "output_type": "display_data"
    }
   ],
   "source": [
    "tracks_albums_summer_2010_year_mean = tracks_albums_summer_2010_year.groupby('year').mean()\n",
    "tracks_albums_summer_2010_year_mean_dancebility = tracks_albums_summer_2010_year_mean[['danceability']]\n",
    "\n",
    "plt.figure(figsize=(10, 7))\n",
    "plt.title(\"Danceability Summer Hits 2010-2018\")\n",
    "plt.grid()\n",
    "ax = sns.lineplot(data=tracks_albums_summer_2010_year_mean_dancebility[\"danceability\"], color=\"chartreuse\", label=\"Danceability\")"
   ]
  },
  {
   "cell_type": "code",
   "execution_count": 32,
   "metadata": {},
   "outputs": [
    {
     "data": {
      "image/png": "[encoded data removed]",
      "text/plain": [
       "<Figure size 720x504 with 1 Axes>"
      ]
     },
     "metadata": {},
     "output_type": "display_data"
    }
   ],
   "source": [
    "tracks_albums_summer_2010_year_mean = tracks_albums_summer_2010_year.groupby('year').mean()\n",
    "tracks_albums_summer_2010_year_mean_energy = tracks_albums_summer_2010_year_mean[['energy']]\n",
    "\n",
    "plt.figure(figsize=(10, 7))\n",
    "plt.title(\"Energy Summer Hits 2010-2018\")\n",
    "plt.grid()\n",
    "ax = sns.lineplot(data=tracks_albums_summer_2010_year_mean_energy[\"energy\"], color=\"skyblue\", label=\"Energy\")"
   ]
  },
  {
   "cell_type": "code",
   "execution_count": 33,
   "metadata": {},
   "outputs": [],
   "source": [
    "tracks_albums_summer_2000 = tracks_albums.loc[lambda tracks_albums: (tracks_albums.album_date_released.dt.month >5)\\\n",
    "                 & (tracks_albums.album_date_released.dt.month <10) \\\n",
    "                 & (tracks_albums.album_date_released.dt.year >1999)\\\n",
    "                 & (tracks_albums.album_date_released.dt.year <2010)                           ]\n",
    "tracks_albums_summer_2000_year = tracks_albums_summer_2000.groupby([(tracks_albums_summer_2000['album_date_released'].dt.year.rename('year')),\\\n",
    "                          (tracks_albums_summer_2000['album_date_released'].dt.month.rename('month'))]).mean()\n"
   ]
  },
  {
   "cell_type": "code",
   "execution_count": 34,
   "metadata": {},
   "outputs": [
    {
     "data": {
      "image/png": "[encoded data removed]",
      "text/plain": [
       "<Figure size 720x504 with 1 Axes>"
      ]
     },
     "metadata": {},
     "output_type": "display_data"
    }
   ],
   "source": [
    "tracks_albums_summer_2000_year_mean = tracks_albums_summer_2000_year.groupby('year').mean()\n",
    "tracks_albums_summer_2000_year_mean_valence = tracks_albums_summer_2000_year_mean[['valence']]\n",
    "\n",
    "plt.figure(figsize=(10, 7))\n",
    "plt.title(\"Valence Summer Hits 2000-2010\")\n",
    "plt.grid()\n",
    "ax = sns.lineplot(data=tracks_albums_summer_2000_year_mean_valence[\"valence\"], color=\"coral\", label=\"Valence\")"
   ]
  },
  {
   "cell_type": "code",
   "execution_count": 35,
   "metadata": {},
   "outputs": [
    {
     "data": {
      "image/png": "[encoded data removed]",
      "text/plain": [
       "<Figure size 720x504 with 1 Axes>"
      ]
     },
     "metadata": {},
     "output_type": "display_data"
    }
   ],
   "source": [
    "tracks_albums_summer_2000_year_mean = tracks_albums_summer_2000_year.groupby('year').mean()\n",
    "tracks_albums_summer_2000_year_mean_dancebility = tracks_albums_summer_2000_year_mean[['danceability']]\n",
    "\n",
    "plt.figure(figsize=(10, 7))\n",
    "plt.title(\"Danceability Summer Hits 2000-2010\")\n",
    "plt.grid()\n",
    "ax = sns.lineplot(data=tracks_albums_summer_2000_year_mean_dancebility[\"danceability\"], color=\"chartreuse\", label=\"Danceability\")"
   ]
  },
  {
   "cell_type": "code",
   "execution_count": 36,
   "metadata": {},
   "outputs": [
    {
     "data": {
      "image/png": "[encoded data removed]",
      "text/plain": [
       "<Figure size 720x504 with 1 Axes>"
      ]
     },
     "metadata": {},
     "output_type": "display_data"
    }
   ],
   "source": [
    "tracks_albums_summer_2000_year_mean = tracks_albums_summer_2000_year.groupby('year').mean()\n",
    "tracks_albums_summer_2000_year_mean_energy = tracks_albums_summer_2000_year_mean[['energy']]\n",
    "\n",
    "plt.figure(figsize=(10, 7))\n",
    "plt.title(\"Energy Summer Hits 2000-2010\")\n",
    "plt.grid()\n",
    "ax = sns.lineplot(data=tracks_albums_summer_2000_year_mean_energy[\"energy\"], color=\"skyblue\", label=\"Energy\")\n"
   ]
  },
  {
   "cell_type": "code",
   "execution_count": null,
   "metadata": {},
   "outputs": [],
   "source": []
  },
  {
   "cell_type": "code",
   "execution_count": 37,
   "metadata": {},
   "outputs": [
    {
     "data": {
      "text/html": [
       "<div>\n",
       "<style scoped>\n",
       "    .dataframe tbody tr th:only-of-type {\n",
       "        vertical-align: middle;\n",
       "    }\n",
       "\n",
       "    .dataframe tbody tr th {\n",
       "        vertical-align: top;\n",
       "    }\n",
       "\n",
       "    .dataframe thead th {\n",
       "        text-align: right;\n",
       "    }\n",
       "</style>\n",
       "<table border=\"1\" class=\"dataframe\">\n",
       "  <thead>\n",
       "    <tr style=\"text-align: right;\">\n",
       "      <th></th>\n",
       "      <th>energy</th>\n",
       "    </tr>\n",
       "    <tr>\n",
       "      <th>year</th>\n",
       "      <th></th>\n",
       "    </tr>\n",
       "  </thead>\n",
       "  <tbody>\n",
       "    <tr>\n",
       "      <th>2000</th>\n",
       "      <td>NaN</td>\n",
       "    </tr>\n",
       "    <tr>\n",
       "      <th>2001</th>\n",
       "      <td>0.234192</td>\n",
       "    </tr>\n",
       "    <tr>\n",
       "      <th>2002</th>\n",
       "      <td>0.835206</td>\n",
       "    </tr>\n",
       "    <tr>\n",
       "      <th>2003</th>\n",
       "      <td>0.475320</td>\n",
       "    </tr>\n",
       "    <tr>\n",
       "      <th>2004</th>\n",
       "      <td>0.621361</td>\n",
       "    </tr>\n",
       "    <tr>\n",
       "      <th>2005</th>\n",
       "      <td>0.627231</td>\n",
       "    </tr>\n",
       "    <tr>\n",
       "      <th>2006</th>\n",
       "      <td>0.556760</td>\n",
       "    </tr>\n",
       "    <tr>\n",
       "      <th>2007</th>\n",
       "      <td>0.512223</td>\n",
       "    </tr>\n",
       "    <tr>\n",
       "      <th>2008</th>\n",
       "      <td>0.463259</td>\n",
       "    </tr>\n",
       "    <tr>\n",
       "      <th>2009</th>\n",
       "      <td>0.499373</td>\n",
       "    </tr>\n",
       "  </tbody>\n",
       "</table>\n",
       "</div>"
      ],
      "text/plain": [
       "        energy\n",
       "year          \n",
       "2000       NaN\n",
       "2001  0.234192\n",
       "2002  0.835206\n",
       "2003  0.475320\n",
       "2004  0.621361\n",
       "2005  0.627231\n",
       "2006  0.556760\n",
       "2007  0.512223\n",
       "2008  0.463259\n",
       "2009  0.499373"
      ]
     },
     "execution_count": 37,
     "metadata": {},
     "output_type": "execute_result"
    }
   ],
   "source": [
    "tracks_albums_summer_2000_year_mean_energy"
   ]
  },
  {
   "cell_type": "code",
   "execution_count": null,
   "metadata": {},
   "outputs": [],
   "source": []
  },
  {
   "cell_type": "code",
   "execution_count": null,
   "metadata": {},
   "outputs": [],
   "source": []
  },
  {
   "cell_type": "code",
   "execution_count": null,
   "metadata": {},
   "outputs": [],
   "source": []
  },
  {
   "cell_type": "code",
   "execution_count": null,
   "metadata": {},
   "outputs": [],
   "source": []
  },
  {
   "cell_type": "code",
   "execution_count": null,
   "metadata": {},
   "outputs": [],
   "source": []
  },
  {
   "cell_type": "code",
   "execution_count": null,
   "metadata": {},
   "outputs": [],
   "source": []
  }
 ],
 "metadata": {
  "kernelspec": {
   "display_name": "Python 3",
   "language": "python",
   "name": "python3"
  },
  "language_info": {
   "codemirror_mode": {
    "name": "ipython",
    "version": 3
   },
   "file_extension": ".py",
   "mimetype": "text/x-python",
   "name": "python",
   "nbconvert_exporter": "python",
   "pygments_lexer": "ipython3",
   "version": "3.6.5"
  }
 },
 "nbformat": 4,
 "nbformat_minor": 1
}
