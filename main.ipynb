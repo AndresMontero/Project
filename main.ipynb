{
 "cells": [
  {
   "cell_type": "markdown",
   "metadata": {},
   "source": [
    "# ADA 2018 -  “Politics” Can you listen?.\n",
    "\n",
    "#### Andres Montero, Ariel Alba, Diego Iriarte\n",
    "\n",
    "\n"
   ]
  },
  {
   "cell_type": "markdown",
   "metadata": {},
   "source": [
    "This project aims to find the relationships between tweets and music, specifically focus on tweets which reflect a positive sentiment or mood and we'll relate them to the kind of music those people listen to. We believe that music preferences vary depending on people's mood, so we can detect what kind of music people tend to listen to when they are feeling happy or posting tweets with positive sentiment, which in our case are equivalent.\n",
    "For it, we'll work with two datasets:\n",
    "\n",
    "* FMA: A Dataset For Music Analysis\n",
    "* Sentiment140 dataset with 1.6 million tweets\n",
    "\n",
    "Tweets dataset is a labeled set, indicating whether each tweet has a positive sentiment or not.\n",
    "In order to define whether the proposed idea is feasible or not, we follow these steps:\n",
    "\n",
    "**A)** Preprocessing and analyzing FMA dataset. Gather the data that will be used, the dataset is very extense and we must focus on the data that will be used for our study. We clean the data, define the type of variables, normalize them and deal with missing values. From the cleaned data, we get some statistical information of the dataset, such as most listened songs, albums and others. We try to find some relationships between some information of the dataset such as: danceability, energy, number of times listened, location and others, too.\n",
    "\n",
    "**B)** Loading and analyzing of Sentiment140 dataset. We will only focus on tweets which are labeled as positive sentiment and the approach. The dataset contains few information about the tweets such as date, sentiment, userID and tweet, and is limited to tweets of yar 2009. Before doing any further preprocessing of such dataset we decided to check the possible relationships that we could find with FMA dataset.\n",
    "\n",
    "**C)** Find relationships between both datasets. It is important to identify whether the idea of the project is feasible or not. For the idea to be feasible, we need to find a considerable number of positive tweets which are somehow related to music or songs. To measure this relationships our approach is the following:\n",
    "\n",
    "* Count how many tweets are linked to a song\n",
    "* Count how many tweets explicitly say spotify on it.\n",
    "* Find words related to music contained in the tweets (may be a difficult task)\n",
    "\n",
    "**D)** In case, our two first approaches to find the relationships between both datasets don't succeed, we may not be able to try with the third one due to time contraints and task difficulty. If this is the scenario, the project scope will be reduced and will mostly focus on the FMA dataset and a specific event in the past years which may caused an impact on music production and preferences. Such scenario will be defined according to the insights found in part A.\n"
   ]
  },
  {
   "cell_type": "code",
   "execution_count": 1,
   "metadata": {},
   "outputs": [],
   "source": [
    "% matplotlib inline\n",
    "import pandas as pd\n",
    "import numpy as np\n",
    "import matplotlib.pyplot as plt\n",
    "import reverse_geocoder as rg\n",
    "import os.path\n",
    "import ast\n",
    "import seaborn as sns\n",
    "\n",
    "from helpers import *\n",
    "from datetime import datetime, date, time\n",
    "from scipy import stats\n",
    "\n",
    "%load_ext autoreload\n",
    "%autoreload 2\n"
   ]
  },
  {
   "cell_type": "markdown",
   "metadata": {},
   "source": [
    "### A) Preprocessing and Analyzing FMA Dataset"
   ]
  },
  {
   "cell_type": "markdown",
   "metadata": {},
   "source": [
    "First part consists of loading the data that is needed for the analysis, cleaning and storing them in dataFrames so we can further work with them.\n",
    "\n",
    "First, we will define some constants and paths that will help us later."
   ]
  },
  {
   "cell_type": "code",
   "execution_count": 2,
   "metadata": {},
   "outputs": [],
   "source": [
    "# Constants\n",
    "DATA_DIR = './data/'\n",
    "MUSIC_DIR = '{dir}{file}/'.format(dir=DATA_DIR, \n",
    "                                  file='fma_metadata')\n",
    "PKL_DIR = '{dir}{file}/'.format(dir=DATA_DIR, \n",
    "                               file='pkl')\n",
    "\n",
    "# True if we want to to execute the clean phase and to force \n",
    "# saving the cleaned file\n",
    "CLEAN_PHASE = True\n",
    "DEBUG = True\n"
   ]
  },
  {
   "cell_type": "code",
   "execution_count": 3,
   "metadata": {},
   "outputs": [],
   "source": [
    "if CLEAN_PHASE:\n",
    "    echonest_path = '{dir}{file}'.format(dir=MUSIC_DIR, \n",
    "                                         file='echonest.csv')\n",
    "    features_path = '{dir}{file}'.format(dir=MUSIC_DIR,\n",
    "                                         file='features.csv')\n",
    "    genres_path = '{dir}{file}'.format(dir=MUSIC_DIR,\n",
    "                                       file='genres.csv')\n",
    "    tracks_path = '{dir}{file}'.format(dir=MUSIC_DIR,\n",
    "                                       file='tracks.csv')\n",
    "    "
   ]
  },
  {
   "cell_type": "markdown",
   "metadata": {},
   "source": [
    "By looking at the FMA dataset we find out that metadata csv file is full of unnecesary information for our analysis.\n",
    "\n",
    "Thus, we define which variables, type of variables and name of columns we are going to extract from the FMA csv files."
   ]
  },
  {
   "cell_type": "code",
   "execution_count": 4,
   "metadata": {},
   "outputs": [],
   "source": [
    "if CLEAN_PHASE:\n",
    "    # Load datasets into pandas dataframes\n",
    "    echonest_col_names=['track_id', 'danceability', 'energy',\n",
    "                        'valence', 'artist_latitude',\n",
    "                        'artist_longitude', 'artist_name',\n",
    "                        'artist_discovery', 'artist_family',\n",
    "                        'artist_hotness', 'song_currency', \n",
    "                        'song_hotness']\n",
    "    \n",
    "    echonest_dtypes = {'track_id': int, 'danceability': float, \n",
    "                       'energy': float, 'valence': float,\n",
    "                       'artist_latitude': float, 'artist_longitude': float,\n",
    "                       'artist_name': str, 'artist_discovery': float, \n",
    "                       'artist_family': float, 'artist_hotness': float,\n",
    "                       'song_currency': float, 'song_hotness': float}\n",
    "    \n",
    "    echonest_df = pd.read_csv(echonest_path, names=echonest_col_names,\n",
    "                              header=3, dtype=echonest_dtypes, \n",
    "                              usecols=[0, 2, 3, 8, 11, 13, 14,\n",
    "                                       21, 22, 23, 24, 25])\n",
    "\n",
    "    genres_dtypes = {'genre_id': int, '#tracks': int, \n",
    "                     'parent': int, 'top_level': int}\n",
    "    \n",
    "    genres_df = pd.read_csv(genres_path, dtype=genres_dtypes)\n",
    "    \n",
    "    track_col_names = ['track_id', 'album_date_created',\n",
    "                       'album_date_released', 'album_id',\n",
    "                       'album_listens', 'album_title', \n",
    "                       'artist_id', 'artist_latitude',\n",
    "                       'artist_longitude', 'artist_name',\n",
    "                       'track_duration', 'track_genre_top',\n",
    "                       'track_genres_all', 'track_language', \n",
    "                       'track_listens', 'track_tags', \n",
    "                       'track_title']\n",
    "\n",
    "    tracks_dtypes = {'track_id': int, 'album_date_created': str,\n",
    "                     'album_date_released': str, \n",
    "                     'album_id': int, 'album_listens': int, \n",
    "                     'album_title': str, 'artist_id': int,\n",
    "                     'artist_latitude': float, 'artist_longitude': float,\n",
    "                     'artist_name': str, 'track_duration': int, \n",
    "                     'track_genre_top': str, 'track_genres_all': str, \n",
    "                     'track_language': str, 'track_listens': int,\n",
    "                     'track_tags': str, 'track_title': str}\n",
    "\n",
    "    tracks_df = pd.read_csv(tracks_path, names=track_col_names,\n",
    "                            header=2, usecols=[0, 2, 3, 6, 8, 11,\n",
    "                                               21, 22, 24, 26, 38, \n",
    "                                               40, 41, 45, 47, 51,\n",
    "                                               52])\n"
   ]
  },
  {
   "cell_type": "markdown",
   "metadata": {},
   "source": [
    "Right now, we have 3 dataframes: echonest, tracks and genres which makes reference to the csv files.\n",
    "\n",
    "Now, it is time to clean data!!! And have some information in a more suitable represetation for further analysis.\n",
    "\n",
    "First we start cleaning tracks dataframe."
   ]
  },
  {
   "cell_type": "code",
   "execution_count": 5,
   "metadata": {},
   "outputs": [],
   "source": [
    "# Tracks clean phase\n",
    "if CLEAN_PHASE:\n",
    "    # Transforms str to datetime\n",
    "    tracks_df['album_date_released'] = pd.to_datetime( \\\n",
    "                                            tracks_df['album_date_released'])\n",
    "    tracks_df['album_date_created'] = pd.to_datetime( \\\n",
    "                                            tracks_df['album_date_created'])\n",
    "    # Transform str to list\n",
    "    tracks_df['track_tags'] = tracks_df['track_tags'] \\\n",
    "                                .apply(lambda x: ast.literal_eval(x))\n",
    "    tracks_df['track_genres_all'] = tracks_df['track_genres_all'] \\\n",
    "                                .apply(lambda x: ast.literal_eval(x))\n"
   ]
  },
  {
   "cell_type": "markdown",
   "metadata": {},
   "source": [
    "We realize that the tracks dataframe containst also information about artists and albums and echonest has info for each track , thus, to have a better organization and not have redundacy, we joined tracks and echonest. Then the joined table was split on 3 new dataframes: tracks, albums and artists."
   ]
  },
  {
   "cell_type": "code",
   "execution_count": 6,
   "metadata": {},
   "outputs": [
    {
     "name": "stdout",
     "output_type": "stream",
     "text": [
      "106574\n",
      "# Different artist names: 13797\n",
      "\n",
      "Example:\n",
      "                        artist_name_x                    artist_name_y\n",
      "2   Alec K. Redfearn and the Eyesores  Alec K. Redfearn & the Eyesores\n",
      "26                      From Quagmire                        Dora Bleu\n",
      "31                     Marc A. Pullen                          Fanatic\n"
     ]
    }
   ],
   "source": [
    "if CLEAN_PHASE:\n",
    "    # Normalize dataframes to take out redundancy\n",
    "    # Join echonist data to tracks\n",
    "    echo_tracks = echonest_df.merge(tracks_df, left_on='track_id', \n",
    "                                    right_on='track_id', how='outer')\n",
    "    \n",
    "    print(len(echo_tracks))\n",
    "     \n",
    "    # Select main columns to create new df\n",
    "    artists_df = echo_tracks[['artist_id', 'artist_name_x',\n",
    "                              'artist_latitude_x', 'artist_longitude_x', \n",
    "                              'artist_discovery', 'artist_family', \n",
    "                              'artist_hotness', 'artist_latitude_y',\n",
    "                              'artist_longitude_y', 'artist_name_y']].copy()\n",
    "\n",
    "    albums_df = echo_tracks[['album_id', 'album_date_created',\n",
    "                             'album_date_released', 'album_title',\n",
    "                             'album_listens']].copy()\n",
    "    \n",
    "    tracks_df = echo_tracks[['track_id', 'track_title', \n",
    "                             'track_duration', 'artist_id', \n",
    "                             'album_id', 'track_genre_top',\n",
    "                             'track_genres_all','track_language',\n",
    "                             'track_listens', 'track_tags',\n",
    "                             'danceability', 'energy',\n",
    "                             'valence', 'song_currency',\n",
    "                             'song_hotness']].copy()\n",
    "    \n",
    "    # Drop duplicates\n",
    "    artists_df = artists_df.drop_duplicates('artist_id')\n",
    "    albums_df = albums_df.drop_duplicates('album_id')\n",
    "    \n",
    "    # Reset Index\n",
    "    artists_df = artists_df.reset_index(drop=True)\n",
    "    albums_df = albums_df.reset_index(drop=True)\n",
    "    \n",
    "    # Clean listen count\n",
    "    albums_df['album_listens'] = albums_df['album_listens'] \\\n",
    "                                    .apply(lambda x : neg_to_zero(x))\n",
    "    \n",
    "    tracks_df['track_listens'] = tracks_df['track_listens'] \\\n",
    "                                    .apply(lambda x : neg_to_zero(x))\n",
    "    \n",
    "    # Artist name different on echonest and FullMusicArchive\n",
    "    if DEBUG:\n",
    "        name_comp = not_eq_ign_case(artists_df['artist_name_x'],\n",
    "                                    artists_df['artist_name_y'])\n",
    "        artist_name_diff = artists_df[name_comp]\n",
    "        \n",
    "        print('# Different artist names: {}\\n' \\\n",
    "                  .format(len(artist_name_diff)))\n",
    "\n",
    "        print('Example:\\n{}'.format(artist_name_diff[['artist_name_x',\n",
    "                                                      'artist_name_y']].head(3)))\n"
   ]
  },
  {
   "cell_type": "markdown",
   "metadata": {},
   "source": [
    "Finally we have 4 main datasets: genres, artists, albums and tracks.\n",
    "\n",
    "FMA dataset (https://lts2.epfl.ch/datasets/fma/) was gathered by joining a lot of information of many music API services like Echonest(now Spotify), LastFM, MusicBrainz and others more, thus, there are some columns that have data redundacy."
   ]
  },
  {
   "cell_type": "code",
   "execution_count": 7,
   "metadata": {},
   "outputs": [
    {
     "name": "stdout",
     "output_type": "stream",
     "text": [
      "# Different Lat Long values: 16339\n",
      "\n",
      "Example:\n",
      "    artist_latitude_x  artist_latitude_y  artist_longitude_x  \\\n",
      "2             41.8239          41.823989            -71.4120   \n",
      "26                NaN                NaN                 NaN   \n",
      "31            40.7978                NaN            -81.3716   \n",
      "\n",
      "    artist_longitude_y  \n",
      "2           -71.412834  \n",
      "26                 NaN  \n",
      "31                 NaN  \n"
     ]
    }
   ],
   "source": [
    "# Artist location different on echonest and FullMusicArchive\n",
    "if DEBUG and CLEAN_PHASE:\n",
    "    lat_comp = artists_df['artist_latitude_x'] != artists_df['artist_latitude_y']\n",
    "    long_comp = artists_df['artist_longitude_x'] != artists_df['artist_longitude_y']\n",
    "    latlong_comp = lat_comp | long_comp\n",
    "    latlong_diff = artists_df[latlong_comp]\n",
    "\n",
    "    print('# Different Lat Long values: {}\\n' \\\n",
    "              .format(len(latlong_diff)))\n",
    "\n",
    "    print('Example:\\n{}'.format(artist_name_diff[['artist_latitude_x',\n",
    "                                                  'artist_latitude_y',\n",
    "                                                  'artist_longitude_x',\n",
    "                                                  'artist_longitude_y']].head(3)))"
   ]
  },
  {
   "cell_type": "markdown",
   "metadata": {},
   "source": [
    "Also there is some spatial information encoded on certain columns, to handle them, we used a service to retrieve the exact location (Country, city, state)."
   ]
  },
  {
   "cell_type": "code",
   "execution_count": 8,
   "metadata": {},
   "outputs": [
    {
     "name": "stdout",
     "output_type": "stream",
     "text": [
      "Loading formatted geocoded file...\n"
     ]
    }
   ],
   "source": [
    "if CLEAN_PHASE:\n",
    "    # Getting city, state, country from artist longitude and latitude\n",
    "    cities=[]\n",
    "    states=[]\n",
    "    countries=[]\n",
    "    \n",
    "    for i in range (0, len(artists_df)):\n",
    "        if np.isnan(artists_df.artist_latitude_y[i]):\n",
    "            city = np.nan\n",
    "            state = np.nan\n",
    "            country = np.nan\n",
    "        else:\n",
    "            coordinates = (artists_df.artist_latitude_y[i], \n",
    "                           artists_df.artist_longitude_y[i])\n",
    "            results = rg.search(coordinates, mode=1)\n",
    "            city = results[0]['name']\n",
    "            state = results[0]['admin1']\n",
    "            country = results[0]['cc']\n",
    "        \n",
    "        cities.append(city)\n",
    "        states.append(state)\n",
    "        countries.append(country)\n",
    "    \n",
    "    artists_df.insert(loc=5, column='city', \n",
    "                      value=pd.Series(cities))\n",
    "    artists_df.insert(loc=6, column='state',\n",
    "                      value=pd.Series(states))\n",
    "    artists_df.insert(loc=7, column='country', \n",
    "                      value=pd.Series(countries))\n",
    "    "
   ]
  },
  {
   "cell_type": "markdown",
   "metadata": {},
   "source": [
    "Finally, after all preprocessing steps, we can save the information to be used for our analysis."
   ]
  },
  {
   "cell_type": "code",
   "execution_count": 9,
   "metadata": {},
   "outputs": [],
   "source": [
    "# Read  and wirte files depending on the existance of own path\n",
    "echonest_df_path = '{dir}{file}'.format(dir=PKL_DIR, \n",
    "                                        file='echonest_df.pkl')\n",
    "genres_df_path = '{dir}{file}'.format(dir=PKL_DIR, \n",
    "                                     file='genres_df.pkl')\n",
    "albums_df_path = '{dir}{file}'.format(dir=PKL_DIR, \n",
    "                                     file='albums_df.pkl')\n",
    "artists_df_path = '{dir}{file}'.format(dir=PKL_DIR, \n",
    "                                     file='artists_df.pkl')\n",
    "tracks_df_path = '{dir}{file}'.format(dir=PKL_DIR, \n",
    "                                      file='tracks_df.pkl')\n",
    "\n",
    "if CLEAN_PHASE:\n",
    "    genres_df.to_pickle(genres_df_path)\n",
    "elif os.path.exists(echonest_df_path):\n",
    "    genres_df = pd.read_pickle(genres_df_path)\n",
    "else:\n",
    "    print('There is no genres pandas data')\n",
    "    \n",
    "if CLEAN_PHASE:\n",
    "    albums_df.to_pickle(albums_df_path)\n",
    "elif os.path.exists(albums_df_path):\n",
    "    albums_df = pd.read_pickle(albums_df_path)\n",
    "else:\n",
    "    print('There is no albums pandas data')\n",
    "    \n",
    "if CLEAN_PHASE:\n",
    "    artists_df.to_pickle(artists_df_path)\n",
    "elif os.path.exists(artists_df_path):\n",
    "    artists_df = pd.read_pickle(artists_df_path)\n",
    "else:\n",
    "    print('There is no albums pandas data')\n",
    "    \n",
    "if CLEAN_PHASE:\n",
    "    tracks_df.to_pickle(tracks_df_path)\n",
    "elif os.path.exists(tracks_df_path):\n",
    "    tracks_df = pd.read_pickle(tracks_df_path)\n",
    "else:\n",
    "    print('There is no albums tracks data')\n",
    "    "
   ]
  },
  {
   "cell_type": "markdown",
   "metadata": {},
   "source": [
    "We identify some statistics on all dataframes, like the missing values after preprocessing, taking echonest as one dataframe, just for analysis."
   ]
  },
  {
   "cell_type": "code",
   "execution_count": 10,
   "metadata": {},
   "outputs": [
    {
     "name": "stdout",
     "output_type": "stream",
     "text": [
      "Artists size: 16341\n",
      "\n",
      "NaN count by column:\n",
      "artist_id                 0\n",
      "artist_name_x         13465\n",
      "artist_latitude_x     14338\n",
      "artist_longitude_x    14338\n",
      "artist_discovery      13465\n",
      "city                  12505\n",
      "state                 12505\n",
      "country               12505\n",
      "artist_family         13465\n",
      "artist_hotness        13465\n",
      "artist_latitude_y     12505\n",
      "artist_longitude_y    12505\n",
      "artist_name_y             0\n",
      "dtype: int64\n"
     ]
    },
    {
     "data": {
      "text/html": [
       "<div>\n",
       "<style scoped>\n",
       "    .dataframe tbody tr th:only-of-type {\n",
       "        vertical-align: middle;\n",
       "    }\n",
       "\n",
       "    .dataframe tbody tr th {\n",
       "        vertical-align: top;\n",
       "    }\n",
       "\n",
       "    .dataframe thead th {\n",
       "        text-align: right;\n",
       "    }\n",
       "</style>\n",
       "<table border=\"1\" class=\"dataframe\">\n",
       "  <thead>\n",
       "    <tr style=\"text-align: right;\">\n",
       "      <th></th>\n",
       "      <th>artist_id</th>\n",
       "      <th>artist_name_x</th>\n",
       "      <th>artist_latitude_x</th>\n",
       "      <th>artist_longitude_x</th>\n",
       "      <th>artist_discovery</th>\n",
       "      <th>city</th>\n",
       "      <th>state</th>\n",
       "      <th>country</th>\n",
       "      <th>artist_family</th>\n",
       "      <th>artist_hotness</th>\n",
       "      <th>artist_latitude_y</th>\n",
       "      <th>artist_longitude_y</th>\n",
       "      <th>artist_name_y</th>\n",
       "    </tr>\n",
       "  </thead>\n",
       "  <tbody>\n",
       "    <tr>\n",
       "      <th>0</th>\n",
       "      <td>1</td>\n",
       "      <td>AWOL</td>\n",
       "      <td>32.6783</td>\n",
       "      <td>-83.2230</td>\n",
       "      <td>0.388990</td>\n",
       "      <td>Lakehurst</td>\n",
       "      <td>New Jersey</td>\n",
       "      <td>US</td>\n",
       "      <td>0.386740</td>\n",
       "      <td>0.406370</td>\n",
       "      <td>40.058324</td>\n",
       "      <td>-74.405661</td>\n",
       "      <td>AWOL</td>\n",
       "    </tr>\n",
       "    <tr>\n",
       "      <th>1</th>\n",
       "      <td>6</td>\n",
       "      <td>Kurt Vile</td>\n",
       "      <td>39.9523</td>\n",
       "      <td>-75.1624</td>\n",
       "      <td>0.557339</td>\n",
       "      <td>NaN</td>\n",
       "      <td>NaN</td>\n",
       "      <td>NaN</td>\n",
       "      <td>0.614272</td>\n",
       "      <td>0.798387</td>\n",
       "      <td>NaN</td>\n",
       "      <td>NaN</td>\n",
       "      <td>Kurt Vile</td>\n",
       "    </tr>\n",
       "    <tr>\n",
       "      <th>2</th>\n",
       "      <td>54</td>\n",
       "      <td>Alec K. Redfearn and the Eyesores</td>\n",
       "      <td>41.8239</td>\n",
       "      <td>-71.4120</td>\n",
       "      <td>0.388923</td>\n",
       "      <td>Providence</td>\n",
       "      <td>Rhode Island</td>\n",
       "      <td>US</td>\n",
       "      <td>0.330784</td>\n",
       "      <td>0.406300</td>\n",
       "      <td>41.823989</td>\n",
       "      <td>-71.412834</td>\n",
       "      <td>Alec K. Redfearn &amp; the Eyesores</td>\n",
       "    </tr>\n",
       "    <tr>\n",
       "      <th>3</th>\n",
       "      <td>56</td>\n",
       "      <td>Amoebic Ensemble</td>\n",
       "      <td>41.8239</td>\n",
       "      <td>-71.4120</td>\n",
       "      <td>0.252381</td>\n",
       "      <td>Providence</td>\n",
       "      <td>Rhode Island</td>\n",
       "      <td>US</td>\n",
       "      <td>0.238153</td>\n",
       "      <td>0.263657</td>\n",
       "      <td>41.823989</td>\n",
       "      <td>-71.412834</td>\n",
       "      <td>Amoebic Ensemble</td>\n",
       "    </tr>\n",
       "    <tr>\n",
       "      <th>4</th>\n",
       "      <td>60</td>\n",
       "      <td>Arc and Sender</td>\n",
       "      <td>NaN</td>\n",
       "      <td>NaN</td>\n",
       "      <td>0.262717</td>\n",
       "      <td>Philadelphia</td>\n",
       "      <td>Pennsylvania</td>\n",
       "      <td>US</td>\n",
       "      <td>0.173315</td>\n",
       "      <td>0.274455</td>\n",
       "      <td>39.952335</td>\n",
       "      <td>-75.163789</td>\n",
       "      <td>Arc and Sender</td>\n",
       "    </tr>\n",
       "  </tbody>\n",
       "</table>\n",
       "</div>"
      ],
      "text/plain": [
       "   artist_id                      artist_name_x  artist_latitude_x  \\\n",
       "0          1                               AWOL            32.6783   \n",
       "1          6                          Kurt Vile            39.9523   \n",
       "2         54  Alec K. Redfearn and the Eyesores            41.8239   \n",
       "3         56                   Amoebic Ensemble            41.8239   \n",
       "4         60                     Arc and Sender                NaN   \n",
       "\n",
       "   artist_longitude_x  artist_discovery          city         state country  \\\n",
       "0            -83.2230          0.388990     Lakehurst    New Jersey      US   \n",
       "1            -75.1624          0.557339           NaN           NaN     NaN   \n",
       "2            -71.4120          0.388923    Providence  Rhode Island      US   \n",
       "3            -71.4120          0.252381    Providence  Rhode Island      US   \n",
       "4                 NaN          0.262717  Philadelphia  Pennsylvania      US   \n",
       "\n",
       "   artist_family  artist_hotness  artist_latitude_y  artist_longitude_y  \\\n",
       "0       0.386740        0.406370          40.058324          -74.405661   \n",
       "1       0.614272        0.798387                NaN                 NaN   \n",
       "2       0.330784        0.406300          41.823989          -71.412834   \n",
       "3       0.238153        0.263657          41.823989          -71.412834   \n",
       "4       0.173315        0.274455          39.952335          -75.163789   \n",
       "\n",
       "                     artist_name_y  \n",
       "0                             AWOL  \n",
       "1                        Kurt Vile  \n",
       "2  Alec K. Redfearn & the Eyesores  \n",
       "3                 Amoebic Ensemble  \n",
       "4                   Arc and Sender  "
      ]
     },
     "execution_count": 10,
     "metadata": {},
     "output_type": "execute_result"
    }
   ],
   "source": [
    "print('Artists size: {}'.format(len(artists_df)))\n",
    "if DEBUG: print('\\nNaN count by column:\\n{}' \\\n",
    "                .format(artists_df.isna().sum(axis=0)))\n",
    "artists_df.head()\n"
   ]
  },
  {
   "cell_type": "code",
   "execution_count": 11,
   "metadata": {},
   "outputs": [
    {
     "name": "stdout",
     "output_type": "stream",
     "text": [
      "Albums size: 14854\n",
      "\n",
      "NaN count by column:\n",
      "album_id                  0\n",
      "album_date_created      459\n",
      "album_date_released    5404\n",
      "album_title               1\n",
      "album_listens             0\n",
      "dtype: int64\n"
     ]
    },
    {
     "data": {
      "text/html": [
       "<div>\n",
       "<style scoped>\n",
       "    .dataframe tbody tr th:only-of-type {\n",
       "        vertical-align: middle;\n",
       "    }\n",
       "\n",
       "    .dataframe tbody tr th {\n",
       "        vertical-align: top;\n",
       "    }\n",
       "\n",
       "    .dataframe thead th {\n",
       "        text-align: right;\n",
       "    }\n",
       "</style>\n",
       "<table border=\"1\" class=\"dataframe\">\n",
       "  <thead>\n",
       "    <tr style=\"text-align: right;\">\n",
       "      <th></th>\n",
       "      <th>album_id</th>\n",
       "      <th>album_date_created</th>\n",
       "      <th>album_date_released</th>\n",
       "      <th>album_title</th>\n",
       "      <th>album_listens</th>\n",
       "    </tr>\n",
       "  </thead>\n",
       "  <tbody>\n",
       "    <tr>\n",
       "      <th>0</th>\n",
       "      <td>1</td>\n",
       "      <td>2008-11-26 01:44:45</td>\n",
       "      <td>2009-01-05</td>\n",
       "      <td>AWOL - A Way Of Life</td>\n",
       "      <td>6073.0</td>\n",
       "    </tr>\n",
       "    <tr>\n",
       "      <th>1</th>\n",
       "      <td>6</td>\n",
       "      <td>2008-11-26 01:45:08</td>\n",
       "      <td>2008-02-06</td>\n",
       "      <td>Constant Hitmaker</td>\n",
       "      <td>47632.0</td>\n",
       "    </tr>\n",
       "    <tr>\n",
       "      <th>2</th>\n",
       "      <td>60</td>\n",
       "      <td>2008-11-26 01:49:57</td>\n",
       "      <td>2009-01-16</td>\n",
       "      <td>Every Man For Himself</td>\n",
       "      <td>1304.0</td>\n",
       "    </tr>\n",
       "    <tr>\n",
       "      <th>3</th>\n",
       "      <td>61</td>\n",
       "      <td>2008-11-26 01:49:59</td>\n",
       "      <td>2007-05-22</td>\n",
       "      <td>The Blind Spot</td>\n",
       "      <td>1300.0</td>\n",
       "    </tr>\n",
       "    <tr>\n",
       "      <th>4</th>\n",
       "      <td>62</td>\n",
       "      <td>2008-11-26 01:50:03</td>\n",
       "      <td>2005-01-25</td>\n",
       "      <td>The Quiet Room</td>\n",
       "      <td>845.0</td>\n",
       "    </tr>\n",
       "  </tbody>\n",
       "</table>\n",
       "</div>"
      ],
      "text/plain": [
       "   album_id  album_date_created album_date_released            album_title  \\\n",
       "0         1 2008-11-26 01:44:45          2009-01-05   AWOL - A Way Of Life   \n",
       "1         6 2008-11-26 01:45:08          2008-02-06      Constant Hitmaker   \n",
       "2        60 2008-11-26 01:49:57          2009-01-16  Every Man For Himself   \n",
       "3        61 2008-11-26 01:49:59          2007-05-22         The Blind Spot   \n",
       "4        62 2008-11-26 01:50:03          2005-01-25         The Quiet Room   \n",
       "\n",
       "   album_listens  \n",
       "0         6073.0  \n",
       "1        47632.0  \n",
       "2         1304.0  \n",
       "3         1300.0  \n",
       "4          845.0  "
      ]
     },
     "execution_count": 11,
     "metadata": {},
     "output_type": "execute_result"
    }
   ],
   "source": [
    "print('Albums size: {}'.format(len(albums_df)))\n",
    "if DEBUG: print('\\nNaN count by column:\\n{}' \\\n",
    "                .format(albums_df.isna().sum(axis=0)))\n",
    "albums_df.head()\n"
   ]
  },
  {
   "cell_type": "code",
   "execution_count": 12,
   "metadata": {},
   "outputs": [
    {
     "name": "stdout",
     "output_type": "stream",
     "text": [
      "Genres size: 163\n",
      "\n",
      "NaN count by column:\n",
      "genre_id     0\n",
      "#tracks      0\n",
      "parent       0\n",
      "title        0\n",
      "top_level    0\n",
      "dtype: int64\n"
     ]
    },
    {
     "data": {
      "text/html": [
       "<div>\n",
       "<style scoped>\n",
       "    .dataframe tbody tr th:only-of-type {\n",
       "        vertical-align: middle;\n",
       "    }\n",
       "\n",
       "    .dataframe tbody tr th {\n",
       "        vertical-align: top;\n",
       "    }\n",
       "\n",
       "    .dataframe thead th {\n",
       "        text-align: right;\n",
       "    }\n",
       "</style>\n",
       "<table border=\"1\" class=\"dataframe\">\n",
       "  <thead>\n",
       "    <tr style=\"text-align: right;\">\n",
       "      <th></th>\n",
       "      <th>genre_id</th>\n",
       "      <th>#tracks</th>\n",
       "      <th>parent</th>\n",
       "      <th>title</th>\n",
       "      <th>top_level</th>\n",
       "    </tr>\n",
       "  </thead>\n",
       "  <tbody>\n",
       "    <tr>\n",
       "      <th>0</th>\n",
       "      <td>1</td>\n",
       "      <td>8693</td>\n",
       "      <td>38</td>\n",
       "      <td>Avant-Garde</td>\n",
       "      <td>38</td>\n",
       "    </tr>\n",
       "    <tr>\n",
       "      <th>1</th>\n",
       "      <td>2</td>\n",
       "      <td>5271</td>\n",
       "      <td>0</td>\n",
       "      <td>International</td>\n",
       "      <td>2</td>\n",
       "    </tr>\n",
       "    <tr>\n",
       "      <th>2</th>\n",
       "      <td>3</td>\n",
       "      <td>1752</td>\n",
       "      <td>0</td>\n",
       "      <td>Blues</td>\n",
       "      <td>3</td>\n",
       "    </tr>\n",
       "    <tr>\n",
       "      <th>3</th>\n",
       "      <td>4</td>\n",
       "      <td>4126</td>\n",
       "      <td>0</td>\n",
       "      <td>Jazz</td>\n",
       "      <td>4</td>\n",
       "    </tr>\n",
       "    <tr>\n",
       "      <th>4</th>\n",
       "      <td>5</td>\n",
       "      <td>4106</td>\n",
       "      <td>0</td>\n",
       "      <td>Classical</td>\n",
       "      <td>5</td>\n",
       "    </tr>\n",
       "  </tbody>\n",
       "</table>\n",
       "</div>"
      ],
      "text/plain": [
       "   genre_id  #tracks  parent          title  top_level\n",
       "0         1     8693      38    Avant-Garde         38\n",
       "1         2     5271       0  International          2\n",
       "2         3     1752       0          Blues          3\n",
       "3         4     4126       0           Jazz          4\n",
       "4         5     4106       0      Classical          5"
      ]
     },
     "execution_count": 12,
     "metadata": {},
     "output_type": "execute_result"
    }
   ],
   "source": [
    "print('Genres size: {}'.format(len(genres_df)))\n",
    "if DEBUG: print('\\nNaN count by column:\\n{}' \\\n",
    "                .format(genres_df.isna().sum(axis=0)))\n",
    "genres_df.head()\n"
   ]
  },
  {
   "cell_type": "code",
   "execution_count": 13,
   "metadata": {},
   "outputs": [
    {
     "name": "stdout",
     "output_type": "stream",
     "text": [
      "Tracks size: 106574\n",
      "\n",
      "NaN count by column:\n",
      "track_id                0\n",
      "track_title             1\n",
      "track_duration          0\n",
      "artist_id               0\n",
      "album_id                0\n",
      "track_genre_top     56976\n",
      "track_genres_all        0\n",
      "track_language      91550\n",
      "track_listens           0\n",
      "track_tags              0\n",
      "danceability        93445\n",
      "energy              93445\n",
      "valence             93445\n",
      "song_currency       93445\n",
      "song_hotness        93445\n",
      "dtype: int64\n"
     ]
    },
    {
     "data": {
      "text/html": [
       "<div>\n",
       "<style scoped>\n",
       "    .dataframe tbody tr th:only-of-type {\n",
       "        vertical-align: middle;\n",
       "    }\n",
       "\n",
       "    .dataframe tbody tr th {\n",
       "        vertical-align: top;\n",
       "    }\n",
       "\n",
       "    .dataframe thead th {\n",
       "        text-align: right;\n",
       "    }\n",
       "</style>\n",
       "<table border=\"1\" class=\"dataframe\">\n",
       "  <thead>\n",
       "    <tr style=\"text-align: right;\">\n",
       "      <th></th>\n",
       "      <th>track_id</th>\n",
       "      <th>track_title</th>\n",
       "      <th>track_duration</th>\n",
       "      <th>artist_id</th>\n",
       "      <th>album_id</th>\n",
       "      <th>track_genre_top</th>\n",
       "      <th>track_genres_all</th>\n",
       "      <th>track_language</th>\n",
       "      <th>track_listens</th>\n",
       "      <th>track_tags</th>\n",
       "      <th>danceability</th>\n",
       "      <th>energy</th>\n",
       "      <th>valence</th>\n",
       "      <th>song_currency</th>\n",
       "      <th>song_hotness</th>\n",
       "    </tr>\n",
       "  </thead>\n",
       "  <tbody>\n",
       "    <tr>\n",
       "      <th>0</th>\n",
       "      <td>2</td>\n",
       "      <td>Food</td>\n",
       "      <td>168</td>\n",
       "      <td>1</td>\n",
       "      <td>1</td>\n",
       "      <td>Hip-Hop</td>\n",
       "      <td>[21]</td>\n",
       "      <td>en</td>\n",
       "      <td>1293.0</td>\n",
       "      <td>[]</td>\n",
       "      <td>0.675894</td>\n",
       "      <td>0.634476</td>\n",
       "      <td>0.576661</td>\n",
       "      <td>0.000000</td>\n",
       "      <td>0.000000</td>\n",
       "    </tr>\n",
       "    <tr>\n",
       "      <th>1</th>\n",
       "      <td>3</td>\n",
       "      <td>Electric Ave</td>\n",
       "      <td>237</td>\n",
       "      <td>1</td>\n",
       "      <td>1</td>\n",
       "      <td>Hip-Hop</td>\n",
       "      <td>[21]</td>\n",
       "      <td>en</td>\n",
       "      <td>514.0</td>\n",
       "      <td>[]</td>\n",
       "      <td>0.528643</td>\n",
       "      <td>0.817461</td>\n",
       "      <td>0.269240</td>\n",
       "      <td>0.000000</td>\n",
       "      <td>0.000000</td>\n",
       "    </tr>\n",
       "    <tr>\n",
       "      <th>2</th>\n",
       "      <td>5</td>\n",
       "      <td>This World</td>\n",
       "      <td>206</td>\n",
       "      <td>1</td>\n",
       "      <td>1</td>\n",
       "      <td>Hip-Hop</td>\n",
       "      <td>[21]</td>\n",
       "      <td>en</td>\n",
       "      <td>1151.0</td>\n",
       "      <td>[]</td>\n",
       "      <td>0.745566</td>\n",
       "      <td>0.701470</td>\n",
       "      <td>0.621661</td>\n",
       "      <td>0.000000</td>\n",
       "      <td>0.000000</td>\n",
       "    </tr>\n",
       "    <tr>\n",
       "      <th>3</th>\n",
       "      <td>10</td>\n",
       "      <td>Freeway</td>\n",
       "      <td>161</td>\n",
       "      <td>6</td>\n",
       "      <td>6</td>\n",
       "      <td>Pop</td>\n",
       "      <td>[10]</td>\n",
       "      <td>en</td>\n",
       "      <td>50135.0</td>\n",
       "      <td>[]</td>\n",
       "      <td>0.658179</td>\n",
       "      <td>0.924525</td>\n",
       "      <td>0.963590</td>\n",
       "      <td>0.005158</td>\n",
       "      <td>0.354516</td>\n",
       "    </tr>\n",
       "    <tr>\n",
       "      <th>4</th>\n",
       "      <td>134</td>\n",
       "      <td>Street Music</td>\n",
       "      <td>207</td>\n",
       "      <td>1</td>\n",
       "      <td>1</td>\n",
       "      <td>Hip-Hop</td>\n",
       "      <td>[21]</td>\n",
       "      <td>en</td>\n",
       "      <td>943.0</td>\n",
       "      <td>[]</td>\n",
       "      <td>0.513238</td>\n",
       "      <td>0.560410</td>\n",
       "      <td>0.894072</td>\n",
       "      <td>0.000000</td>\n",
       "      <td>0.000000</td>\n",
       "    </tr>\n",
       "  </tbody>\n",
       "</table>\n",
       "</div>"
      ],
      "text/plain": [
       "   track_id   track_title  track_duration  artist_id  album_id  \\\n",
       "0         2          Food             168          1         1   \n",
       "1         3  Electric Ave             237          1         1   \n",
       "2         5    This World             206          1         1   \n",
       "3        10       Freeway             161          6         6   \n",
       "4       134  Street Music             207          1         1   \n",
       "\n",
       "  track_genre_top track_genres_all track_language  track_listens track_tags  \\\n",
       "0         Hip-Hop             [21]             en         1293.0         []   \n",
       "1         Hip-Hop             [21]             en          514.0         []   \n",
       "2         Hip-Hop             [21]             en         1151.0         []   \n",
       "3             Pop             [10]             en        50135.0         []   \n",
       "4         Hip-Hop             [21]             en          943.0         []   \n",
       "\n",
       "   danceability    energy   valence  song_currency  song_hotness  \n",
       "0      0.675894  0.634476  0.576661       0.000000      0.000000  \n",
       "1      0.528643  0.817461  0.269240       0.000000      0.000000  \n",
       "2      0.745566  0.701470  0.621661       0.000000      0.000000  \n",
       "3      0.658179  0.924525  0.963590       0.005158      0.354516  \n",
       "4      0.513238  0.560410  0.894072       0.000000      0.000000  "
      ]
     },
     "execution_count": 13,
     "metadata": {},
     "output_type": "execute_result"
    }
   ],
   "source": [
    "print('Tracks size: {}'.format(len(tracks_df)))\n",
    "if DEBUG: print('\\nNaN count by column:\\n{}' \\\n",
    "                .format(tracks_df.isna().sum(axis=0)))\n",
    "tracks_df.head()\n"
   ]
  },
  {
   "cell_type": "markdown",
   "metadata": {},
   "source": [
    "#### First we will see the top 10 countries were the music is produced."
   ]
  },
  {
   "cell_type": "code",
   "execution_count": 14,
   "metadata": {},
   "outputs": [
    {
     "data": {
      "text/plain": [
       "(array([ 0,  1,  2,  3,  4,  5,  6,  7,  8,  9, 10, 11, 12, 13, 14, 15, 16,\n",
       "        17, 18, 19, 20, 21, 22, 23, 24, 25, 26, 27, 28, 29, 30, 31, 32, 33,\n",
       "        34, 35, 36, 37, 38, 39, 40, 41, 42, 43, 44, 45, 46, 47, 48, 49, 50,\n",
       "        51, 52, 53, 54, 55, 56]), <a list of 57 Text xticklabel objects>)"
      ]
     },
     "execution_count": 14,
     "metadata": {},
     "output_type": "execute_result"
    },
    {
     "data": {
      "image/png": "[encoded data removed]",
      "text/plain": [
       "<Figure size 648x504 with 1 Axes>"
      ]
     },
     "metadata": {
      "needs_background": "light"
     },
     "output_type": "display_data"
    }
   ],
   "source": [
    "album_dist = albums_df.groupby(albums_df['album_date_released'].dt.year).size()\n",
    "\n",
    "plt.figure(figsize=(9, 7))\n",
    "ax = album_dist.plot(kind='bar')\n",
    "plt.title(\"Distribution of Albums per Year\")\n",
    "plt.grid()\n",
    "plt.xticks(rotation=90)"
   ]
  },
  {
   "cell_type": "code",
   "execution_count": 15,
   "metadata": {},
   "outputs": [
    {
     "data": {
      "text/plain": [
       "(array([ 0,  1,  2,  3,  4,  5,  6,  7,  8,  9, 10, 11, 12, 13, 14, 15, 16,\n",
       "        17, 18, 19, 20, 21, 22, 23, 24, 25, 26, 27, 28, 29, 30, 31, 32, 33,\n",
       "        34, 35, 36, 37, 38, 39, 40, 41, 42, 43, 44, 45, 46, 47, 48, 49, 50,\n",
       "        51, 52, 53, 54, 55, 56]), <a list of 57 Text xticklabel objects>)"
      ]
     },
     "execution_count": 15,
     "metadata": {},
     "output_type": "execute_result"
    },
    {
     "data": {
      "image/png": "[encoded data removed]",
      "text/plain": [
       "<Figure size 648x504 with 1 Axes>"
      ]
     },
     "metadata": {
      "needs_background": "light"
     },
     "output_type": "display_data"
    }
   ],
   "source": [
    "tracks_albums = tracks_df.merge(albums_df)\n",
    "tracks_dist = tracks_albums.groupby(tracks_albums['album_date_released'].dt.year).size()\n",
    "plt.figure(figsize=(9, 7))\n",
    "ax = tracks_dist.plot(kind='bar')\n",
    "plt.title(\"Distribution of Tracks per Year\")\n",
    "plt.grid()\n",
    "plt.xticks(rotation=90)"
   ]
  },
  {
   "cell_type": "code",
   "execution_count": 16,
   "metadata": {},
   "outputs": [
    {
     "data": {
      "image/png": "[encoded data removed]",
      "text/plain": [
       "<Figure size 432x288 with 1 Axes>"
      ]
     },
     "metadata": {
      "needs_background": "light"
     },
     "output_type": "display_data"
    }
   ],
   "source": [
    "track_artist = tracks_df.merge(artists_df, left_on='artist_id', \n",
    "                               right_on='artist_id')\n",
    "country_grouped = track_artist.groupby(track_artist['country']).size()\n",
    "country_top10 = country_grouped.sort_values(ascending=False) \\\n",
    "                                     .head(10)\n",
    "country_top10.plot(kind='bar', \n",
    "                   title=\"Top 10 countries that produce tracks\")\n",
    "plt.ylabel('Number of Tracks')\n",
    "plt.grid()\n"
   ]
  },
  {
   "cell_type": "markdown",
   "metadata": {},
   "source": [
    "#### Top 10 albums"
   ]
  },
  {
   "cell_type": "code",
   "execution_count": 17,
   "metadata": {},
   "outputs": [
    {
     "data": {
      "text/plain": [
       "(array([0, 1, 2, 3, 4, 5, 6, 7, 8, 9]), <a list of 10 Text xticklabel objects>)"
      ]
     },
     "execution_count": 17,
     "metadata": {},
     "output_type": "execute_result"
    },
    {
     "data": {
      "image/png": "[encoded data removed]",
      "text/plain": [
       "<Figure size 720x504 with 1 Axes>"
      ]
     },
     "metadata": {
      "needs_background": "light"
     },
     "output_type": "display_data"
    }
   ],
   "source": [
    "albums_grouped = albums_df.groupby(albums_df['album_id']) \\\n",
    "                          .first()[['album_title', 'album_listens']]\n",
    "albums_top10 = albums_grouped.sort_values(by='album_listens', \n",
    "                                          ascending=False).head(10)\n",
    "\n",
    "plt.figure(figsize=(10, 7))\n",
    "plt.title(\"Top 10 Albums listened\")\n",
    "plt.grid()\n",
    "ax = sns.barplot(x='album_title', y= 'album_listens',\n",
    "                 data=albums_top10)\n",
    "plt.xticks(rotation=90)\n"
   ]
  },
  {
   "cell_type": "markdown",
   "metadata": {},
   "source": [
    "#### Top 10 Tracks"
   ]
  },
  {
   "cell_type": "code",
   "execution_count": 18,
   "metadata": {},
   "outputs": [
    {
     "data": {
      "text/plain": [
       "(array([0, 1, 2, 3, 4, 5, 6, 7, 8, 9]), <a list of 10 Text xticklabel objects>)"
      ]
     },
     "execution_count": 18,
     "metadata": {},
     "output_type": "execute_result"
    },
    {
     "data": {
      "image/png": "[encoded data removed]",
      "text/plain": [
       "<Figure size 432x288 with 1 Axes>"
      ]
     },
     "metadata": {
      "needs_background": "light"
     },
     "output_type": "display_data"
    },
    {
     "data": {
      "image/png": "[encoded data removed]",
      "text/plain": [
       "<Figure size 504x360 with 1 Axes>"
      ]
     },
     "metadata": {
      "needs_background": "light"
     },
     "output_type": "display_data"
    }
   ],
   "source": [
    "tracks_grouped = tracks_df.groupby(tracks_df['track_id']) \\\n",
    "                          .first()[['track_title', 'track_listens']]\n",
    "tracks_top10 = tracks_grouped.sort_values(by='track_listens', \n",
    "                                          ascending=False).head(10)\n",
    "\n",
    "\n",
    "albums_top10.plot(x='album_title', kind='bar', title=\"Top 10 Albums\")\n",
    "plt.grid()\n",
    "plt.figure(figsize=(7, 5))\n",
    "plt.title(\"Top 10 tracks listened\")\n",
    "plt.grid()\n",
    "ax = sns.barplot(x='track_title', y= 'track_listens',\n",
    "                 data=tracks_top10)\n",
    "plt.xticks(rotation=45)\n"
   ]
  },
  {
   "cell_type": "markdown",
   "metadata": {},
   "source": [
    "#### Relation between danceability and duration of the song"
   ]
  },
  {
   "cell_type": "code",
   "execution_count": 19,
   "metadata": {},
   "outputs": [],
   "source": [
    "tracks_df.insert(loc=15, column='track_duration_minutes',\n",
    "                 value=(tracks_df['track_duration'] / 60))\n",
    "\n",
    "tracks_df['track_duration_minutes'] = pd.to_numeric( \\\n",
    "                                            tracks_df['track_duration_minutes'])\n"
   ]
  },
  {
   "cell_type": "code",
   "execution_count": 20,
   "metadata": {},
   "outputs": [
    {
     "name": "stderr",
     "output_type": "stream",
     "text": [
      "/anaconda3/envs/ada/lib/python3.6/site-packages/scipy/stats/stats.py:1713: FutureWarning: Using a non-tuple sequence for multidimensional indexing is deprecated; use `arr[tuple(seq)]` instead of `arr[seq]`. In the future this will be interpreted as an array index, `arr[np.array(seq)]`, which will result either in an error or a different result.\n",
      "  return np.add.reduce(sorted[indexer] * weights, axis=axis) / sumval\n"
     ]
    },
    {
     "data": {
      "text/plain": [
       "<matplotlib.axes._subplots.AxesSubplot at 0x1a33454e80>"
      ]
     },
     "execution_count": 20,
     "metadata": {},
     "output_type": "execute_result"
    },
    {
     "data": {
      "image/png": "[encoded data removed]",
      "text/plain": [
       "<Figure size 432x288 with 1 Axes>"
      ]
     },
     "metadata": {
      "needs_background": "light"
     },
     "output_type": "display_data"
    }
   ],
   "source": [
    "tracks_df['track_duration_minutes'] = tracks_df['track_duration_minutes'] \\\n",
    "                                                .apply(lambda x : np.rint(x))\n",
    "sns.regplot(x='danceability', y='track_duration_minutes',\n",
    "            data=tracks_df, ci=95, \n",
    "            line_kws = {'color': 'green'})\n"
   ]
  },
  {
   "cell_type": "code",
   "execution_count": 21,
   "metadata": {},
   "outputs": [
    {
     "data": {
      "text/html": [
       "<div>\n",
       "<style scoped>\n",
       "    .dataframe tbody tr th:only-of-type {\n",
       "        vertical-align: middle;\n",
       "    }\n",
       "\n",
       "    .dataframe tbody tr th {\n",
       "        vertical-align: top;\n",
       "    }\n",
       "\n",
       "    .dataframe thead th {\n",
       "        text-align: right;\n",
       "    }\n",
       "</style>\n",
       "<table border=\"1\" class=\"dataframe\">\n",
       "  <thead>\n",
       "    <tr style=\"text-align: right;\">\n",
       "      <th></th>\n",
       "      <th>track_id</th>\n",
       "      <th>track_title</th>\n",
       "      <th>track_duration</th>\n",
       "      <th>artist_id</th>\n",
       "      <th>album_id</th>\n",
       "      <th>track_genre_top</th>\n",
       "      <th>track_genres_all</th>\n",
       "      <th>track_language</th>\n",
       "      <th>track_listens</th>\n",
       "      <th>track_tags</th>\n",
       "      <th>danceability</th>\n",
       "      <th>energy</th>\n",
       "      <th>valence</th>\n",
       "      <th>song_currency</th>\n",
       "      <th>song_hotness</th>\n",
       "      <th>track_duration_minutes</th>\n",
       "    </tr>\n",
       "  </thead>\n",
       "  <tbody>\n",
       "    <tr>\n",
       "      <th>0</th>\n",
       "      <td>2</td>\n",
       "      <td>Food</td>\n",
       "      <td>168</td>\n",
       "      <td>1</td>\n",
       "      <td>1</td>\n",
       "      <td>Hip-Hop</td>\n",
       "      <td>[21]</td>\n",
       "      <td>en</td>\n",
       "      <td>1293.0</td>\n",
       "      <td>[]</td>\n",
       "      <td>0.675894</td>\n",
       "      <td>0.634476</td>\n",
       "      <td>0.576661</td>\n",
       "      <td>0.000000</td>\n",
       "      <td>0.000000</td>\n",
       "      <td>3.0</td>\n",
       "    </tr>\n",
       "    <tr>\n",
       "      <th>1</th>\n",
       "      <td>3</td>\n",
       "      <td>Electric Ave</td>\n",
       "      <td>237</td>\n",
       "      <td>1</td>\n",
       "      <td>1</td>\n",
       "      <td>Hip-Hop</td>\n",
       "      <td>[21]</td>\n",
       "      <td>en</td>\n",
       "      <td>514.0</td>\n",
       "      <td>[]</td>\n",
       "      <td>0.528643</td>\n",
       "      <td>0.817461</td>\n",
       "      <td>0.269240</td>\n",
       "      <td>0.000000</td>\n",
       "      <td>0.000000</td>\n",
       "      <td>4.0</td>\n",
       "    </tr>\n",
       "    <tr>\n",
       "      <th>2</th>\n",
       "      <td>5</td>\n",
       "      <td>This World</td>\n",
       "      <td>206</td>\n",
       "      <td>1</td>\n",
       "      <td>1</td>\n",
       "      <td>Hip-Hop</td>\n",
       "      <td>[21]</td>\n",
       "      <td>en</td>\n",
       "      <td>1151.0</td>\n",
       "      <td>[]</td>\n",
       "      <td>0.745566</td>\n",
       "      <td>0.701470</td>\n",
       "      <td>0.621661</td>\n",
       "      <td>0.000000</td>\n",
       "      <td>0.000000</td>\n",
       "      <td>3.0</td>\n",
       "    </tr>\n",
       "    <tr>\n",
       "      <th>3</th>\n",
       "      <td>10</td>\n",
       "      <td>Freeway</td>\n",
       "      <td>161</td>\n",
       "      <td>6</td>\n",
       "      <td>6</td>\n",
       "      <td>Pop</td>\n",
       "      <td>[10]</td>\n",
       "      <td>en</td>\n",
       "      <td>50135.0</td>\n",
       "      <td>[]</td>\n",
       "      <td>0.658179</td>\n",
       "      <td>0.924525</td>\n",
       "      <td>0.963590</td>\n",
       "      <td>0.005158</td>\n",
       "      <td>0.354516</td>\n",
       "      <td>3.0</td>\n",
       "    </tr>\n",
       "    <tr>\n",
       "      <th>4</th>\n",
       "      <td>134</td>\n",
       "      <td>Street Music</td>\n",
       "      <td>207</td>\n",
       "      <td>1</td>\n",
       "      <td>1</td>\n",
       "      <td>Hip-Hop</td>\n",
       "      <td>[21]</td>\n",
       "      <td>en</td>\n",
       "      <td>943.0</td>\n",
       "      <td>[]</td>\n",
       "      <td>0.513238</td>\n",
       "      <td>0.560410</td>\n",
       "      <td>0.894072</td>\n",
       "      <td>0.000000</td>\n",
       "      <td>0.000000</td>\n",
       "      <td>3.0</td>\n",
       "    </tr>\n",
       "  </tbody>\n",
       "</table>\n",
       "</div>"
      ],
      "text/plain": [
       "   track_id   track_title  track_duration  artist_id  album_id  \\\n",
       "0         2          Food             168          1         1   \n",
       "1         3  Electric Ave             237          1         1   \n",
       "2         5    This World             206          1         1   \n",
       "3        10       Freeway             161          6         6   \n",
       "4       134  Street Music             207          1         1   \n",
       "\n",
       "  track_genre_top track_genres_all track_language  track_listens track_tags  \\\n",
       "0         Hip-Hop             [21]             en         1293.0         []   \n",
       "1         Hip-Hop             [21]             en          514.0         []   \n",
       "2         Hip-Hop             [21]             en         1151.0         []   \n",
       "3             Pop             [10]             en        50135.0         []   \n",
       "4         Hip-Hop             [21]             en          943.0         []   \n",
       "\n",
       "   danceability    energy   valence  song_currency  song_hotness  \\\n",
       "0      0.675894  0.634476  0.576661       0.000000      0.000000   \n",
       "1      0.528643  0.817461  0.269240       0.000000      0.000000   \n",
       "2      0.745566  0.701470  0.621661       0.000000      0.000000   \n",
       "3      0.658179  0.924525  0.963590       0.005158      0.354516   \n",
       "4      0.513238  0.560410  0.894072       0.000000      0.000000   \n",
       "\n",
       "   track_duration_minutes  \n",
       "0                     3.0  \n",
       "1                     4.0  \n",
       "2                     3.0  \n",
       "3                     3.0  \n",
       "4                     3.0  "
      ]
     },
     "execution_count": 21,
     "metadata": {},
     "output_type": "execute_result"
    }
   ],
   "source": [
    "tracks_df.head()\n"
   ]
  },
  {
   "cell_type": "code",
   "execution_count": 22,
   "metadata": {},
   "outputs": [
    {
     "name": "stdout",
     "output_type": "stream",
     "text": [
      "The spearman correlation is: SpearmanrResult(correlation=-0.054890056954565274, pvalue=0.0001405768267175909)\n"
     ]
    }
   ],
   "source": [
    "tracks_df_correlation = tracks_df.dropna()\n",
    "spearman_coeff = stats.spearmanr(tracks_df_correlation['danceability'], \n",
    "                                 tracks_df_correlation['track_duration_minutes'])\n",
    "print('The spearman correlation is: {}'.format(spearman_coeff))\n"
   ]
  },
  {
   "cell_type": "code",
   "execution_count": 23,
   "metadata": {},
   "outputs": [
    {
     "name": "stdout",
     "output_type": "stream",
     "text": [
      "The pearson correlation is: (-0.11505085314982737, 1.2397463384428337e-15)\n"
     ]
    }
   ],
   "source": [
    "pearson_coeff = stats.pearsonr(tracks_df_correlation['danceability'], \n",
    "                                 tracks_df_correlation['track_duration_minutes'])\n",
    "print('The pearson correlation is: {}'.format(pearson_coeff))"
   ]
  },
  {
   "cell_type": "markdown",
   "metadata": {},
   "source": [
    "#### Relation between valence and other variables"
   ]
  },
  {
   "cell_type": "markdown",
   "metadata": {},
   "source": [
    "Valence refers to the degree of positive or negative emotions one perceives from a song. We'll try to find some relations between such varible and others.\n",
    "Relation between track_listens and valence"
   ]
  },
  {
   "cell_type": "code",
   "execution_count": 24,
   "metadata": {},
   "outputs": [
    {
     "name": "stderr",
     "output_type": "stream",
     "text": [
      "/anaconda3/envs/ada/lib/python3.6/site-packages/scipy/stats/stats.py:1713: FutureWarning: Using a non-tuple sequence for multidimensional indexing is deprecated; use `arr[tuple(seq)]` instead of `arr[seq]`. In the future this will be interpreted as an array index, `arr[np.array(seq)]`, which will result either in an error or a different result.\n",
      "  return np.add.reduce(sorted[indexer] * weights, axis=axis) / sumval\n"
     ]
    },
    {
     "data": {
      "text/plain": [
       "<matplotlib.axes._subplots.AxesSubplot at 0x1a36317eb8>"
      ]
     },
     "execution_count": 24,
     "metadata": {},
     "output_type": "execute_result"
    },
    {
     "data": {
      "image/png": "[encoded data removed]",
      "text/plain": [
       "<Figure size 432x288 with 1 Axes>"
      ]
     },
     "metadata": {
      "needs_background": "light"
     },
     "output_type": "display_data"
    }
   ],
   "source": [
    "sns.regplot(x='valence', y='track_listens',\n",
    "            data=tracks_df, ci=95, \n",
    "            line_kws ={'color': 'green'})\n"
   ]
  },
  {
   "cell_type": "markdown",
   "metadata": {},
   "source": [
    "As seen in the plot, it is difficult to find a relationships between the valence of the song and the number of listens. We also tried to find relation between valence and energy, or valence and danceability and we found that such relationships are highly variable and do not show any dependance."
   ]
  },
  {
   "cell_type": "markdown",
   "metadata": {},
   "source": [
    "Mean value of valence per genre"
   ]
  },
  {
   "cell_type": "code",
   "execution_count": 25,
   "metadata": {},
   "outputs": [
    {
     "data": {
      "text/plain": [
       "<matplotlib.axes._subplots.AxesSubplot at 0x1a31861668>"
      ]
     },
     "execution_count": 25,
     "metadata": {},
     "output_type": "execute_result"
    },
    {
     "data": {
      "image/png": "[encoded data removed]",
      "text/plain": [
       "<Figure size 432x288 with 1 Axes>"
      ]
     },
     "metadata": {
      "needs_background": "light"
     },
     "output_type": "display_data"
    }
   ],
   "source": [
    "genre_valence = tracks_df.groupby('track_genre_top', \n",
    "                                  as_index=False)['valence'].mean()\n",
    "genre_valence.plot(x='track_genre_top', kind='bar', \n",
    "                   title='Valence per genre')\n"
   ]
  },
  {
   "cell_type": "code",
   "execution_count": 26,
   "metadata": {},
   "outputs": [
    {
     "data": {
      "text/html": [
       "<div>\n",
       "<style scoped>\n",
       "    .dataframe tbody tr th:only-of-type {\n",
       "        vertical-align: middle;\n",
       "    }\n",
       "\n",
       "    .dataframe tbody tr th {\n",
       "        vertical-align: top;\n",
       "    }\n",
       "\n",
       "    .dataframe thead th {\n",
       "        text-align: right;\n",
       "    }\n",
       "</style>\n",
       "<table border=\"1\" class=\"dataframe\">\n",
       "  <thead>\n",
       "    <tr style=\"text-align: right;\">\n",
       "      <th></th>\n",
       "      <th>track_genre_top</th>\n",
       "      <th>album_date_released</th>\n",
       "      <th>album_released_year</th>\n",
       "    </tr>\n",
       "  </thead>\n",
       "  <tbody>\n",
       "    <tr>\n",
       "      <th>0</th>\n",
       "      <td>Hip-Hop</td>\n",
       "      <td>2009-01-05</td>\n",
       "      <td>2009.0</td>\n",
       "    </tr>\n",
       "    <tr>\n",
       "      <th>1</th>\n",
       "      <td>Hip-Hop</td>\n",
       "      <td>2009-01-05</td>\n",
       "      <td>2009.0</td>\n",
       "    </tr>\n",
       "    <tr>\n",
       "      <th>2</th>\n",
       "      <td>Hip-Hop</td>\n",
       "      <td>2009-01-05</td>\n",
       "      <td>2009.0</td>\n",
       "    </tr>\n",
       "    <tr>\n",
       "      <th>3</th>\n",
       "      <td>Hip-Hop</td>\n",
       "      <td>2009-01-05</td>\n",
       "      <td>2009.0</td>\n",
       "    </tr>\n",
       "    <tr>\n",
       "      <th>4</th>\n",
       "      <td>Hip-Hop</td>\n",
       "      <td>2009-01-05</td>\n",
       "      <td>2009.0</td>\n",
       "    </tr>\n",
       "  </tbody>\n",
       "</table>\n",
       "</div>"
      ],
      "text/plain": [
       "  track_genre_top album_date_released  album_released_year\n",
       "0         Hip-Hop          2009-01-05               2009.0\n",
       "1         Hip-Hop          2009-01-05               2009.0\n",
       "2         Hip-Hop          2009-01-05               2009.0\n",
       "3         Hip-Hop          2009-01-05               2009.0\n",
       "4         Hip-Hop          2009-01-05               2009.0"
      ]
     },
     "execution_count": 26,
     "metadata": {},
     "output_type": "execute_result"
    }
   ],
   "source": [
    "track_album = tracks_df.merge(albums_df, left_on='album_id',\n",
    "                              right_on='album_id')\n",
    "\n",
    "genre_year = track_album[['track_genre_top', 'album_date_released']]\n",
    "genre_year.insert(loc=2, column='album_released_year',\n",
    "                  value=(genre_year['album_date_released'].dt.year))\n",
    "genre_year.head()\n"
   ]
  },
  {
   "cell_type": "code",
   "execution_count": 27,
   "metadata": {},
   "outputs": [],
   "source": [
    "top_genre = genre_year.groupby(genre_year['track_genre_top']).size()"
   ]
  },
  {
   "cell_type": "code",
   "execution_count": 28,
   "metadata": {},
   "outputs": [
    {
     "data": {
      "image/png": "[encoded data removed]",
      "text/plain": [
       "<Figure size 432x288 with 1 Axes>"
      ]
     },
     "metadata": {
      "needs_background": "light"
     },
     "output_type": "display_data"
    }
   ],
   "source": [
    "top_genre_sorted = top_genre.sort_values(ascending=False).head(10)\n",
    "top_genre_sorted.plot(kind='bar', title=\"Top 10 Genres\")\n",
    "plt.grid()\n"
   ]
  },
  {
   "cell_type": "code",
   "execution_count": 29,
   "metadata": {},
   "outputs": [
    {
     "data": {
      "text/html": [
       "<div>\n",
       "<style scoped>\n",
       "    .dataframe tbody tr th:only-of-type {\n",
       "        vertical-align: middle;\n",
       "    }\n",
       "\n",
       "    .dataframe tbody tr th {\n",
       "        vertical-align: top;\n",
       "    }\n",
       "\n",
       "    .dataframe thead th {\n",
       "        text-align: right;\n",
       "    }\n",
       "</style>\n",
       "<table border=\"1\" class=\"dataframe\">\n",
       "  <thead>\n",
       "    <tr style=\"text-align: right;\">\n",
       "      <th></th>\n",
       "      <th>track_id</th>\n",
       "      <th>track_title</th>\n",
       "      <th>track_duration</th>\n",
       "      <th>artist_id</th>\n",
       "      <th>album_id</th>\n",
       "      <th>track_genre_top</th>\n",
       "      <th>track_genres_all</th>\n",
       "      <th>track_language</th>\n",
       "      <th>track_listens</th>\n",
       "      <th>track_tags</th>\n",
       "      <th>danceability</th>\n",
       "      <th>energy</th>\n",
       "      <th>valence</th>\n",
       "      <th>song_currency</th>\n",
       "      <th>song_hotness</th>\n",
       "      <th>track_duration_minutes</th>\n",
       "      <th>album_date_created</th>\n",
       "      <th>album_date_released</th>\n",
       "      <th>album_title</th>\n",
       "      <th>album_listens</th>\n",
       "    </tr>\n",
       "  </thead>\n",
       "  <tbody>\n",
       "    <tr>\n",
       "      <th>78724</th>\n",
       "      <td>116490</td>\n",
       "      <td>Transit</td>\n",
       "      <td>143</td>\n",
       "      <td>19461</td>\n",
       "      <td>17932</td>\n",
       "      <td>Instrumental</td>\n",
       "      <td>[18, 1235]</td>\n",
       "      <td>NaN</td>\n",
       "      <td>3845.0</td>\n",
       "      <td>[]</td>\n",
       "      <td>NaN</td>\n",
       "      <td>NaN</td>\n",
       "      <td>NaN</td>\n",
       "      <td>NaN</td>\n",
       "      <td>NaN</td>\n",
       "      <td>2.0</td>\n",
       "      <td>2015-03-16 14:45:09</td>\n",
       "      <td>2021-03-01</td>\n",
       "      <td>Grey River</td>\n",
       "      <td>18090.0</td>\n",
       "    </tr>\n",
       "    <tr>\n",
       "      <th>78723</th>\n",
       "      <td>116489</td>\n",
       "      <td>Tossed</td>\n",
       "      <td>186</td>\n",
       "      <td>19461</td>\n",
       "      <td>17932</td>\n",
       "      <td>Instrumental</td>\n",
       "      <td>[18, 1235]</td>\n",
       "      <td>NaN</td>\n",
       "      <td>3185.0</td>\n",
       "      <td>[]</td>\n",
       "      <td>NaN</td>\n",
       "      <td>NaN</td>\n",
       "      <td>NaN</td>\n",
       "      <td>NaN</td>\n",
       "      <td>NaN</td>\n",
       "      <td>3.0</td>\n",
       "      <td>2015-03-16 14:45:09</td>\n",
       "      <td>2021-03-01</td>\n",
       "      <td>Grey River</td>\n",
       "      <td>18090.0</td>\n",
       "    </tr>\n",
       "    <tr>\n",
       "      <th>78722</th>\n",
       "      <td>116488</td>\n",
       "      <td>Slider</td>\n",
       "      <td>132</td>\n",
       "      <td>19461</td>\n",
       "      <td>17932</td>\n",
       "      <td>Instrumental</td>\n",
       "      <td>[18, 1235]</td>\n",
       "      <td>NaN</td>\n",
       "      <td>3227.0</td>\n",
       "      <td>[]</td>\n",
       "      <td>NaN</td>\n",
       "      <td>NaN</td>\n",
       "      <td>NaN</td>\n",
       "      <td>NaN</td>\n",
       "      <td>NaN</td>\n",
       "      <td>2.0</td>\n",
       "      <td>2015-03-16 14:45:09</td>\n",
       "      <td>2021-03-01</td>\n",
       "      <td>Grey River</td>\n",
       "      <td>18090.0</td>\n",
       "    </tr>\n",
       "    <tr>\n",
       "      <th>78721</th>\n",
       "      <td>116487</td>\n",
       "      <td>Scraper</td>\n",
       "      <td>243</td>\n",
       "      <td>19461</td>\n",
       "      <td>17932</td>\n",
       "      <td>Instrumental</td>\n",
       "      <td>[18, 1235]</td>\n",
       "      <td>NaN</td>\n",
       "      <td>2566.0</td>\n",
       "      <td>[]</td>\n",
       "      <td>NaN</td>\n",
       "      <td>NaN</td>\n",
       "      <td>NaN</td>\n",
       "      <td>NaN</td>\n",
       "      <td>NaN</td>\n",
       "      <td>4.0</td>\n",
       "      <td>2015-03-16 14:45:09</td>\n",
       "      <td>2021-03-01</td>\n",
       "      <td>Grey River</td>\n",
       "      <td>18090.0</td>\n",
       "    </tr>\n",
       "    <tr>\n",
       "      <th>78725</th>\n",
       "      <td>116491</td>\n",
       "      <td>Wistful</td>\n",
       "      <td>84</td>\n",
       "      <td>19461</td>\n",
       "      <td>17932</td>\n",
       "      <td>Instrumental</td>\n",
       "      <td>[18, 1235]</td>\n",
       "      <td>NaN</td>\n",
       "      <td>5267.0</td>\n",
       "      <td>[]</td>\n",
       "      <td>NaN</td>\n",
       "      <td>NaN</td>\n",
       "      <td>NaN</td>\n",
       "      <td>NaN</td>\n",
       "      <td>NaN</td>\n",
       "      <td>1.0</td>\n",
       "      <td>2015-03-16 14:45:09</td>\n",
       "      <td>2021-03-01</td>\n",
       "      <td>Grey River</td>\n",
       "      <td>18090.0</td>\n",
       "    </tr>\n",
       "  </tbody>\n",
       "</table>\n",
       "</div>"
      ],
      "text/plain": [
       "       track_id track_title  track_duration  artist_id  album_id  \\\n",
       "78724    116490     Transit             143      19461     17932   \n",
       "78723    116489      Tossed             186      19461     17932   \n",
       "78722    116488      Slider             132      19461     17932   \n",
       "78721    116487     Scraper             243      19461     17932   \n",
       "78725    116491     Wistful              84      19461     17932   \n",
       "\n",
       "      track_genre_top track_genres_all track_language  track_listens  \\\n",
       "78724    Instrumental       [18, 1235]            NaN         3845.0   \n",
       "78723    Instrumental       [18, 1235]            NaN         3185.0   \n",
       "78722    Instrumental       [18, 1235]            NaN         3227.0   \n",
       "78721    Instrumental       [18, 1235]            NaN         2566.0   \n",
       "78725    Instrumental       [18, 1235]            NaN         5267.0   \n",
       "\n",
       "      track_tags  danceability  energy  valence  song_currency  song_hotness  \\\n",
       "78724         []           NaN     NaN      NaN            NaN           NaN   \n",
       "78723         []           NaN     NaN      NaN            NaN           NaN   \n",
       "78722         []           NaN     NaN      NaN            NaN           NaN   \n",
       "78721         []           NaN     NaN      NaN            NaN           NaN   \n",
       "78725         []           NaN     NaN      NaN            NaN           NaN   \n",
       "\n",
       "       track_duration_minutes  album_date_created album_date_released  \\\n",
       "78724                     2.0 2015-03-16 14:45:09          2021-03-01   \n",
       "78723                     3.0 2015-03-16 14:45:09          2021-03-01   \n",
       "78722                     2.0 2015-03-16 14:45:09          2021-03-01   \n",
       "78721                     4.0 2015-03-16 14:45:09          2021-03-01   \n",
       "78725                     1.0 2015-03-16 14:45:09          2021-03-01   \n",
       "\n",
       "      album_title  album_listens  \n",
       "78724  Grey River        18090.0  \n",
       "78723  Grey River        18090.0  \n",
       "78722  Grey River        18090.0  \n",
       "78721  Grey River        18090.0  \n",
       "78725  Grey River        18090.0  "
      ]
     },
     "execution_count": 29,
     "metadata": {},
     "output_type": "execute_result"
    }
   ],
   "source": [
    "track_album.sort_values(by='album_date_released', ascending=False).head()"
   ]
  },
  {
   "cell_type": "code",
   "execution_count": 30,
   "metadata": {},
   "outputs": [
    {
     "data": {
      "text/html": [
       "<div>\n",
       "<style scoped>\n",
       "    .dataframe tbody tr th:only-of-type {\n",
       "        vertical-align: middle;\n",
       "    }\n",
       "\n",
       "    .dataframe tbody tr th {\n",
       "        vertical-align: top;\n",
       "    }\n",
       "\n",
       "    .dataframe thead th {\n",
       "        text-align: right;\n",
       "    }\n",
       "</style>\n",
       "<table border=\"1\" class=\"dataframe\">\n",
       "  <thead>\n",
       "    <tr style=\"text-align: right;\">\n",
       "      <th></th>\n",
       "      <th>track_id</th>\n",
       "      <th>track_title</th>\n",
       "      <th>track_duration</th>\n",
       "      <th>artist_id</th>\n",
       "      <th>album_id</th>\n",
       "      <th>track_genre_top</th>\n",
       "      <th>track_genres_all</th>\n",
       "      <th>track_language</th>\n",
       "      <th>track_listens</th>\n",
       "      <th>track_tags</th>\n",
       "      <th>danceability</th>\n",
       "      <th>energy</th>\n",
       "      <th>valence</th>\n",
       "      <th>song_currency</th>\n",
       "      <th>song_hotness</th>\n",
       "      <th>track_duration_minutes</th>\n",
       "      <th>album_date_created</th>\n",
       "      <th>album_date_released</th>\n",
       "      <th>album_title</th>\n",
       "      <th>album_listens</th>\n",
       "    </tr>\n",
       "  </thead>\n",
       "  <tbody>\n",
       "    <tr>\n",
       "      <th>0</th>\n",
       "      <td>2</td>\n",
       "      <td>Food</td>\n",
       "      <td>168</td>\n",
       "      <td>1</td>\n",
       "      <td>1</td>\n",
       "      <td>Hip-Hop</td>\n",
       "      <td>[21]</td>\n",
       "      <td>en</td>\n",
       "      <td>1293.0</td>\n",
       "      <td>[]</td>\n",
       "      <td>0.675894</td>\n",
       "      <td>0.634476</td>\n",
       "      <td>0.576661</td>\n",
       "      <td>0.0</td>\n",
       "      <td>0.0</td>\n",
       "      <td>3.0</td>\n",
       "      <td>2008-11-26 01:44:45</td>\n",
       "      <td>2009-01-05</td>\n",
       "      <td>AWOL - A Way Of Life</td>\n",
       "      <td>6073.0</td>\n",
       "    </tr>\n",
       "    <tr>\n",
       "      <th>1</th>\n",
       "      <td>3</td>\n",
       "      <td>Electric Ave</td>\n",
       "      <td>237</td>\n",
       "      <td>1</td>\n",
       "      <td>1</td>\n",
       "      <td>Hip-Hop</td>\n",
       "      <td>[21]</td>\n",
       "      <td>en</td>\n",
       "      <td>514.0</td>\n",
       "      <td>[]</td>\n",
       "      <td>0.528643</td>\n",
       "      <td>0.817461</td>\n",
       "      <td>0.269240</td>\n",
       "      <td>0.0</td>\n",
       "      <td>0.0</td>\n",
       "      <td>4.0</td>\n",
       "      <td>2008-11-26 01:44:45</td>\n",
       "      <td>2009-01-05</td>\n",
       "      <td>AWOL - A Way Of Life</td>\n",
       "      <td>6073.0</td>\n",
       "    </tr>\n",
       "    <tr>\n",
       "      <th>2</th>\n",
       "      <td>5</td>\n",
       "      <td>This World</td>\n",
       "      <td>206</td>\n",
       "      <td>1</td>\n",
       "      <td>1</td>\n",
       "      <td>Hip-Hop</td>\n",
       "      <td>[21]</td>\n",
       "      <td>en</td>\n",
       "      <td>1151.0</td>\n",
       "      <td>[]</td>\n",
       "      <td>0.745566</td>\n",
       "      <td>0.701470</td>\n",
       "      <td>0.621661</td>\n",
       "      <td>0.0</td>\n",
       "      <td>0.0</td>\n",
       "      <td>3.0</td>\n",
       "      <td>2008-11-26 01:44:45</td>\n",
       "      <td>2009-01-05</td>\n",
       "      <td>AWOL - A Way Of Life</td>\n",
       "      <td>6073.0</td>\n",
       "    </tr>\n",
       "    <tr>\n",
       "      <th>3</th>\n",
       "      <td>134</td>\n",
       "      <td>Street Music</td>\n",
       "      <td>207</td>\n",
       "      <td>1</td>\n",
       "      <td>1</td>\n",
       "      <td>Hip-Hop</td>\n",
       "      <td>[21]</td>\n",
       "      <td>en</td>\n",
       "      <td>943.0</td>\n",
       "      <td>[]</td>\n",
       "      <td>0.513238</td>\n",
       "      <td>0.560410</td>\n",
       "      <td>0.894072</td>\n",
       "      <td>0.0</td>\n",
       "      <td>0.0</td>\n",
       "      <td>3.0</td>\n",
       "      <td>2008-11-26 01:44:45</td>\n",
       "      <td>2009-01-05</td>\n",
       "      <td>AWOL - A Way Of Life</td>\n",
       "      <td>6073.0</td>\n",
       "    </tr>\n",
       "    <tr>\n",
       "      <th>4</th>\n",
       "      <td>10666</td>\n",
       "      <td>Hangloose</td>\n",
       "      <td>266</td>\n",
       "      <td>1</td>\n",
       "      <td>1</td>\n",
       "      <td>Hip-Hop</td>\n",
       "      <td>[21]</td>\n",
       "      <td>en</td>\n",
       "      <td>929.0</td>\n",
       "      <td>[]</td>\n",
       "      <td>0.543760</td>\n",
       "      <td>0.528764</td>\n",
       "      <td>0.800948</td>\n",
       "      <td>0.0</td>\n",
       "      <td>0.0</td>\n",
       "      <td>4.0</td>\n",
       "      <td>2008-11-26 01:44:45</td>\n",
       "      <td>2009-01-05</td>\n",
       "      <td>AWOL - A Way Of Life</td>\n",
       "      <td>6073.0</td>\n",
       "    </tr>\n",
       "  </tbody>\n",
       "</table>\n",
       "</div>"
      ],
      "text/plain": [
       "   track_id   track_title  track_duration  artist_id  album_id  \\\n",
       "0         2          Food             168          1         1   \n",
       "1         3  Electric Ave             237          1         1   \n",
       "2         5    This World             206          1         1   \n",
       "3       134  Street Music             207          1         1   \n",
       "4     10666     Hangloose             266          1         1   \n",
       "\n",
       "  track_genre_top track_genres_all track_language  track_listens track_tags  \\\n",
       "0         Hip-Hop             [21]             en         1293.0         []   \n",
       "1         Hip-Hop             [21]             en          514.0         []   \n",
       "2         Hip-Hop             [21]             en         1151.0         []   \n",
       "3         Hip-Hop             [21]             en          943.0         []   \n",
       "4         Hip-Hop             [21]             en          929.0         []   \n",
       "\n",
       "   danceability    energy   valence  song_currency  song_hotness  \\\n",
       "0      0.675894  0.634476  0.576661            0.0           0.0   \n",
       "1      0.528643  0.817461  0.269240            0.0           0.0   \n",
       "2      0.745566  0.701470  0.621661            0.0           0.0   \n",
       "3      0.513238  0.560410  0.894072            0.0           0.0   \n",
       "4      0.543760  0.528764  0.800948            0.0           0.0   \n",
       "\n",
       "   track_duration_minutes  album_date_created album_date_released  \\\n",
       "0                     3.0 2008-11-26 01:44:45          2009-01-05   \n",
       "1                     4.0 2008-11-26 01:44:45          2009-01-05   \n",
       "2                     3.0 2008-11-26 01:44:45          2009-01-05   \n",
       "3                     3.0 2008-11-26 01:44:45          2009-01-05   \n",
       "4                     4.0 2008-11-26 01:44:45          2009-01-05   \n",
       "\n",
       "            album_title  album_listens  \n",
       "0  AWOL - A Way Of Life         6073.0  \n",
       "1  AWOL - A Way Of Life         6073.0  \n",
       "2  AWOL - A Way Of Life         6073.0  \n",
       "3  AWOL - A Way Of Life         6073.0  \n",
       "4  AWOL - A Way Of Life         6073.0  "
      ]
     },
     "execution_count": 30,
     "metadata": {},
     "output_type": "execute_result"
    }
   ],
   "source": [
    "track_album.sort_values(by='album_date_created').head()\n"
   ]
  },
  {
   "cell_type": "markdown",
   "metadata": {},
   "source": [
    "### B) Loading and analyzing of Sentiment140"
   ]
  },
  {
   "cell_type": "code",
   "execution_count": 31,
   "metadata": {},
   "outputs": [],
   "source": [
    "tweets_col_names=['sentiment', 'ID', 'Date',\n",
    "                  'user', 'text']\n",
    "\n",
    "tweets_dtypes = {'sentiment': int, 'ID': int, \n",
    "                 'Date': str, 'user': str,\n",
    "                 'text': str }\n",
    "\n",
    "tweets_df = pd.read_csv(DATA_DIR + 'tweets.csv', names=tweets_col_names,\n",
    "                        dtype=tweets_dtypes, usecols=[0, 1, 2, 4, 5], \n",
    "                        encoding='latin1')\n"
   ]
  },
  {
   "cell_type": "markdown",
   "metadata": {},
   "source": [
    "### C) Find relationships between both datasets"
   ]
  },
  {
   "cell_type": "markdown",
   "metadata": {},
   "source": [
    "The main purpose of this part is to analyze the data of the tweets we downloaded from kaggle, which are already labeled as positive or negative and we can use to train the model of the project. "
   ]
  },
  {
   "cell_type": "markdown",
   "metadata": {},
   "source": [
    "First we will show how many tweets are in our data set and understand the values of the column"
   ]
  },
  {
   "cell_type": "code",
   "execution_count": 32,
   "metadata": {},
   "outputs": [
    {
     "data": {
      "text/html": [
       "<div>\n",
       "<style scoped>\n",
       "    .dataframe tbody tr th:only-of-type {\n",
       "        vertical-align: middle;\n",
       "    }\n",
       "\n",
       "    .dataframe tbody tr th {\n",
       "        vertical-align: top;\n",
       "    }\n",
       "\n",
       "    .dataframe thead th {\n",
       "        text-align: right;\n",
       "    }\n",
       "</style>\n",
       "<table border=\"1\" class=\"dataframe\">\n",
       "  <thead>\n",
       "    <tr style=\"text-align: right;\">\n",
       "      <th></th>\n",
       "      <th>sentiment</th>\n",
       "      <th>ID</th>\n",
       "      <th>Date</th>\n",
       "      <th>user</th>\n",
       "      <th>text</th>\n",
       "    </tr>\n",
       "  </thead>\n",
       "  <tbody>\n",
       "    <tr>\n",
       "      <th>0</th>\n",
       "      <td>0</td>\n",
       "      <td>1467810369</td>\n",
       "      <td>Mon Apr 06 22:19:45 PDT 2009</td>\n",
       "      <td>_TheSpecialOne_</td>\n",
       "      <td>@switchfoot http://twitpic.com/2y1zl - Awww, t...</td>\n",
       "    </tr>\n",
       "    <tr>\n",
       "      <th>1</th>\n",
       "      <td>0</td>\n",
       "      <td>1467810672</td>\n",
       "      <td>Mon Apr 06 22:19:49 PDT 2009</td>\n",
       "      <td>scotthamilton</td>\n",
       "      <td>is upset that he can't update his Facebook by ...</td>\n",
       "    </tr>\n",
       "    <tr>\n",
       "      <th>2</th>\n",
       "      <td>0</td>\n",
       "      <td>1467810917</td>\n",
       "      <td>Mon Apr 06 22:19:53 PDT 2009</td>\n",
       "      <td>mattycus</td>\n",
       "      <td>@Kenichan I dived many times for the ball. Man...</td>\n",
       "    </tr>\n",
       "    <tr>\n",
       "      <th>3</th>\n",
       "      <td>0</td>\n",
       "      <td>1467811184</td>\n",
       "      <td>Mon Apr 06 22:19:57 PDT 2009</td>\n",
       "      <td>ElleCTF</td>\n",
       "      <td>my whole body feels itchy and like its on fire</td>\n",
       "    </tr>\n",
       "    <tr>\n",
       "      <th>4</th>\n",
       "      <td>0</td>\n",
       "      <td>1467811193</td>\n",
       "      <td>Mon Apr 06 22:19:57 PDT 2009</td>\n",
       "      <td>Karoli</td>\n",
       "      <td>@nationwideclass no, it's not behaving at all....</td>\n",
       "    </tr>\n",
       "  </tbody>\n",
       "</table>\n",
       "</div>"
      ],
      "text/plain": [
       "   sentiment          ID                          Date             user  \\\n",
       "0          0  1467810369  Mon Apr 06 22:19:45 PDT 2009  _TheSpecialOne_   \n",
       "1          0  1467810672  Mon Apr 06 22:19:49 PDT 2009    scotthamilton   \n",
       "2          0  1467810917  Mon Apr 06 22:19:53 PDT 2009         mattycus   \n",
       "3          0  1467811184  Mon Apr 06 22:19:57 PDT 2009          ElleCTF   \n",
       "4          0  1467811193  Mon Apr 06 22:19:57 PDT 2009           Karoli   \n",
       "\n",
       "                                                text  \n",
       "0  @switchfoot http://twitpic.com/2y1zl - Awww, t...  \n",
       "1  is upset that he can't update his Facebook by ...  \n",
       "2  @Kenichan I dived many times for the ball. Man...  \n",
       "3    my whole body feels itchy and like its on fire   \n",
       "4  @nationwideclass no, it's not behaving at all....  "
      ]
     },
     "execution_count": 32,
     "metadata": {},
     "output_type": "execute_result"
    }
   ],
   "source": [
    "tweets_df.head()\n"
   ]
  },
  {
   "cell_type": "markdown",
   "metadata": {},
   "source": [
    "As you can observe we have the Sentiment (0 for negative, 2 for neutral and 4 for positive).\n",
    "We have the ID of the tweet, date of the tweet, user and text on the tweet."
   ]
  },
  {
   "cell_type": "markdown",
   "metadata": {},
   "source": [
    "To find out if the idea of the project is feasible we depend on the quantity of how many tweets have links of songs, and because the data set we will use is FMA (with data from echonest, previous spotify) complemented with spotify we will search for this keyword, as all the link related to music should have it"
   ]
  },
  {
   "cell_type": "code",
   "execution_count": 33,
   "metadata": {},
   "outputs": [
    {
     "name": "stdout",
     "output_type": "stream",
     "text": [
      "# Tweets that have Spotify on the text: 281\n"
     ]
    }
   ],
   "source": [
    "f1 = tweets_df[tweets_df.text.str.contains('Spotify')]\n",
    "f2 = tweets_df[tweets_df.text.str.contains('spotify')]\n",
    "tweets_spotify = pd.concat([f1,f2])\n",
    "num_tweets_spotify = tweets_spotify.count()\n",
    "print('# Tweets that have Spotify on the text: {}'.format(num_tweets_spotify[0]))\n"
   ]
  },
  {
   "cell_type": "code",
   "execution_count": 34,
   "metadata": {},
   "outputs": [
    {
     "name": "stdout",
     "output_type": "stream",
     "text": [
      "Total # of tweets: 1600000\n"
     ]
    }
   ],
   "source": [
    "num_tweets_total=tweets_df.count()\n",
    "print('Total # of tweets: {}'.format(num_tweets_total[0]))\n"
   ]
  },
  {
   "cell_type": "code",
   "execution_count": 35,
   "metadata": {},
   "outputs": [
    {
     "name": "stdout",
     "output_type": "stream",
     "text": [
      "% tweets with Spotify on the text: 0.0175625\n"
     ]
    }
   ],
   "source": [
    "tweets_spotify_pergentage = num_tweets_spotify[0]*100/num_tweets_total[0]\n",
    "print('% tweets with Spotify on the text: {}'.format(tweets_spotify_pergentage))\n"
   ]
  },
  {
   "cell_type": "markdown",
   "metadata": {},
   "source": [
    "##### We have less than 0.017% of tweets that relate to a song, therefore we conclude that there is not enough data on our training data set to have a confident model. Because the previous aproach was not feasible, we decide to work with the music data set and related to an important event of the last decade to analyze if/how the music played a roll on this event."
   ]
  },
  {
   "cell_type": "markdown",
   "metadata": {},
   "source": [
    "### D) Redefine Project Scope"
   ]
  },
  {
   "cell_type": "markdown",
   "metadata": {},
   "source": [
    "As we can see on the music dataset, most of it is from artist in the US, and one of the biggest events in the last decade is the election of the United States of 2016 when Donald Trump was elected as president.\n",
    "With this in mind the new research question is the following:\n",
    "##### By analyzing the information of the music data set since 2012-2016, find the relation that the music may have had on this event, analyzing the top genre of that period, top tracks, and most important the valence and energy of the songs to try to find out how people of the US fell in that specific time"
   ]
  },
  {
   "cell_type": "markdown",
   "metadata": {},
   "source": [
    "##### Then the next approach will be to compare this data with information we will obtain trhought the API spotify wit music records since end of 2016, and try to find how people feel on this period. And if posible provide a prediction of what kind of music (genre, energy, valence) people of the US will listen in the following years."
   ]
  },
  {
   "cell_type": "markdown",
   "metadata": {},
   "source": [
    "Elections of trump were on november 2016 so we will have pre-trump period with 5 years of music data"
   ]
  },
  {
   "cell_type": "code",
   "execution_count": 36,
   "metadata": {},
   "outputs": [],
   "source": [
    "post_2012 = track_album.album_date_created.dt.year >= 2012\n",
    "pre_2016 = track_album.album_date_created.dt.year <= 2016\n",
    "\n",
    "pre_trump = track_album[post_2012 & pre_2016]\n"
   ]
  },
  {
   "cell_type": "code",
   "execution_count": 37,
   "metadata": {},
   "outputs": [
    {
     "data": {
      "text/plain": [
       "13220   2012-01-03 15:57:12\n",
       "13221   2012-01-03 15:57:12\n",
       "13222   2012-01-03 15:57:12\n",
       "13223   2012-01-03 15:57:12\n",
       "13224   2012-01-03 15:57:12\n",
       "Name: album_date_created, dtype: datetime64[ns]"
      ]
     },
     "execution_count": 37,
     "metadata": {},
     "output_type": "execute_result"
    }
   ],
   "source": [
    "pre_trump.album_date_created.head()\n"
   ]
  },
  {
   "cell_type": "code",
   "execution_count": 38,
   "metadata": {},
   "outputs": [
    {
     "data": {
      "text/html": [
       "<div>\n",
       "<style scoped>\n",
       "    .dataframe tbody tr th:only-of-type {\n",
       "        vertical-align: middle;\n",
       "    }\n",
       "\n",
       "    .dataframe tbody tr th {\n",
       "        vertical-align: top;\n",
       "    }\n",
       "\n",
       "    .dataframe thead th {\n",
       "        text-align: right;\n",
       "    }\n",
       "</style>\n",
       "<table border=\"1\" class=\"dataframe\">\n",
       "  <thead>\n",
       "    <tr style=\"text-align: right;\">\n",
       "      <th></th>\n",
       "      <th>track_id</th>\n",
       "      <th>track_title</th>\n",
       "      <th>track_duration</th>\n",
       "      <th>artist_id</th>\n",
       "      <th>album_id</th>\n",
       "      <th>track_genre_top</th>\n",
       "      <th>track_genres_all</th>\n",
       "      <th>track_language</th>\n",
       "      <th>track_listens</th>\n",
       "      <th>track_tags</th>\n",
       "      <th>danceability</th>\n",
       "      <th>energy</th>\n",
       "      <th>valence</th>\n",
       "      <th>song_currency</th>\n",
       "      <th>song_hotness</th>\n",
       "      <th>track_duration_minutes</th>\n",
       "      <th>album_date_created</th>\n",
       "      <th>album_date_released</th>\n",
       "      <th>album_title</th>\n",
       "      <th>album_listens</th>\n",
       "    </tr>\n",
       "  </thead>\n",
       "  <tbody>\n",
       "    <tr>\n",
       "      <th>13220</th>\n",
       "      <td>58340</td>\n",
       "      <td>Hurt</td>\n",
       "      <td>267</td>\n",
       "      <td>12631</td>\n",
       "      <td>10762</td>\n",
       "      <td>NaN</td>\n",
       "      <td>[10, 17]</td>\n",
       "      <td>NaN</td>\n",
       "      <td>2848.0</td>\n",
       "      <td>[]</td>\n",
       "      <td>0.674982</td>\n",
       "      <td>0.238244</td>\n",
       "      <td>0.252785</td>\n",
       "      <td>0.000018</td>\n",
       "      <td>0.043313</td>\n",
       "      <td>4.0</td>\n",
       "      <td>2012-01-03 15:57:12</td>\n",
       "      <td>2011-12-31</td>\n",
       "      <td>FrostWire Creative Commons Mixtape 2 Side B</td>\n",
       "      <td>68076.0</td>\n",
       "    </tr>\n",
       "    <tr>\n",
       "      <th>13221</th>\n",
       "      <td>58342</td>\n",
       "      <td>Give and Take</td>\n",
       "      <td>331</td>\n",
       "      <td>12633</td>\n",
       "      <td>10762</td>\n",
       "      <td>NaN</td>\n",
       "      <td>[10, 17, 66]</td>\n",
       "      <td>NaN</td>\n",
       "      <td>1680.0</td>\n",
       "      <td>[]</td>\n",
       "      <td>0.495365</td>\n",
       "      <td>0.277979</td>\n",
       "      <td>0.328873</td>\n",
       "      <td>0.000071</td>\n",
       "      <td>0.000000</td>\n",
       "      <td>6.0</td>\n",
       "      <td>2012-01-03 15:57:12</td>\n",
       "      <td>2011-12-31</td>\n",
       "      <td>FrostWire Creative Commons Mixtape 2 Side B</td>\n",
       "      <td>68076.0</td>\n",
       "    </tr>\n",
       "    <tr>\n",
       "      <th>13222</th>\n",
       "      <td>58346</td>\n",
       "      <td>Caroline</td>\n",
       "      <td>240</td>\n",
       "      <td>12637</td>\n",
       "      <td>10762</td>\n",
       "      <td>NaN</td>\n",
       "      <td>[10, 12]</td>\n",
       "      <td>NaN</td>\n",
       "      <td>8565.0</td>\n",
       "      <td>[]</td>\n",
       "      <td>0.300588</td>\n",
       "      <td>0.953663</td>\n",
       "      <td>0.330956</td>\n",
       "      <td>0.000110</td>\n",
       "      <td>0.120757</td>\n",
       "      <td>4.0</td>\n",
       "      <td>2012-01-03 15:57:12</td>\n",
       "      <td>2011-12-31</td>\n",
       "      <td>FrostWire Creative Commons Mixtape 2 Side B</td>\n",
       "      <td>68076.0</td>\n",
       "    </tr>\n",
       "    <tr>\n",
       "      <th>13223</th>\n",
       "      <td>58335</td>\n",
       "      <td>Han Solo</td>\n",
       "      <td>215</td>\n",
       "      <td>12627</td>\n",
       "      <td>10762</td>\n",
       "      <td>NaN</td>\n",
       "      <td>[19, 25]</td>\n",
       "      <td>NaN</td>\n",
       "      <td>4655.0</td>\n",
       "      <td>[]</td>\n",
       "      <td>NaN</td>\n",
       "      <td>NaN</td>\n",
       "      <td>NaN</td>\n",
       "      <td>NaN</td>\n",
       "      <td>NaN</td>\n",
       "      <td>4.0</td>\n",
       "      <td>2012-01-03 15:57:12</td>\n",
       "      <td>2011-12-31</td>\n",
       "      <td>FrostWire Creative Commons Mixtape 2 Side B</td>\n",
       "      <td>68076.0</td>\n",
       "    </tr>\n",
       "    <tr>\n",
       "      <th>13224</th>\n",
       "      <td>58336</td>\n",
       "      <td>Smile For Me, Sun</td>\n",
       "      <td>233</td>\n",
       "      <td>9529</td>\n",
       "      <td>10762</td>\n",
       "      <td>NaN</td>\n",
       "      <td>[4, 15, 107]</td>\n",
       "      <td>NaN</td>\n",
       "      <td>1847.0</td>\n",
       "      <td>[]</td>\n",
       "      <td>NaN</td>\n",
       "      <td>NaN</td>\n",
       "      <td>NaN</td>\n",
       "      <td>NaN</td>\n",
       "      <td>NaN</td>\n",
       "      <td>4.0</td>\n",
       "      <td>2012-01-03 15:57:12</td>\n",
       "      <td>2011-12-31</td>\n",
       "      <td>FrostWire Creative Commons Mixtape 2 Side B</td>\n",
       "      <td>68076.0</td>\n",
       "    </tr>\n",
       "  </tbody>\n",
       "</table>\n",
       "</div>"
      ],
      "text/plain": [
       "       track_id        track_title  track_duration  artist_id  album_id  \\\n",
       "13220     58340               Hurt             267      12631     10762   \n",
       "13221     58342      Give and Take             331      12633     10762   \n",
       "13222     58346           Caroline             240      12637     10762   \n",
       "13223     58335           Han Solo             215      12627     10762   \n",
       "13224     58336  Smile For Me, Sun             233       9529     10762   \n",
       "\n",
       "      track_genre_top track_genres_all track_language  track_listens  \\\n",
       "13220             NaN         [10, 17]            NaN         2848.0   \n",
       "13221             NaN     [10, 17, 66]            NaN         1680.0   \n",
       "13222             NaN         [10, 12]            NaN         8565.0   \n",
       "13223             NaN         [19, 25]            NaN         4655.0   \n",
       "13224             NaN     [4, 15, 107]            NaN         1847.0   \n",
       "\n",
       "      track_tags  danceability    energy   valence  song_currency  \\\n",
       "13220         []      0.674982  0.238244  0.252785       0.000018   \n",
       "13221         []      0.495365  0.277979  0.328873       0.000071   \n",
       "13222         []      0.300588  0.953663  0.330956       0.000110   \n",
       "13223         []           NaN       NaN       NaN            NaN   \n",
       "13224         []           NaN       NaN       NaN            NaN   \n",
       "\n",
       "       song_hotness  track_duration_minutes  album_date_created  \\\n",
       "13220      0.043313                     4.0 2012-01-03 15:57:12   \n",
       "13221      0.000000                     6.0 2012-01-03 15:57:12   \n",
       "13222      0.120757                     4.0 2012-01-03 15:57:12   \n",
       "13223           NaN                     4.0 2012-01-03 15:57:12   \n",
       "13224           NaN                     4.0 2012-01-03 15:57:12   \n",
       "\n",
       "      album_date_released                                  album_title  \\\n",
       "13220          2011-12-31  FrostWire Creative Commons Mixtape 2 Side B   \n",
       "13221          2011-12-31  FrostWire Creative Commons Mixtape 2 Side B   \n",
       "13222          2011-12-31  FrostWire Creative Commons Mixtape 2 Side B   \n",
       "13223          2011-12-31  FrostWire Creative Commons Mixtape 2 Side B   \n",
       "13224          2011-12-31  FrostWire Creative Commons Mixtape 2 Side B   \n",
       "\n",
       "       album_listens  \n",
       "13220        68076.0  \n",
       "13221        68076.0  \n",
       "13222        68076.0  \n",
       "13223        68076.0  \n",
       "13224        68076.0  "
      ]
     },
     "execution_count": 38,
     "metadata": {},
     "output_type": "execute_result"
    }
   ],
   "source": [
    "pre_trump.head()\n"
   ]
  },
  {
   "cell_type": "markdown",
   "metadata": {},
   "source": [
    "Top 10 tracks"
   ]
  },
  {
   "cell_type": "code",
   "execution_count": 39,
   "metadata": {},
   "outputs": [
    {
     "name": "stderr",
     "output_type": "stream",
     "text": [
      "/anaconda3/envs/ada/lib/python3.6/site-packages/matplotlib/figure.py:2117: UserWarning: This figure was using constrained_layout==True, but that is incompatible with subplots_adjust and or tight_layout: setting constrained_layout==False. \n",
      "  warnings.warn(\"This figure was using constrained_layout==True, \"\n"
     ]
    },
    {
     "data": {
      "image/png": "[encoded data removed]",
      "text/plain": [
       "<Figure size 864x360 with 2 Axes>"
      ]
     },
     "metadata": {
      "needs_background": "light"
     },
     "output_type": "display_data"
    }
   ],
   "source": [
    "pre_trump_grouped = pre_trump.groupby(tracks_df['track_id']) \\\n",
    "                          .first()[['track_title', \n",
    "                                    'track_listens']]\n",
    "pre_trump_tracks_top10 = pre_trump_grouped.sort_values(by='track_listens', \n",
    "                                                       ascending=False).head(10)\n",
    "\n",
    "\n",
    "fig, axs = plt.subplots(ncols=2, constrained_layout=True, \n",
    "                        figsize=(12,5))\n",
    "\n",
    "f1=sns.barplot(x='track_title', y= 'track_listens', \n",
    "               data=tracks_top10, ax=axs[0])\n",
    "f1.set_xticklabels(f1.get_xticklabels(), rotation=90)\n",
    "f1.set_title(\"Top Tracks\")\n",
    "\n",
    "f2=sns.barplot(x='track_title', y='track_listens',\n",
    "               data=pre_trump_tracks_top10, ax=axs[1])\n",
    "f2.set_xticklabels(f2.get_xticklabels(), rotation=90)\n",
    "f2.set_title(\"Pre trump Top Tracks\")\n",
    "fig.tight_layout()\n",
    "plt.show()\n"
   ]
  },
  {
   "cell_type": "code",
   "execution_count": 40,
   "metadata": {},
   "outputs": [
    {
     "name": "stderr",
     "output_type": "stream",
     "text": [
      "/anaconda3/envs/ada/lib/python3.6/site-packages/matplotlib/figure.py:2117: UserWarning: This figure was using constrained_layout==True, but that is incompatible with subplots_adjust and or tight_layout: setting constrained_layout==False. \n",
      "  warnings.warn(\"This figure was using constrained_layout==True, \"\n"
     ]
    },
    {
     "data": {
      "image/png": "[encoded data removed]",
      "text/plain": [
       "<Figure size 864x360 with 2 Axes>"
      ]
     },
     "metadata": {
      "needs_background": "light"
     },
     "output_type": "display_data"
    }
   ],
   "source": [
    "pre_trump_albums_grouped = pre_trump.groupby(pre_trump['album_id']) \\\n",
    "                          .first()[['album_title', \n",
    "                                    'album_listens']]\n",
    "pre_trump_albums_top10 = pre_trump_albums_grouped.sort_values(by='album_listens', \n",
    "                                                              ascending=False).head(10)\n",
    "\n",
    "fig, axs = plt.subplots(ncols=2, constrained_layout=True,\n",
    "                        figsize=(12,5))\n",
    "\n",
    "f1=sns.barplot(x='album_title', y= 'album_listens',\n",
    "               data=albums_top10, ax=axs[0])\n",
    "f1.set_xticklabels(f1.get_xticklabels(), rotation=90)\n",
    "f1.set_title(\"Top Albums\")\n",
    "\n",
    "f2=sns.barplot(x='album_title', y='album_listens',\n",
    "               data=pre_trump_albums_top10, ax=axs[1])\n",
    "f2.set_xticklabels(f2.get_xticklabels(), rotation=90)\n",
    "f2.set_title(\"Pre trump Top Albums\")\n",
    "fig.tight_layout()\n",
    "plt.show()\n"
   ]
  }
 ],
 "metadata": {
  "kernelspec": {
   "display_name": "Python [default]",
   "language": "python",
   "name": "python3"
  },
  "language_info": {
   "codemirror_mode": {
    "name": "ipython",
    "version": 3
   },
   "file_extension": ".py",
   "mimetype": "text/x-python",
   "name": "python",
   "nbconvert_exporter": "python",
   "pygments_lexer": "ipython3",
   "version": "3.6.7"
  }
 },
 "nbformat": 4,
 "nbformat_minor": 1
}
