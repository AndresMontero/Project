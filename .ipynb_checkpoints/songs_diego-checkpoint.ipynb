{
 "cells": [
  {
   "cell_type": "markdown",
   "metadata": {},
   "source": [
    "# ADA 2018 -  “Happiness” Share it through music.\n",
    "\n",
    "#### Andres Montero, Ariel Alba, Diego Iriarte\n",
    "\n",
    "\n"
   ]
  },
  {
   "cell_type": "code",
   "execution_count": null,
   "metadata": {
    "collapsed": true
   },
   "outputs": [],
   "source": [
    "% matplotlib inline\n",
    "import pandas as pd\n",
    "import numpy as np\n",
    "import matplotlib.pyplot as plt\n",
    "import reverse_geocoder as rg"
   ]
  },
  {
   "cell_type": "code",
   "execution_count": null,
   "metadata": {
    "collapsed": true
   },
   "outputs": [],
   "source": [
    "# Constants\n",
    "DATA_FOLDER = './data/fma_metadata'\n",
    "PKL_DIR='./data/pkl'\n",
    "# True if we are going to read data from parquet files\n",
    "READ_FROM_PKL = True\n",
    "# True if we want to to execute the clean phase, with loading data from original source\n",
    "CLEAN_PHASE = False"
   ]
  },
  {
   "cell_type": "code",
   "execution_count": null,
   "metadata": {
    "collapsed": true
   },
   "outputs": [],
   "source": [
    "if CLEAN_PHASE:\n",
    "    echonest_path = '{data}/{name}'.format(data=DATA_FOLDER,name='echonest.csv')\n",
    "    features_path = '{data}/{name}'.format(data=DATA_FOLDER,name='features.csv')\n",
    "    genres_path = '{data}/{name}'.format(data=DATA_FOLDER,name='genres.csv')"
   ]
  },
  {
   "cell_type": "code",
   "execution_count": null,
   "metadata": {
    "collapsed": true
   },
   "outputs": [],
   "source": [
    "if CLEAN_PHASE:\n",
    "    # Load datasets into pandas dataframes\n",
    "    echonest_col_names=['track_id','danceability','energy','artist_latitude','artist_longitude','artist_name','artist_discovery'\n",
    "                        ,'artist_family','artist_hotness','song_currency','song_hotness']\n",
    "    echonest_dtypes = {'track_id':int,'danceability':float,'energy':float,'artist_latitude':float,'artist_longitude':float,'artist_name':str\n",
    "                     ,'artist_discovery':float,'artist_family':float,'artist_hotness':float,'song_currency':float,'song_hotness':float}\n",
    "    echonest_df = pd.read_csv(echonest_path, names=echonest_col_names,header=3\n",
    "                              ,dtype=echonest_dtypes, usecols=[0,2,3,11,13,14,21,22,23,24,25])\n",
    "\n",
    "    genres_dtypes = {'genre_id': int, '#tracks': int, 'parent': int, 'top_level': int}\n",
    "    genres_df = pd.read_csv(genres_path,dtype=genres_dtypes)\n"
   ]
  },
  {
   "cell_type": "code",
   "execution_count": null,
   "metadata": {},
   "outputs": [],
   "source": [
    "if CLEAN_PHASE:\n",
    "    cities=[]\n",
    "    states=[]\n",
    "    countries=[]\n",
    "    for i in range (0,len(echonest_df)):\n",
    "        if np.isnan(echonest_df.artist_latitude[i]):\n",
    "            city=np.nan\n",
    "            state=np.nan\n",
    "            country=np.nan\n",
    "        else:\n",
    "            coordinates = (echonest_df.artist_latitude[i],echonest_df.artist_longitude[i])\n",
    "            results = rg.search(coordinates,mode=1)\n",
    "            city=results[0]['name']\n",
    "            state=results[0]['admin1']\n",
    "            country=results[0]['cc']\n",
    "        cities.append(city)\n",
    "        states.append(state)\n",
    "        countries.append(country)\n",
    "    echonest_df.insert(loc=5,column='city', value=pd.Series(cities))\n",
    "    echonest_df.insert(loc=6,column='state', value=pd.Series(states))\n",
    "    echonest_df.insert(loc=7,column='country', value=pd.Series(countries))"
   ]
  },
  {
   "cell_type": "code",
   "execution_count": null,
   "metadata": {
    "collapsed": true
   },
   "outputs": [],
   "source": [
    "if not READ_FROM_PKL:\n",
    "    echonest_df.to_pickle(PKL_DIR + '/echonest_df.pkl')\n",
    "    genres_df.to_pickle(PKL_DIR + '/genres_df.pkl')\n",
    "else:\n",
    "    echonest_df = pd.read_pickle(PKL_DIR + '/echonest_df.pkl')\n",
    "    genres_df = pd.read_pickle(PKL_DIR + '/genres_df.pkl')\n",
    "    "
   ]
  },
  {
   "cell_type": "code",
   "execution_count": null,
   "metadata": {},
   "outputs": [],
   "source": [
    "echonest_df.head()"
   ]
  },
  {
   "cell_type": "code",
   "execution_count": null,
   "metadata": {},
   "outputs": [],
   "source": [
    "genres_df.head()"
   ]
  },
  {
   "cell_type": "code",
   "execution_count": null,
   "metadata": {
    "collapsed": true
   },
   "outputs": [],
   "source": []
  }
 ],
 "metadata": {
  "kernelspec": {
   "display_name": "Python 3",
   "language": "python",
   "name": "python3"
  },
  "language_info": {
   "codemirror_mode": {
    "name": "ipython",
    "version": 3
   },
   "file_extension": ".py",
   "mimetype": "text/x-python",
   "name": "python",
   "nbconvert_exporter": "python",
   "pygments_lexer": "ipython3",
   "version": "3.6.5"
  }
 },
 "nbformat": 4,
 "nbformat_minor": 1
}
