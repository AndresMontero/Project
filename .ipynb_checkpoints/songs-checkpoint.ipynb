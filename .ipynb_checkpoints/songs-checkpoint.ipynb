{
 "cells": [
  {
   "cell_type": "markdown",
   "metadata": {},
   "source": [
    "# ADA 2018 -  “Happiness” Share it through music.\n",
    "\n",
    "#### Andres Montero, Ariel Alba, Diego Iriarte\n",
    "\n",
    "\n"
   ]
  },
  {
   "cell_type": "code",
   "execution_count": null,
   "metadata": {},
   "outputs": [],
   "source": [
    "% matplotlib inline\n",
    "import pandas as pd\n",
    "import numpy as np\n",
    "import matplotlib.pyplot as plt\n",
    "import reverse_geocoder as rg\n",
    "import os.path\n"
   ]
  },
  {
   "cell_type": "code",
   "execution_count": null,
   "metadata": {},
   "outputs": [],
   "source": [
    "# Constants\n",
    "DATA_DIR = './data/'\n",
    "MUSIC_DIR = '{dir}{file}/'.format(dir=DATA_DIR, \n",
    "                                  file='fma_metadata')\n",
    "PKL_DIR = '{dir}{file}/'.format(dir=DATA_DIR, \n",
    "                               file='pkl')\n",
    "# True if we are going to read data from pickle files\n",
    "READ_FROM_PKL = False\n",
    "# True if we want to to execute the clean phase, with loading data from original source\n",
    "CLEAN_PHASE = True\n"
   ]
  },
  {
   "cell_type": "code",
   "execution_count": null,
   "metadata": {},
   "outputs": [],
   "source": [
    "if CLEAN_PHASE:\n",
    "    echonest_path = '{dir}{file}'.format(dir=MUSIC_DIR, \n",
    "                                         file='echonest.csv')\n",
    "    features_path = '{dir}{file}'.format(dir=MUSIC_DIR,\n",
    "                                         file='features.csv')\n",
    "    genres_path = '{dir}{file}'.format(dir=MUSIC_DIR,\n",
    "                                       file='genres.csv')\n",
    "    tracks_path = '{dir}{file}'.format(dir=MUSIC_DIR,\n",
    "                                       file='tracks.csv')\n",
    "    "
   ]
  },
  {
   "cell_type": "code",
   "execution_count": null,
   "metadata": {},
   "outputs": [],
   "source": [
    "if CLEAN_PHASE:\n",
    "    # Load datasets into pandas dataframes\n",
    "    echonest_col_names=['track_id','danceability','energy',\n",
    "                        'artist_latitude','artist_longitude',\n",
    "                        'artist_name','artist_discovery',\n",
    "                        'artist_family','artist_hotness',\n",
    "                        'song_currency','song_hotness']\n",
    "    echonest_dtypes = {'track_id': int, 'danceability': float, \n",
    "                       'energy': float, 'artist_latitude': float, \n",
    "                       'artist_longitude': float, 'artist_name': str,\n",
    "                       'artist_discovery': float, 'artist_family': float,\n",
    "                       'artist_hotness': float, 'song_currency': float,\n",
    "                       'song_hotness': float}\n",
    "    echonest_df = pd.read_csv(echonest_path, names=echonest_col_names,\n",
    "                              header=3, dtype=echonest_dtypes, \n",
    "                              usecols=[0,2,3,11,13,14,21,22,23,24,25])\n",
    "\n",
    "    genres_dtypes = {'genre_id': int, '#tracks': int, \n",
    "                     'parent': int, 'top_level': int}\n",
    "    genres_df = pd.read_csv(genres_path, dtype=genres_dtypes)\n",
    "    \n",
    "    track_col_names = ['track_id', 'album_date_created',\n",
    "                       'album_date_released', 'album_id',\n",
    "                       'album_listens', 'album_title', 'artist_id',\n",
    "                       'artist_name', 'track_duration', 'track_genre_top',\n",
    "                       'track_language', 'track_listens', 'track_tags', \n",
    "                       'track_title']\n",
    "\n",
    "    tracks_dtypes = {'track_id': int, 'album_date_created': str,\n",
    "                     'album_date_released': str, \n",
    "                     'album_id': int, 'album_listens': int, \n",
    "                     'album_title': str, 'artist_id': int,\n",
    "                     'artist_name': str, 'track_duration': int, \n",
    "                     'track_genre_top': str, 'track_language': str,\n",
    "                     'track_listens': int, 'track_tags': str, \n",
    "                     'track_title': str}\n",
    "\n",
    "    tracks_df = pd.read_csv(tracks_path, names=track_col_names,\n",
    "                            header=2,\n",
    "                            usecols=[0, 2, 3, 6, 8, 11, 21, 26, 38,\n",
    "                                     40, 45, 47, 51, 52])\n"
   ]
  },
  {
   "cell_type": "code",
   "execution_count": null,
   "metadata": {},
   "outputs": [],
   "source": [
    "# Echonest clean phase \n",
    "if CLEAN_PHASE:\n",
    "    # Get city, state, country from artist longitude and latitude\n",
    "    cities=[]\n",
    "    states=[]\n",
    "    countries=[]\n",
    "    \n",
    "    for i in range (0, len(echonest_df)):\n",
    "        if np.isnan(echonest_df.artist_latitude[i]):\n",
    "            city = np.nan\n",
    "            state = np.nan\n",
    "            country = np.nan\n",
    "        else:\n",
    "            coordinates = (echonest_df.artist_latitude[i], \n",
    "                           echonest_df.artist_longitude[i])\n",
    "            results = rg.search(coordinates, mode=1)\n",
    "            city = results[0]['name']\n",
    "            state = results[0]['admin1']\n",
    "            country = results[0]['cc']\n",
    "        \n",
    "        cities.append(city)\n",
    "        states.append(state)\n",
    "        countries.append(country)\n",
    "    \n",
    "    echonest_df.insert(loc=5, column='city', \n",
    "                       value=pd.Series(cities))\n",
    "    echonest_df.insert(loc=6, column='state',\n",
    "                       value=pd.Series(states))\n",
    "    echonest_df.insert(loc=7, column='country', \n",
    "                       value=pd.Series(countries))\n",
    "    \n",
    "    "
   ]
  },
  {
   "cell_type": "code",
   "execution_count": null,
   "metadata": {},
   "outputs": [],
   "source": [
    "# Tracks clean phase\n",
    "if CLEAN_PHASE:\n",
    "    # Transforms str to datetime\n",
    "    tracks_df['album_date_released'] = pd.to_datetime( \\\n",
    "                                            tracks_df['album_date_released'])\n",
    "    tracks_df['album_date_created'] = pd.to_datetime( \\\n",
    "                                            tracks_df['album_date_created'])\n"
   ]
  },
  {
   "cell_type": "code",
   "execution_count": null,
   "metadata": {},
   "outputs": [],
   "source": [
    "if not READ_FROM_PKL:\n",
    "    echonest_df.to_pickle('{dir}{file}'.format(dir=PKL_DIR, \n",
    "                                               file='echonest_df.pkl'))\n",
    "    genres_df.to_pickle('{dir}{file}'.format(dir=PKL_DIR, \n",
    "                                             file='genres_df.pkl'))\n",
    "    tracks_df.to_pickle('{dir}{file}'.format(dir=PKL_DIR, \n",
    "                                             file='tracks_df.pkl'))\n",
    "else:\n",
    "    echonest_df = pd.read_pickle('{dir}{file}'.format(dir=PKL_DIR, \n",
    "                                                      file='echonest_df.pkl'))\n",
    "    genres_df = pd.read_pickle('{dir}{file}'.format(dir=PKL_DIR, \n",
    "                                                    file='genres_df.pkl'))\n",
    "    tracks_df = pd.read_pickle('{dir}{file}'.format(dir=PKL_DIR, \n",
    "                                                    file='tracks_df.pkl'))\n",
    "    "
   ]
  },
  {
   "cell_type": "code",
   "execution_count": null,
   "metadata": {},
   "outputs": [],
   "source": [
    "echonest_df.head()\n"
   ]
  },
  {
   "cell_type": "code",
   "execution_count": null,
   "metadata": {},
   "outputs": [],
   "source": [
    "genres_df.head()\n"
   ]
  },
  {
   "cell_type": "code",
   "execution_count": null,
   "metadata": {},
   "outputs": [],
   "source": [
    "tracks_df.head()\n"
   ]
  },
  {
   "cell_type": "code",
   "execution_count": null,
   "metadata": {},
   "outputs": [],
   "source": []
  },
  {
   "cell_type": "code",
   "execution_count": null,
   "metadata": {},
   "outputs": [],
   "source": []
  },
  {
   "cell_type": "code",
   "execution_count": null,
   "metadata": {},
   "outputs": [],
   "source": []
  },
  {
   "cell_type": "code",
   "execution_count": null,
   "metadata": {},
   "outputs": [],
   "source": []
  },
  {
   "cell_type": "code",
   "execution_count": null,
   "metadata": {},
   "outputs": [],
   "source": []
  },
  {
   "cell_type": "code",
   "execution_count": null,
   "metadata": {},
   "outputs": [],
   "source": []
  }
 ],
 "metadata": {
  "kernelspec": {
   "display_name": "Python [conda env:ada]",
   "language": "python",
   "name": "conda-env-ada-py"
  },
  "language_info": {
   "codemirror_mode": {
    "name": "ipython",
    "version": 3
   },
   "file_extension": ".py",
   "mimetype": "text/x-python",
   "name": "python",
   "nbconvert_exporter": "python",
   "pygments_lexer": "ipython3",
   "version": "3.6.7"
  }
 },
 "nbformat": 4,
 "nbformat_minor": 1
}
