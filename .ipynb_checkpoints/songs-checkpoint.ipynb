{
 "cells": [
  {
   "cell_type": "code",
   "execution_count": null,
   "metadata": {},
   "outputs": [],
   "source": [
    "% matplotlib inline\n",
    "import pandas as pd\n",
    "import numpy as np\n",
    "import matplotlib.pyplot as plt\n"
   ]
  },
  {
   "cell_type": "code",
   "execution_count": null,
   "metadata": {},
   "outputs": [],
   "source": [
    "# Constants\n",
    "DATA_FOLDER = './data/fma_metadata'\n"
   ]
  },
  {
   "cell_type": "code",
   "execution_count": null,
   "metadata": {},
   "outputs": [],
   "source": [
    "# Load datasets into pandas dataframes\n",
    "# TODO: Specify dtypes\n",
    "echonest_path = '{data}/{name}'.format(data=DATA_FOLDER,\n",
    "                                       name='echonest.csv')\n",
    "echonest_df = pd.read_csv(echonest_path, header=3)\n",
    "\n",
    "features_path = '{data}/{name}'.format(data=DATA_FOLDER,\n",
    "                                       name='features.csv')\n",
    "features_df = pd.read_csv(features_path, header=4)\n",
    "\n",
    "genres_path = '{data}/{name}'.format(data=DATA_FOLDER,\n",
    "                                     name='genres.csv')\n",
    "genres_dtypes = {'genre_id': int, '#tracks': int, \n",
    "                 'parent': int, 'top_level': int}\n",
    "genres_df = pd.read_csv(genres_path, dtype=genres_dtypes)\n",
    "\n",
    "tracks_path = '{data}/{name}'.format(data=DATA_FOLDER,\n",
    "                                         name='tracks.csv')\n",
    "tracks_df = pd.read_csv(tracks_path)\n"
   ]
  },
  {
   "cell_type": "code",
   "execution_count": null,
   "metadata": {},
   "outputs": [],
   "source": [
    "genres_df.head()"
   ]
  },
  {
   "cell_type": "code",
   "execution_count": null,
   "metadata": {},
   "outputs": [],
   "source": []
  },
  {
   "cell_type": "code",
   "execution_count": null,
   "metadata": {},
   "outputs": [],
   "source": []
  }
 ],
 "metadata": {
  "kernelspec": {
   "display_name": "Python [conda env:ada]",
   "language": "python",
   "name": "conda-env-ada-py"
  },
  "language_info": {
   "codemirror_mode": {
    "name": "ipython",
    "version": 3
   },
   "file_extension": ".py",
   "mimetype": "text/x-python",
   "name": "python",
   "nbconvert_exporter": "python",
   "pygments_lexer": "ipython3",
   "version": "3.6.7"
  }
 },
 "nbformat": 4,
 "nbformat_minor": 1
}
