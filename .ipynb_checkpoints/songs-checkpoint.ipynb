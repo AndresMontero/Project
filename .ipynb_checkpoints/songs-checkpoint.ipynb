{
 "cells": [
  {
   "cell_type": "markdown",
   "metadata": {},
   "source": [
    "# ADA 2018 -  “Happiness” Share it through music.\n",
    "\n",
    "#### Andres Montero, Ariel Alba, Diego Iriarte\n",
    "\n",
    "\n"
   ]
  },
  {
   "cell_type": "code",
   "execution_count": null,
   "metadata": {},
   "outputs": [],
   "source": [
    "% matplotlib inline\n",
    "import pandas as pd\n",
    "import numpy as np\n",
    "import matplotlib.pyplot as plt\n",
    "import reverse_geocoder as rg\n",
    "import os.path\n",
    "import ast\n",
    "import seaborn as sns\n",
    "\n",
    "from helpers import *\n",
    "from datetime import datetime, date, time\n",
    "from scipy import stats\n",
    "\n",
    "%load_ext autoreload\n",
    "%autoreload 2\n"
   ]
  },
  {
   "cell_type": "code",
   "execution_count": null,
   "metadata": {},
   "outputs": [],
   "source": [
    "# Constants\n",
    "DATA_DIR = './data/'\n",
    "MUSIC_DIR = '{dir}{file}/'.format(dir=DATA_DIR, \n",
    "                                  file='fma_metadata')\n",
    "PKL_DIR = '{dir}{file}/'.format(dir=DATA_DIR, \n",
    "                               file='pkl')\n",
    "\n",
    "# True if we want to to execute the clean phase and to force \n",
    "# saving the cleaned file\n",
    "CLEAN_PHASE = True\n",
    "DEBUG = True\n"
   ]
  },
  {
   "cell_type": "code",
   "execution_count": null,
   "metadata": {},
   "outputs": [],
   "source": [
    "if CLEAN_PHASE:\n",
    "    echonest_path = '{dir}{file}'.format(dir=MUSIC_DIR, \n",
    "                                         file='echonest.csv')\n",
    "    features_path = '{dir}{file}'.format(dir=MUSIC_DIR,\n",
    "                                         file='features.csv')\n",
    "    genres_path = '{dir}{file}'.format(dir=MUSIC_DIR,\n",
    "                                       file='genres.csv')\n",
    "    tracks_path = '{dir}{file}'.format(dir=MUSIC_DIR,\n",
    "                                       file='tracks.csv')\n",
    "    "
   ]
  },
  {
   "cell_type": "code",
   "execution_count": null,
   "metadata": {},
   "outputs": [],
   "source": [
    "if CLEAN_PHASE:\n",
    "    # Load datasets into pandas dataframes\n",
    "    echonest_col_names=['track_id', 'danceability', 'energy',\n",
    "                        'valence', 'artist_latitude',\n",
    "                        'artist_longitude', 'artist_name',\n",
    "                        'artist_discovery', 'artist_family',\n",
    "                        'artist_hotness', 'song_currency', \n",
    "                        'song_hotness']\n",
    "    \n",
    "    echonest_dtypes = {'track_id': int, 'danceability': float, \n",
    "                       'energy': float, 'valence': float,\n",
    "                       'artist_latitude': float, 'artist_longitude': float,\n",
    "                       'artist_name': str, 'artist_discovery': float, \n",
    "                       'artist_family': float, 'artist_hotness': float,\n",
    "                       'song_currency': float, 'song_hotness': float}\n",
    "    \n",
    "    echonest_df = pd.read_csv(echonest_path, names=echonest_col_names,\n",
    "                              header=3, dtype=echonest_dtypes, \n",
    "                              usecols=[0, 2, 3, 8, 11, 13, 14,\n",
    "                                       21, 22, 23, 24, 25])\n",
    "\n",
    "    genres_dtypes = {'genre_id': int, '#tracks': int, \n",
    "                     'parent': int, 'top_level': int}\n",
    "    \n",
    "    genres_df = pd.read_csv(genres_path, dtype=genres_dtypes)\n",
    "    \n",
    "    track_col_names = ['track_id', 'album_date_created',\n",
    "                       'album_date_released', 'album_id',\n",
    "                       'album_listens', 'album_title', \n",
    "                       'artist_id', 'artist_latitude',\n",
    "                       'artist_longitude', 'artist_name',\n",
    "                       'track_duration', 'track_genre_top',\n",
    "                       'track_genres_all', 'track_language', \n",
    "                       'track_listens', 'track_tags', \n",
    "                       'track_title']\n",
    "\n",
    "    tracks_dtypes = {'track_id': int, 'album_date_created': str,\n",
    "                     'album_date_released': str, \n",
    "                     'album_id': int, 'album_listens': int, \n",
    "                     'album_title': str, 'artist_id': int,\n",
    "                     'artist_latitude': float, 'artist_longitude': float,\n",
    "                     'artist_name': str, 'track_duration': int, \n",
    "                     'track_genre_top': str, 'track_genres_all': str, \n",
    "                     'track_language': str, 'track_listens': int,\n",
    "                     'track_tags': str, 'track_title': str}\n",
    "\n",
    "    tracks_df = pd.read_csv(tracks_path, names=track_col_names,\n",
    "                            header=2, usecols=[0, 2, 3, 6, 8, 11,\n",
    "                                               21, 22, 24, 26, 38, \n",
    "                                               40, 41, 45, 47, 51,\n",
    "                                               52])\n"
   ]
  },
  {
   "cell_type": "code",
   "execution_count": null,
   "metadata": {},
   "outputs": [],
   "source": [
    "# Tracks clean phase\n",
    "if CLEAN_PHASE:\n",
    "    # Transforms str to datetime\n",
    "    tracks_df['album_date_released'] = pd.to_datetime( \\\n",
    "                                            tracks_df['album_date_released'])\n",
    "    tracks_df['album_date_created'] = pd.to_datetime( \\\n",
    "                                            tracks_df['album_date_created'])\n",
    "    # Transform str to list\n",
    "    tracks_df['track_tags'] = tracks_df['track_tags'] \\\n",
    "                                .apply(lambda x: ast.literal_eval(x))\n",
    "    tracks_df['track_genres_all'] = tracks_df['track_genres_all'] \\\n",
    "                                .apply(lambda x: ast.literal_eval(x))\n"
   ]
  },
  {
   "cell_type": "code",
   "execution_count": null,
   "metadata": {},
   "outputs": [],
   "source": [
    "if CLEAN_PHASE:\n",
    "    # Normalize dataframes to take out redundancy\n",
    "    \n",
    "    # Join echonist data to tracks\n",
    "    echo_tracks = echonest_df.merge(tracks_df, left_on='track_id', \n",
    "                                    right_on='track_id', how='outer')\n",
    "    \n",
    "    print(len(echo_tracks))\n",
    "     \n",
    "    # Select main columns to create new df\n",
    "    artists_df = echo_tracks[['artist_id', 'artist_name_x',\n",
    "                              'artist_latitude_x', 'artist_longitude_x', \n",
    "                              'artist_discovery', 'artist_family', \n",
    "                              'artist_hotness', 'artist_latitude_y',\n",
    "                              'artist_longitude_y', 'artist_name_y']].copy()\n",
    "\n",
    "    albums_df = echo_tracks[['album_id', 'album_date_created',\n",
    "                             'album_date_released', 'album_title',\n",
    "                             'album_listens']].copy()\n",
    "    \n",
    "    tracks_df = echo_tracks[['track_id', 'track_title', \n",
    "                             'track_duration', 'artist_id', \n",
    "                             'album_id', 'track_genre_top',\n",
    "                             'track_genres_all','track_language',\n",
    "                             'track_listens', 'track_tags',\n",
    "                             'danceability', 'energy',\n",
    "                             'valence', 'song_currency',\n",
    "                             'song_hotness']].copy()\n",
    "    \n",
    "    # Drop duplicates\n",
    "    artists_df = artists_df.drop_duplicates('artist_id')\n",
    "    albums_df = albums_df.drop_duplicates('album_id')\n",
    "    \n",
    "    # Reset Index\n",
    "    artists_df = artists_df.reset_index(drop=True)\n",
    "    albums_df = albums_df.reset_index(drop=True)\n",
    "    \n",
    "    # Clean listen count\n",
    "    albums_df['album_listens'] = albums_df['album_listens'] \\\n",
    "                                    .apply(lambda x : neg_to_zero(x))\n",
    "    \n",
    "    tracks_df['track_listens'] = tracks_df['track_listens'] \\\n",
    "                                    .apply(lambda x : neg_to_zero(x))\n",
    "    \n",
    "    # Artist name different on echonest and FullMusicArchive\n",
    "    if DEBUG:\n",
    "        name_comp = not_eq_ign_case(artists_df['artist_name_x'],\n",
    "                                    artists_df['artist_name_y'])\n",
    "        artist_name_diff = artists_df[name_comp]\n",
    "        \n",
    "        print('# Different artist names: {}\\n' \\\n",
    "                  .format(len(artist_name_diff)))\n",
    "\n",
    "        print('Example:\\n{}'.format(artist_name_diff[['artist_name_x',\n",
    "                                                      'artist_name_y']].head(3)))\n"
   ]
  },
  {
   "cell_type": "code",
   "execution_count": null,
   "metadata": {},
   "outputs": [],
   "source": [
    "# Artist location different on echonest and FullMusicArchive\n",
    "if DEBUG and CLEAN_PHASE:\n",
    "    lat_comp = artists_df['artist_latitude_x'] != artists_df['artist_latitude_y']\n",
    "    long_comp = artists_df['artist_longitude_x'] != artists_df['artist_longitude_y']\n",
    "    latlong_comp = lat_comp | long_comp\n",
    "    latlong_diff = artists_df[latlong_comp]\n",
    "\n",
    "    print('# Different Lat Long values: {}\\n' \\\n",
    "              .format(len(latlong_diff)))\n",
    "\n",
    "    print('Example:\\n{}'.format(artist_name_diff[['artist_latitude_x',\n",
    "                                                  'artist_latitude_y',\n",
    "                                                  'artist_longitude_x',\n",
    "                                                  'artist_longitude_y']].head(3)))"
   ]
  },
  {
   "cell_type": "code",
   "execution_count": null,
   "metadata": {},
   "outputs": [],
   "source": [
    "# Echonest clean phase \n",
    "if CLEAN_PHASE:\n",
    "    # Get city, state, country from artist longitude and latitude\n",
    "    cities=[]\n",
    "    states=[]\n",
    "    countries=[]\n",
    "    \n",
    "    for i in range (0, len(artists_df)):\n",
    "        if np.isnan(artists_df.artist_latitude_y[i]):\n",
    "            city = np.nan\n",
    "            state = np.nan\n",
    "            country = np.nan\n",
    "        else:\n",
    "            coordinates = (artists_df.artist_latitude_y[i], \n",
    "                           artists_df.artist_longitude_y[i])\n",
    "            results = rg.search(coordinates, mode=1)\n",
    "            city = results[0]['name']\n",
    "            state = results[0]['admin1']\n",
    "            country = results[0]['cc']\n",
    "        \n",
    "        cities.append(city)\n",
    "        states.append(state)\n",
    "        countries.append(country)\n",
    "    \n",
    "    artists_df.insert(loc=5, column='city', \n",
    "                      value=pd.Series(cities))\n",
    "    artists_df.insert(loc=6, column='state',\n",
    "                      value=pd.Series(states))\n",
    "    artists_df.insert(loc=7, column='country', \n",
    "                      value=pd.Series(countries))\n",
    "    "
   ]
  },
  {
   "cell_type": "code",
   "execution_count": null,
   "metadata": {},
   "outputs": [],
   "source": [
    "# Read  and wirte files depending on the existance of own path\n",
    "echonest_df_path = '{dir}{file}'.format(dir=PKL_DIR, \n",
    "                                        file='echonest_df.pkl')\n",
    "genres_df_path = '{dir}{file}'.format(dir=PKL_DIR, \n",
    "                                     file='genres_df.pkl')\n",
    "albums_df_path = '{dir}{file}'.format(dir=PKL_DIR, \n",
    "                                     file='albums_df.pkl')\n",
    "artists_df_path = '{dir}{file}'.format(dir=PKL_DIR, \n",
    "                                     file='artists_df.pkl')\n",
    "tracks_df_path = '{dir}{file}'.format(dir=PKL_DIR, \n",
    "                                      file='tracks_df.pkl')\n",
    "\n",
    "if CLEAN_PHASE:\n",
    "    genres_df.to_pickle(genres_df_path)\n",
    "elif os.path.exists(echonest_df_path):\n",
    "    genres_df = pd.read_pickle(genres_df_path)\n",
    "else:\n",
    "    print('There is no genres pandas data')\n",
    "    \n",
    "if CLEAN_PHASE:\n",
    "    albums_df.to_pickle(albums_df_path)\n",
    "elif os.path.exists(albums_df_path):\n",
    "    albums_df = pd.read_pickle(albums_df_path)\n",
    "else:\n",
    "    print('There is no albums pandas data')\n",
    "    \n",
    "if CLEAN_PHASE:\n",
    "    artists_df.to_pickle(artists_df_path)\n",
    "elif os.path.exists(artists_df_path):\n",
    "    artists_df = pd.read_pickle(artists_df_path)\n",
    "else:\n",
    "    print('There is no albums pandas data')\n",
    "    \n",
    "if CLEAN_PHASE:\n",
    "    tracks_df.to_pickle(tracks_df_path)\n",
    "elif os.path.exists(tracks_df_path):\n",
    "    tracks_df = pd.read_pickle(tracks_df_path)\n",
    "else:\n",
    "    print('There is no albums tracks data')\n",
    "    "
   ]
  },
  {
   "cell_type": "code",
   "execution_count": null,
   "metadata": {},
   "outputs": [],
   "source": [
    "# Data from Spitfy and LastFM API with updated information\n",
    "YEARS = [2017, 2018]\n",
    "dfs = {}\n",
    "\n",
    "for year in YEARS:\n",
    "    albums_year_path = '{dir}albums_{year}_df.pkl'.format(dir=PKL_DIR,\n",
    "                                                          year=year)\n",
    "    artists_year_path = '{dir}artists_{year}_df.pkl'.format(dir=PKL_DIR,\n",
    "                                                        year=year)\n",
    "    tracks_year_path = '{dir}tracks_{year}_df.pkl'.format(dir=PKL_DIR,\n",
    "                                                      year=year)\n",
    "    dfs[year] = {'tracks': pd.read_pickle(tracks_year_path),\n",
    "                 'albums': pd.read_pickle(albums_year_path),\n",
    "                 'artists': pd.read_pickle(artists_year_path)}\n"
   ]
  },
  {
   "cell_type": "code",
   "execution_count": null,
   "metadata": {},
   "outputs": [],
   "source": [
    "if CLEAN_PHASE:\n",
    "    for year in YEARS:\n",
    "        tracks = dfs[year]['tracks']\n",
    "        albums = dfs[year]['tracks']\n",
    "        artists = dfs[year]['artists']\n",
    "        \n",
    "        # New tracks cleaning\n",
    "        # Transform miliseconds duration to minutes\n",
    "        tracks['track_duration'] = tracks['track_duration'] / 60000\n",
    "\n",
    "        # Normalize song_hotness to be a value between 1 and 0\n",
    "        tracks['song_hotness'] = tracks['song_hotness'] / 100\n",
    "        \n",
    "        # Look at genres on tags and add them to track_genres_all\n",
    "#         for i, row in tracks.iterrows()\n",
    "#             tags = row['track_tags']\n",
    "            \n",
    "#             genres_df['Title'].str.contains()\n",
    "\n",
    "        # New albums cleaning\n",
    "#         albums['album_date_released'] = pd.to_datetime( \\\n",
    "#                                                 albums['album_date_released'])\n",
    "\n",
    "#         # New artist cleaning\n",
    "#         # Normalize artist_hotness to be a value between 1 and 0\n",
    "#         artists['artist_hotness'] = artists['artist_hotness'] / 100\n",
    "\n",
    "    # Merge the datasets of all years to have just one dataset for tracks ,\n",
    "    # albums and artists\n",
    "    \n",
    "    \n",
    "    "
   ]
  },
  {
   "cell_type": "code",
   "execution_count": null,
   "metadata": {},
   "outputs": [],
   "source": []
  },
  {
   "cell_type": "code",
   "execution_count": null,
   "metadata": {},
   "outputs": [],
   "source": []
  },
  {
   "cell_type": "code",
   "execution_count": null,
   "metadata": {},
   "outputs": [],
   "source": []
  },
  {
   "cell_type": "code",
   "execution_count": null,
   "metadata": {},
   "outputs": [],
   "source": []
  },
  {
   "cell_type": "code",
   "execution_count": null,
   "metadata": {},
   "outputs": [],
   "source": []
  },
  {
   "cell_type": "code",
   "execution_count": null,
   "metadata": {},
   "outputs": [],
   "source": [
    "print('Artists size: {}'.format(len(artists_df)))\n",
    "if DEBUG: print('\\nNaN count by column:\\n{}' \\\n",
    "                .format(artists_df.isna().sum(axis=0)))\n",
    "artists_df.head()\n"
   ]
  },
  {
   "cell_type": "code",
   "execution_count": null,
   "metadata": {},
   "outputs": [],
   "source": [
    "print('Albums size: {}'.format(len(albums_df)))\n",
    "if DEBUG: print('\\nNaN count by column:\\n{}' \\\n",
    "                .format(albums_df.isna().sum(axis=0)))\n",
    "albums_df.head()\n"
   ]
  },
  {
   "cell_type": "code",
   "execution_count": null,
   "metadata": {},
   "outputs": [],
   "source": [
    "print('Echonest size: {}'.format(len(echonest_df)))\n",
    "if DEBUG: print('\\nNaN count by column:\\n{}' \\\n",
    "                .format(echonest_df.isna().sum(axis=0)))\n",
    "echonest_df.head()\n"
   ]
  },
  {
   "cell_type": "code",
   "execution_count": null,
   "metadata": {},
   "outputs": [],
   "source": [
    "print('Genres size: {}'.format(len(genres_df)))\n",
    "if DEBUG: print('\\nNaN count by column:\\n{}' \\\n",
    "                .format(genres_df.isna().sum(axis=0)))\n",
    "genres_df.head()\n"
   ]
  },
  {
   "cell_type": "code",
   "execution_count": null,
   "metadata": {},
   "outputs": [],
   "source": [
    "print('Tracks size: {}'.format(len(tracks_df)))\n",
    "if DEBUG: print('\\nNaN count by column:\\n{}' \\\n",
    "                .format(tracks_df.isna().sum(axis=0)))\n",
    "tracks_df.head()\n"
   ]
  },
  {
   "cell_type": "markdown",
   "metadata": {},
   "source": [
    "#### First we will see the top 10 countries were the music is produced."
   ]
  },
  {
   "cell_type": "code",
   "execution_count": null,
   "metadata": {},
   "outputs": [],
   "source": [
    "#Merge data to have the entire data frame\n",
    "tracks_echonest = echonest_df.merge(tracks_df, left_on='track_id', \n",
    "                                    right_on='track_id', how='right')\n",
    "tracks_echonest.head()\n"
   ]
  },
  {
   "cell_type": "code",
   "execution_count": null,
   "metadata": {},
   "outputs": [],
   "source": [
    "track_artist = tracks_df.merge(artists_df, left_on='artist_id', \n",
    "                               right_on='artist_id')\n",
    "country_grouped = track_artist.groupby(track_artist['country']).size()\n",
    "country_top10 = country_grouped.sort_values(ascending=False) \\\n",
    "                                     .head(10)\n",
    "country_top10.plot(kind='bar', \n",
    "                   title=\"Top 10 countries that produce tracks\")\n",
    "plt.ylabel('Number of Tracks')\n",
    "plt.grid()\n"
   ]
  },
  {
   "cell_type": "markdown",
   "metadata": {},
   "source": [
    "#### Top 10 albums"
   ]
  },
  {
   "cell_type": "code",
   "execution_count": null,
   "metadata": {},
   "outputs": [],
   "source": [
    "albums_grouped = albums_df.groupby(albums_df['album_id']) \\\n",
    "                          .first()[['album_title', 'album_listens']]\n",
    "albums_top10 = albums_grouped.sort_values(by='album_listens', \n",
    "                                          ascending=False).head(10)\n",
    "\n",
    "plt.figure(figsize=(12, 6))\n",
    "plt.title(\"Top 10 Albums listened\")\n",
    "plt.grid()\n",
    "ax = sns.barplot(x='album_title', y= 'album_listens',\n",
    "                 data=albums_top10)\n",
    "plt.xticks(rotation=90)\n"
   ]
  },
  {
   "cell_type": "markdown",
   "metadata": {},
   "source": [
    "#### Top 10 Tracks"
   ]
  },
  {
   "cell_type": "code",
   "execution_count": null,
   "metadata": {},
   "outputs": [],
   "source": [
    "tracks_grouped = tracks_df.groupby(tracks_df['track_id']) \\\n",
    "                          .first()[['track_title', 'track_listens']]\n",
    "tracks_top10 = tracks_grouped.sort_values(by='track_listens', \n",
    "                                          ascending=False).head(10)\n",
    "\n",
    "albums_top10.plot(x='album_title', kind='bar', title=\"Top 10 Albums\")\n",
    "plt.grid()\n",
    "plt.figure(figsize=(12, 6))\n",
    "plt.title(\"Top 10 tracks listened\")\n",
    "plt.grid()\n",
    "ax = sns.barplot(x='track_title', y= 'track_listens',\n",
    "                 data=tracks_top10)\n",
    "plt.xticks(rotation=45)\n"
   ]
  },
  {
   "cell_type": "code",
   "execution_count": null,
   "metadata": {},
   "outputs": [],
   "source": [
    "\n",
    "# albums_top10.plot(x='album_title', kind='bar', title=\"Top 10 Albums\")\n",
    "# plt.grid()\n",
    "# plt.figure(figsize=(15, 8))\n",
    "# plt.title(\"Top 10 tracks listened\")\n",
    "# plt.grid()\n",
    "# ax = sns.barplot(x='track_title', y= 'track_listens',\n",
    "#                  data=tracks_top10)\n",
    "tracks_top10.plot(x='track_title', kind='bar', title='Top 10 tracks listened')"
   ]
  },
  {
   "cell_type": "markdown",
   "metadata": {},
   "source": [
    "#### Relation between danceability and duration of the song"
   ]
  },
  {
   "cell_type": "code",
   "execution_count": null,
   "metadata": {},
   "outputs": [],
   "source": [
    "tracks_df.insert(loc=15, column='track_duration_minutes',\n",
    "                 value=(tracks_df['track_duration'] / 60))\n",
    "\n",
    "tracks_df['track_duration_minutes'] = pd.to_numeric(tracks_df['track_duration_minutes'])\n"
   ]
  },
  {
   "cell_type": "code",
   "execution_count": null,
   "metadata": {},
   "outputs": [],
   "source": [
    "# intervals = pd.IntervalIndex.from_arrays([0, 2, 4], \n",
    "#                                          [2, 4, 1000], closed='left')\n",
    "\n",
    "# tracks_df['duration_class'] = pd.cut(tracks_df['track_duration_minutes'], \n",
    "#                                      bins=intervals)\n",
    "\n",
    "tracks_df['track_duration_minutes'] = tracks_df['track_duration_minutes'] \\\n",
    "                                                .apply(lambda x : np.rint(x))\n",
    "sns.regplot(x='danceability', y='track_duration_minutes',\n",
    "            data=tracks_df, ci=95, \n",
    "            line_kws = {'color': 'green'})\n"
   ]
  },
  {
   "cell_type": "code",
   "execution_count": null,
   "metadata": {},
   "outputs": [],
   "source": [
    "tracks_df.head()\n"
   ]
  },
  {
   "cell_type": "code",
   "execution_count": null,
   "metadata": {},
   "outputs": [],
   "source": [
    "spearman_coeff = stats.spearmanr(tracks_df['danceability'], \n",
    "                                 tracks_df['track_duration_minutes'])\n",
    "spearman_coeff\n"
   ]
  },
  {
   "cell_type": "markdown",
   "metadata": {},
   "source": [
    "#### Relation between valence and other variables"
   ]
  },
  {
   "cell_type": "markdown",
   "metadata": {},
   "source": [
    "Relation between danceability and valence"
   ]
  },
  {
   "cell_type": "code",
   "execution_count": null,
   "metadata": {},
   "outputs": [],
   "source": [
    "sns.regplot(x='danceability', y='valence',\n",
    "            data=tracks_df, ci=95, \n",
    "            line_kws = {'color': 'green'})"
   ]
  },
  {
   "cell_type": "markdown",
   "metadata": {},
   "source": [
    "Relation between energy and valence"
   ]
  },
  {
   "cell_type": "code",
   "execution_count": null,
   "metadata": {},
   "outputs": [],
   "source": [
    "sns.regplot(x='energy', y='valence',\n",
    "            data=tracks_df, ci=95, \n",
    "            line_kws = {'color': 'green'})"
   ]
  },
  {
   "cell_type": "markdown",
   "metadata": {},
   "source": [
    "Relation between track_listens and valence"
   ]
  },
  {
   "cell_type": "code",
   "execution_count": null,
   "metadata": {},
   "outputs": [],
   "source": [
    "sns.regplot(x='valence', y='track_listens',\n",
    "            data=tracks_df, ci=95, \n",
    "            line_kws = {'color': 'green'})"
   ]
  },
  {
   "cell_type": "markdown",
   "metadata": {},
   "source": [
    "Mean value of valence per genre"
   ]
  },
  {
   "cell_type": "code",
   "execution_count": null,
   "metadata": {},
   "outputs": [],
   "source": [
    "genre_valence=tracks_df.groupby('track_genre_top', as_index=False)['valence'].mean()\n",
    "genre_valence.plot(x='track_genre_top', kind='bar', title='Valence per genre')"
   ]
  },
  {
   "cell_type": "markdown",
   "metadata": {},
   "source": [
    "#### *** End of valence part"
   ]
  },
  {
   "cell_type": "code",
   "execution_count": null,
   "metadata": {},
   "outputs": [],
   "source": [
    "track_album = tracks_df.merge(albums_df, left_on='album_id',\n",
    "                              right_on='album_id')\n",
    "\n",
    "genre_year = track_album[['track_genre_top', 'album_date_released']]\n",
    "genre_year.insert(loc=2, column='album_released_year',\n",
    "                  value=(genre_year['album_date_released'].dt.year))\n",
    "genre_year.head()\n"
   ]
  },
  {
   "cell_type": "code",
   "execution_count": null,
   "metadata": {},
   "outputs": [],
   "source": [
    "top_genre = genre_year.groupby(genre_year['track_genre_top']).size()"
   ]
  },
  {
   "cell_type": "code",
   "execution_count": null,
   "metadata": {},
   "outputs": [],
   "source": [
    "top_genre_sorted = top_genre.sort_values(ascending=False).head(10)\n",
    "top_genre_sorted.plot(kind='bar', title=\"Top 10 Genres\")\n",
    "plt.grid()\n"
   ]
  },
  {
   "cell_type": "code",
   "execution_count": null,
   "metadata": {},
   "outputs": [],
   "source": [
    "track_album.sort_values(by='album_date_released', ascending=False)"
   ]
  },
  {
   "cell_type": "code",
   "execution_count": null,
   "metadata": {},
   "outputs": [],
   "source": [
    "track_album.sort_values(by='album_date_created')"
   ]
  },
  {
   "cell_type": "markdown",
   "metadata": {},
   "source": [
    "# As we can see in the tweets notebook there is not enough data in our training data set that relates tweets with spotify, less than 0.017%. Therefore we conclulde that this approach is not feasible."
   ]
  },
  {
   "cell_type": "markdown",
   "metadata": {},
   "source": [
    "# Because the previous aproach was not feasible, we decide to work with the music data set and related to an important event of the last decade to analyze if/how the music played a roll on this event."
   ]
  },
  {
   "cell_type": "markdown",
   "metadata": {},
   "source": [
    "As we can see on the music dataset, most of it is from artist in the US, and one of the biggest events in the last decade is the election of the United States of 2016 when Donald Trump was elected as president.\n",
    "With this in mind the new research question is the following:\n",
    "##### By analyzing the information of the music data set since 2012-2016, find the relation that the music may have had on this event, analyzing the top genre of that period, top tracks, and most important the valence and energy of the songs to try to find out how people of the US fell in that specific time"
   ]
  },
  {
   "cell_type": "markdown",
   "metadata": {},
   "source": [
    "##### Then the next approach will be to compare this data with information we will obtain trhought the API spotify wit music records since end of 2016, and try to find how people feel on this period. And if posible provide a prediction of what kind of music (genre, energy, valence) people of the US will listen in the following years."
   ]
  },
  {
   "cell_type": "markdown",
   "metadata": {},
   "source": [
    "Elections of trump were on november 2016 so we will have pre-trump period with 5 years of music data"
   ]
  },
  {
   "cell_type": "code",
   "execution_count": null,
   "metadata": {},
   "outputs": [],
   "source": [
    "pre_trump = track_album[(track_album.album_date_created.dt.year >= 2012) & (track_album.album_date_created.dt.year <= 2016)]"
   ]
  },
  {
   "cell_type": "code",
   "execution_count": null,
   "metadata": {},
   "outputs": [],
   "source": [
    "pre_trump.album_date_created"
   ]
  },
  {
   "cell_type": "code",
   "execution_count": null,
   "metadata": {},
   "outputs": [],
   "source": [
    "pre_trump"
   ]
  },
  {
   "cell_type": "markdown",
   "metadata": {},
   "source": [
    "Top 10 tracks"
   ]
  },
  {
   "cell_type": "code",
   "execution_count": null,
   "metadata": {},
   "outputs": [],
   "source": [
    "pre_trump_grouped = pre_trump.groupby(tracks_df['track_id']) \\\n",
    "                          .first()[['track_title', 'track_listens']]\n",
    "pre_trump_tracks_top10 = pre_trump_grouped.sort_values(by='track_listens', \n",
    "                                          ascending=False).head(10)\n",
    "\n",
    "\n",
    "fig, axs = plt.subplots(ncols=2,  constrained_layout=True, figsize=(12,5))\n",
    "\n",
    "f1=sns.barplot(x='track_title', y= 'track_listens',data=tracks_top10, ax=axs[0])\n",
    "f1.set_xticklabels(f1.get_xticklabels(), rotation=90)\n",
    "f1.set_title(\"Top Tracks\")\n",
    "\n",
    "f2=sns.barplot(x='track_title', y= 'track_listens',data=pre_trump_tracks_top10,  ax=axs[1])\n",
    "f2.set_xticklabels(f2.get_xticklabels(), rotation=90)\n",
    "f2.set_title(\"Pre trump Top Tracks\")\n",
    "fig.tight_layout()\n",
    "plt.show()\n"
   ]
  },
  {
   "cell_type": "code",
   "execution_count": null,
   "metadata": {},
   "outputs": [],
   "source": [
    "pre_trump_albums_grouped = pre_trump.groupby(pre_trump['album_id']) \\\n",
    "                          .first()[['album_title', 'album_listens']]\n",
    "pre_trump_albums_top10 = pre_trump_albums_grouped.sort_values(by='album_listens', \n",
    "                                          ascending=False).head(10)\n",
    "\n",
    "fig, axs = plt.subplots(ncols=2,  constrained_layout=True, figsize=(12,5))\n",
    "\n",
    "f1=sns.barplot(x='album_title', y= 'album_listens',data=albums_top10, ax=axs[0])\n",
    "f1.set_xticklabels(f1.get_xticklabels(), rotation=90)\n",
    "f1.set_title(\"Top Albums\")\n",
    "\n",
    "f2=sns.barplot(x='album_title', y= 'album_listens',data=pre_trump_albums_top10,  ax=axs[1])\n",
    "f2.set_xticklabels(f2.get_xticklabels(), rotation=90)\n",
    "f2.set_title(\"Pre trump Top Albums\")\n",
    "fig.tight_layout()\n",
    "plt.show()\n"
   ]
  },
  {
   "cell_type": "code",
   "execution_count": null,
   "metadata": {},
   "outputs": [],
   "source": []
  },
  {
   "cell_type": "code",
   "execution_count": null,
   "metadata": {},
   "outputs": [],
   "source": []
  }
 ],
 "metadata": {
  "kernelspec": {
   "display_name": "Python [default]",
   "language": "python",
   "name": "python3"
  },
  "language_info": {
   "codemirror_mode": {
    "name": "ipython",
    "version": 3
   },
   "file_extension": ".py",
   "mimetype": "text/x-python",
   "name": "python",
   "nbconvert_exporter": "python",
   "pygments_lexer": "ipython3",
   "version": "3.6.7"
  }
 },
 "nbformat": 4,
 "nbformat_minor": 1
}
