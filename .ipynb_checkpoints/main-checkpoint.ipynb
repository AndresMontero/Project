{
 "cells": [
  {
   "cell_type": "markdown",
   "metadata": {},
   "source": [
    "# ADA 2018 -  Evolution of Music.\n",
    "\n",
    "#### Andres Montero, Ariel Alba, Diego Iriarte\n",
    "\n",
    "\n"
   ]
  },
  {
   "cell_type": "markdown",
   "metadata": {},
   "source": [
    "This project aims to find the relationships between tweets and music, specifically focus on tweets which reflect a positive sentiment or mood and we'll relate them to the kind of music those people listen to. We believe that music preferences vary depending on people's mood, so we can detect what kind of music people tend to listen to when they are feeling happy or posting tweets with positive sentiment, which in our case are equivalent.\n",
    "For it, we'll work with two datasets:\n",
    "\n",
    "* FMA: A Dataset For Music Analysis\n",
    "* Sentiment140 dataset with 1.6 million tweets\n",
    "\n",
    "Tweets dataset is a labeled set, indicating whether each tweet has a positive sentiment or not.\n",
    "In order to define whether the proposed idea is feasible or not, we follow these steps:\n",
    "\n",
    "**A)** Preprocessing and analyzing FMA dataset. Gather the data that will be used, the dataset is very extense and we must focus on the data that will be used for our study. We clean the data, define the type of variables, normalize them and deal with missing values. From the cleaned data, we get some statistical information of the dataset, such as most listened songs, albums and others. We try to find some relationships between some information of the dataset such as: danceability, energy, number of times listened, location and others, too.\n",
    "\n",
    "**B)** Loading and analyzing of Sentiment140 dataset. We will only focus on tweets which are labeled as positive sentiment and the approach. The dataset contains few information about the tweets such as date, sentiment, userID and tweet, and is limited to tweets of yar 2009. Before doing any further preprocessing of such dataset we decided to check the possible relationships that we could find with FMA dataset.\n",
    "\n",
    "**C)** Find relationships between both datasets. It is important to identify whether the idea of the project is feasible or not. For the idea to be feasible, we need to find a considerable number of positive tweets which are somehow related to music or songs. To measure this relationships our approach is the following:\n",
    "\n",
    "* Count how many tweets are linked to a song\n",
    "* Count how many tweets explicitly say spotify on it.\n",
    "* Find words related to music contained in the tweets (may be a difficult task)\n",
    "\n",
    "**D)** In case, our two first approaches to find the relationships between both datasets don't succeed, we may not be able to try with the third one due to time contraints and task difficulty. If this is the scenario, the project scope will be reduced and will mostly focus on the FMA dataset and a specific event in the past years which may caused an impact on music production and preferences. Such scenario will be defined according to the insights found in part A.\n"
   ]
  },
  {
   "cell_type": "code",
   "execution_count": null,
   "metadata": {},
   "outputs": [],
   "source": [
    "% matplotlib inline\n",
    "import pandas as pd\n",
    "import numpy as np\n",
    "import matplotlib.pyplot as plt\n",
    "import reverse_geocoder as rg\n",
    "import os.path\n",
    "import ast\n",
    "import seaborn as sns\n",
    "\n",
    "from helpers import *\n",
    "from datetime import datetime, date, time\n",
    "from scipy import stats\n",
    "\n",
    "%load_ext autoreload\n",
    "%autoreload 2\n"
   ]
  },
  {
   "cell_type": "code",
   "execution_count": null,
   "metadata": {},
   "outputs": [],
   "source": [
    "# Constants\n",
    "DATA_DIR = './data/'\n",
    "MUSIC_DIR = '{dir}{file}/'.format(dir=DATA_DIR, \n",
    "                                  file='fma_metadata')\n",
    "PKL_DIR = '{dir}{file}/'.format(dir=DATA_DIR, \n",
    "                               file='pkl')\n",
    "DEBUG = True\n"
   ]
  },
  {
   "cell_type": "code",
   "execution_count": null,
   "metadata": {},
   "outputs": [],
   "source": [
    "# Read  and wirte files depending on the existance of own path\n",
    "genres_df_path = '{dir}{file}'.format(dir=PKL_DIR, \n",
    "                                     file='genres_df.pkl')\n",
    "albums_df_path = '{dir}{file}'.format(dir=PKL_DIR, \n",
    "                                     file='albums_df.pkl')\n",
    "artists_df_path = '{dir}{file}'.format(dir=PKL_DIR, \n",
    "                                     file='artists_df.pkl')\n",
    "tracks_df_path = '{dir}{file}'.format(dir=PKL_DIR, \n",
    "                                      file='tracks_df.pkl')\n",
    "track_genre_rel_df_path = '{dir}{file}'.format(dir=PKL_DIR, \n",
    "                                               file='track_genre_rel_df.pkl')\n",
    "if os.path.exists(genres_df_path):\n",
    "    genres_df = pd.read_pickle(genres_df_path)\n",
    "else:\n",
    "    print('There is no genres pandas data')\n",
    "    \n",
    "if os.path.exists(albums_df_path):\n",
    "    albums_df = pd.read_pickle(albums_df_path)\n",
    "else:\n",
    "    print('There is no albums pandas data')\n",
    "    \n",
    "if os.path.exists(artists_df_path):\n",
    "    artists_df = pd.read_pickle(artists_df_path)\n",
    "else:\n",
    "    print('There is no artists pandas data')\n",
    "    \n",
    "if os.path.exists(tracks_df_path):\n",
    "    tracks_df = pd.read_pickle(tracks_df_path)\n",
    "else:\n",
    "    print('There is no tracks pandas data')\n",
    "    \n",
    "if os.path.exists(track_genre_rel_df_path):\n",
    "    track_genre_rel_df = pd.read_pickle(track_genre_rel_df_path)\n",
    "else:\n",
    "    print('There is no tracks-genres pandas data')\n",
    "    "
   ]
  },
  {
   "cell_type": "code",
   "execution_count": null,
   "metadata": {},
   "outputs": [],
   "source": [
    "album_dist = albums_df.groupby(albums_df['album_date_released'].dt.year).size()\n",
    "\n",
    "plt.figure(figsize=(9, 7))\n",
    "ax = album_dist.plot(kind='bar')\n",
    "plt.title(\"Distribution of Albums per Year\")\n",
    "plt.grid()\n",
    "plt.xticks(rotation=90)"
   ]
  },
  {
   "cell_type": "code",
   "execution_count": null,
   "metadata": {},
   "outputs": [],
   "source": [
    "tracks_albums = tracks_df.merge(albums_df)\n",
    "tracks_dist = tracks_albums.groupby(tracks_albums['album_date_released'].dt.year).size()\n",
    "plt.figure(figsize=(9, 7))\n",
    "ax = tracks_dist.plot(kind='bar')\n",
    "plt.title(\"Distribution of Tracks per Year\")\n",
    "plt.grid()\n",
    "plt.xticks(rotation=90)"
   ]
  },
  {
   "cell_type": "code",
   "execution_count": null,
   "metadata": {},
   "outputs": [],
   "source": [
    "track_artist = tracks_df.merge(artists_df, left_on='artist_id', \n",
    "                               right_on='artist_id')\n",
    "country_grouped = track_artist.groupby(track_artist['country']).size()\n",
    "country_top10 = country_grouped.sort_values(ascending=False) \\\n",
    "                                     .head(10)\n",
    "country_top10.plot(kind='bar', \n",
    "                   title=\"Top 10 countries that produce tracks\")\n",
    "plt.ylabel('Number of Tracks')\n",
    "plt.grid()\n"
   ]
  },
  {
   "cell_type": "markdown",
   "metadata": {},
   "source": [
    "#### Top 10 albums"
   ]
  },
  {
   "cell_type": "code",
   "execution_count": null,
   "metadata": {},
   "outputs": [],
   "source": [
    "albums_grouped = albums_df.groupby(albums_df['album_id']) \\\n",
    "                          .first()[['album_title', 'album_listens']]\n",
    "albums_top10 = albums_grouped.sort_values(by='album_listens', \n",
    "                                          ascending=False).head(10)\n",
    "\n",
    "plt.figure(figsize=(10, 7))\n",
    "plt.title(\"Top 10 Albums listened\")\n",
    "plt.grid()\n",
    "ax = sns.barplot(x='album_title', y= 'album_listens',\n",
    "                 data=albums_top10)\n",
    "plt.xticks(rotation=90)\n"
   ]
  },
  {
   "cell_type": "markdown",
   "metadata": {},
   "source": [
    "#### Top 10 Tracks"
   ]
  },
  {
   "cell_type": "code",
   "execution_count": null,
   "metadata": {},
   "outputs": [],
   "source": [
    "tracks_grouped = tracks_df.groupby(tracks_df['track_id']) \\\n",
    "                          .first()[['track_title', 'track_listens']]\n",
    "tracks_top10 = tracks_grouped.sort_values(by='track_listens', \n",
    "                                          ascending=False).head(10)\n",
    "\n",
    "\n",
    "albums_top10.plot(x='album_title', kind='bar', title=\"Top 10 Albums\")\n",
    "plt.grid()\n",
    "plt.figure(figsize=(7, 5))\n",
    "plt.title(\"Top 10 tracks listened\")\n",
    "plt.grid()\n",
    "ax = sns.barplot(x='track_title', y= 'track_listens',\n",
    "                 data=tracks_top10)\n",
    "plt.xticks(rotation=45)\n"
   ]
  },
  {
   "cell_type": "markdown",
   "metadata": {},
   "source": [
    "#### Relation between danceability and duration of the song"
   ]
  },
  {
   "cell_type": "code",
   "execution_count": null,
   "metadata": {},
   "outputs": [],
   "source": [
    "tracks_df.insert(loc=13, column='track_duration_minutes',\n",
    "                 value=(tracks_df['track_duration'] / 60))\n",
    "\n",
    "tracks_df['track_duration_minutes'] = pd.to_numeric( \\\n",
    "                                            tracks_df['track_duration_minutes'])\n"
   ]
  },
  {
   "cell_type": "code",
   "execution_count": null,
   "metadata": {},
   "outputs": [],
   "source": [
    "tracks_df['track_duration_minutes'] = tracks_df['track_duration_minutes'] \\\n",
    "                                                .apply(lambda x : np.rint(x))\n",
    "sns.regplot(x='danceability', y='track_duration_minutes',\n",
    "            data=tracks_df, ci=95, \n",
    "            line_kws = {'color': 'green'})\n"
   ]
  },
  {
   "cell_type": "code",
   "execution_count": null,
   "metadata": {},
   "outputs": [],
   "source": [
    "tracks_df.head()\n"
   ]
  },
  {
   "cell_type": "code",
   "execution_count": null,
   "metadata": {},
   "outputs": [],
   "source": [
    "tracks_df_correlation = tracks_df.dropna()\n",
    "spearman_coeff = stats.spearmanr(tracks_df_correlation['danceability'], \n",
    "                                 tracks_df_correlation['track_duration_minutes'])\n",
    "print('The spearman correlation is: {}'.format(spearman_coeff))\n"
   ]
  },
  {
   "cell_type": "code",
   "execution_count": null,
   "metadata": {},
   "outputs": [],
   "source": [
    "pearson_coeff = stats.pearsonr(tracks_df_correlation['danceability'], \n",
    "                                 tracks_df_correlation['track_duration_minutes'])\n",
    "print('The pearson correlation is: {}'.format(pearson_coeff))"
   ]
  },
  {
   "cell_type": "markdown",
   "metadata": {},
   "source": [
    "#### Relation between valence and other variables"
   ]
  },
  {
   "cell_type": "markdown",
   "metadata": {},
   "source": [
    "Valence refers to the degree of positive or negative emotions one perceives from a song. We'll try to find some relations between such varible and others.\n",
    "Relation between track_listens and valence"
   ]
  },
  {
   "cell_type": "code",
   "execution_count": null,
   "metadata": {},
   "outputs": [],
   "source": [
    "sns.regplot(x='valence', y='track_listens',\n",
    "            data=tracks_df, ci=95, \n",
    "            line_kws ={'color': 'green'})\n"
   ]
  },
  {
   "cell_type": "markdown",
   "metadata": {},
   "source": [
    "As seen in the plot, it is difficult to find a relationships between the valence of the song and the number of listens. We also tried to find relation between valence and energy, or valence and danceability and we found that such relationships are highly variable and do not show any dependance."
   ]
  },
  {
   "cell_type": "markdown",
   "metadata": {},
   "source": [
    "Mean value of valence per genre"
   ]
  },
  {
   "cell_type": "code",
   "execution_count": null,
   "metadata": {},
   "outputs": [],
   "source": [
    "genre_valence = tracks_df.groupby('track_genre_top', \n",
    "                                  as_index=False)['valence'].mean()\n",
    "genre_valence.plot(x='track_genre_top', kind='bar', \n",
    "                   title='Valence per genre')\n"
   ]
  },
  {
   "cell_type": "code",
   "execution_count": null,
   "metadata": {},
   "outputs": [],
   "source": [
    "track_album = tracks_df.merge(albums_df, left_on='album_id',\n",
    "                              right_on='album_id')\n",
    "\n",
    "genre_year = track_album[['track_genres_all', 'album_date_released']]\n",
    "genre_year.insert(loc=2, column='album_released_year',\n",
    "                  value=(genre_year['album_date_released'].dt.year))\n",
    "genre_year.head()\n"
   ]
  },
  {
   "cell_type": "code",
   "execution_count": null,
   "metadata": {},
   "outputs": [],
   "source": [
    "top_genre = genre_year.groupby(genre_year['track_genres_all']).size()"
   ]
  },
  {
   "cell_type": "code",
   "execution_count": null,
   "metadata": {},
   "outputs": [],
   "source": [
    "top_genre_sorted = top_genre.sort_values(ascending=False).head(10)\n",
    "top_genre_sorted.plot(kind='bar', title=\"Top 10 Genres\")\n",
    "plt.grid()\n"
   ]
  },
  {
   "cell_type": "code",
   "execution_count": null,
   "metadata": {},
   "outputs": [],
   "source": [
    "track_album.sort_values(by='album_date_released', ascending=False).head()"
   ]
  },
  {
   "cell_type": "code",
   "execution_count": null,
   "metadata": {},
   "outputs": [],
   "source": [
    "track_album.sort_values(by='album_date_created').head()\n"
   ]
  },
  {
   "cell_type": "code",
   "execution_count": null,
   "metadata": {},
   "outputs": [],
   "source": [
    "albums_df.head()"
   ]
  },
  {
   "cell_type": "code",
   "execution_count": null,
   "metadata": {},
   "outputs": [],
   "source": [
    "albums_df.sort_values(by = ['album_date_released']).head()"
   ]
  },
  {
   "cell_type": "code",
   "execution_count": null,
   "metadata": {
    "scrolled": true
   },
   "outputs": [],
   "source": [
    "tracks_albums = tracks_df.merge(albums_df, how='inner')\n",
    "tracks_albums.head()"
   ]
  },
  {
   "cell_type": "code",
   "execution_count": null,
   "metadata": {},
   "outputs": [],
   "source": []
  },
  {
   "cell_type": "code",
   "execution_count": null,
   "metadata": {},
   "outputs": [],
   "source": [
    "tracks_albums_summer = tracks_albums.loc[lambda tracks_albums: (tracks_albums.album_date_released.dt.month >5)\\\n",
    "                 & (tracks_albums.album_date_released.dt.month <10)]\n",
    "tracks_albums_summer.head()"
   ]
  },
  {
   "cell_type": "code",
   "execution_count": null,
   "metadata": {},
   "outputs": [],
   "source": [
    "tracks_albums_summer_year = tracks_albums_summer.groupby([(tracks_albums_summer['album_date_released'].dt.year.rename('year')),\\\n",
    "                          (tracks_albums_summer['album_date_released'].dt.month.rename('month'))]).mean()\n",
    "\n",
    "tracks_albums_summer_year_mean = tracks_albums_summer_year.groupby('year').mean()\n",
    "tracks_albums_summer_year_mean_valence = tracks_albums_summer_year_mean[['valence']]\n",
    "\n",
    "plt.figure(figsize=(10, 7))\n",
    "plt.title(\"Valence Summer Hits\")\n",
    "plt.grid()\n",
    "ax = sns.lineplot( data=tracks_albums_summer_year_mean_valence)\n"
   ]
  },
  {
   "cell_type": "code",
   "execution_count": null,
   "metadata": {},
   "outputs": [],
   "source": [
    "tracks_albums_summer_year_mean = tracks_albums_summer_year.groupby('year').mean()\n",
    "tracks_albums_summer_year_mean_danceability = tracks_albums_summer_year_mean[['danceability']]\n",
    "\n",
    "plt.figure(figsize=(10, 7))\n",
    "plt.title(\"Danceability Summer Hits\")\n",
    "plt.grid()\n",
    "ax = sns.lineplot( data=tracks_albums_summer_year_mean_danceability)\n"
   ]
  },
  {
   "cell_type": "code",
   "execution_count": null,
   "metadata": {},
   "outputs": [],
   "source": [
    "tracks_albums_summer_year_mean = tracks_albums_summer_year.groupby('year').mean()\n",
    "tracks_albums_summer_year_mean_energy = tracks_albums_summer_year_mean[['energy']]\n",
    "\n",
    "plt.figure(figsize=(10, 7))\n",
    "plt.title(\"Energy Summer Hits\")\n",
    "plt.grid()\n",
    "ax = sns.lineplot( data=tracks_albums_summer_year_mean_energy)\n"
   ]
  },
  {
   "cell_type": "code",
   "execution_count": null,
   "metadata": {},
   "outputs": [],
   "source": [
    "tracks_albums_summer_2010 = tracks_albums.loc[lambda tracks_albums: (tracks_albums.album_date_released.dt.month >5)\\\n",
    "                 & (tracks_albums.album_date_released.dt.month <10) \\\n",
    "                 & (tracks_albums.album_date_released.dt.year >2009)]\n",
    "tracks_albums_summer_2010_year = tracks_albums_summer_2010.groupby([(tracks_albums_summer_2010['album_date_released'].dt.year.rename('year')),\\\n",
    "                          (tracks_albums_summer_2010['album_date_released'].dt.month.rename('month'))]).mean()\n"
   ]
  },
  {
   "cell_type": "code",
   "execution_count": null,
   "metadata": {},
   "outputs": [],
   "source": [
    "tracks_albums_summer_2010_year_mean = tracks_albums_summer_2010_year.groupby('year').mean()\n",
    "tracks_albums_summer_2010_year_mean_valence = tracks_albums_summer_2010_year_mean[['valence']]\n",
    "\n",
    "plt.figure(figsize=(10, 7))\n",
    "plt.title(\"Valence Summer Hits 2010-2018\")\n",
    "plt.grid()\n",
    "ax = sns.lineplot( data=tracks_albums_summer_2010_year_mean_valence)\n"
   ]
  },
  {
   "cell_type": "code",
   "execution_count": null,
   "metadata": {},
   "outputs": [],
   "source": [
    "tracks_albums_summer_2010_year_mean = tracks_albums_summer_2010_year.groupby('year').mean()\n",
    "tracks_albums_summer_2010_year_mean_dancebility = tracks_albums_summer_2010_year_mean[['danceability']]\n",
    "\n",
    "plt.figure(figsize=(10, 7))\n",
    "plt.title(\"Danceability Summer Hits 2010-2018\")\n",
    "plt.grid()\n",
    "ax = sns.lineplot( data=tracks_albums_summer_2010_year_mean_dancebility)"
   ]
  },
  {
   "cell_type": "code",
   "execution_count": null,
   "metadata": {},
   "outputs": [],
   "source": [
    "tracks_albums_summer_2010_year_mean = tracks_albums_summer_2010_year.groupby('year').mean()\n",
    "tracks_albums_summer_2010_year_mean_energy = tracks_albums_summer_2010_year_mean[['energy']]\n",
    "\n",
    "plt.figure(figsize=(10, 7))\n",
    "plt.title(\"Energy Summer Hits 2010-2018\")\n",
    "plt.grid()\n",
    "ax = sns.lineplot( data=tracks_albums_summer_2010_year_mean_energy)"
   ]
  },
  {
   "cell_type": "code",
   "execution_count": null,
   "metadata": {},
   "outputs": [],
   "source": [
    "# test_2010 = tracks_albums_summer_2010.groupby([(tracks_albums_summer_2010['album_date_released'].dt.year.rename('year')),\\\n",
    "#                           (tracks_albums_summer_2010['album_date_released'].dt.month.rename('month'))]).mean()\n",
    "\n",
    "# test_valence_2010 = test_2010[['valence']]\n",
    "\n",
    "# plt.figure(figsize=(9, 7))\n",
    "# ax = test_valence_2010.plot(kind='line')\n",
    "# plt.title(\"Valence Summer Hits\")\n",
    "# plt.grid()\n",
    "# plt.xticks(rotation=90)\n",
    "# test_2010"
   ]
  },
  {
   "cell_type": "code",
   "execution_count": null,
   "metadata": {},
   "outputs": [],
   "source": [
    "# test_danceability_2010 = test_2010[['danceability']]\n",
    "\n",
    "# plt.figure(figsize=(9, 7))\n",
    "# ax = test_danceability_2010.plot(kind='line')\n",
    "# plt.title(\"Danceability Summer Hits\")\n",
    "# plt.grid()\n",
    "# plt.xticks(rotation=90)"
   ]
  },
  {
   "cell_type": "code",
   "execution_count": null,
   "metadata": {},
   "outputs": [],
   "source": [
    "# test_energy_2010 = test_2010[['energy']]\n",
    "\n",
    "# plt.figure(figsize=(9, 7))\n",
    "# ax = test_energy_2010.plot(kind='bar')\n",
    "# plt.title(\"Energy Summer Hits\")\n",
    "# plt.grid()\n",
    "# plt.xticks(rotation=90)"
   ]
  },
  {
   "cell_type": "code",
   "execution_count": null,
   "metadata": {},
   "outputs": [],
   "source": [
    "tracks_albums_summer_2000 = tracks_albums.loc[lambda tracks_albums: (tracks_albums.album_date_released.dt.month >5)\\\n",
    "                 & (tracks_albums.album_date_released.dt.month <10) \\\n",
    "                 & (tracks_albums.album_date_released.dt.year >1999)\\\n",
    "                 & (tracks_albums.album_date_released.dt.year <2010)                           ]\n",
    "tracks_albums_summer_2000_year = tracks_albums_summer_2000.groupby([(tracks_albums_summer_2000['album_date_released'].dt.year.rename('year')),\\\n",
    "                          (tracks_albums_summer_2000['album_date_released'].dt.month.rename('month'))]).mean()\n"
   ]
  },
  {
   "cell_type": "code",
   "execution_count": null,
   "metadata": {},
   "outputs": [],
   "source": [
    "tracks_albums_summer_2000_year_mean = tracks_albums_summer_2000_year.groupby('year').mean()\n",
    "tracks_albums_summer_2000_year_mean_valence = tracks_albums_summer_2000_year_mean[['valence']]\n",
    "\n",
    "plt.figure(figsize=(10, 7))\n",
    "plt.title(\"Valence Summer Hits 2000-2010\")\n",
    "plt.grid()\n",
    "ax = sns.lineplot( data=tracks_albums_summer_2000_year_mean_valence)"
   ]
  },
  {
   "cell_type": "code",
   "execution_count": null,
   "metadata": {},
   "outputs": [],
   "source": [
    "tracks_albums_summer_2000_year_mean = tracks_albums_summer_2000_year.groupby('year').mean()\n",
    "tracks_albums_summer_2000_year_mean_dancebility = tracks_albums_summer_2000_year_mean[['danceability']]\n",
    "\n",
    "plt.figure(figsize=(10, 7))\n",
    "plt.title(\"Danceability Summer Hits 2000-2010\")\n",
    "plt.grid()\n",
    "ax = sns.lineplot( data=tracks_albums_summer_2000_year_mean_dancebility)"
   ]
  },
  {
   "cell_type": "code",
   "execution_count": null,
   "metadata": {},
   "outputs": [],
   "source": [
    "tracks_albums_summer_2000_year_mean = tracks_albums_summer_2000_year.groupby('year').mean()\n",
    "tracks_albums_summer_2000_year_mean_energy = tracks_albums_summer_2000_year_mean[['energy']]\n",
    "\n",
    "plt.figure(figsize=(10, 7))\n",
    "plt.title(\"Energy Summer Hits 2000-2010\")\n",
    "plt.grid()\n",
    "ax = sns.lineplot( data=tracks_albums_summer_2000_year_mean_energy)\n",
    "\n"
   ]
  },
  {
   "cell_type": "code",
   "execution_count": null,
   "metadata": {},
   "outputs": [],
   "source": []
  },
  {
   "cell_type": "code",
   "execution_count": null,
   "metadata": {},
   "outputs": [],
   "source": [
    "tracks_albums_summer_2000_year_mean_energy"
   ]
  },
  {
   "cell_type": "code",
   "execution_count": null,
   "metadata": {},
   "outputs": [],
   "source": []
  },
  {
   "cell_type": "code",
   "execution_count": null,
   "metadata": {},
   "outputs": [],
   "source": []
  },
  {
   "cell_type": "code",
   "execution_count": null,
   "metadata": {},
   "outputs": [],
   "source": []
  },
  {
   "cell_type": "code",
   "execution_count": null,
   "metadata": {},
   "outputs": [],
   "source": []
  },
  {
   "cell_type": "code",
   "execution_count": null,
   "metadata": {},
   "outputs": [],
   "source": []
  },
  {
   "cell_type": "code",
   "execution_count": null,
   "metadata": {},
   "outputs": [],
   "source": []
  }
 ],
 "metadata": {
  "kernelspec": {
   "display_name": "Python [default]",
   "language": "python",
   "name": "python3"
  },
  "language_info": {
   "codemirror_mode": {
    "name": "ipython",
    "version": 3
   },
   "file_extension": ".py",
   "mimetype": "text/x-python",
   "name": "python",
   "nbconvert_exporter": "python",
   "pygments_lexer": "ipython3",
   "version": "3.6.6"
  }
 },
 "nbformat": 4,
 "nbformat_minor": 1
}
